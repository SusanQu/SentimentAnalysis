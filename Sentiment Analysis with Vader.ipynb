{
 "cells": [
  {
   "cell_type": "markdown",
   "metadata": {},
   "source": [
    "**Import libraries**"
   ]
  },
  {
   "cell_type": "code",
   "execution_count": 129,
   "metadata": {},
   "outputs": [],
   "source": [
    "import pandas as pd\n",
    "from datetime import date, timedelta, datetime\n",
    "from operator import itemgetter\n",
    "from vaderSentiment.vaderSentiment import SentimentIntensityAnalyzer\n",
    "import requests\n",
    "import plotly.graph_objects as go"
   ]
  },
  {
   "cell_type": "markdown",
   "metadata": {},
   "source": [
    "**Try out Vader Sentiment Analyzer**"
   ]
  },
  {
   "cell_type": "code",
   "execution_count": 2,
   "metadata": {},
   "outputs": [],
   "source": [
    "#call analyser object\n",
    "analyser = SentimentIntensityAnalyzer()"
   ]
  },
  {
   "cell_type": "code",
   "execution_count": 3,
   "metadata": {},
   "outputs": [],
   "source": [
    "def sentiment_analyzer_scores(sentence):\n",
    "    score = analyser.polarity_scores(sentence)\n",
    "    return score"
   ]
  },
  {
   "cell_type": "code",
   "execution_count": 4,
   "metadata": {},
   "outputs": [
    {
     "data": {
      "text/plain": [
       "{'neg': 0.0, 'neu': 0.678, 'pos': 0.322, 'compound': 0.2263}"
      ]
     },
     "execution_count": 4,
     "metadata": {},
     "output_type": "execute_result"
    }
   ],
   "source": [
    "sentiment_analyzer_scores(\"Today is an okay day.\")"
   ]
  },
  {
   "cell_type": "code",
   "execution_count": 5,
   "metadata": {},
   "outputs": [
    {
     "data": {
      "text/plain": [
       "{'neg': 0.0, 'neu': 0.494, 'pos': 0.506, 'compound': 0.6239}"
      ]
     },
     "execution_count": 5,
     "metadata": {},
     "output_type": "execute_result"
    }
   ],
   "source": [
    "sentiment_analyzer_scores(\"Today is an amazing day!\")"
   ]
  },
  {
   "cell_type": "code",
   "execution_count": 6,
   "metadata": {},
   "outputs": [
    {
     "data": {
      "text/plain": [
       "{'neg': 0.0, 'neu': 0.803, 'pos': 0.197, 'compound': 0.4003}"
      ]
     },
     "execution_count": 6,
     "metadata": {},
     "output_type": "execute_result"
    }
   ],
   "source": [
    "sentiment_analyzer_scores(\"Today is an amazing day! Vader is working but it took a while\")"
   ]
  },
  {
   "cell_type": "code",
   "execution_count": 7,
   "metadata": {},
   "outputs": [
    {
     "data": {
      "text/plain": [
       "{'neg': 0.523, 'neu': 0.477, 'pos': 0.0, 'compound': -0.5095}"
      ]
     },
     "execution_count": 7,
     "metadata": {},
     "output_type": "execute_result"
    }
   ],
   "source": [
    "sentiment_analyzer_scores(\"Today kind of sucked.\")"
   ]
  },
  {
   "cell_type": "markdown",
   "metadata": {},
   "source": [
    "**Pull in Live News Data from News API**\n",
    "<p>News API only display news up to a month old</p>"
   ]
  },
  {
   "cell_type": "code",
   "execution_count": 111,
   "metadata": {},
   "outputs": [
    {
     "name": "stdout",
     "output_type": "stream",
     "text": [
      "2020-02-10\n"
     ]
    }
   ],
   "source": [
    "#find date for 30 days ago\n",
    "news_start_date = date.today() - timedelta(28)\n",
    "print(news_start_date)"
   ]
  },
  {
   "cell_type": "code",
   "execution_count": 112,
   "metadata": {
    "scrolled": true
   },
   "outputs": [
    {
     "name": "stdout",
     "output_type": "stream",
     "text": [
      "api key: 798c7707bbe8404199296c0521a99f61\n",
      "Total Results: 70\n"
     ]
    }
   ],
   "source": [
    "url = ('http://newsapi.org/v2/top-headlines?'\n",
    "       #'q=' + input('company: ') + '&'\n",
    "       'country=us&'\n",
    "       'category=business&'\n",
    "       'from=' + str(news_start_date) + '&'\n",
    "       'sortBy=popularity&'\n",
    "       'pageSize=100&'\n",
    "       'apiKey=' + input('api key: '))\n",
    "\n",
    "response = requests.get(url)\n",
    "print('Total Results: ' + str(response.json().get('totalResults')))"
   ]
  },
  {
   "cell_type": "markdown",
   "metadata": {},
   "source": [
    "**Perform Analysis on the News Title**"
   ]
  },
  {
   "cell_type": "code",
   "execution_count": 88,
   "metadata": {},
   "outputs": [],
   "source": [
    "news = response.json().get('articles')\n",
    "\n",
    "#add title score:\n",
    "na_score = {'neg': 0, 'neu': 0, 'pos': 0, 'compound': 0}\n",
    "for item in news:\n",
    "    if item['title'] is None:\n",
    "        item.update({'title_score': na_score})\n",
    "    else:\n",
    "        item.update({'title_score': sentiment_analyzer_scores(item['title'])})\n",
    "    if item['description'] is None:\n",
    "        item.update({'desc_score': na_score})\n",
    "    else:\n",
    "        item.update({'desc_score': sentiment_analyzer_scores(item['description'])})"
   ]
  },
  {
   "cell_type": "code",
   "execution_count": 89,
   "metadata": {},
   "outputs": [
    {
     "name": "stdout",
     "output_type": "stream",
     "text": [
      "row and column: (70, 10)\n"
     ]
    },
    {
     "data": {
      "text/html": [
       "<div>\n",
       "<style scoped>\n",
       "    .dataframe tbody tr th:only-of-type {\n",
       "        vertical-align: middle;\n",
       "    }\n",
       "\n",
       "    .dataframe tbody tr th {\n",
       "        vertical-align: top;\n",
       "    }\n",
       "\n",
       "    .dataframe thead th {\n",
       "        text-align: right;\n",
       "    }\n",
       "</style>\n",
       "<table border=\"1\" class=\"dataframe\">\n",
       "  <thead>\n",
       "    <tr style=\"text-align: right;\">\n",
       "      <th></th>\n",
       "      <th>source</th>\n",
       "      <th>author</th>\n",
       "      <th>title</th>\n",
       "      <th>description</th>\n",
       "      <th>url</th>\n",
       "      <th>urlToImage</th>\n",
       "      <th>publishedAt</th>\n",
       "      <th>content</th>\n",
       "      <th>title_score</th>\n",
       "      <th>desc_score</th>\n",
       "    </tr>\n",
       "  </thead>\n",
       "  <tbody>\n",
       "    <tr>\n",
       "      <th>0</th>\n",
       "      <td>{'id': 'bloomberg', 'name': 'Bloomberg'}</td>\n",
       "      <td>None</td>\n",
       "      <td>Apple’s Cook Offers Work From Home This Week t...</td>\n",
       "      <td>None</td>\n",
       "      <td>https://www.bloomberg.com/tosv2.html?vid=&amp;uuid...</td>\n",
       "      <td>None</td>\n",
       "      <td>2020-03-08T20:23:41Z</td>\n",
       "      <td>To continue, please click the box below to let...</td>\n",
       "      <td>{'neg': 0.0, 'neu': 1.0, 'pos': 0.0, 'compound...</td>\n",
       "      <td>{'neg': 0, 'neu': 0, 'pos': 0, 'compound': 0}</td>\n",
       "    </tr>\n",
       "    <tr>\n",
       "      <th>1</th>\n",
       "      <td>{'id': 'reuters', 'name': 'Reuters'}</td>\n",
       "      <td>Megan Davies</td>\n",
       "      <td>Investor fears rise over recession, bear marke...</td>\n",
       "      <td>The words \"bear market\" and \"recession\" are be...</td>\n",
       "      <td>https://www.reuters.com/article/us-health-coro...</td>\n",
       "      <td>https://s3.reutersmedia.net/resources/r/?m=02&amp;...</td>\n",
       "      <td>2020-03-08T20:16:18Z</td>\n",
       "      <td>NEW YORK (Reuters) - The words “bear market” a...</td>\n",
       "      <td>{'neg': 0.337, 'neu': 0.663, 'pos': 0.0, 'comp...</td>\n",
       "      <td>{'neg': 0.142, 'neu': 0.743, 'pos': 0.115, 'co...</td>\n",
       "    </tr>\n",
       "    <tr>\n",
       "      <th>2</th>\n",
       "      <td>{'id': None, 'name': 'Bitcoinist.com'}</td>\n",
       "      <td>None</td>\n",
       "      <td>Bitcoin Price Consolidating, is a Big Move Abo...</td>\n",
       "      <td>Bitcoin price continues to look bearish, yet a...</td>\n",
       "      <td>https://bitcoinist.com/bitcoin-price-consolida...</td>\n",
       "      <td>https://bitcoinist.com/wp-content/uploads/2020...</td>\n",
       "      <td>2020-03-08T19:03:03Z</td>\n",
       "      <td>Bitcoin price continues to look bearish, yet a...</td>\n",
       "      <td>{'neg': 0.0, 'neu': 1.0, 'pos': 0.0, 'compound...</td>\n",
       "      <td>{'neg': 0.0, 'neu': 0.782, 'pos': 0.218, 'comp...</td>\n",
       "    </tr>\n",
       "    <tr>\n",
       "      <th>3</th>\n",
       "      <td>{'id': 'fox-news', 'name': 'Fox News'}</td>\n",
       "      <td>Michael Hollan</td>\n",
       "      <td>Family accidentally orders 12 years' worth of ...</td>\n",
       "      <td>There’s nothing worse than not having enough t...</td>\n",
       "      <td>https://www.foxnews.com/lifestyle/12-years-toi...</td>\n",
       "      <td>https://static.foxnews.com/foxnews.com/content...</td>\n",
       "      <td>2020-03-08T18:53:56Z</td>\n",
       "      <td>There’s nothing worse than not having enough t...</td>\n",
       "      <td>{'neg': 0.18, 'neu': 0.677, 'pos': 0.143, 'com...</td>\n",
       "      <td>{'neg': 0.0, 'neu': 0.801, 'pos': 0.199, 'comp...</td>\n",
       "    </tr>\n",
       "    <tr>\n",
       "      <th>4</th>\n",
       "      <td>{'id': None, 'name': 'Oregonlive.com'}</td>\n",
       "      <td>Laura Gunderson | The Oregonian/OregonLive</td>\n",
       "      <td>New coronavirus case at OHSU Hospital in Portl...</td>\n",
       "      <td>OSHU informed its employees over the weekend t...</td>\n",
       "      <td>https://www.oregonlive.com/coronavirus/2020/03...</td>\n",
       "      <td>https://www.oregonlive.com/resizer/PoxhmM45EGw...</td>\n",
       "      <td>2020-03-08T18:53:02Z</td>\n",
       "      <td>This is breaking news and will be updated.\\r\\n...</td>\n",
       "      <td>{'neg': 0.0, 'neu': 1.0, 'pos': 0.0, 'compound...</td>\n",
       "      <td>{'neg': 0.0, 'neu': 0.806, 'pos': 0.194, 'comp...</td>\n",
       "    </tr>\n",
       "  </tbody>\n",
       "</table>\n",
       "</div>"
      ],
      "text/plain": [
       "                                     source  \\\n",
       "0  {'id': 'bloomberg', 'name': 'Bloomberg'}   \n",
       "1      {'id': 'reuters', 'name': 'Reuters'}   \n",
       "2    {'id': None, 'name': 'Bitcoinist.com'}   \n",
       "3    {'id': 'fox-news', 'name': 'Fox News'}   \n",
       "4    {'id': None, 'name': 'Oregonlive.com'}   \n",
       "\n",
       "                                       author  \\\n",
       "0                                        None   \n",
       "1                                Megan Davies   \n",
       "2                                        None   \n",
       "3                              Michael Hollan   \n",
       "4  Laura Gunderson | The Oregonian/OregonLive   \n",
       "\n",
       "                                               title  \\\n",
       "0  Apple’s Cook Offers Work From Home This Week t...   \n",
       "1  Investor fears rise over recession, bear marke...   \n",
       "2  Bitcoin Price Consolidating, is a Big Move Abo...   \n",
       "3  Family accidentally orders 12 years' worth of ...   \n",
       "4  New coronavirus case at OHSU Hospital in Portl...   \n",
       "\n",
       "                                         description  \\\n",
       "0                                               None   \n",
       "1  The words \"bear market\" and \"recession\" are be...   \n",
       "2  Bitcoin price continues to look bearish, yet a...   \n",
       "3  There’s nothing worse than not having enough t...   \n",
       "4  OSHU informed its employees over the weekend t...   \n",
       "\n",
       "                                                 url  \\\n",
       "0  https://www.bloomberg.com/tosv2.html?vid=&uuid...   \n",
       "1  https://www.reuters.com/article/us-health-coro...   \n",
       "2  https://bitcoinist.com/bitcoin-price-consolida...   \n",
       "3  https://www.foxnews.com/lifestyle/12-years-toi...   \n",
       "4  https://www.oregonlive.com/coronavirus/2020/03...   \n",
       "\n",
       "                                          urlToImage           publishedAt  \\\n",
       "0                                               None  2020-03-08T20:23:41Z   \n",
       "1  https://s3.reutersmedia.net/resources/r/?m=02&...  2020-03-08T20:16:18Z   \n",
       "2  https://bitcoinist.com/wp-content/uploads/2020...  2020-03-08T19:03:03Z   \n",
       "3  https://static.foxnews.com/foxnews.com/content...  2020-03-08T18:53:56Z   \n",
       "4  https://www.oregonlive.com/resizer/PoxhmM45EGw...  2020-03-08T18:53:02Z   \n",
       "\n",
       "                                             content  \\\n",
       "0  To continue, please click the box below to let...   \n",
       "1  NEW YORK (Reuters) - The words “bear market” a...   \n",
       "2  Bitcoin price continues to look bearish, yet a...   \n",
       "3  There’s nothing worse than not having enough t...   \n",
       "4  This is breaking news and will be updated.\\r\\n...   \n",
       "\n",
       "                                         title_score  \\\n",
       "0  {'neg': 0.0, 'neu': 1.0, 'pos': 0.0, 'compound...   \n",
       "1  {'neg': 0.337, 'neu': 0.663, 'pos': 0.0, 'comp...   \n",
       "2  {'neg': 0.0, 'neu': 1.0, 'pos': 0.0, 'compound...   \n",
       "3  {'neg': 0.18, 'neu': 0.677, 'pos': 0.143, 'com...   \n",
       "4  {'neg': 0.0, 'neu': 1.0, 'pos': 0.0, 'compound...   \n",
       "\n",
       "                                          desc_score  \n",
       "0      {'neg': 0, 'neu': 0, 'pos': 0, 'compound': 0}  \n",
       "1  {'neg': 0.142, 'neu': 0.743, 'pos': 0.115, 'co...  \n",
       "2  {'neg': 0.0, 'neu': 0.782, 'pos': 0.218, 'comp...  \n",
       "3  {'neg': 0.0, 'neu': 0.801, 'pos': 0.199, 'comp...  \n",
       "4  {'neg': 0.0, 'neu': 0.806, 'pos': 0.194, 'comp...  "
      ]
     },
     "execution_count": 89,
     "metadata": {},
     "output_type": "execute_result"
    }
   ],
   "source": [
    "news_df = pd.DataFrame(news)\n",
    "\n",
    "#replace all NaN score with 0 \n",
    "\n",
    "news_df['desc_score'].fillna(value=na_score, inplace=True)\n",
    "\n",
    "print('row and column: ' + str(news_df.shape))\n",
    "news_df.head()"
   ]
  },
  {
   "cell_type": "code",
   "execution_count": 90,
   "metadata": {},
   "outputs": [],
   "source": [
    "#other ways to add title score object to news\n",
    "\n",
    "\n",
    "#add title score way 2 -----------------------:\n",
    "\n",
    "# def add_title_scoore():\n",
    "#     for item in news:\n",
    "#         score = {'title_score' : sentiment_analyzer_scores(item['title'])}\n",
    "#     return news\n",
    "# add_title_scoore()\n",
    "\n",
    "\n",
    "#add title score way 3 -----------------------:\n",
    "\n",
    "# result = [dict(item, scoreeeeeeeeeeeeeee=sentiment_analyzer_scores(item['title'])) for item in news]\n",
    "# print(result)\n",
    "\n",
    "\n",
    "#this works append static object -------------:\n",
    "\n",
    "# for item in news:\n",
    "#     item.update({'scooooooooooooooooore': 'baaaaaaaaaaaaaaaaaad'})\n",
    "# print(news)"
   ]
  },
  {
   "cell_type": "markdown",
   "metadata": {},
   "source": [
    "**Plot Title Sentiment Score**"
   ]
  },
  {
   "cell_type": "code",
   "execution_count": 93,
   "metadata": {},
   "outputs": [
    {
     "data": {
      "application/vnd.plotly.v1+json": {
       "config": {
        "plotlyServerURL": "https://plot.ly"
       },
       "data": [
        {
         "marker": {
          "color": "#EE7674"
         },
         "name": "Negative",
         "type": "bar",
         "x": [
          "Apple’s Cook Offers Work From Home This Week to Most Staff - Bloomberg",
          "Investor fears rise over recession, bear market as coronavirus spreads in U.S. - Reuters",
          "Bitcoin Price Consolidating, is a Big Move About to Happen? - Bitcoinist",
          "Family accidentally orders 12 years' worth of toilet paper - Fox News",
          "New coronavirus case at OHSU Hospital in Portland - OregonLive",
          "Hand sanitizer and coronavirus: Not all of it will work - Mashable",
          "United Airlines Negatively Alters Refund Policy - Simple Flying",
          "Publix limiting customers on purchases of hand soaps, sanitizers and more - WPTV.com",
          "Biogen orders employees to work from home after employees at Boston meeting test positive for coronavirus - MarketWatch",
          "How Is the U.S. Economy Doing? Ways to Give the Economy a Boost. - Barron's",
          "Putin Targets U.S. Fracking With Oil Price War, in New Threat to Trump's Election-Year Economy - Newsweek",
          "Brian Stelter examines media coverage of coronavirus - CNN",
          "Amid coronavirus outbreak, Carnival Cruise Line offers on-ship credits to passengers who don't reschedule - Fox News",
          "Coronavirus fears shouldn't stop you from adding to your investment portfolio - USA TODAY",
          "Coronavirus outbreak means Costco shoppers can say goodbye to free samples - Fox Business",
          "Cancel Culture - How coronavirus is affecting the arts scene in Israel - The Jerusalem Post",
          "Amtrak To Halt Non-stop Train From D.C. To New York City Amid Coronavirus Panic - The Daily Wire",
          "Please Don't Try to Make Hand Sanitizer Using Vodka - Lifehacker",
          "The fate of airline fare deals during the coronavirus crisis - SF Gate",
          "Police order crowded Art Van Furniture store to close early: ‘We could come close to a riot’ - MLive.com",
          "Gilead Sciences Could Be the First to Beat the Coronavirus - Yahoo Finance",
          "Napping – You snooze, you win! - CBS News",
          "Cord Cutting This Week #286 – Cheaper Hulu With Live TV Plans? AT&T’s $15 TV Service, & More - Cord Cutters News, LLC",
          "The eurozone is too complacent about the coronavirus threat - Financial Times",
          "Parts of financial markets are pricing in a global recession - CNN",
          "'Talk ourselves into a recession': Bank in coronavirus hotspot has doubts over Fed rate cut - Yahoo Finance",
          "Workers Could Be In Danger. Here’s the Coming Data That Will Tell the Story. - Barron's",
          "The Must-See CBD Quote From the Head of the FDA - Motley Fool",
          "Anxious shoppers across the US line up at stores to stockpile water, toilet paper - Daily Mail",
          "Experts warn EPA making 'secret science' rule more restrictive | TheHill - The Hill",
          "Should You Buy or Sell Airline Stocks Right Now? - Motley Fool",
          "In the Wake of Coronavirus, Should You Be Buying or Selling Stocks Right Now? - Motley Fool",
          "Some good news for Amazon's JEDI challenge - Seeking Alpha",
          "Computer systems at UK and UK HealthCare hobbled by massive, month-long cyber attack - Lexington Herald Leader",
          "Coronavirus: Tesco rations essential shopping items - BBC News",
          "Warren Buffett's Advice on How Investors Should Respond to a Super-Contagious Disease - Motley Fool",
          "2 Reasons to Retire Early, and 2 Reasons Not To - The Motley Fool",
          "Hawaii travel industry offers deals to offset impact of coronavirus anxiety - Honolulu Star-Advertiser",
          "Powerball Results, Numbers for 3/7/20: Did Anyone Win the $100 Million Jackpot on Saturday (Last) Night? - Newsweek",
          "Tesla Giga Berlin in stunning 3D render is a sneak peek of Elon Musk’s grand plans in Germany - Teslarati",
          "US Mortgage Rates Fall to Record Lows. The Year of Record Breaking May Well Continue - Yahoo Finance",
          "Lieutenant Dan the two-legged hound is competing to be the next Cadbury Bunny - CNN",
          "India's Yes Bank founder arrested on money laundering allegations - Bangkok Post",
          "Weighing The Week Ahead: Why The Right Time Frame Is Crucial - Seeking Alpha",
          "These 2 Steps Will Help You Retire Early - The Motley Fool",
          "EXCLUSIVE: CT woman worries her grandmother with congestive heart failure aboard cruise ship with 21 cases of coronavirus is vulnerable to virus - WTNH.com",
          "Bitcoin Boon Likely amid Plummeting Treasury Yields, ‘Policy Failure’ - BeInCrypto",
          "John Catsimatidis wants to build paper bag factory in upstate New York - New York Post ",
          "Evansville Olive Garden employee quits job, will apparently file lawsuit - Courier & Press",
          "Big Tech Will Pay Its Hourly Workers Even as Full-Time Staff Stays Home During Coronavirus Outbreak - Gizmodo",
          "Confirmed: Lufthansa Will Ground Airbus A380 Fleet Until at Least May, Possibly Extended into June - Paddle Your Own Kanoo",
          "China exports plunge, but worst likely still to come - Seeking Alpha",
          "Gas prices dropping in N.J. as coronavirus concern cuts into oil production - NJ.com",
          "Blue Cross Blue Shield expands coverage for COVID-19 screening tests - KARE11.com",
          "Dairy Queen celebrates 80th birthday with 80¢ blizzards deal - WJHL-TV News Channel 11",
          "Wegmans limiting purchase of cleaning essentials due to high demand - WTVD-TV",
          "Passengers wonder what's next as 42 Minnesotans remain stuck on quarantined cruise ship - FOX 9",
          "Long Beach: Carnival cruise ship's disembarkation suspended due to passenger's 'medical matter' - KABC-TV",
          "Man filmed licking tub of ice cream gets 30 days in jail - Q13 News Seattle",
          "See the high school girls basketball regional brackets - MLive.com",
          "JPMorgan CEO’s Health Emergency Casts Shadow on China Plans - Bloomberg",
          "Here are Friday’s worst stock-market performers as oil takes the market down - MarketWatch",
          "Why companies like Microsoft and Google are betting big on Africa - CNBC",
          "SBI readies Rs 10,000-crore warchest to rescue Yes Bank - The Tribune India",
          "Seattle Starbucks employee diagnosed with coronavirus - New York Post ",
          "The 4 Best Barbecue Spots In Irvine - CBS Los Angeles",
          "Coronavirus-related scams: AG, locals let you know what to watch out for - The Daily Courier",
          "Amazon plans to prosecute sellers for price gouging during coronavirus outbreak - CNET",
          "Why Exxon’s CEO ‘has his head buried in the tar sands’ - Electrek",
          "Does Credit Card Travel Insurance Cover Coronavirus Cancellations? - Lifehacker"
         ],
         "y": [
          0,
          0.337,
          0,
          0.18,
          0,
          0,
          0,
          0,
          0,
          0,
          0.343,
          0,
          0,
          0.178,
          0,
          0.133,
          0.171,
          0,
          0.272,
          0,
          0,
          0,
          0.073,
          0.343,
          0.237,
          0.235,
          0.195,
          0.209,
          0.118,
          0.113,
          0.225,
          0.162,
          0,
          0.171,
          0,
          0.195,
          0.225,
          0.124,
          0,
          0,
          0.095,
          0,
          0.209,
          0,
          0.213,
          0.273,
          0,
          0,
          0.147,
          0.08,
          0,
          0.361,
          0.155,
          0,
          0,
          0.13,
          0.133,
          0.204,
          0,
          0,
          0.224,
          0.255,
          0,
          0,
          0,
          0,
          0.213,
          0.188,
          0,
          0
         ]
        },
        {
         "marker": {
          "color": "#247BA0"
         },
         "name": "Neutral",
         "type": "bar",
         "x": [
          "Apple’s Cook Offers Work From Home This Week to Most Staff - Bloomberg",
          "Investor fears rise over recession, bear market as coronavirus spreads in U.S. - Reuters",
          "Bitcoin Price Consolidating, is a Big Move About to Happen? - Bitcoinist",
          "Family accidentally orders 12 years' worth of toilet paper - Fox News",
          "New coronavirus case at OHSU Hospital in Portland - OregonLive",
          "Hand sanitizer and coronavirus: Not all of it will work - Mashable",
          "United Airlines Negatively Alters Refund Policy - Simple Flying",
          "Publix limiting customers on purchases of hand soaps, sanitizers and more - WPTV.com",
          "Biogen orders employees to work from home after employees at Boston meeting test positive for coronavirus - MarketWatch",
          "How Is the U.S. Economy Doing? Ways to Give the Economy a Boost. - Barron's",
          "Putin Targets U.S. Fracking With Oil Price War, in New Threat to Trump's Election-Year Economy - Newsweek",
          "Brian Stelter examines media coverage of coronavirus - CNN",
          "Amid coronavirus outbreak, Carnival Cruise Line offers on-ship credits to passengers who don't reschedule - Fox News",
          "Coronavirus fears shouldn't stop you from adding to your investment portfolio - USA TODAY",
          "Coronavirus outbreak means Costco shoppers can say goodbye to free samples - Fox Business",
          "Cancel Culture - How coronavirus is affecting the arts scene in Israel - The Jerusalem Post",
          "Amtrak To Halt Non-stop Train From D.C. To New York City Amid Coronavirus Panic - The Daily Wire",
          "Please Don't Try to Make Hand Sanitizer Using Vodka - Lifehacker",
          "The fate of airline fare deals during the coronavirus crisis - SF Gate",
          "Police order crowded Art Van Furniture store to close early: ‘We could come close to a riot’ - MLive.com",
          "Gilead Sciences Could Be the First to Beat the Coronavirus - Yahoo Finance",
          "Napping – You snooze, you win! - CBS News",
          "Cord Cutting This Week #286 – Cheaper Hulu With Live TV Plans? AT&T’s $15 TV Service, & More - Cord Cutters News, LLC",
          "The eurozone is too complacent about the coronavirus threat - Financial Times",
          "Parts of financial markets are pricing in a global recession - CNN",
          "'Talk ourselves into a recession': Bank in coronavirus hotspot has doubts over Fed rate cut - Yahoo Finance",
          "Workers Could Be In Danger. Here’s the Coming Data That Will Tell the Story. - Barron's",
          "The Must-See CBD Quote From the Head of the FDA - Motley Fool",
          "Anxious shoppers across the US line up at stores to stockpile water, toilet paper - Daily Mail",
          "Experts warn EPA making 'secret science' rule more restrictive | TheHill - The Hill",
          "Should You Buy or Sell Airline Stocks Right Now? - Motley Fool",
          "In the Wake of Coronavirus, Should You Be Buying or Selling Stocks Right Now? - Motley Fool",
          "Some good news for Amazon's JEDI challenge - Seeking Alpha",
          "Computer systems at UK and UK HealthCare hobbled by massive, month-long cyber attack - Lexington Herald Leader",
          "Coronavirus: Tesco rations essential shopping items - BBC News",
          "Warren Buffett's Advice on How Investors Should Respond to a Super-Contagious Disease - Motley Fool",
          "2 Reasons to Retire Early, and 2 Reasons Not To - The Motley Fool",
          "Hawaii travel industry offers deals to offset impact of coronavirus anxiety - Honolulu Star-Advertiser",
          "Powerball Results, Numbers for 3/7/20: Did Anyone Win the $100 Million Jackpot on Saturday (Last) Night? - Newsweek",
          "Tesla Giga Berlin in stunning 3D render is a sneak peek of Elon Musk’s grand plans in Germany - Teslarati",
          "US Mortgage Rates Fall to Record Lows. The Year of Record Breaking May Well Continue - Yahoo Finance",
          "Lieutenant Dan the two-legged hound is competing to be the next Cadbury Bunny - CNN",
          "India's Yes Bank founder arrested on money laundering allegations - Bangkok Post",
          "Weighing The Week Ahead: Why The Right Time Frame Is Crucial - Seeking Alpha",
          "These 2 Steps Will Help You Retire Early - The Motley Fool",
          "EXCLUSIVE: CT woman worries her grandmother with congestive heart failure aboard cruise ship with 21 cases of coronavirus is vulnerable to virus - WTNH.com",
          "Bitcoin Boon Likely amid Plummeting Treasury Yields, ‘Policy Failure’ - BeInCrypto",
          "John Catsimatidis wants to build paper bag factory in upstate New York - New York Post ",
          "Evansville Olive Garden employee quits job, will apparently file lawsuit - Courier & Press",
          "Big Tech Will Pay Its Hourly Workers Even as Full-Time Staff Stays Home During Coronavirus Outbreak - Gizmodo",
          "Confirmed: Lufthansa Will Ground Airbus A380 Fleet Until at Least May, Possibly Extended into June - Paddle Your Own Kanoo",
          "China exports plunge, but worst likely still to come - Seeking Alpha",
          "Gas prices dropping in N.J. as coronavirus concern cuts into oil production - NJ.com",
          "Blue Cross Blue Shield expands coverage for COVID-19 screening tests - KARE11.com",
          "Dairy Queen celebrates 80th birthday with 80¢ blizzards deal - WJHL-TV News Channel 11",
          "Wegmans limiting purchase of cleaning essentials due to high demand - WTVD-TV",
          "Passengers wonder what's next as 42 Minnesotans remain stuck on quarantined cruise ship - FOX 9",
          "Long Beach: Carnival cruise ship's disembarkation suspended due to passenger's 'medical matter' - KABC-TV",
          "Man filmed licking tub of ice cream gets 30 days in jail - Q13 News Seattle",
          "See the high school girls basketball regional brackets - MLive.com",
          "JPMorgan CEO’s Health Emergency Casts Shadow on China Plans - Bloomberg",
          "Here are Friday’s worst stock-market performers as oil takes the market down - MarketWatch",
          "Why companies like Microsoft and Google are betting big on Africa - CNBC",
          "SBI readies Rs 10,000-crore warchest to rescue Yes Bank - The Tribune India",
          "Seattle Starbucks employee diagnosed with coronavirus - New York Post ",
          "The 4 Best Barbecue Spots In Irvine - CBS Los Angeles",
          "Coronavirus-related scams: AG, locals let you know what to watch out for - The Daily Courier",
          "Amazon plans to prosecute sellers for price gouging during coronavirus outbreak - CNET",
          "Why Exxon’s CEO ‘has his head buried in the tar sands’ - Electrek",
          "Does Credit Card Travel Insurance Cover Coronavirus Cancellations? - Lifehacker"
         ],
         "y": [
          1,
          0.663,
          1,
          0.677,
          1,
          0.758,
          0.714,
          0.775,
          0.816,
          0.816,
          0.657,
          1,
          0.857,
          0.701,
          0.784,
          0.867,
          0.829,
          0.593,
          0.728,
          1,
          1,
          0.595,
          0.927,
          0.657,
          0.763,
          0.765,
          0.805,
          0.791,
          0.882,
          0.887,
          0.775,
          0.838,
          0.625,
          0.829,
          1,
          0.805,
          0.775,
          0.876,
          0.808,
          0.741,
          0.794,
          1,
          0.608,
          1,
          0.588,
          0.614,
          0.833,
          1,
          0.853,
          0.92,
          1,
          0.639,
          0.845,
          0.877,
          0.764,
          0.87,
          0.867,
          0.724,
          1,
          1,
          0.776,
          0.745,
          0.815,
          0.625,
          1,
          0.656,
          0.787,
          0.694,
          1,
          0.755
         ]
        },
        {
         "name": "Positive",
         "type": "bar",
         "x": [
          "Apple’s Cook Offers Work From Home This Week to Most Staff - Bloomberg",
          "Investor fears rise over recession, bear market as coronavirus spreads in U.S. - Reuters",
          "Bitcoin Price Consolidating, is a Big Move About to Happen? - Bitcoinist",
          "Family accidentally orders 12 years' worth of toilet paper - Fox News",
          "New coronavirus case at OHSU Hospital in Portland - OregonLive",
          "Hand sanitizer and coronavirus: Not all of it will work - Mashable",
          "United Airlines Negatively Alters Refund Policy - Simple Flying",
          "Publix limiting customers on purchases of hand soaps, sanitizers and more - WPTV.com",
          "Biogen orders employees to work from home after employees at Boston meeting test positive for coronavirus - MarketWatch",
          "How Is the U.S. Economy Doing? Ways to Give the Economy a Boost. - Barron's",
          "Putin Targets U.S. Fracking With Oil Price War, in New Threat to Trump's Election-Year Economy - Newsweek",
          "Brian Stelter examines media coverage of coronavirus - CNN",
          "Amid coronavirus outbreak, Carnival Cruise Line offers on-ship credits to passengers who don't reschedule - Fox News",
          "Coronavirus fears shouldn't stop you from adding to your investment portfolio - USA TODAY",
          "Coronavirus outbreak means Costco shoppers can say goodbye to free samples - Fox Business",
          "Cancel Culture - How coronavirus is affecting the arts scene in Israel - The Jerusalem Post",
          "Amtrak To Halt Non-stop Train From D.C. To New York City Amid Coronavirus Panic - The Daily Wire",
          "Please Don't Try to Make Hand Sanitizer Using Vodka - Lifehacker",
          "The fate of airline fare deals during the coronavirus crisis - SF Gate",
          "Police order crowded Art Van Furniture store to close early: ‘We could come close to a riot’ - MLive.com",
          "Gilead Sciences Could Be the First to Beat the Coronavirus - Yahoo Finance",
          "Napping – You snooze, you win! - CBS News",
          "Cord Cutting This Week #286 – Cheaper Hulu With Live TV Plans? AT&T’s $15 TV Service, & More - Cord Cutters News, LLC",
          "The eurozone is too complacent about the coronavirus threat - Financial Times",
          "Parts of financial markets are pricing in a global recession - CNN",
          "'Talk ourselves into a recession': Bank in coronavirus hotspot has doubts over Fed rate cut - Yahoo Finance",
          "Workers Could Be In Danger. Here’s the Coming Data That Will Tell the Story. - Barron's",
          "The Must-See CBD Quote From the Head of the FDA - Motley Fool",
          "Anxious shoppers across the US line up at stores to stockpile water, toilet paper - Daily Mail",
          "Experts warn EPA making 'secret science' rule more restrictive | TheHill - The Hill",
          "Should You Buy or Sell Airline Stocks Right Now? - Motley Fool",
          "In the Wake of Coronavirus, Should You Be Buying or Selling Stocks Right Now? - Motley Fool",
          "Some good news for Amazon's JEDI challenge - Seeking Alpha",
          "Computer systems at UK and UK HealthCare hobbled by massive, month-long cyber attack - Lexington Herald Leader",
          "Coronavirus: Tesco rations essential shopping items - BBC News",
          "Warren Buffett's Advice on How Investors Should Respond to a Super-Contagious Disease - Motley Fool",
          "2 Reasons to Retire Early, and 2 Reasons Not To - The Motley Fool",
          "Hawaii travel industry offers deals to offset impact of coronavirus anxiety - Honolulu Star-Advertiser",
          "Powerball Results, Numbers for 3/7/20: Did Anyone Win the $100 Million Jackpot on Saturday (Last) Night? - Newsweek",
          "Tesla Giga Berlin in stunning 3D render is a sneak peek of Elon Musk’s grand plans in Germany - Teslarati",
          "US Mortgage Rates Fall to Record Lows. The Year of Record Breaking May Well Continue - Yahoo Finance",
          "Lieutenant Dan the two-legged hound is competing to be the next Cadbury Bunny - CNN",
          "India's Yes Bank founder arrested on money laundering allegations - Bangkok Post",
          "Weighing The Week Ahead: Why The Right Time Frame Is Crucial - Seeking Alpha",
          "These 2 Steps Will Help You Retire Early - The Motley Fool",
          "EXCLUSIVE: CT woman worries her grandmother with congestive heart failure aboard cruise ship with 21 cases of coronavirus is vulnerable to virus - WTNH.com",
          "Bitcoin Boon Likely amid Plummeting Treasury Yields, ‘Policy Failure’ - BeInCrypto",
          "John Catsimatidis wants to build paper bag factory in upstate New York - New York Post ",
          "Evansville Olive Garden employee quits job, will apparently file lawsuit - Courier & Press",
          "Big Tech Will Pay Its Hourly Workers Even as Full-Time Staff Stays Home During Coronavirus Outbreak - Gizmodo",
          "Confirmed: Lufthansa Will Ground Airbus A380 Fleet Until at Least May, Possibly Extended into June - Paddle Your Own Kanoo",
          "China exports plunge, but worst likely still to come - Seeking Alpha",
          "Gas prices dropping in N.J. as coronavirus concern cuts into oil production - NJ.com",
          "Blue Cross Blue Shield expands coverage for COVID-19 screening tests - KARE11.com",
          "Dairy Queen celebrates 80th birthday with 80¢ blizzards deal - WJHL-TV News Channel 11",
          "Wegmans limiting purchase of cleaning essentials due to high demand - WTVD-TV",
          "Passengers wonder what's next as 42 Minnesotans remain stuck on quarantined cruise ship - FOX 9",
          "Long Beach: Carnival cruise ship's disembarkation suspended due to passenger's 'medical matter' - KABC-TV",
          "Man filmed licking tub of ice cream gets 30 days in jail - Q13 News Seattle",
          "See the high school girls basketball regional brackets - MLive.com",
          "JPMorgan CEO’s Health Emergency Casts Shadow on China Plans - Bloomberg",
          "Here are Friday’s worst stock-market performers as oil takes the market down - MarketWatch",
          "Why companies like Microsoft and Google are betting big on Africa - CNBC",
          "SBI readies Rs 10,000-crore warchest to rescue Yes Bank - The Tribune India",
          "Seattle Starbucks employee diagnosed with coronavirus - New York Post ",
          "The 4 Best Barbecue Spots In Irvine - CBS Los Angeles",
          "Coronavirus-related scams: AG, locals let you know what to watch out for - The Daily Courier",
          "Amazon plans to prosecute sellers for price gouging during coronavirus outbreak - CNET",
          "Why Exxon’s CEO ‘has his head buried in the tar sands’ - Electrek",
          "Does Credit Card Travel Insurance Cover Coronavirus Cancellations? - Lifehacker"
         ],
         "y": [
          0,
          0,
          0,
          0.143,
          0,
          0.242,
          0.286,
          0.225,
          0.184,
          0.184,
          0,
          0,
          0.143,
          0.12,
          0.216,
          0,
          0,
          0.407,
          0,
          0,
          0,
          0.405,
          0,
          0,
          0,
          0,
          0,
          0,
          0,
          0,
          0,
          0,
          0.375,
          0,
          0,
          0,
          0,
          0,
          0.192,
          0.259,
          0.111,
          0,
          0.182,
          0,
          0.199,
          0.114,
          0.167,
          0,
          0,
          0,
          0,
          0,
          0,
          0.123,
          0.236,
          0,
          0,
          0.072,
          0,
          0,
          0,
          0,
          0.185,
          0.375,
          0,
          0.344,
          0,
          0.118,
          0,
          0.245
         ]
        },
        {
         "name": "Compound",
         "type": "bar",
         "x": [
          "Apple’s Cook Offers Work From Home This Week to Most Staff - Bloomberg",
          "Investor fears rise over recession, bear market as coronavirus spreads in U.S. - Reuters",
          "Bitcoin Price Consolidating, is a Big Move About to Happen? - Bitcoinist",
          "Family accidentally orders 12 years' worth of toilet paper - Fox News",
          "New coronavirus case at OHSU Hospital in Portland - OregonLive",
          "Hand sanitizer and coronavirus: Not all of it will work - Mashable",
          "United Airlines Negatively Alters Refund Policy - Simple Flying",
          "Publix limiting customers on purchases of hand soaps, sanitizers and more - WPTV.com",
          "Biogen orders employees to work from home after employees at Boston meeting test positive for coronavirus - MarketWatch",
          "How Is the U.S. Economy Doing? Ways to Give the Economy a Boost. - Barron's",
          "Putin Targets U.S. Fracking With Oil Price War, in New Threat to Trump's Election-Year Economy - Newsweek",
          "Brian Stelter examines media coverage of coronavirus - CNN",
          "Amid coronavirus outbreak, Carnival Cruise Line offers on-ship credits to passengers who don't reschedule - Fox News",
          "Coronavirus fears shouldn't stop you from adding to your investment portfolio - USA TODAY",
          "Coronavirus outbreak means Costco shoppers can say goodbye to free samples - Fox Business",
          "Cancel Culture - How coronavirus is affecting the arts scene in Israel - The Jerusalem Post",
          "Amtrak To Halt Non-stop Train From D.C. To New York City Amid Coronavirus Panic - The Daily Wire",
          "Please Don't Try to Make Hand Sanitizer Using Vodka - Lifehacker",
          "The fate of airline fare deals during the coronavirus crisis - SF Gate",
          "Police order crowded Art Van Furniture store to close early: ‘We could come close to a riot’ - MLive.com",
          "Gilead Sciences Could Be the First to Beat the Coronavirus - Yahoo Finance",
          "Napping – You snooze, you win! - CBS News",
          "Cord Cutting This Week #286 – Cheaper Hulu With Live TV Plans? AT&T’s $15 TV Service, & More - Cord Cutters News, LLC",
          "The eurozone is too complacent about the coronavirus threat - Financial Times",
          "Parts of financial markets are pricing in a global recession - CNN",
          "'Talk ourselves into a recession': Bank in coronavirus hotspot has doubts over Fed rate cut - Yahoo Finance",
          "Workers Could Be In Danger. Here’s the Coming Data That Will Tell the Story. - Barron's",
          "The Must-See CBD Quote From the Head of the FDA - Motley Fool",
          "Anxious shoppers across the US line up at stores to stockpile water, toilet paper - Daily Mail",
          "Experts warn EPA making 'secret science' rule more restrictive | TheHill - The Hill",
          "Should You Buy or Sell Airline Stocks Right Now? - Motley Fool",
          "In the Wake of Coronavirus, Should You Be Buying or Selling Stocks Right Now? - Motley Fool",
          "Some good news for Amazon's JEDI challenge - Seeking Alpha",
          "Computer systems at UK and UK HealthCare hobbled by massive, month-long cyber attack - Lexington Herald Leader",
          "Coronavirus: Tesco rations essential shopping items - BBC News",
          "Warren Buffett's Advice on How Investors Should Respond to a Super-Contagious Disease - Motley Fool",
          "2 Reasons to Retire Early, and 2 Reasons Not To - The Motley Fool",
          "Hawaii travel industry offers deals to offset impact of coronavirus anxiety - Honolulu Star-Advertiser",
          "Powerball Results, Numbers for 3/7/20: Did Anyone Win the $100 Million Jackpot on Saturday (Last) Night? - Newsweek",
          "Tesla Giga Berlin in stunning 3D render is a sneak peek of Elon Musk’s grand plans in Germany - Teslarati",
          "US Mortgage Rates Fall to Record Lows. The Year of Record Breaking May Well Continue - Yahoo Finance",
          "Lieutenant Dan the two-legged hound is competing to be the next Cadbury Bunny - CNN",
          "India's Yes Bank founder arrested on money laundering allegations - Bangkok Post",
          "Weighing The Week Ahead: Why The Right Time Frame Is Crucial - Seeking Alpha",
          "These 2 Steps Will Help You Retire Early - The Motley Fool",
          "EXCLUSIVE: CT woman worries her grandmother with congestive heart failure aboard cruise ship with 21 cases of coronavirus is vulnerable to virus - WTNH.com",
          "Bitcoin Boon Likely amid Plummeting Treasury Yields, ‘Policy Failure’ - BeInCrypto",
          "John Catsimatidis wants to build paper bag factory in upstate New York - New York Post ",
          "Evansville Olive Garden employee quits job, will apparently file lawsuit - Courier & Press",
          "Big Tech Will Pay Its Hourly Workers Even as Full-Time Staff Stays Home During Coronavirus Outbreak - Gizmodo",
          "Confirmed: Lufthansa Will Ground Airbus A380 Fleet Until at Least May, Possibly Extended into June - Paddle Your Own Kanoo",
          "China exports plunge, but worst likely still to come - Seeking Alpha",
          "Gas prices dropping in N.J. as coronavirus concern cuts into oil production - NJ.com",
          "Blue Cross Blue Shield expands coverage for COVID-19 screening tests - KARE11.com",
          "Dairy Queen celebrates 80th birthday with 80¢ blizzards deal - WJHL-TV News Channel 11",
          "Wegmans limiting purchase of cleaning essentials due to high demand - WTVD-TV",
          "Passengers wonder what's next as 42 Minnesotans remain stuck on quarantined cruise ship - FOX 9",
          "Long Beach: Carnival cruise ship's disembarkation suspended due to passenger's 'medical matter' - KABC-TV",
          "Man filmed licking tub of ice cream gets 30 days in jail - Q13 News Seattle",
          "See the high school girls basketball regional brackets - MLive.com",
          "JPMorgan CEO’s Health Emergency Casts Shadow on China Plans - Bloomberg",
          "Here are Friday’s worst stock-market performers as oil takes the market down - MarketWatch",
          "Why companies like Microsoft and Google are betting big on Africa - CNBC",
          "SBI readies Rs 10,000-crore warchest to rescue Yes Bank - The Tribune India",
          "Seattle Starbucks employee diagnosed with coronavirus - New York Post ",
          "The 4 Best Barbecue Spots In Irvine - CBS Los Angeles",
          "Coronavirus-related scams: AG, locals let you know what to watch out for - The Daily Courier",
          "Amazon plans to prosecute sellers for price gouging during coronavirus outbreak - CNET",
          "Why Exxon’s CEO ‘has his head buried in the tar sands’ - Electrek",
          "Does Credit Card Travel Insurance Cover Coronavirus Cancellations? - Lifehacker"
         ],
         "y": [
          0,
          -0.6808,
          0,
          -0.128,
          0,
          0.4939,
          0.4215,
          0.4939,
          0.5574,
          0.4019,
          -0.8074,
          0,
          0.3612,
          -0.2292,
          0.5106,
          -0.25,
          -0.5106,
          0.6705,
          -0.6249,
          0,
          0,
          0.6239,
          -0.128,
          -0.5719,
          -0.4215,
          -0.5106,
          -0.5267,
          -0.4404,
          -0.25,
          -0.1027,
          -0.4404,
          -0.4404,
          0.4939,
          -0.4767,
          0,
          -0.4404,
          -0.4404,
          -0.1779,
          0.5859,
          0.6808,
          0.0772,
          0,
          -0.1027,
          0,
          -0.0516,
          -0.6875,
          0.2023,
          0,
          -0.2263,
          -0.1027,
          0,
          -0.7684,
          -0.296,
          0.1027,
          0.5719,
          -0.128,
          -0.25,
          -0.4588,
          0,
          0,
          -0.3818,
          -0.6249,
          0.3612,
          0.7184,
          0,
          0.6369,
          -0.5859,
          -0.25,
          0,
          0.3818
         ]
        }
       ],
       "layout": {
        "barmode": "stack",
        "template": {
         "data": {
          "bar": [
           {
            "error_x": {
             "color": "#2a3f5f"
            },
            "error_y": {
             "color": "#2a3f5f"
            },
            "marker": {
             "line": {
              "color": "#E5ECF6",
              "width": 0.5
             }
            },
            "type": "bar"
           }
          ],
          "barpolar": [
           {
            "marker": {
             "line": {
              "color": "#E5ECF6",
              "width": 0.5
             }
            },
            "type": "barpolar"
           }
          ],
          "carpet": [
           {
            "aaxis": {
             "endlinecolor": "#2a3f5f",
             "gridcolor": "white",
             "linecolor": "white",
             "minorgridcolor": "white",
             "startlinecolor": "#2a3f5f"
            },
            "baxis": {
             "endlinecolor": "#2a3f5f",
             "gridcolor": "white",
             "linecolor": "white",
             "minorgridcolor": "white",
             "startlinecolor": "#2a3f5f"
            },
            "type": "carpet"
           }
          ],
          "choropleth": [
           {
            "colorbar": {
             "outlinewidth": 0,
             "ticks": ""
            },
            "type": "choropleth"
           }
          ],
          "contour": [
           {
            "colorbar": {
             "outlinewidth": 0,
             "ticks": ""
            },
            "colorscale": [
             [
              0,
              "#0d0887"
             ],
             [
              0.1111111111111111,
              "#46039f"
             ],
             [
              0.2222222222222222,
              "#7201a8"
             ],
             [
              0.3333333333333333,
              "#9c179e"
             ],
             [
              0.4444444444444444,
              "#bd3786"
             ],
             [
              0.5555555555555556,
              "#d8576b"
             ],
             [
              0.6666666666666666,
              "#ed7953"
             ],
             [
              0.7777777777777778,
              "#fb9f3a"
             ],
             [
              0.8888888888888888,
              "#fdca26"
             ],
             [
              1,
              "#f0f921"
             ]
            ],
            "type": "contour"
           }
          ],
          "contourcarpet": [
           {
            "colorbar": {
             "outlinewidth": 0,
             "ticks": ""
            },
            "type": "contourcarpet"
           }
          ],
          "heatmap": [
           {
            "colorbar": {
             "outlinewidth": 0,
             "ticks": ""
            },
            "colorscale": [
             [
              0,
              "#0d0887"
             ],
             [
              0.1111111111111111,
              "#46039f"
             ],
             [
              0.2222222222222222,
              "#7201a8"
             ],
             [
              0.3333333333333333,
              "#9c179e"
             ],
             [
              0.4444444444444444,
              "#bd3786"
             ],
             [
              0.5555555555555556,
              "#d8576b"
             ],
             [
              0.6666666666666666,
              "#ed7953"
             ],
             [
              0.7777777777777778,
              "#fb9f3a"
             ],
             [
              0.8888888888888888,
              "#fdca26"
             ],
             [
              1,
              "#f0f921"
             ]
            ],
            "type": "heatmap"
           }
          ],
          "heatmapgl": [
           {
            "colorbar": {
             "outlinewidth": 0,
             "ticks": ""
            },
            "colorscale": [
             [
              0,
              "#0d0887"
             ],
             [
              0.1111111111111111,
              "#46039f"
             ],
             [
              0.2222222222222222,
              "#7201a8"
             ],
             [
              0.3333333333333333,
              "#9c179e"
             ],
             [
              0.4444444444444444,
              "#bd3786"
             ],
             [
              0.5555555555555556,
              "#d8576b"
             ],
             [
              0.6666666666666666,
              "#ed7953"
             ],
             [
              0.7777777777777778,
              "#fb9f3a"
             ],
             [
              0.8888888888888888,
              "#fdca26"
             ],
             [
              1,
              "#f0f921"
             ]
            ],
            "type": "heatmapgl"
           }
          ],
          "histogram": [
           {
            "marker": {
             "colorbar": {
              "outlinewidth": 0,
              "ticks": ""
             }
            },
            "type": "histogram"
           }
          ],
          "histogram2d": [
           {
            "colorbar": {
             "outlinewidth": 0,
             "ticks": ""
            },
            "colorscale": [
             [
              0,
              "#0d0887"
             ],
             [
              0.1111111111111111,
              "#46039f"
             ],
             [
              0.2222222222222222,
              "#7201a8"
             ],
             [
              0.3333333333333333,
              "#9c179e"
             ],
             [
              0.4444444444444444,
              "#bd3786"
             ],
             [
              0.5555555555555556,
              "#d8576b"
             ],
             [
              0.6666666666666666,
              "#ed7953"
             ],
             [
              0.7777777777777778,
              "#fb9f3a"
             ],
             [
              0.8888888888888888,
              "#fdca26"
             ],
             [
              1,
              "#f0f921"
             ]
            ],
            "type": "histogram2d"
           }
          ],
          "histogram2dcontour": [
           {
            "colorbar": {
             "outlinewidth": 0,
             "ticks": ""
            },
            "colorscale": [
             [
              0,
              "#0d0887"
             ],
             [
              0.1111111111111111,
              "#46039f"
             ],
             [
              0.2222222222222222,
              "#7201a8"
             ],
             [
              0.3333333333333333,
              "#9c179e"
             ],
             [
              0.4444444444444444,
              "#bd3786"
             ],
             [
              0.5555555555555556,
              "#d8576b"
             ],
             [
              0.6666666666666666,
              "#ed7953"
             ],
             [
              0.7777777777777778,
              "#fb9f3a"
             ],
             [
              0.8888888888888888,
              "#fdca26"
             ],
             [
              1,
              "#f0f921"
             ]
            ],
            "type": "histogram2dcontour"
           }
          ],
          "mesh3d": [
           {
            "colorbar": {
             "outlinewidth": 0,
             "ticks": ""
            },
            "type": "mesh3d"
           }
          ],
          "parcoords": [
           {
            "line": {
             "colorbar": {
              "outlinewidth": 0,
              "ticks": ""
             }
            },
            "type": "parcoords"
           }
          ],
          "pie": [
           {
            "automargin": true,
            "type": "pie"
           }
          ],
          "scatter": [
           {
            "marker": {
             "colorbar": {
              "outlinewidth": 0,
              "ticks": ""
             }
            },
            "type": "scatter"
           }
          ],
          "scatter3d": [
           {
            "line": {
             "colorbar": {
              "outlinewidth": 0,
              "ticks": ""
             }
            },
            "marker": {
             "colorbar": {
              "outlinewidth": 0,
              "ticks": ""
             }
            },
            "type": "scatter3d"
           }
          ],
          "scattercarpet": [
           {
            "marker": {
             "colorbar": {
              "outlinewidth": 0,
              "ticks": ""
             }
            },
            "type": "scattercarpet"
           }
          ],
          "scattergeo": [
           {
            "marker": {
             "colorbar": {
              "outlinewidth": 0,
              "ticks": ""
             }
            },
            "type": "scattergeo"
           }
          ],
          "scattergl": [
           {
            "marker": {
             "colorbar": {
              "outlinewidth": 0,
              "ticks": ""
             }
            },
            "type": "scattergl"
           }
          ],
          "scattermapbox": [
           {
            "marker": {
             "colorbar": {
              "outlinewidth": 0,
              "ticks": ""
             }
            },
            "type": "scattermapbox"
           }
          ],
          "scatterpolar": [
           {
            "marker": {
             "colorbar": {
              "outlinewidth": 0,
              "ticks": ""
             }
            },
            "type": "scatterpolar"
           }
          ],
          "scatterpolargl": [
           {
            "marker": {
             "colorbar": {
              "outlinewidth": 0,
              "ticks": ""
             }
            },
            "type": "scatterpolargl"
           }
          ],
          "scatterternary": [
           {
            "marker": {
             "colorbar": {
              "outlinewidth": 0,
              "ticks": ""
             }
            },
            "type": "scatterternary"
           }
          ],
          "surface": [
           {
            "colorbar": {
             "outlinewidth": 0,
             "ticks": ""
            },
            "colorscale": [
             [
              0,
              "#0d0887"
             ],
             [
              0.1111111111111111,
              "#46039f"
             ],
             [
              0.2222222222222222,
              "#7201a8"
             ],
             [
              0.3333333333333333,
              "#9c179e"
             ],
             [
              0.4444444444444444,
              "#bd3786"
             ],
             [
              0.5555555555555556,
              "#d8576b"
             ],
             [
              0.6666666666666666,
              "#ed7953"
             ],
             [
              0.7777777777777778,
              "#fb9f3a"
             ],
             [
              0.8888888888888888,
              "#fdca26"
             ],
             [
              1,
              "#f0f921"
             ]
            ],
            "type": "surface"
           }
          ],
          "table": [
           {
            "cells": {
             "fill": {
              "color": "#EBF0F8"
             },
             "line": {
              "color": "white"
             }
            },
            "header": {
             "fill": {
              "color": "#C8D4E3"
             },
             "line": {
              "color": "white"
             }
            },
            "type": "table"
           }
          ]
         },
         "layout": {
          "annotationdefaults": {
           "arrowcolor": "#2a3f5f",
           "arrowhead": 0,
           "arrowwidth": 1
          },
          "coloraxis": {
           "colorbar": {
            "outlinewidth": 0,
            "ticks": ""
           }
          },
          "colorscale": {
           "diverging": [
            [
             0,
             "#8e0152"
            ],
            [
             0.1,
             "#c51b7d"
            ],
            [
             0.2,
             "#de77ae"
            ],
            [
             0.3,
             "#f1b6da"
            ],
            [
             0.4,
             "#fde0ef"
            ],
            [
             0.5,
             "#f7f7f7"
            ],
            [
             0.6,
             "#e6f5d0"
            ],
            [
             0.7,
             "#b8e186"
            ],
            [
             0.8,
             "#7fbc41"
            ],
            [
             0.9,
             "#4d9221"
            ],
            [
             1,
             "#276419"
            ]
           ],
           "sequential": [
            [
             0,
             "#0d0887"
            ],
            [
             0.1111111111111111,
             "#46039f"
            ],
            [
             0.2222222222222222,
             "#7201a8"
            ],
            [
             0.3333333333333333,
             "#9c179e"
            ],
            [
             0.4444444444444444,
             "#bd3786"
            ],
            [
             0.5555555555555556,
             "#d8576b"
            ],
            [
             0.6666666666666666,
             "#ed7953"
            ],
            [
             0.7777777777777778,
             "#fb9f3a"
            ],
            [
             0.8888888888888888,
             "#fdca26"
            ],
            [
             1,
             "#f0f921"
            ]
           ],
           "sequentialminus": [
            [
             0,
             "#0d0887"
            ],
            [
             0.1111111111111111,
             "#46039f"
            ],
            [
             0.2222222222222222,
             "#7201a8"
            ],
            [
             0.3333333333333333,
             "#9c179e"
            ],
            [
             0.4444444444444444,
             "#bd3786"
            ],
            [
             0.5555555555555556,
             "#d8576b"
            ],
            [
             0.6666666666666666,
             "#ed7953"
            ],
            [
             0.7777777777777778,
             "#fb9f3a"
            ],
            [
             0.8888888888888888,
             "#fdca26"
            ],
            [
             1,
             "#f0f921"
            ]
           ]
          },
          "colorway": [
           "#636efa",
           "#EF553B",
           "#00cc96",
           "#ab63fa",
           "#FFA15A",
           "#19d3f3",
           "#FF6692",
           "#B6E880",
           "#FF97FF",
           "#FECB52"
          ],
          "font": {
           "color": "#2a3f5f"
          },
          "geo": {
           "bgcolor": "white",
           "lakecolor": "white",
           "landcolor": "#E5ECF6",
           "showlakes": true,
           "showland": true,
           "subunitcolor": "white"
          },
          "hoverlabel": {
           "align": "left"
          },
          "hovermode": "closest",
          "mapbox": {
           "style": "light"
          },
          "paper_bgcolor": "white",
          "plot_bgcolor": "#E5ECF6",
          "polar": {
           "angularaxis": {
            "gridcolor": "white",
            "linecolor": "white",
            "ticks": ""
           },
           "bgcolor": "#E5ECF6",
           "radialaxis": {
            "gridcolor": "white",
            "linecolor": "white",
            "ticks": ""
           }
          },
          "scene": {
           "xaxis": {
            "backgroundcolor": "#E5ECF6",
            "gridcolor": "white",
            "gridwidth": 2,
            "linecolor": "white",
            "showbackground": true,
            "ticks": "",
            "zerolinecolor": "white"
           },
           "yaxis": {
            "backgroundcolor": "#E5ECF6",
            "gridcolor": "white",
            "gridwidth": 2,
            "linecolor": "white",
            "showbackground": true,
            "ticks": "",
            "zerolinecolor": "white"
           },
           "zaxis": {
            "backgroundcolor": "#E5ECF6",
            "gridcolor": "white",
            "gridwidth": 2,
            "linecolor": "white",
            "showbackground": true,
            "ticks": "",
            "zerolinecolor": "white"
           }
          },
          "shapedefaults": {
           "line": {
            "color": "#2a3f5f"
           }
          },
          "ternary": {
           "aaxis": {
            "gridcolor": "white",
            "linecolor": "white",
            "ticks": ""
           },
           "baxis": {
            "gridcolor": "white",
            "linecolor": "white",
            "ticks": ""
           },
           "bgcolor": "#E5ECF6",
           "caxis": {
            "gridcolor": "white",
            "linecolor": "white",
            "ticks": ""
           }
          },
          "title": {
           "x": 0.05
          },
          "xaxis": {
           "automargin": true,
           "gridcolor": "white",
           "linecolor": "white",
           "ticks": "",
           "title": {
            "standoff": 15
           },
           "zerolinecolor": "white",
           "zerolinewidth": 2
          },
          "yaxis": {
           "automargin": true,
           "gridcolor": "white",
           "linecolor": "white",
           "ticks": "",
           "title": {
            "standoff": 15
           },
           "zerolinecolor": "white",
           "zerolinewidth": 2
          }
         }
        },
        "title": {
         "text": "Title Sentiment"
        }
       }
      },
      "text/html": [
       "<div>\n",
       "        \n",
       "        \n",
       "            <div id=\"693e8a4f-aa51-40fa-8284-c60b0dcf5cfc\" class=\"plotly-graph-div\" style=\"height:525px; width:100%;\"></div>\n",
       "            <script type=\"text/javascript\">\n",
       "                require([\"plotly\"], function(Plotly) {\n",
       "                    window.PLOTLYENV=window.PLOTLYENV || {};\n",
       "                    \n",
       "                if (document.getElementById(\"693e8a4f-aa51-40fa-8284-c60b0dcf5cfc\")) {\n",
       "                    Plotly.newPlot(\n",
       "                        '693e8a4f-aa51-40fa-8284-c60b0dcf5cfc',\n",
       "                        [{\"marker\": {\"color\": \"#EE7674\"}, \"name\": \"Negative\", \"type\": \"bar\", \"x\": [\"Apple\\u2019s Cook Offers Work From Home This Week to Most Staff - Bloomberg\", \"Investor fears rise over recession, bear market as coronavirus spreads in U.S. - Reuters\", \"Bitcoin Price Consolidating, is a Big Move About to Happen? - Bitcoinist\", \"Family accidentally orders 12 years' worth of toilet paper - Fox News\", \"New coronavirus case at OHSU Hospital in Portland - OregonLive\", \"Hand sanitizer and coronavirus: Not all of it will work - Mashable\", \"United Airlines Negatively Alters Refund Policy - Simple Flying\", \"Publix limiting customers on purchases of hand soaps, sanitizers and more - WPTV.com\", \"Biogen orders employees to work from home after employees at Boston meeting test positive for coronavirus - MarketWatch\", \"How Is the U.S. Economy Doing? Ways to Give the Economy a Boost. - Barron's\", \"Putin Targets U.S. Fracking With Oil Price War, in New Threat to Trump's Election-Year Economy - Newsweek\", \"Brian Stelter examines media coverage of coronavirus - CNN\", \"Amid coronavirus outbreak, Carnival Cruise Line offers on-ship credits to passengers who don't reschedule - Fox News\", \"Coronavirus fears shouldn't stop you from adding to your investment portfolio - USA TODAY\", \"Coronavirus outbreak means Costco shoppers can say goodbye to free samples - Fox Business\", \"Cancel Culture - How coronavirus is affecting the arts scene in Israel - The Jerusalem Post\", \"Amtrak To Halt Non-stop Train From D.C. To New York City Amid Coronavirus Panic - The Daily Wire\", \"Please Don't Try to Make Hand Sanitizer Using Vodka - Lifehacker\", \"The fate of airline fare deals during the coronavirus crisis - SF Gate\", \"Police order crowded Art Van Furniture store to close early: \\u2018We could come close to a riot\\u2019 - MLive.com\", \"Gilead Sciences Could Be the First to Beat the Coronavirus - Yahoo Finance\", \"Napping \\u2013 You snooze, you win! - CBS News\", \"Cord Cutting This Week #286 \\u2013 Cheaper Hulu With Live TV Plans? AT&T\\u2019s $15 TV Service, & More - Cord Cutters News, LLC\", \"The eurozone is too complacent about the coronavirus threat - Financial Times\", \"Parts of financial markets are pricing in a global recession - CNN\", \"'Talk ourselves into a recession': Bank in coronavirus hotspot has doubts over Fed rate cut - Yahoo Finance\", \"Workers Could Be In Danger. Here\\u2019s the Coming Data That Will Tell the Story. - Barron's\", \"The Must-See CBD Quote From the Head of the FDA - Motley Fool\", \"Anxious shoppers across the US line up at stores to stockpile water, toilet paper - Daily Mail\", \"Experts warn EPA making 'secret science' rule more restrictive | TheHill - The Hill\", \"Should You Buy or Sell Airline Stocks Right Now? - Motley Fool\", \"In the Wake of Coronavirus, Should You Be Buying or Selling Stocks Right Now? - Motley Fool\", \"Some good news for Amazon's JEDI challenge - Seeking Alpha\", \"Computer systems at UK and UK HealthCare hobbled by massive, month-long cyber attack - Lexington Herald Leader\", \"Coronavirus: Tesco rations essential shopping items - BBC News\", \"Warren Buffett's Advice on How Investors Should Respond to a Super-Contagious Disease - Motley Fool\", \"2 Reasons to Retire Early, and 2 Reasons Not To - The Motley Fool\", \"Hawaii travel industry offers deals to offset impact of coronavirus anxiety - Honolulu Star-Advertiser\", \"Powerball Results, Numbers for 3/7/20: Did Anyone Win the $100 Million Jackpot on Saturday (Last) Night? - Newsweek\", \"Tesla Giga Berlin in stunning 3D render is a sneak peek of Elon Musk\\u2019s grand plans in Germany - Teslarati\", \"US Mortgage Rates Fall to Record Lows. The Year of Record Breaking May Well Continue - Yahoo Finance\", \"Lieutenant Dan the two-legged hound is competing to be the next Cadbury Bunny - CNN\", \"India's Yes Bank founder arrested on money laundering allegations - Bangkok Post\", \"Weighing The Week Ahead: Why The Right Time Frame Is Crucial - Seeking Alpha\", \"These 2 Steps Will Help You Retire Early - The Motley Fool\", \"EXCLUSIVE: CT woman worries her grandmother with congestive heart failure aboard cruise ship with 21 cases of coronavirus is vulnerable to virus - WTNH.com\", \"Bitcoin Boon Likely amid Plummeting Treasury Yields, \\u2018Policy Failure\\u2019 - BeInCrypto\", \"John Catsimatidis wants to build paper bag factory in upstate New York - New York Post \", \"Evansville Olive Garden employee quits job, will apparently file lawsuit - Courier & Press\", \"Big Tech Will Pay Its Hourly Workers Even as Full-Time Staff Stays Home During Coronavirus Outbreak - Gizmodo\", \"Confirmed: Lufthansa Will Ground Airbus A380 Fleet Until at Least May, Possibly Extended into June - Paddle Your Own Kanoo\", \"China exports plunge, but worst likely still to come - Seeking Alpha\", \"Gas prices dropping in N.J. as coronavirus concern cuts into oil production - NJ.com\", \"Blue Cross Blue Shield expands coverage for COVID-19 screening tests - KARE11.com\", \"Dairy Queen celebrates 80th birthday with 80\\u00a2 blizzards deal - WJHL-TV News Channel 11\", \"Wegmans limiting purchase of cleaning essentials due to high demand - WTVD-TV\", \"Passengers wonder what's next as 42 Minnesotans remain stuck on quarantined cruise ship - FOX 9\", \"Long Beach: Carnival cruise ship's disembarkation suspended due to passenger's 'medical matter' - KABC-TV\", \"Man filmed licking tub of ice cream gets 30 days in jail - Q13 News Seattle\", \"See the high school girls basketball regional brackets - MLive.com\", \"JPMorgan CEO\\u2019s Health Emergency Casts Shadow on China Plans - Bloomberg\", \"Here are Friday\\u2019s worst stock-market performers as oil takes the market down - MarketWatch\", \"Why companies like Microsoft and Google are betting big on Africa - CNBC\", \"SBI readies Rs 10,000-crore warchest to rescue Yes Bank - The Tribune India\", \"Seattle Starbucks employee diagnosed with coronavirus - New York Post \", \"The 4 Best Barbecue Spots In Irvine - CBS Los Angeles\", \"Coronavirus-related scams: AG, locals let you know what to watch out for - The Daily Courier\", \"Amazon plans to prosecute sellers for price gouging during coronavirus outbreak - CNET\", \"Why Exxon\\u2019s CEO \\u2018has his head buried in the tar sands\\u2019 - Electrek\", \"Does Credit Card Travel Insurance Cover Coronavirus Cancellations? - Lifehacker\"], \"y\": [0.0, 0.337, 0.0, 0.18, 0.0, 0.0, 0.0, 0.0, 0.0, 0.0, 0.343, 0.0, 0.0, 0.178, 0.0, 0.133, 0.171, 0.0, 0.272, 0.0, 0.0, 0.0, 0.073, 0.343, 0.237, 0.235, 0.195, 0.209, 0.118, 0.113, 0.225, 0.162, 0.0, 0.171, 0.0, 0.195, 0.225, 0.124, 0.0, 0.0, 0.095, 0.0, 0.209, 0.0, 0.213, 0.273, 0.0, 0.0, 0.147, 0.08, 0.0, 0.361, 0.155, 0.0, 0.0, 0.13, 0.133, 0.204, 0.0, 0.0, 0.224, 0.255, 0.0, 0.0, 0.0, 0.0, 0.213, 0.188, 0.0, 0.0]}, {\"marker\": {\"color\": \"#247BA0\"}, \"name\": \"Neutral\", \"type\": \"bar\", \"x\": [\"Apple\\u2019s Cook Offers Work From Home This Week to Most Staff - Bloomberg\", \"Investor fears rise over recession, bear market as coronavirus spreads in U.S. - Reuters\", \"Bitcoin Price Consolidating, is a Big Move About to Happen? - Bitcoinist\", \"Family accidentally orders 12 years' worth of toilet paper - Fox News\", \"New coronavirus case at OHSU Hospital in Portland - OregonLive\", \"Hand sanitizer and coronavirus: Not all of it will work - Mashable\", \"United Airlines Negatively Alters Refund Policy - Simple Flying\", \"Publix limiting customers on purchases of hand soaps, sanitizers and more - WPTV.com\", \"Biogen orders employees to work from home after employees at Boston meeting test positive for coronavirus - MarketWatch\", \"How Is the U.S. Economy Doing? Ways to Give the Economy a Boost. - Barron's\", \"Putin Targets U.S. Fracking With Oil Price War, in New Threat to Trump's Election-Year Economy - Newsweek\", \"Brian Stelter examines media coverage of coronavirus - CNN\", \"Amid coronavirus outbreak, Carnival Cruise Line offers on-ship credits to passengers who don't reschedule - Fox News\", \"Coronavirus fears shouldn't stop you from adding to your investment portfolio - USA TODAY\", \"Coronavirus outbreak means Costco shoppers can say goodbye to free samples - Fox Business\", \"Cancel Culture - How coronavirus is affecting the arts scene in Israel - The Jerusalem Post\", \"Amtrak To Halt Non-stop Train From D.C. To New York City Amid Coronavirus Panic - The Daily Wire\", \"Please Don't Try to Make Hand Sanitizer Using Vodka - Lifehacker\", \"The fate of airline fare deals during the coronavirus crisis - SF Gate\", \"Police order crowded Art Van Furniture store to close early: \\u2018We could come close to a riot\\u2019 - MLive.com\", \"Gilead Sciences Could Be the First to Beat the Coronavirus - Yahoo Finance\", \"Napping \\u2013 You snooze, you win! - CBS News\", \"Cord Cutting This Week #286 \\u2013 Cheaper Hulu With Live TV Plans? AT&T\\u2019s $15 TV Service, & More - Cord Cutters News, LLC\", \"The eurozone is too complacent about the coronavirus threat - Financial Times\", \"Parts of financial markets are pricing in a global recession - CNN\", \"'Talk ourselves into a recession': Bank in coronavirus hotspot has doubts over Fed rate cut - Yahoo Finance\", \"Workers Could Be In Danger. Here\\u2019s the Coming Data That Will Tell the Story. - Barron's\", \"The Must-See CBD Quote From the Head of the FDA - Motley Fool\", \"Anxious shoppers across the US line up at stores to stockpile water, toilet paper - Daily Mail\", \"Experts warn EPA making 'secret science' rule more restrictive | TheHill - The Hill\", \"Should You Buy or Sell Airline Stocks Right Now? - Motley Fool\", \"In the Wake of Coronavirus, Should You Be Buying or Selling Stocks Right Now? - Motley Fool\", \"Some good news for Amazon's JEDI challenge - Seeking Alpha\", \"Computer systems at UK and UK HealthCare hobbled by massive, month-long cyber attack - Lexington Herald Leader\", \"Coronavirus: Tesco rations essential shopping items - BBC News\", \"Warren Buffett's Advice on How Investors Should Respond to a Super-Contagious Disease - Motley Fool\", \"2 Reasons to Retire Early, and 2 Reasons Not To - The Motley Fool\", \"Hawaii travel industry offers deals to offset impact of coronavirus anxiety - Honolulu Star-Advertiser\", \"Powerball Results, Numbers for 3/7/20: Did Anyone Win the $100 Million Jackpot on Saturday (Last) Night? - Newsweek\", \"Tesla Giga Berlin in stunning 3D render is a sneak peek of Elon Musk\\u2019s grand plans in Germany - Teslarati\", \"US Mortgage Rates Fall to Record Lows. The Year of Record Breaking May Well Continue - Yahoo Finance\", \"Lieutenant Dan the two-legged hound is competing to be the next Cadbury Bunny - CNN\", \"India's Yes Bank founder arrested on money laundering allegations - Bangkok Post\", \"Weighing The Week Ahead: Why The Right Time Frame Is Crucial - Seeking Alpha\", \"These 2 Steps Will Help You Retire Early - The Motley Fool\", \"EXCLUSIVE: CT woman worries her grandmother with congestive heart failure aboard cruise ship with 21 cases of coronavirus is vulnerable to virus - WTNH.com\", \"Bitcoin Boon Likely amid Plummeting Treasury Yields, \\u2018Policy Failure\\u2019 - BeInCrypto\", \"John Catsimatidis wants to build paper bag factory in upstate New York - New York Post \", \"Evansville Olive Garden employee quits job, will apparently file lawsuit - Courier & Press\", \"Big Tech Will Pay Its Hourly Workers Even as Full-Time Staff Stays Home During Coronavirus Outbreak - Gizmodo\", \"Confirmed: Lufthansa Will Ground Airbus A380 Fleet Until at Least May, Possibly Extended into June - Paddle Your Own Kanoo\", \"China exports plunge, but worst likely still to come - Seeking Alpha\", \"Gas prices dropping in N.J. as coronavirus concern cuts into oil production - NJ.com\", \"Blue Cross Blue Shield expands coverage for COVID-19 screening tests - KARE11.com\", \"Dairy Queen celebrates 80th birthday with 80\\u00a2 blizzards deal - WJHL-TV News Channel 11\", \"Wegmans limiting purchase of cleaning essentials due to high demand - WTVD-TV\", \"Passengers wonder what's next as 42 Minnesotans remain stuck on quarantined cruise ship - FOX 9\", \"Long Beach: Carnival cruise ship's disembarkation suspended due to passenger's 'medical matter' - KABC-TV\", \"Man filmed licking tub of ice cream gets 30 days in jail - Q13 News Seattle\", \"See the high school girls basketball regional brackets - MLive.com\", \"JPMorgan CEO\\u2019s Health Emergency Casts Shadow on China Plans - Bloomberg\", \"Here are Friday\\u2019s worst stock-market performers as oil takes the market down - MarketWatch\", \"Why companies like Microsoft and Google are betting big on Africa - CNBC\", \"SBI readies Rs 10,000-crore warchest to rescue Yes Bank - The Tribune India\", \"Seattle Starbucks employee diagnosed with coronavirus - New York Post \", \"The 4 Best Barbecue Spots In Irvine - CBS Los Angeles\", \"Coronavirus-related scams: AG, locals let you know what to watch out for - The Daily Courier\", \"Amazon plans to prosecute sellers for price gouging during coronavirus outbreak - CNET\", \"Why Exxon\\u2019s CEO \\u2018has his head buried in the tar sands\\u2019 - Electrek\", \"Does Credit Card Travel Insurance Cover Coronavirus Cancellations? - Lifehacker\"], \"y\": [1.0, 0.663, 1.0, 0.677, 1.0, 0.758, 0.714, 0.775, 0.816, 0.816, 0.657, 1.0, 0.857, 0.701, 0.784, 0.867, 0.829, 0.593, 0.728, 1.0, 1.0, 0.595, 0.927, 0.657, 0.763, 0.765, 0.805, 0.791, 0.882, 0.887, 0.775, 0.838, 0.625, 0.829, 1.0, 0.805, 0.775, 0.876, 0.808, 0.741, 0.794, 1.0, 0.608, 1.0, 0.588, 0.614, 0.833, 1.0, 0.853, 0.92, 1.0, 0.639, 0.845, 0.877, 0.764, 0.87, 0.867, 0.724, 1.0, 1.0, 0.776, 0.745, 0.815, 0.625, 1.0, 0.656, 0.787, 0.694, 1.0, 0.755]}, {\"name\": \"Positive\", \"type\": \"bar\", \"x\": [\"Apple\\u2019s Cook Offers Work From Home This Week to Most Staff - Bloomberg\", \"Investor fears rise over recession, bear market as coronavirus spreads in U.S. - Reuters\", \"Bitcoin Price Consolidating, is a Big Move About to Happen? - Bitcoinist\", \"Family accidentally orders 12 years' worth of toilet paper - Fox News\", \"New coronavirus case at OHSU Hospital in Portland - OregonLive\", \"Hand sanitizer and coronavirus: Not all of it will work - Mashable\", \"United Airlines Negatively Alters Refund Policy - Simple Flying\", \"Publix limiting customers on purchases of hand soaps, sanitizers and more - WPTV.com\", \"Biogen orders employees to work from home after employees at Boston meeting test positive for coronavirus - MarketWatch\", \"How Is the U.S. Economy Doing? Ways to Give the Economy a Boost. - Barron's\", \"Putin Targets U.S. Fracking With Oil Price War, in New Threat to Trump's Election-Year Economy - Newsweek\", \"Brian Stelter examines media coverage of coronavirus - CNN\", \"Amid coronavirus outbreak, Carnival Cruise Line offers on-ship credits to passengers who don't reschedule - Fox News\", \"Coronavirus fears shouldn't stop you from adding to your investment portfolio - USA TODAY\", \"Coronavirus outbreak means Costco shoppers can say goodbye to free samples - Fox Business\", \"Cancel Culture - How coronavirus is affecting the arts scene in Israel - The Jerusalem Post\", \"Amtrak To Halt Non-stop Train From D.C. To New York City Amid Coronavirus Panic - The Daily Wire\", \"Please Don't Try to Make Hand Sanitizer Using Vodka - Lifehacker\", \"The fate of airline fare deals during the coronavirus crisis - SF Gate\", \"Police order crowded Art Van Furniture store to close early: \\u2018We could come close to a riot\\u2019 - MLive.com\", \"Gilead Sciences Could Be the First to Beat the Coronavirus - Yahoo Finance\", \"Napping \\u2013 You snooze, you win! - CBS News\", \"Cord Cutting This Week #286 \\u2013 Cheaper Hulu With Live TV Plans? AT&T\\u2019s $15 TV Service, & More - Cord Cutters News, LLC\", \"The eurozone is too complacent about the coronavirus threat - Financial Times\", \"Parts of financial markets are pricing in a global recession - CNN\", \"'Talk ourselves into a recession': Bank in coronavirus hotspot has doubts over Fed rate cut - Yahoo Finance\", \"Workers Could Be In Danger. Here\\u2019s the Coming Data That Will Tell the Story. - Barron's\", \"The Must-See CBD Quote From the Head of the FDA - Motley Fool\", \"Anxious shoppers across the US line up at stores to stockpile water, toilet paper - Daily Mail\", \"Experts warn EPA making 'secret science' rule more restrictive | TheHill - The Hill\", \"Should You Buy or Sell Airline Stocks Right Now? - Motley Fool\", \"In the Wake of Coronavirus, Should You Be Buying or Selling Stocks Right Now? - Motley Fool\", \"Some good news for Amazon's JEDI challenge - Seeking Alpha\", \"Computer systems at UK and UK HealthCare hobbled by massive, month-long cyber attack - Lexington Herald Leader\", \"Coronavirus: Tesco rations essential shopping items - BBC News\", \"Warren Buffett's Advice on How Investors Should Respond to a Super-Contagious Disease - Motley Fool\", \"2 Reasons to Retire Early, and 2 Reasons Not To - The Motley Fool\", \"Hawaii travel industry offers deals to offset impact of coronavirus anxiety - Honolulu Star-Advertiser\", \"Powerball Results, Numbers for 3/7/20: Did Anyone Win the $100 Million Jackpot on Saturday (Last) Night? - Newsweek\", \"Tesla Giga Berlin in stunning 3D render is a sneak peek of Elon Musk\\u2019s grand plans in Germany - Teslarati\", \"US Mortgage Rates Fall to Record Lows. The Year of Record Breaking May Well Continue - Yahoo Finance\", \"Lieutenant Dan the two-legged hound is competing to be the next Cadbury Bunny - CNN\", \"India's Yes Bank founder arrested on money laundering allegations - Bangkok Post\", \"Weighing The Week Ahead: Why The Right Time Frame Is Crucial - Seeking Alpha\", \"These 2 Steps Will Help You Retire Early - The Motley Fool\", \"EXCLUSIVE: CT woman worries her grandmother with congestive heart failure aboard cruise ship with 21 cases of coronavirus is vulnerable to virus - WTNH.com\", \"Bitcoin Boon Likely amid Plummeting Treasury Yields, \\u2018Policy Failure\\u2019 - BeInCrypto\", \"John Catsimatidis wants to build paper bag factory in upstate New York - New York Post \", \"Evansville Olive Garden employee quits job, will apparently file lawsuit - Courier & Press\", \"Big Tech Will Pay Its Hourly Workers Even as Full-Time Staff Stays Home During Coronavirus Outbreak - Gizmodo\", \"Confirmed: Lufthansa Will Ground Airbus A380 Fleet Until at Least May, Possibly Extended into June - Paddle Your Own Kanoo\", \"China exports plunge, but worst likely still to come - Seeking Alpha\", \"Gas prices dropping in N.J. as coronavirus concern cuts into oil production - NJ.com\", \"Blue Cross Blue Shield expands coverage for COVID-19 screening tests - KARE11.com\", \"Dairy Queen celebrates 80th birthday with 80\\u00a2 blizzards deal - WJHL-TV News Channel 11\", \"Wegmans limiting purchase of cleaning essentials due to high demand - WTVD-TV\", \"Passengers wonder what's next as 42 Minnesotans remain stuck on quarantined cruise ship - FOX 9\", \"Long Beach: Carnival cruise ship's disembarkation suspended due to passenger's 'medical matter' - KABC-TV\", \"Man filmed licking tub of ice cream gets 30 days in jail - Q13 News Seattle\", \"See the high school girls basketball regional brackets - MLive.com\", \"JPMorgan CEO\\u2019s Health Emergency Casts Shadow on China Plans - Bloomberg\", \"Here are Friday\\u2019s worst stock-market performers as oil takes the market down - MarketWatch\", \"Why companies like Microsoft and Google are betting big on Africa - CNBC\", \"SBI readies Rs 10,000-crore warchest to rescue Yes Bank - The Tribune India\", \"Seattle Starbucks employee diagnosed with coronavirus - New York Post \", \"The 4 Best Barbecue Spots In Irvine - CBS Los Angeles\", \"Coronavirus-related scams: AG, locals let you know what to watch out for - The Daily Courier\", \"Amazon plans to prosecute sellers for price gouging during coronavirus outbreak - CNET\", \"Why Exxon\\u2019s CEO \\u2018has his head buried in the tar sands\\u2019 - Electrek\", \"Does Credit Card Travel Insurance Cover Coronavirus Cancellations? - Lifehacker\"], \"y\": [0.0, 0.0, 0.0, 0.143, 0.0, 0.242, 0.286, 0.225, 0.184, 0.184, 0.0, 0.0, 0.143, 0.12, 0.216, 0.0, 0.0, 0.407, 0.0, 0.0, 0.0, 0.405, 0.0, 0.0, 0.0, 0.0, 0.0, 0.0, 0.0, 0.0, 0.0, 0.0, 0.375, 0.0, 0.0, 0.0, 0.0, 0.0, 0.192, 0.259, 0.111, 0.0, 0.182, 0.0, 0.199, 0.114, 0.167, 0.0, 0.0, 0.0, 0.0, 0.0, 0.0, 0.123, 0.236, 0.0, 0.0, 0.072, 0.0, 0.0, 0.0, 0.0, 0.185, 0.375, 0.0, 0.344, 0.0, 0.118, 0.0, 0.245]}, {\"name\": \"Compound\", \"type\": \"bar\", \"x\": [\"Apple\\u2019s Cook Offers Work From Home This Week to Most Staff - Bloomberg\", \"Investor fears rise over recession, bear market as coronavirus spreads in U.S. - Reuters\", \"Bitcoin Price Consolidating, is a Big Move About to Happen? - Bitcoinist\", \"Family accidentally orders 12 years' worth of toilet paper - Fox News\", \"New coronavirus case at OHSU Hospital in Portland - OregonLive\", \"Hand sanitizer and coronavirus: Not all of it will work - Mashable\", \"United Airlines Negatively Alters Refund Policy - Simple Flying\", \"Publix limiting customers on purchases of hand soaps, sanitizers and more - WPTV.com\", \"Biogen orders employees to work from home after employees at Boston meeting test positive for coronavirus - MarketWatch\", \"How Is the U.S. Economy Doing? Ways to Give the Economy a Boost. - Barron's\", \"Putin Targets U.S. Fracking With Oil Price War, in New Threat to Trump's Election-Year Economy - Newsweek\", \"Brian Stelter examines media coverage of coronavirus - CNN\", \"Amid coronavirus outbreak, Carnival Cruise Line offers on-ship credits to passengers who don't reschedule - Fox News\", \"Coronavirus fears shouldn't stop you from adding to your investment portfolio - USA TODAY\", \"Coronavirus outbreak means Costco shoppers can say goodbye to free samples - Fox Business\", \"Cancel Culture - How coronavirus is affecting the arts scene in Israel - The Jerusalem Post\", \"Amtrak To Halt Non-stop Train From D.C. To New York City Amid Coronavirus Panic - The Daily Wire\", \"Please Don't Try to Make Hand Sanitizer Using Vodka - Lifehacker\", \"The fate of airline fare deals during the coronavirus crisis - SF Gate\", \"Police order crowded Art Van Furniture store to close early: \\u2018We could come close to a riot\\u2019 - MLive.com\", \"Gilead Sciences Could Be the First to Beat the Coronavirus - Yahoo Finance\", \"Napping \\u2013 You snooze, you win! - CBS News\", \"Cord Cutting This Week #286 \\u2013 Cheaper Hulu With Live TV Plans? AT&T\\u2019s $15 TV Service, & More - Cord Cutters News, LLC\", \"The eurozone is too complacent about the coronavirus threat - Financial Times\", \"Parts of financial markets are pricing in a global recession - CNN\", \"'Talk ourselves into a recession': Bank in coronavirus hotspot has doubts over Fed rate cut - Yahoo Finance\", \"Workers Could Be In Danger. Here\\u2019s the Coming Data That Will Tell the Story. - Barron's\", \"The Must-See CBD Quote From the Head of the FDA - Motley Fool\", \"Anxious shoppers across the US line up at stores to stockpile water, toilet paper - Daily Mail\", \"Experts warn EPA making 'secret science' rule more restrictive | TheHill - The Hill\", \"Should You Buy or Sell Airline Stocks Right Now? - Motley Fool\", \"In the Wake of Coronavirus, Should You Be Buying or Selling Stocks Right Now? - Motley Fool\", \"Some good news for Amazon's JEDI challenge - Seeking Alpha\", \"Computer systems at UK and UK HealthCare hobbled by massive, month-long cyber attack - Lexington Herald Leader\", \"Coronavirus: Tesco rations essential shopping items - BBC News\", \"Warren Buffett's Advice on How Investors Should Respond to a Super-Contagious Disease - Motley Fool\", \"2 Reasons to Retire Early, and 2 Reasons Not To - The Motley Fool\", \"Hawaii travel industry offers deals to offset impact of coronavirus anxiety - Honolulu Star-Advertiser\", \"Powerball Results, Numbers for 3/7/20: Did Anyone Win the $100 Million Jackpot on Saturday (Last) Night? - Newsweek\", \"Tesla Giga Berlin in stunning 3D render is a sneak peek of Elon Musk\\u2019s grand plans in Germany - Teslarati\", \"US Mortgage Rates Fall to Record Lows. The Year of Record Breaking May Well Continue - Yahoo Finance\", \"Lieutenant Dan the two-legged hound is competing to be the next Cadbury Bunny - CNN\", \"India's Yes Bank founder arrested on money laundering allegations - Bangkok Post\", \"Weighing The Week Ahead: Why The Right Time Frame Is Crucial - Seeking Alpha\", \"These 2 Steps Will Help You Retire Early - The Motley Fool\", \"EXCLUSIVE: CT woman worries her grandmother with congestive heart failure aboard cruise ship with 21 cases of coronavirus is vulnerable to virus - WTNH.com\", \"Bitcoin Boon Likely amid Plummeting Treasury Yields, \\u2018Policy Failure\\u2019 - BeInCrypto\", \"John Catsimatidis wants to build paper bag factory in upstate New York - New York Post \", \"Evansville Olive Garden employee quits job, will apparently file lawsuit - Courier & Press\", \"Big Tech Will Pay Its Hourly Workers Even as Full-Time Staff Stays Home During Coronavirus Outbreak - Gizmodo\", \"Confirmed: Lufthansa Will Ground Airbus A380 Fleet Until at Least May, Possibly Extended into June - Paddle Your Own Kanoo\", \"China exports plunge, but worst likely still to come - Seeking Alpha\", \"Gas prices dropping in N.J. as coronavirus concern cuts into oil production - NJ.com\", \"Blue Cross Blue Shield expands coverage for COVID-19 screening tests - KARE11.com\", \"Dairy Queen celebrates 80th birthday with 80\\u00a2 blizzards deal - WJHL-TV News Channel 11\", \"Wegmans limiting purchase of cleaning essentials due to high demand - WTVD-TV\", \"Passengers wonder what's next as 42 Minnesotans remain stuck on quarantined cruise ship - FOX 9\", \"Long Beach: Carnival cruise ship's disembarkation suspended due to passenger's 'medical matter' - KABC-TV\", \"Man filmed licking tub of ice cream gets 30 days in jail - Q13 News Seattle\", \"See the high school girls basketball regional brackets - MLive.com\", \"JPMorgan CEO\\u2019s Health Emergency Casts Shadow on China Plans - Bloomberg\", \"Here are Friday\\u2019s worst stock-market performers as oil takes the market down - MarketWatch\", \"Why companies like Microsoft and Google are betting big on Africa - CNBC\", \"SBI readies Rs 10,000-crore warchest to rescue Yes Bank - The Tribune India\", \"Seattle Starbucks employee diagnosed with coronavirus - New York Post \", \"The 4 Best Barbecue Spots In Irvine - CBS Los Angeles\", \"Coronavirus-related scams: AG, locals let you know what to watch out for - The Daily Courier\", \"Amazon plans to prosecute sellers for price gouging during coronavirus outbreak - CNET\", \"Why Exxon\\u2019s CEO \\u2018has his head buried in the tar sands\\u2019 - Electrek\", \"Does Credit Card Travel Insurance Cover Coronavirus Cancellations? - Lifehacker\"], \"y\": [0.0, -0.6808, 0.0, -0.128, 0.0, 0.4939, 0.4215, 0.4939, 0.5574, 0.4019, -0.8074, 0.0, 0.3612, -0.2292, 0.5106, -0.25, -0.5106, 0.6705, -0.6249, 0.0, 0.0, 0.6239, -0.128, -0.5719, -0.4215, -0.5106, -0.5267, -0.4404, -0.25, -0.1027, -0.4404, -0.4404, 0.4939, -0.4767, 0.0, -0.4404, -0.4404, -0.1779, 0.5859, 0.6808, 0.0772, 0.0, -0.1027, 0.0, -0.0516, -0.6875, 0.2023, 0.0, -0.2263, -0.1027, 0.0, -0.7684, -0.296, 0.1027, 0.5719, -0.128, -0.25, -0.4588, 0.0, 0.0, -0.3818, -0.6249, 0.3612, 0.7184, 0.0, 0.6369, -0.5859, -0.25, 0.0, 0.3818]}],\n",
       "                        {\"barmode\": \"stack\", \"template\": {\"data\": {\"bar\": [{\"error_x\": {\"color\": \"#2a3f5f\"}, \"error_y\": {\"color\": \"#2a3f5f\"}, \"marker\": {\"line\": {\"color\": \"#E5ECF6\", \"width\": 0.5}}, \"type\": \"bar\"}], \"barpolar\": [{\"marker\": {\"line\": {\"color\": \"#E5ECF6\", \"width\": 0.5}}, \"type\": \"barpolar\"}], \"carpet\": [{\"aaxis\": {\"endlinecolor\": \"#2a3f5f\", \"gridcolor\": \"white\", \"linecolor\": \"white\", \"minorgridcolor\": \"white\", \"startlinecolor\": \"#2a3f5f\"}, \"baxis\": {\"endlinecolor\": \"#2a3f5f\", \"gridcolor\": \"white\", \"linecolor\": \"white\", \"minorgridcolor\": \"white\", \"startlinecolor\": \"#2a3f5f\"}, \"type\": \"carpet\"}], \"choropleth\": [{\"colorbar\": {\"outlinewidth\": 0, \"ticks\": \"\"}, \"type\": \"choropleth\"}], \"contour\": [{\"colorbar\": {\"outlinewidth\": 0, \"ticks\": \"\"}, \"colorscale\": [[0.0, \"#0d0887\"], [0.1111111111111111, \"#46039f\"], [0.2222222222222222, \"#7201a8\"], [0.3333333333333333, \"#9c179e\"], [0.4444444444444444, \"#bd3786\"], [0.5555555555555556, \"#d8576b\"], [0.6666666666666666, \"#ed7953\"], [0.7777777777777778, \"#fb9f3a\"], [0.8888888888888888, \"#fdca26\"], [1.0, \"#f0f921\"]], \"type\": \"contour\"}], \"contourcarpet\": [{\"colorbar\": {\"outlinewidth\": 0, \"ticks\": \"\"}, \"type\": \"contourcarpet\"}], \"heatmap\": [{\"colorbar\": {\"outlinewidth\": 0, \"ticks\": \"\"}, \"colorscale\": [[0.0, \"#0d0887\"], [0.1111111111111111, \"#46039f\"], [0.2222222222222222, \"#7201a8\"], [0.3333333333333333, \"#9c179e\"], [0.4444444444444444, \"#bd3786\"], [0.5555555555555556, \"#d8576b\"], [0.6666666666666666, \"#ed7953\"], [0.7777777777777778, \"#fb9f3a\"], [0.8888888888888888, \"#fdca26\"], [1.0, \"#f0f921\"]], \"type\": \"heatmap\"}], \"heatmapgl\": [{\"colorbar\": {\"outlinewidth\": 0, \"ticks\": \"\"}, \"colorscale\": [[0.0, \"#0d0887\"], [0.1111111111111111, \"#46039f\"], [0.2222222222222222, \"#7201a8\"], [0.3333333333333333, \"#9c179e\"], [0.4444444444444444, \"#bd3786\"], [0.5555555555555556, \"#d8576b\"], [0.6666666666666666, \"#ed7953\"], [0.7777777777777778, \"#fb9f3a\"], [0.8888888888888888, \"#fdca26\"], [1.0, \"#f0f921\"]], \"type\": \"heatmapgl\"}], \"histogram\": [{\"marker\": {\"colorbar\": {\"outlinewidth\": 0, \"ticks\": \"\"}}, \"type\": \"histogram\"}], \"histogram2d\": [{\"colorbar\": {\"outlinewidth\": 0, \"ticks\": \"\"}, \"colorscale\": [[0.0, \"#0d0887\"], [0.1111111111111111, \"#46039f\"], [0.2222222222222222, \"#7201a8\"], [0.3333333333333333, \"#9c179e\"], [0.4444444444444444, \"#bd3786\"], [0.5555555555555556, \"#d8576b\"], [0.6666666666666666, \"#ed7953\"], [0.7777777777777778, \"#fb9f3a\"], [0.8888888888888888, \"#fdca26\"], [1.0, \"#f0f921\"]], \"type\": \"histogram2d\"}], \"histogram2dcontour\": [{\"colorbar\": {\"outlinewidth\": 0, \"ticks\": \"\"}, \"colorscale\": [[0.0, \"#0d0887\"], [0.1111111111111111, \"#46039f\"], [0.2222222222222222, \"#7201a8\"], [0.3333333333333333, \"#9c179e\"], [0.4444444444444444, \"#bd3786\"], [0.5555555555555556, \"#d8576b\"], [0.6666666666666666, \"#ed7953\"], [0.7777777777777778, \"#fb9f3a\"], [0.8888888888888888, \"#fdca26\"], [1.0, \"#f0f921\"]], \"type\": \"histogram2dcontour\"}], \"mesh3d\": [{\"colorbar\": {\"outlinewidth\": 0, \"ticks\": \"\"}, \"type\": \"mesh3d\"}], \"parcoords\": [{\"line\": {\"colorbar\": {\"outlinewidth\": 0, \"ticks\": \"\"}}, \"type\": \"parcoords\"}], \"pie\": [{\"automargin\": true, \"type\": \"pie\"}], \"scatter\": [{\"marker\": {\"colorbar\": {\"outlinewidth\": 0, \"ticks\": \"\"}}, \"type\": \"scatter\"}], \"scatter3d\": [{\"line\": {\"colorbar\": {\"outlinewidth\": 0, \"ticks\": \"\"}}, \"marker\": {\"colorbar\": {\"outlinewidth\": 0, \"ticks\": \"\"}}, \"type\": \"scatter3d\"}], \"scattercarpet\": [{\"marker\": {\"colorbar\": {\"outlinewidth\": 0, \"ticks\": \"\"}}, \"type\": \"scattercarpet\"}], \"scattergeo\": [{\"marker\": {\"colorbar\": {\"outlinewidth\": 0, \"ticks\": \"\"}}, \"type\": \"scattergeo\"}], \"scattergl\": [{\"marker\": {\"colorbar\": {\"outlinewidth\": 0, \"ticks\": \"\"}}, \"type\": \"scattergl\"}], \"scattermapbox\": [{\"marker\": {\"colorbar\": {\"outlinewidth\": 0, \"ticks\": \"\"}}, \"type\": \"scattermapbox\"}], \"scatterpolar\": [{\"marker\": {\"colorbar\": {\"outlinewidth\": 0, \"ticks\": \"\"}}, \"type\": \"scatterpolar\"}], \"scatterpolargl\": [{\"marker\": {\"colorbar\": {\"outlinewidth\": 0, \"ticks\": \"\"}}, \"type\": \"scatterpolargl\"}], \"scatterternary\": [{\"marker\": {\"colorbar\": {\"outlinewidth\": 0, \"ticks\": \"\"}}, \"type\": \"scatterternary\"}], \"surface\": [{\"colorbar\": {\"outlinewidth\": 0, \"ticks\": \"\"}, \"colorscale\": [[0.0, \"#0d0887\"], [0.1111111111111111, \"#46039f\"], [0.2222222222222222, \"#7201a8\"], [0.3333333333333333, \"#9c179e\"], [0.4444444444444444, \"#bd3786\"], [0.5555555555555556, \"#d8576b\"], [0.6666666666666666, \"#ed7953\"], [0.7777777777777778, \"#fb9f3a\"], [0.8888888888888888, \"#fdca26\"], [1.0, \"#f0f921\"]], \"type\": \"surface\"}], \"table\": [{\"cells\": {\"fill\": {\"color\": \"#EBF0F8\"}, \"line\": {\"color\": \"white\"}}, \"header\": {\"fill\": {\"color\": \"#C8D4E3\"}, \"line\": {\"color\": \"white\"}}, \"type\": \"table\"}]}, \"layout\": {\"annotationdefaults\": {\"arrowcolor\": \"#2a3f5f\", \"arrowhead\": 0, \"arrowwidth\": 1}, \"coloraxis\": {\"colorbar\": {\"outlinewidth\": 0, \"ticks\": \"\"}}, \"colorscale\": {\"diverging\": [[0, \"#8e0152\"], [0.1, \"#c51b7d\"], [0.2, \"#de77ae\"], [0.3, \"#f1b6da\"], [0.4, \"#fde0ef\"], [0.5, \"#f7f7f7\"], [0.6, \"#e6f5d0\"], [0.7, \"#b8e186\"], [0.8, \"#7fbc41\"], [0.9, \"#4d9221\"], [1, \"#276419\"]], \"sequential\": [[0.0, \"#0d0887\"], [0.1111111111111111, \"#46039f\"], [0.2222222222222222, \"#7201a8\"], [0.3333333333333333, \"#9c179e\"], [0.4444444444444444, \"#bd3786\"], [0.5555555555555556, \"#d8576b\"], [0.6666666666666666, \"#ed7953\"], [0.7777777777777778, \"#fb9f3a\"], [0.8888888888888888, \"#fdca26\"], [1.0, \"#f0f921\"]], \"sequentialminus\": [[0.0, \"#0d0887\"], [0.1111111111111111, \"#46039f\"], [0.2222222222222222, \"#7201a8\"], [0.3333333333333333, \"#9c179e\"], [0.4444444444444444, \"#bd3786\"], [0.5555555555555556, \"#d8576b\"], [0.6666666666666666, \"#ed7953\"], [0.7777777777777778, \"#fb9f3a\"], [0.8888888888888888, \"#fdca26\"], [1.0, \"#f0f921\"]]}, \"colorway\": [\"#636efa\", \"#EF553B\", \"#00cc96\", \"#ab63fa\", \"#FFA15A\", \"#19d3f3\", \"#FF6692\", \"#B6E880\", \"#FF97FF\", \"#FECB52\"], \"font\": {\"color\": \"#2a3f5f\"}, \"geo\": {\"bgcolor\": \"white\", \"lakecolor\": \"white\", \"landcolor\": \"#E5ECF6\", \"showlakes\": true, \"showland\": true, \"subunitcolor\": \"white\"}, \"hoverlabel\": {\"align\": \"left\"}, \"hovermode\": \"closest\", \"mapbox\": {\"style\": \"light\"}, \"paper_bgcolor\": \"white\", \"plot_bgcolor\": \"#E5ECF6\", \"polar\": {\"angularaxis\": {\"gridcolor\": \"white\", \"linecolor\": \"white\", \"ticks\": \"\"}, \"bgcolor\": \"#E5ECF6\", \"radialaxis\": {\"gridcolor\": \"white\", \"linecolor\": \"white\", \"ticks\": \"\"}}, \"scene\": {\"xaxis\": {\"backgroundcolor\": \"#E5ECF6\", \"gridcolor\": \"white\", \"gridwidth\": 2, \"linecolor\": \"white\", \"showbackground\": true, \"ticks\": \"\", \"zerolinecolor\": \"white\"}, \"yaxis\": {\"backgroundcolor\": \"#E5ECF6\", \"gridcolor\": \"white\", \"gridwidth\": 2, \"linecolor\": \"white\", \"showbackground\": true, \"ticks\": \"\", \"zerolinecolor\": \"white\"}, \"zaxis\": {\"backgroundcolor\": \"#E5ECF6\", \"gridcolor\": \"white\", \"gridwidth\": 2, \"linecolor\": \"white\", \"showbackground\": true, \"ticks\": \"\", \"zerolinecolor\": \"white\"}}, \"shapedefaults\": {\"line\": {\"color\": \"#2a3f5f\"}}, \"ternary\": {\"aaxis\": {\"gridcolor\": \"white\", \"linecolor\": \"white\", \"ticks\": \"\"}, \"baxis\": {\"gridcolor\": \"white\", \"linecolor\": \"white\", \"ticks\": \"\"}, \"bgcolor\": \"#E5ECF6\", \"caxis\": {\"gridcolor\": \"white\", \"linecolor\": \"white\", \"ticks\": \"\"}}, \"title\": {\"x\": 0.05}, \"xaxis\": {\"automargin\": true, \"gridcolor\": \"white\", \"linecolor\": \"white\", \"ticks\": \"\", \"title\": {\"standoff\": 15}, \"zerolinecolor\": \"white\", \"zerolinewidth\": 2}, \"yaxis\": {\"automargin\": true, \"gridcolor\": \"white\", \"linecolor\": \"white\", \"ticks\": \"\", \"title\": {\"standoff\": 15}, \"zerolinecolor\": \"white\", \"zerolinewidth\": 2}}}, \"title\": {\"text\": \"Title Sentiment\"}},\n",
       "                        {\"responsive\": true}\n",
       "                    ).then(function(){\n",
       "                            \n",
       "var gd = document.getElementById('693e8a4f-aa51-40fa-8284-c60b0dcf5cfc');\n",
       "var x = new MutationObserver(function (mutations, observer) {{\n",
       "        var display = window.getComputedStyle(gd).display;\n",
       "        if (!display || display === 'none') {{\n",
       "            console.log([gd, 'removed!']);\n",
       "            Plotly.purge(gd);\n",
       "            observer.disconnect();\n",
       "        }}\n",
       "}});\n",
       "\n",
       "// Listen for the removal of the full notebook cells\n",
       "var notebookContainer = gd.closest('#notebook-container');\n",
       "if (notebookContainer) {{\n",
       "    x.observe(notebookContainer, {childList: true});\n",
       "}}\n",
       "\n",
       "// Listen for the clearing of the current output cell\n",
       "var outputEl = gd.closest('.output');\n",
       "if (outputEl) {{\n",
       "    x.observe(outputEl, {childList: true});\n",
       "}}\n",
       "\n",
       "                        })\n",
       "                };\n",
       "                });\n",
       "            </script>\n",
       "        </div>"
      ]
     },
     "metadata": {},
     "output_type": "display_data"
    }
   ],
   "source": [
    "def graph_sentiment(text, score, graph_title):\n",
    "    x = text\n",
    "    y = [d.get('neg') for d in score]\n",
    "    y1 = [d.get('neu') for d in score]\n",
    "    y2 = [d.get('pos') for d in score]\n",
    "    y3 = [d.get('compound') for d in score]\n",
    "\n",
    "    fig = go.Figure(go.Bar(x=x, y=y, name='Negative', marker_color='#EE7674'))\n",
    "    fig.add_trace(go.Bar(x=x, y=y1, name='Neutral', marker_color='#247BA0'))\n",
    "    fig.add_trace(go.Bar(x=x, y=y2, name='Positive'))\n",
    "    fig.add_trace(go.Bar(x=x, y=y3, name='Compound'))\n",
    "\n",
    "    fig.update_layout(barmode='stack', title=graph_title)\n",
    "    fig.show()\n",
    "\n",
    "\n",
    "graph_sentiment(news_df['title'], news_df['title_score'], 'Title Sentiment')"
   ]
  },
  {
   "cell_type": "code",
   "execution_count": 94,
   "metadata": {},
   "outputs": [
    {
     "data": {
      "application/vnd.plotly.v1+json": {
       "config": {
        "plotlyServerURL": "https://plot.ly"
       },
       "data": [
        {
         "marker": {
          "color": "#EE7674"
         },
         "name": "Negative",
         "type": "bar",
         "x": [
          "",
          "The words \"bear market\" and \"recession\" are being used with increasing frequency as investors try to assess how badly the coronavirus outbreak will damage global growth and to what extent it could further weigh on asset prices.",
          "Bitcoin price continues to look bearish, yet activity and investing interest continues to grow. Analysts are optimistic about the market recovering",
          "There’s nothing worse than not having enough toilet paper when you need some, so it’s always a good idea to have some extra rolls stored up.",
          "OSHU informed its employees over the weekend that a patient had tested as a presumptive positive for COVID-19.",
          "Wash. Your. Hands.",
          "In the spirit of saving money, United Airlines has announced that it has altered its Schedule Change policy",
          "Publix supermarkets are limiting the amount of hand soaps, hand sanitizers and other items that customers can buy because of increased demand.",
          "There are now 13 cases of the novel coronavirus in Massachusetts, most of related to a Biogen management meeting at a Marriott hotel in Boston",
          "",
          "\"The Kremlin has decided to sacrifice OPEC+ to stop U.S. shale producers and punish the U.S. for messing with Nord Stream 2,\" Alexander Dynkin told Bloomberg.",
          "CNN's Brian Stelter examines the media's coverage of the novel coronavirus outbreak and President Donald Trump's response to it.",
          "As coronavirus concerns cause various problems among cruise ships, one company is offering incentives for travelers to still take their voyages.",
          "Corrections, even bear markets, create opportunities for patient investors. Stock prices may still face selling pressure, but here are the facts.",
          "Costco's decision comes after Trader Joe's changed how its employees distribute food samples.",
          "“If the virus isn’t contained in the next two months, it could have a long-term negative impact on the music scene in Israel, and the arts landscape in general,” said a music industry insider.",
          "Bad news for the East Coast Elites. Amtrak announced that it will be suspending non-stop Acela service between Washington, D.C., and New York City for the next few months due to decreased demand caused by panic over the coronavirus. “As we are experiencing so…",
          "If you’ve visited your local grocery or drug store in search of hand sanitizer over the past few weeks you’ve probably run into problems. Coronavirus concerns have caused hand sanitizer to be sold out almost everywhere, which had led to a number of people to …",
          "As the coronavirus scare barrels through the travel industry, forcing cancellations of business trips, meetings, events, and vacations, demand for air travel has taken a nose dive. \n Usually, when demand falls, so do prices. But so far in this crisis, we've n…",
          "The closure happened during the Warren store's liquidation sale, as all the Art Van stores prepare for an abrupt shut down.",
          "The coronavirus’ grip on the market continues. Since the beginning of February, the S&P 500 has shed 8.5% of its value, a reflection of the effect the outbreak is having on the global economy. Amidst the bloodbath, one specific group of stocks is holding up. …",
          "Researchers say sleeping on the job can be a good thing; a mid-afternoon nap has been found to improve performance, cognition and memory",
          "Today in Cord Cutting This Week #286 we talk about: Cheaper Hulu With Live TV Plans? AT&T’s $15 TV Service, & More. Story #1 Sling TV is Free for New and Returning Customers Through March 15 https://www.cordcuttersnews.com/sling-tv-is-free-for-new-and-returni…",
          "News, analysis and comment from the Financial Times, the worldʼs leading global business publication",
          "A version of this story first appeared in CNN Business' Before the Bell newsletter. Not a subscriber? You can sign up right here.",
          "One Seattle-area bank says the Fed's abrupt move to lower interest rates by half a percentage point may instead lend \"credence to the kind of panic\" reminiscent of 2008.",
          "",
          "Finally, some good news for the cannabidiol industry.",
          "As the confirmed number of US coronavirus cases rises to 437, with 19 deaths, anxious shoppers across the country woke up early Saturday to hit stores to hoard bottled water and toilet paper.",
          "The Environmental Protection Agency’s (EPA) latest rewrite of its science transparency rule may be even more restrictive than the last one, scientists say, expanding the reach of a rule that limits consideration of studies that don’t make their underlying dat…",
          "Coronavirus has sent airline shares tumbling. Is now a good time to buy in?",
          "Despite the current state of market uncertainty, now is a time to look at past market turmoil for our queues.",
          "<ul><li>While the opinion did not mention President Trump or claims of improper influence, Amazon (NASDAQ:<a href='https://seekingalpha.com/symbol/AMZN' title='Amazon.com, Inc.'>AMZN</a>) is likely to show that Microsoft’s (NASDAQ:<a href='https://seekingalph…",
          "",
          "Supermarket begins rationing some food and household items amid signs customers are stockpiling goods.",
          "The Oracle of Omaha has given some words of wisdom on exactly what you should do.",
          "Early retirement can be a mixed bag.",
          "Through the first two months of the year, Hawaii tourism had experienced only slight coronavirus dampening. February’s daily domestic passenger count rose to 409,334, an 11,288-­person gain over the same month in 2019, while the daily international passenger …",
          "The Powerball results and winners from last night's drawing, plus how to play the lottery and how the jackpot is calculated.",
          "A new Tesla Giga Berlin rendering overlayed on a satellite 3D view of the Grunheide property provides a strong digital representation of Elon Musk’s massive electric vehicle factory to come. Emil Senkel, hailed by German local publications as one of the most …",
          "Mortgage rates hit record lows as the coronavirus spreads to the U.S. With another rate cut priced in and the spread continuing more downside is expected.",
          "Whatever you do, do NOT tell Lieutenant Dan he's not a bunny. Wait until you see him in a pair of bunny ears, rooting through a basket of pastel eggs. You may just believe he's the real thing.",
          "MUMBAI - The founder of India's Yes Bank was arrested on allegations of money laundering Sunday, amid efforts to formulate a rescue plan for the country's fourth-largest private lender.",
          "We have a light economic calendar with little insight into recent events.  That is all that Mr. Market cares about.Last week's trading involved wild swings that exaggerated relatively modest news.  The result was a small gain, which was lost in the noise.Econ…",
          "Dreaming of long weekdays on the golf course before your 50th birthday? Here's a plan to get you there.",
          "In a News 8 exclusive interview, one Connecticut woman shares her worries for her grandmother who is aboard a cruise ship where 21 people have tested positive for the coronavirus.",
          "As policies for generating stability continue to droop, markets will turn to non-governmental options for stability, like Bitcoin.",
          "The Cats is in the bag. John Catsimatidis has settled on his next business venture — paper bags. The Gristedes billionaire is looking to build a factory in upstate New York to produce them in respo…",
          "According to a statement from law firm Danks and Danks, Donahue has been harassed by co-workers in the days since the incident occured.",
          "Many big tech companies have come out and said that they will pay their hourly employees during the coronavirus outbreak even if there are reduced staffing needs. This comes as many of the companies are asking their full-time employees to work from home.",
          "According to a leaked internal memo first obtained by aero.de the German flag carrier Lufthansa will ground all 14 of its Airbus A380 superjumbos until at least the end of May. The temporary suspension may continue into June and possibly even longer depending…",
          "<ul><li>China’s exports <a href=\"http://www.customs.gov.cn/customs/xwfb34/302425/2879133/index.html\" target=\"_blank\">plunged 17.2%</a> in Jan./Feb. 2020 on the back of a coronavirus epidemic that forced businesses to suspend operations, according to official …",
          "New Jersey drivers are seeing lower prices at the pump in recent days.",
          "The company says it will cover COVID-19 screening tests ordered by a medical professional, when medically necessary and appropriate, at no cost.",
          "(CNN) – Dairy Queen is turning 80 and wants to celebrate with you! The ice cream shop is offering buy-one-get-one blizzards for just 80 cents. The deal continues until March 15.",
          "Coronavirus concerns has many people rushing stores to gather cleaning essentials, forcing one of the most popular grocery stores in the area to enforce a purchase limit.",
          "Forty-two Minnesotans are among those quarantined on the Grand Princess cruise ship off the coast of California where 21 people on board have tested positive for the coronavirus.",
          "Guests on a Carnival cruise ship in Long Beach were cleared to disembark Saturday night after a passenger fell ill and underwent testing for the coronavirus.",
          "Licking open containers of Blue Bell ice cream and sticking them back on freezer shelves was a fleeting fad in the summer of 2019 that delighted viral fame chasers and enraged law enforcement.\r\n\nNow one of the lickers who got caught will serve jail time and p…",
          "Times and locations for regional semifinals as the field narrows.",
          "",
          "The largest one-day decline for oil since 2014 pushed 13 stocks in the S&P 500 energy sector down by double digits",
          "Africa now has more than 600 active technology hubs, with facilities and support for digital entrepreneurs. Twitter, Google, Microsoft and other tech giants are starting to act.",
          "Merger with public sector bank ruled out",
          "A Starbucks employee in Seattle — where the global coffee giant was founded in 1971 — has been diagnosed with Coronavirus, causing the store where he worked to close, the company said F…",
          "In search of a new favorite barbecue stop? Hoodline crunched the numbers to find the top restaurants serving such fare around Irvine, using both Yelp data and our own secret sauce to produce a ranked list of the best spots to venture next time you're on the h…",
          "Attorney General Mark Brnovich wants consumers to watch out for scammers trying to capitalize on the public’s concern regarding the coronavirus.",
          "It says it's taken down hundreds of thousands of highly priced products.",
          "ExxonMobil held its investor day at the New York Stock Exchange last week, where its CEO, Darren Woods, dismissed carbon targets as a \"beauty match\"",
          "When it comes to paying extra for travel insurance, we typically err on the side of skipping it. And it’s not because we’re exceedingly confident that all your trips will go exactly as planned—it’s just that unless you’re taking a long, international trip, yo…"
         ],
         "y": [
          0,
          0.142,
          0,
          0,
          0,
          0,
          0,
          0.054,
          0,
          0,
          0.189,
          0,
          0.113,
          0.07,
          0,
          0.107,
          0.168,
          0.054,
          0.236,
          0,
          0,
          0,
          0.039,
          0,
          0,
          0.171,
          0,
          0,
          0.058,
          0,
          0,
          0.224,
          0,
          0,
          0,
          0,
          0,
          0,
          0,
          0,
          0.212,
          0,
          0.094,
          0.08,
          0,
          0.084,
          0,
          0,
          0.143,
          0.032,
          0.053,
          0.194,
          0.155,
          0.099,
          0,
          0,
          0,
          0.107,
          0.051,
          0,
          0,
          0,
          0,
          0,
          0,
          0.041,
          0,
          0,
          0,
          0
         ]
        },
        {
         "marker": {
          "color": "#247BA0"
         },
         "name": "Neutral",
         "type": "bar",
         "x": [
          "",
          "The words \"bear market\" and \"recession\" are being used with increasing frequency as investors try to assess how badly the coronavirus outbreak will damage global growth and to what extent it could further weigh on asset prices.",
          "Bitcoin price continues to look bearish, yet activity and investing interest continues to grow. Analysts are optimistic about the market recovering",
          "There’s nothing worse than not having enough toilet paper when you need some, so it’s always a good idea to have some extra rolls stored up.",
          "OSHU informed its employees over the weekend that a patient had tested as a presumptive positive for COVID-19.",
          "Wash. Your. Hands.",
          "In the spirit of saving money, United Airlines has announced that it has altered its Schedule Change policy",
          "Publix supermarkets are limiting the amount of hand soaps, hand sanitizers and other items that customers can buy because of increased demand.",
          "There are now 13 cases of the novel coronavirus in Massachusetts, most of related to a Biogen management meeting at a Marriott hotel in Boston",
          "",
          "\"The Kremlin has decided to sacrifice OPEC+ to stop U.S. shale producers and punish the U.S. for messing with Nord Stream 2,\" Alexander Dynkin told Bloomberg.",
          "CNN's Brian Stelter examines the media's coverage of the novel coronavirus outbreak and President Donald Trump's response to it.",
          "As coronavirus concerns cause various problems among cruise ships, one company is offering incentives for travelers to still take their voyages.",
          "Corrections, even bear markets, create opportunities for patient investors. Stock prices may still face selling pressure, but here are the facts.",
          "Costco's decision comes after Trader Joe's changed how its employees distribute food samples.",
          "“If the virus isn’t contained in the next two months, it could have a long-term negative impact on the music scene in Israel, and the arts landscape in general,” said a music industry insider.",
          "Bad news for the East Coast Elites. Amtrak announced that it will be suspending non-stop Acela service between Washington, D.C., and New York City for the next few months due to decreased demand caused by panic over the coronavirus. “As we are experiencing so…",
          "If you’ve visited your local grocery or drug store in search of hand sanitizer over the past few weeks you’ve probably run into problems. Coronavirus concerns have caused hand sanitizer to be sold out almost everywhere, which had led to a number of people to …",
          "As the coronavirus scare barrels through the travel industry, forcing cancellations of business trips, meetings, events, and vacations, demand for air travel has taken a nose dive. \n Usually, when demand falls, so do prices. But so far in this crisis, we've n…",
          "The closure happened during the Warren store's liquidation sale, as all the Art Van stores prepare for an abrupt shut down.",
          "The coronavirus’ grip on the market continues. Since the beginning of February, the S&P 500 has shed 8.5% of its value, a reflection of the effect the outbreak is having on the global economy. Amidst the bloodbath, one specific group of stocks is holding up. …",
          "Researchers say sleeping on the job can be a good thing; a mid-afternoon nap has been found to improve performance, cognition and memory",
          "Today in Cord Cutting This Week #286 we talk about: Cheaper Hulu With Live TV Plans? AT&T’s $15 TV Service, & More. Story #1 Sling TV is Free for New and Returning Customers Through March 15 https://www.cordcuttersnews.com/sling-tv-is-free-for-new-and-returni…",
          "News, analysis and comment from the Financial Times, the worldʼs leading global business publication",
          "A version of this story first appeared in CNN Business' Before the Bell newsletter. Not a subscriber? You can sign up right here.",
          "One Seattle-area bank says the Fed's abrupt move to lower interest rates by half a percentage point may instead lend \"credence to the kind of panic\" reminiscent of 2008.",
          "",
          "Finally, some good news for the cannabidiol industry.",
          "As the confirmed number of US coronavirus cases rises to 437, with 19 deaths, anxious shoppers across the country woke up early Saturday to hit stores to hoard bottled water and toilet paper.",
          "The Environmental Protection Agency’s (EPA) latest rewrite of its science transparency rule may be even more restrictive than the last one, scientists say, expanding the reach of a rule that limits consideration of studies that don’t make their underlying dat…",
          "Coronavirus has sent airline shares tumbling. Is now a good time to buy in?",
          "Despite the current state of market uncertainty, now is a time to look at past market turmoil for our queues.",
          "<ul><li>While the opinion did not mention President Trump or claims of improper influence, Amazon (NASDAQ:<a href='https://seekingalpha.com/symbol/AMZN' title='Amazon.com, Inc.'>AMZN</a>) is likely to show that Microsoft’s (NASDAQ:<a href='https://seekingalph…",
          "",
          "Supermarket begins rationing some food and household items amid signs customers are stockpiling goods.",
          "The Oracle of Omaha has given some words of wisdom on exactly what you should do.",
          "Early retirement can be a mixed bag.",
          "Through the first two months of the year, Hawaii tourism had experienced only slight coronavirus dampening. February’s daily domestic passenger count rose to 409,334, an 11,288-­person gain over the same month in 2019, while the daily international passenger …",
          "The Powerball results and winners from last night's drawing, plus how to play the lottery and how the jackpot is calculated.",
          "A new Tesla Giga Berlin rendering overlayed on a satellite 3D view of the Grunheide property provides a strong digital representation of Elon Musk’s massive electric vehicle factory to come. Emil Senkel, hailed by German local publications as one of the most …",
          "Mortgage rates hit record lows as the coronavirus spreads to the U.S. With another rate cut priced in and the spread continuing more downside is expected.",
          "Whatever you do, do NOT tell Lieutenant Dan he's not a bunny. Wait until you see him in a pair of bunny ears, rooting through a basket of pastel eggs. You may just believe he's the real thing.",
          "MUMBAI - The founder of India's Yes Bank was arrested on allegations of money laundering Sunday, amid efforts to formulate a rescue plan for the country's fourth-largest private lender.",
          "We have a light economic calendar with little insight into recent events.  That is all that Mr. Market cares about.Last week's trading involved wild swings that exaggerated relatively modest news.  The result was a small gain, which was lost in the noise.Econ…",
          "Dreaming of long weekdays on the golf course before your 50th birthday? Here's a plan to get you there.",
          "In a News 8 exclusive interview, one Connecticut woman shares her worries for her grandmother who is aboard a cruise ship where 21 people have tested positive for the coronavirus.",
          "As policies for generating stability continue to droop, markets will turn to non-governmental options for stability, like Bitcoin.",
          "The Cats is in the bag. John Catsimatidis has settled on his next business venture — paper bags. The Gristedes billionaire is looking to build a factory in upstate New York to produce them in respo…",
          "According to a statement from law firm Danks and Danks, Donahue has been harassed by co-workers in the days since the incident occured.",
          "Many big tech companies have come out and said that they will pay their hourly employees during the coronavirus outbreak even if there are reduced staffing needs. This comes as many of the companies are asking their full-time employees to work from home.",
          "According to a leaked internal memo first obtained by aero.de the German flag carrier Lufthansa will ground all 14 of its Airbus A380 superjumbos until at least the end of May. The temporary suspension may continue into June and possibly even longer depending…",
          "<ul><li>China’s exports <a href=\"http://www.customs.gov.cn/customs/xwfb34/302425/2879133/index.html\" target=\"_blank\">plunged 17.2%</a> in Jan./Feb. 2020 on the back of a coronavirus epidemic that forced businesses to suspend operations, according to official …",
          "New Jersey drivers are seeing lower prices at the pump in recent days.",
          "The company says it will cover COVID-19 screening tests ordered by a medical professional, when medically necessary and appropriate, at no cost.",
          "(CNN) – Dairy Queen is turning 80 and wants to celebrate with you! The ice cream shop is offering buy-one-get-one blizzards for just 80 cents. The deal continues until March 15.",
          "Coronavirus concerns has many people rushing stores to gather cleaning essentials, forcing one of the most popular grocery stores in the area to enforce a purchase limit.",
          "Forty-two Minnesotans are among those quarantined on the Grand Princess cruise ship off the coast of California where 21 people on board have tested positive for the coronavirus.",
          "Guests on a Carnival cruise ship in Long Beach were cleared to disembark Saturday night after a passenger fell ill and underwent testing for the coronavirus.",
          "Licking open containers of Blue Bell ice cream and sticking them back on freezer shelves was a fleeting fad in the summer of 2019 that delighted viral fame chasers and enraged law enforcement.\r\n\nNow one of the lickers who got caught will serve jail time and p…",
          "Times and locations for regional semifinals as the field narrows.",
          "",
          "The largest one-day decline for oil since 2014 pushed 13 stocks in the S&P 500 energy sector down by double digits",
          "Africa now has more than 600 active technology hubs, with facilities and support for digital entrepreneurs. Twitter, Google, Microsoft and other tech giants are starting to act.",
          "Merger with public sector bank ruled out",
          "A Starbucks employee in Seattle — where the global coffee giant was founded in 1971 — has been diagnosed with Coronavirus, causing the store where he worked to close, the company said F…",
          "In search of a new favorite barbecue stop? Hoodline crunched the numbers to find the top restaurants serving such fare around Irvine, using both Yelp data and our own secret sauce to produce a ranked list of the best spots to venture next time you're on the h…",
          "Attorney General Mark Brnovich wants consumers to watch out for scammers trying to capitalize on the public’s concern regarding the coronavirus.",
          "It says it's taken down hundreds of thousands of highly priced products.",
          "ExxonMobil held its investor day at the New York Stock Exchange last week, where its CEO, Darren Woods, dismissed carbon targets as a \"beauty match\"",
          "When it comes to paying extra for travel insurance, we typically err on the side of skipping it. And it’s not because we’re exceedingly confident that all your trips will go exactly as planned—it’s just that unless you’re taking a long, international trip, yo…"
         ],
         "y": [
          0,
          0.743,
          0.782,
          0.801,
          0.806,
          1,
          0.78,
          0.643,
          0.905,
          0,
          0.811,
          0.887,
          0.792,
          0.784,
          1,
          0.893,
          0.832,
          0.794,
          0.764,
          1,
          0.947,
          0.766,
          0.876,
          1,
          1,
          0.74,
          0,
          0.707,
          0.904,
          0.972,
          0.683,
          0.776,
          0.936,
          0,
          1,
          0.815,
          1,
          0.916,
          0.776,
          0.877,
          0.788,
          1,
          0.725,
          0.781,
          1,
          0.663,
          0.872,
          1,
          0.857,
          0.968,
          0.947,
          0.806,
          0.845,
          0.901,
          0.879,
          0.89,
          0.798,
          0.84,
          0.795,
          1,
          0,
          0.905,
          0.815,
          1,
          1,
          0.789,
          1,
          1,
          0.858,
          0.929
         ]
        },
        {
         "name": "Positive",
         "type": "bar",
         "x": [
          "",
          "The words \"bear market\" and \"recession\" are being used with increasing frequency as investors try to assess how badly the coronavirus outbreak will damage global growth and to what extent it could further weigh on asset prices.",
          "Bitcoin price continues to look bearish, yet activity and investing interest continues to grow. Analysts are optimistic about the market recovering",
          "There’s nothing worse than not having enough toilet paper when you need some, so it’s always a good idea to have some extra rolls stored up.",
          "OSHU informed its employees over the weekend that a patient had tested as a presumptive positive for COVID-19.",
          "Wash. Your. Hands.",
          "In the spirit of saving money, United Airlines has announced that it has altered its Schedule Change policy",
          "Publix supermarkets are limiting the amount of hand soaps, hand sanitizers and other items that customers can buy because of increased demand.",
          "There are now 13 cases of the novel coronavirus in Massachusetts, most of related to a Biogen management meeting at a Marriott hotel in Boston",
          "",
          "\"The Kremlin has decided to sacrifice OPEC+ to stop U.S. shale producers and punish the U.S. for messing with Nord Stream 2,\" Alexander Dynkin told Bloomberg.",
          "CNN's Brian Stelter examines the media's coverage of the novel coronavirus outbreak and President Donald Trump's response to it.",
          "As coronavirus concerns cause various problems among cruise ships, one company is offering incentives for travelers to still take their voyages.",
          "Corrections, even bear markets, create opportunities for patient investors. Stock prices may still face selling pressure, but here are the facts.",
          "Costco's decision comes after Trader Joe's changed how its employees distribute food samples.",
          "“If the virus isn’t contained in the next two months, it could have a long-term negative impact on the music scene in Israel, and the arts landscape in general,” said a music industry insider.",
          "Bad news for the East Coast Elites. Amtrak announced that it will be suspending non-stop Acela service between Washington, D.C., and New York City for the next few months due to decreased demand caused by panic over the coronavirus. “As we are experiencing so…",
          "If you’ve visited your local grocery or drug store in search of hand sanitizer over the past few weeks you’ve probably run into problems. Coronavirus concerns have caused hand sanitizer to be sold out almost everywhere, which had led to a number of people to …",
          "As the coronavirus scare barrels through the travel industry, forcing cancellations of business trips, meetings, events, and vacations, demand for air travel has taken a nose dive. \n Usually, when demand falls, so do prices. But so far in this crisis, we've n…",
          "The closure happened during the Warren store's liquidation sale, as all the Art Van stores prepare for an abrupt shut down.",
          "The coronavirus’ grip on the market continues. Since the beginning of February, the S&P 500 has shed 8.5% of its value, a reflection of the effect the outbreak is having on the global economy. Amidst the bloodbath, one specific group of stocks is holding up. …",
          "Researchers say sleeping on the job can be a good thing; a mid-afternoon nap has been found to improve performance, cognition and memory",
          "Today in Cord Cutting This Week #286 we talk about: Cheaper Hulu With Live TV Plans? AT&T’s $15 TV Service, & More. Story #1 Sling TV is Free for New and Returning Customers Through March 15 https://www.cordcuttersnews.com/sling-tv-is-free-for-new-and-returni…",
          "News, analysis and comment from the Financial Times, the worldʼs leading global business publication",
          "A version of this story first appeared in CNN Business' Before the Bell newsletter. Not a subscriber? You can sign up right here.",
          "One Seattle-area bank says the Fed's abrupt move to lower interest rates by half a percentage point may instead lend \"credence to the kind of panic\" reminiscent of 2008.",
          "",
          "Finally, some good news for the cannabidiol industry.",
          "As the confirmed number of US coronavirus cases rises to 437, with 19 deaths, anxious shoppers across the country woke up early Saturday to hit stores to hoard bottled water and toilet paper.",
          "The Environmental Protection Agency’s (EPA) latest rewrite of its science transparency rule may be even more restrictive than the last one, scientists say, expanding the reach of a rule that limits consideration of studies that don’t make their underlying dat…",
          "Coronavirus has sent airline shares tumbling. Is now a good time to buy in?",
          "Despite the current state of market uncertainty, now is a time to look at past market turmoil for our queues.",
          "<ul><li>While the opinion did not mention President Trump or claims of improper influence, Amazon (NASDAQ:<a href='https://seekingalpha.com/symbol/AMZN' title='Amazon.com, Inc.'>AMZN</a>) is likely to show that Microsoft’s (NASDAQ:<a href='https://seekingalph…",
          "",
          "Supermarket begins rationing some food and household items amid signs customers are stockpiling goods.",
          "The Oracle of Omaha has given some words of wisdom on exactly what you should do.",
          "Early retirement can be a mixed bag.",
          "Through the first two months of the year, Hawaii tourism had experienced only slight coronavirus dampening. February’s daily domestic passenger count rose to 409,334, an 11,288-­person gain over the same month in 2019, while the daily international passenger …",
          "The Powerball results and winners from last night's drawing, plus how to play the lottery and how the jackpot is calculated.",
          "A new Tesla Giga Berlin rendering overlayed on a satellite 3D view of the Grunheide property provides a strong digital representation of Elon Musk’s massive electric vehicle factory to come. Emil Senkel, hailed by German local publications as one of the most …",
          "Mortgage rates hit record lows as the coronavirus spreads to the U.S. With another rate cut priced in and the spread continuing more downside is expected.",
          "Whatever you do, do NOT tell Lieutenant Dan he's not a bunny. Wait until you see him in a pair of bunny ears, rooting through a basket of pastel eggs. You may just believe he's the real thing.",
          "MUMBAI - The founder of India's Yes Bank was arrested on allegations of money laundering Sunday, amid efforts to formulate a rescue plan for the country's fourth-largest private lender.",
          "We have a light economic calendar with little insight into recent events.  That is all that Mr. Market cares about.Last week's trading involved wild swings that exaggerated relatively modest news.  The result was a small gain, which was lost in the noise.Econ…",
          "Dreaming of long weekdays on the golf course before your 50th birthday? Here's a plan to get you there.",
          "In a News 8 exclusive interview, one Connecticut woman shares her worries for her grandmother who is aboard a cruise ship where 21 people have tested positive for the coronavirus.",
          "As policies for generating stability continue to droop, markets will turn to non-governmental options for stability, like Bitcoin.",
          "The Cats is in the bag. John Catsimatidis has settled on his next business venture — paper bags. The Gristedes billionaire is looking to build a factory in upstate New York to produce them in respo…",
          "According to a statement from law firm Danks and Danks, Donahue has been harassed by co-workers in the days since the incident occured.",
          "Many big tech companies have come out and said that they will pay their hourly employees during the coronavirus outbreak even if there are reduced staffing needs. This comes as many of the companies are asking their full-time employees to work from home.",
          "According to a leaked internal memo first obtained by aero.de the German flag carrier Lufthansa will ground all 14 of its Airbus A380 superjumbos until at least the end of May. The temporary suspension may continue into June and possibly even longer depending…",
          "<ul><li>China’s exports <a href=\"http://www.customs.gov.cn/customs/xwfb34/302425/2879133/index.html\" target=\"_blank\">plunged 17.2%</a> in Jan./Feb. 2020 on the back of a coronavirus epidemic that forced businesses to suspend operations, according to official …",
          "New Jersey drivers are seeing lower prices at the pump in recent days.",
          "The company says it will cover COVID-19 screening tests ordered by a medical professional, when medically necessary and appropriate, at no cost.",
          "(CNN) – Dairy Queen is turning 80 and wants to celebrate with you! The ice cream shop is offering buy-one-get-one blizzards for just 80 cents. The deal continues until March 15.",
          "Coronavirus concerns has many people rushing stores to gather cleaning essentials, forcing one of the most popular grocery stores in the area to enforce a purchase limit.",
          "Forty-two Minnesotans are among those quarantined on the Grand Princess cruise ship off the coast of California where 21 people on board have tested positive for the coronavirus.",
          "Guests on a Carnival cruise ship in Long Beach were cleared to disembark Saturday night after a passenger fell ill and underwent testing for the coronavirus.",
          "Licking open containers of Blue Bell ice cream and sticking them back on freezer shelves was a fleeting fad in the summer of 2019 that delighted viral fame chasers and enraged law enforcement.\r\n\nNow one of the lickers who got caught will serve jail time and p…",
          "Times and locations for regional semifinals as the field narrows.",
          "",
          "The largest one-day decline for oil since 2014 pushed 13 stocks in the S&P 500 energy sector down by double digits",
          "Africa now has more than 600 active technology hubs, with facilities and support for digital entrepreneurs. Twitter, Google, Microsoft and other tech giants are starting to act.",
          "Merger with public sector bank ruled out",
          "A Starbucks employee in Seattle — where the global coffee giant was founded in 1971 — has been diagnosed with Coronavirus, causing the store where he worked to close, the company said F…",
          "In search of a new favorite barbecue stop? Hoodline crunched the numbers to find the top restaurants serving such fare around Irvine, using both Yelp data and our own secret sauce to produce a ranked list of the best spots to venture next time you're on the h…",
          "Attorney General Mark Brnovich wants consumers to watch out for scammers trying to capitalize on the public’s concern regarding the coronavirus.",
          "It says it's taken down hundreds of thousands of highly priced products.",
          "ExxonMobil held its investor day at the New York Stock Exchange last week, where its CEO, Darren Woods, dismissed carbon targets as a \"beauty match\"",
          "When it comes to paying extra for travel insurance, we typically err on the side of skipping it. And it’s not because we’re exceedingly confident that all your trips will go exactly as planned—it’s just that unless you’re taking a long, international trip, yo…"
         ],
         "y": [
          0,
          0.115,
          0.218,
          0.199,
          0.194,
          0,
          0.22,
          0.304,
          0.095,
          0,
          0,
          0.113,
          0.096,
          0.146,
          0,
          0,
          0,
          0.153,
          0,
          0,
          0.053,
          0.234,
          0.085,
          0,
          0,
          0.089,
          0,
          0.293,
          0.038,
          0.028,
          0.317,
          0,
          0.064,
          0,
          0,
          0.185,
          0,
          0.084,
          0.224,
          0.123,
          0,
          0,
          0.181,
          0.139,
          0,
          0.253,
          0.128,
          0,
          0,
          0,
          0,
          0,
          0,
          0,
          0.121,
          0.11,
          0.202,
          0.053,
          0.153,
          0,
          0,
          0.095,
          0.185,
          0,
          0,
          0.169,
          0,
          0,
          0.142,
          0.071
         ]
        },
        {
         "name": "Compound",
         "type": "bar",
         "x": [
          "",
          "The words \"bear market\" and \"recession\" are being used with increasing frequency as investors try to assess how badly the coronavirus outbreak will damage global growth and to what extent it could further weigh on asset prices.",
          "Bitcoin price continues to look bearish, yet activity and investing interest continues to grow. Analysts are optimistic about the market recovering",
          "There’s nothing worse than not having enough toilet paper when you need some, so it’s always a good idea to have some extra rolls stored up.",
          "OSHU informed its employees over the weekend that a patient had tested as a presumptive positive for COVID-19.",
          "Wash. Your. Hands.",
          "In the spirit of saving money, United Airlines has announced that it has altered its Schedule Change policy",
          "Publix supermarkets are limiting the amount of hand soaps, hand sanitizers and other items that customers can buy because of increased demand.",
          "There are now 13 cases of the novel coronavirus in Massachusetts, most of related to a Biogen management meeting at a Marriott hotel in Boston",
          "",
          "\"The Kremlin has decided to sacrifice OPEC+ to stop U.S. shale producers and punish the U.S. for messing with Nord Stream 2,\" Alexander Dynkin told Bloomberg.",
          "CNN's Brian Stelter examines the media's coverage of the novel coronavirus outbreak and President Donald Trump's response to it.",
          "As coronavirus concerns cause various problems among cruise ships, one company is offering incentives for travelers to still take their voyages.",
          "Corrections, even bear markets, create opportunities for patient investors. Stock prices may still face selling pressure, but here are the facts.",
          "Costco's decision comes after Trader Joe's changed how its employees distribute food samples.",
          "“If the virus isn’t contained in the next two months, it could have a long-term negative impact on the music scene in Israel, and the arts landscape in general,” said a music industry insider.",
          "Bad news for the East Coast Elites. Amtrak announced that it will be suspending non-stop Acela service between Washington, D.C., and New York City for the next few months due to decreased demand caused by panic over the coronavirus. “As we are experiencing so…",
          "If you’ve visited your local grocery or drug store in search of hand sanitizer over the past few weeks you’ve probably run into problems. Coronavirus concerns have caused hand sanitizer to be sold out almost everywhere, which had led to a number of people to …",
          "As the coronavirus scare barrels through the travel industry, forcing cancellations of business trips, meetings, events, and vacations, demand for air travel has taken a nose dive. \n Usually, when demand falls, so do prices. But so far in this crisis, we've n…",
          "The closure happened during the Warren store's liquidation sale, as all the Art Van stores prepare for an abrupt shut down.",
          "The coronavirus’ grip on the market continues. Since the beginning of February, the S&P 500 has shed 8.5% of its value, a reflection of the effect the outbreak is having on the global economy. Amidst the bloodbath, one specific group of stocks is holding up. …",
          "Researchers say sleeping on the job can be a good thing; a mid-afternoon nap has been found to improve performance, cognition and memory",
          "Today in Cord Cutting This Week #286 we talk about: Cheaper Hulu With Live TV Plans? AT&T’s $15 TV Service, & More. Story #1 Sling TV is Free for New and Returning Customers Through March 15 https://www.cordcuttersnews.com/sling-tv-is-free-for-new-and-returni…",
          "News, analysis and comment from the Financial Times, the worldʼs leading global business publication",
          "A version of this story first appeared in CNN Business' Before the Bell newsletter. Not a subscriber? You can sign up right here.",
          "One Seattle-area bank says the Fed's abrupt move to lower interest rates by half a percentage point may instead lend \"credence to the kind of panic\" reminiscent of 2008.",
          "",
          "Finally, some good news for the cannabidiol industry.",
          "As the confirmed number of US coronavirus cases rises to 437, with 19 deaths, anxious shoppers across the country woke up early Saturday to hit stores to hoard bottled water and toilet paper.",
          "The Environmental Protection Agency’s (EPA) latest rewrite of its science transparency rule may be even more restrictive than the last one, scientists say, expanding the reach of a rule that limits consideration of studies that don’t make their underlying dat…",
          "Coronavirus has sent airline shares tumbling. Is now a good time to buy in?",
          "Despite the current state of market uncertainty, now is a time to look at past market turmoil for our queues.",
          "<ul><li>While the opinion did not mention President Trump or claims of improper influence, Amazon (NASDAQ:<a href='https://seekingalpha.com/symbol/AMZN' title='Amazon.com, Inc.'>AMZN</a>) is likely to show that Microsoft’s (NASDAQ:<a href='https://seekingalph…",
          "",
          "Supermarket begins rationing some food and household items amid signs customers are stockpiling goods.",
          "The Oracle of Omaha has given some words of wisdom on exactly what you should do.",
          "Early retirement can be a mixed bag.",
          "Through the first two months of the year, Hawaii tourism had experienced only slight coronavirus dampening. February’s daily domestic passenger count rose to 409,334, an 11,288-­person gain over the same month in 2019, while the daily international passenger …",
          "The Powerball results and winners from last night's drawing, plus how to play the lottery and how the jackpot is calculated.",
          "A new Tesla Giga Berlin rendering overlayed on a satellite 3D view of the Grunheide property provides a strong digital representation of Elon Musk’s massive electric vehicle factory to come. Emil Senkel, hailed by German local publications as one of the most …",
          "Mortgage rates hit record lows as the coronavirus spreads to the U.S. With another rate cut priced in and the spread continuing more downside is expected.",
          "Whatever you do, do NOT tell Lieutenant Dan he's not a bunny. Wait until you see him in a pair of bunny ears, rooting through a basket of pastel eggs. You may just believe he's the real thing.",
          "MUMBAI - The founder of India's Yes Bank was arrested on allegations of money laundering Sunday, amid efforts to formulate a rescue plan for the country's fourth-largest private lender.",
          "We have a light economic calendar with little insight into recent events.  That is all that Mr. Market cares about.Last week's trading involved wild swings that exaggerated relatively modest news.  The result was a small gain, which was lost in the noise.Econ…",
          "Dreaming of long weekdays on the golf course before your 50th birthday? Here's a plan to get you there.",
          "In a News 8 exclusive interview, one Connecticut woman shares her worries for her grandmother who is aboard a cruise ship where 21 people have tested positive for the coronavirus.",
          "As policies for generating stability continue to droop, markets will turn to non-governmental options for stability, like Bitcoin.",
          "The Cats is in the bag. John Catsimatidis has settled on his next business venture — paper bags. The Gristedes billionaire is looking to build a factory in upstate New York to produce them in respo…",
          "According to a statement from law firm Danks and Danks, Donahue has been harassed by co-workers in the days since the incident occured.",
          "Many big tech companies have come out and said that they will pay their hourly employees during the coronavirus outbreak even if there are reduced staffing needs. This comes as many of the companies are asking their full-time employees to work from home.",
          "According to a leaked internal memo first obtained by aero.de the German flag carrier Lufthansa will ground all 14 of its Airbus A380 superjumbos until at least the end of May. The temporary suspension may continue into June and possibly even longer depending…",
          "<ul><li>China’s exports <a href=\"http://www.customs.gov.cn/customs/xwfb34/302425/2879133/index.html\" target=\"_blank\">plunged 17.2%</a> in Jan./Feb. 2020 on the back of a coronavirus epidemic that forced businesses to suspend operations, according to official …",
          "New Jersey drivers are seeing lower prices at the pump in recent days.",
          "The company says it will cover COVID-19 screening tests ordered by a medical professional, when medically necessary and appropriate, at no cost.",
          "(CNN) – Dairy Queen is turning 80 and wants to celebrate with you! The ice cream shop is offering buy-one-get-one blizzards for just 80 cents. The deal continues until March 15.",
          "Coronavirus concerns has many people rushing stores to gather cleaning essentials, forcing one of the most popular grocery stores in the area to enforce a purchase limit.",
          "Forty-two Minnesotans are among those quarantined on the Grand Princess cruise ship off the coast of California where 21 people on board have tested positive for the coronavirus.",
          "Guests on a Carnival cruise ship in Long Beach were cleared to disembark Saturday night after a passenger fell ill and underwent testing for the coronavirus.",
          "Licking open containers of Blue Bell ice cream and sticking them back on freezer shelves was a fleeting fad in the summer of 2019 that delighted viral fame chasers and enraged law enforcement.\r\n\nNow one of the lickers who got caught will serve jail time and p…",
          "Times and locations for regional semifinals as the field narrows.",
          "",
          "The largest one-day decline for oil since 2014 pushed 13 stocks in the S&P 500 energy sector down by double digits",
          "Africa now has more than 600 active technology hubs, with facilities and support for digital entrepreneurs. Twitter, Google, Microsoft and other tech giants are starting to act.",
          "Merger with public sector bank ruled out",
          "A Starbucks employee in Seattle — where the global coffee giant was founded in 1971 — has been diagnosed with Coronavirus, causing the store where he worked to close, the company said F…",
          "In search of a new favorite barbecue stop? Hoodline crunched the numbers to find the top restaurants serving such fare around Irvine, using both Yelp data and our own secret sauce to produce a ranked list of the best spots to venture next time you're on the h…",
          "Attorney General Mark Brnovich wants consumers to watch out for scammers trying to capitalize on the public’s concern regarding the coronavirus.",
          "It says it's taken down hundreds of thousands of highly priced products.",
          "ExxonMobil held its investor day at the New York Stock Exchange last week, where its CEO, Darren Woods, dismissed carbon targets as a \"beauty match\"",
          "When it comes to paying extra for travel insurance, we typically err on the side of skipping it. And it’s not because we’re exceedingly confident that all your trips will go exactly as planned—it’s just that unless you’re taking a long, international trip, yo…"
         ],
         "y": [
          0,
          -0.296,
          0.6486,
          0.6925,
          0.5574,
          0,
          0.5423,
          0.7906,
          0.3182,
          0,
          -0.6808,
          0.3182,
          -0.1027,
          0.1901,
          0,
          -0.5719,
          -0.8074,
          0.6124,
          -0.8863,
          0,
          0.34,
          0.7003,
          0.4215,
          0,
          0,
          -0.4201,
          0,
          0.4404,
          -0.1779,
          0.0258,
          0.6249,
          -0.5994,
          0.1779,
          0,
          0,
          0.5267,
          0,
          0.5267,
          0.6705,
          0.6369,
          -0.6361,
          0,
          0.4404,
          0.5719,
          0,
          0.5574,
          0.3612,
          0,
          -0.5423,
          -0.1027,
          -0.3182,
          -0.6486,
          -0.296,
          -0.296,
          0.6114,
          0.4754,
          0.765,
          -0.34,
          0.6597,
          0,
          0,
          0.2732,
          0.6872,
          0,
          0,
          0.7783,
          0,
          0,
          0.5859,
          0.4939
         ]
        }
       ],
       "layout": {
        "barmode": "stack",
        "template": {
         "data": {
          "bar": [
           {
            "error_x": {
             "color": "#2a3f5f"
            },
            "error_y": {
             "color": "#2a3f5f"
            },
            "marker": {
             "line": {
              "color": "#E5ECF6",
              "width": 0.5
             }
            },
            "type": "bar"
           }
          ],
          "barpolar": [
           {
            "marker": {
             "line": {
              "color": "#E5ECF6",
              "width": 0.5
             }
            },
            "type": "barpolar"
           }
          ],
          "carpet": [
           {
            "aaxis": {
             "endlinecolor": "#2a3f5f",
             "gridcolor": "white",
             "linecolor": "white",
             "minorgridcolor": "white",
             "startlinecolor": "#2a3f5f"
            },
            "baxis": {
             "endlinecolor": "#2a3f5f",
             "gridcolor": "white",
             "linecolor": "white",
             "minorgridcolor": "white",
             "startlinecolor": "#2a3f5f"
            },
            "type": "carpet"
           }
          ],
          "choropleth": [
           {
            "colorbar": {
             "outlinewidth": 0,
             "ticks": ""
            },
            "type": "choropleth"
           }
          ],
          "contour": [
           {
            "colorbar": {
             "outlinewidth": 0,
             "ticks": ""
            },
            "colorscale": [
             [
              0,
              "#0d0887"
             ],
             [
              0.1111111111111111,
              "#46039f"
             ],
             [
              0.2222222222222222,
              "#7201a8"
             ],
             [
              0.3333333333333333,
              "#9c179e"
             ],
             [
              0.4444444444444444,
              "#bd3786"
             ],
             [
              0.5555555555555556,
              "#d8576b"
             ],
             [
              0.6666666666666666,
              "#ed7953"
             ],
             [
              0.7777777777777778,
              "#fb9f3a"
             ],
             [
              0.8888888888888888,
              "#fdca26"
             ],
             [
              1,
              "#f0f921"
             ]
            ],
            "type": "contour"
           }
          ],
          "contourcarpet": [
           {
            "colorbar": {
             "outlinewidth": 0,
             "ticks": ""
            },
            "type": "contourcarpet"
           }
          ],
          "heatmap": [
           {
            "colorbar": {
             "outlinewidth": 0,
             "ticks": ""
            },
            "colorscale": [
             [
              0,
              "#0d0887"
             ],
             [
              0.1111111111111111,
              "#46039f"
             ],
             [
              0.2222222222222222,
              "#7201a8"
             ],
             [
              0.3333333333333333,
              "#9c179e"
             ],
             [
              0.4444444444444444,
              "#bd3786"
             ],
             [
              0.5555555555555556,
              "#d8576b"
             ],
             [
              0.6666666666666666,
              "#ed7953"
             ],
             [
              0.7777777777777778,
              "#fb9f3a"
             ],
             [
              0.8888888888888888,
              "#fdca26"
             ],
             [
              1,
              "#f0f921"
             ]
            ],
            "type": "heatmap"
           }
          ],
          "heatmapgl": [
           {
            "colorbar": {
             "outlinewidth": 0,
             "ticks": ""
            },
            "colorscale": [
             [
              0,
              "#0d0887"
             ],
             [
              0.1111111111111111,
              "#46039f"
             ],
             [
              0.2222222222222222,
              "#7201a8"
             ],
             [
              0.3333333333333333,
              "#9c179e"
             ],
             [
              0.4444444444444444,
              "#bd3786"
             ],
             [
              0.5555555555555556,
              "#d8576b"
             ],
             [
              0.6666666666666666,
              "#ed7953"
             ],
             [
              0.7777777777777778,
              "#fb9f3a"
             ],
             [
              0.8888888888888888,
              "#fdca26"
             ],
             [
              1,
              "#f0f921"
             ]
            ],
            "type": "heatmapgl"
           }
          ],
          "histogram": [
           {
            "marker": {
             "colorbar": {
              "outlinewidth": 0,
              "ticks": ""
             }
            },
            "type": "histogram"
           }
          ],
          "histogram2d": [
           {
            "colorbar": {
             "outlinewidth": 0,
             "ticks": ""
            },
            "colorscale": [
             [
              0,
              "#0d0887"
             ],
             [
              0.1111111111111111,
              "#46039f"
             ],
             [
              0.2222222222222222,
              "#7201a8"
             ],
             [
              0.3333333333333333,
              "#9c179e"
             ],
             [
              0.4444444444444444,
              "#bd3786"
             ],
             [
              0.5555555555555556,
              "#d8576b"
             ],
             [
              0.6666666666666666,
              "#ed7953"
             ],
             [
              0.7777777777777778,
              "#fb9f3a"
             ],
             [
              0.8888888888888888,
              "#fdca26"
             ],
             [
              1,
              "#f0f921"
             ]
            ],
            "type": "histogram2d"
           }
          ],
          "histogram2dcontour": [
           {
            "colorbar": {
             "outlinewidth": 0,
             "ticks": ""
            },
            "colorscale": [
             [
              0,
              "#0d0887"
             ],
             [
              0.1111111111111111,
              "#46039f"
             ],
             [
              0.2222222222222222,
              "#7201a8"
             ],
             [
              0.3333333333333333,
              "#9c179e"
             ],
             [
              0.4444444444444444,
              "#bd3786"
             ],
             [
              0.5555555555555556,
              "#d8576b"
             ],
             [
              0.6666666666666666,
              "#ed7953"
             ],
             [
              0.7777777777777778,
              "#fb9f3a"
             ],
             [
              0.8888888888888888,
              "#fdca26"
             ],
             [
              1,
              "#f0f921"
             ]
            ],
            "type": "histogram2dcontour"
           }
          ],
          "mesh3d": [
           {
            "colorbar": {
             "outlinewidth": 0,
             "ticks": ""
            },
            "type": "mesh3d"
           }
          ],
          "parcoords": [
           {
            "line": {
             "colorbar": {
              "outlinewidth": 0,
              "ticks": ""
             }
            },
            "type": "parcoords"
           }
          ],
          "pie": [
           {
            "automargin": true,
            "type": "pie"
           }
          ],
          "scatter": [
           {
            "marker": {
             "colorbar": {
              "outlinewidth": 0,
              "ticks": ""
             }
            },
            "type": "scatter"
           }
          ],
          "scatter3d": [
           {
            "line": {
             "colorbar": {
              "outlinewidth": 0,
              "ticks": ""
             }
            },
            "marker": {
             "colorbar": {
              "outlinewidth": 0,
              "ticks": ""
             }
            },
            "type": "scatter3d"
           }
          ],
          "scattercarpet": [
           {
            "marker": {
             "colorbar": {
              "outlinewidth": 0,
              "ticks": ""
             }
            },
            "type": "scattercarpet"
           }
          ],
          "scattergeo": [
           {
            "marker": {
             "colorbar": {
              "outlinewidth": 0,
              "ticks": ""
             }
            },
            "type": "scattergeo"
           }
          ],
          "scattergl": [
           {
            "marker": {
             "colorbar": {
              "outlinewidth": 0,
              "ticks": ""
             }
            },
            "type": "scattergl"
           }
          ],
          "scattermapbox": [
           {
            "marker": {
             "colorbar": {
              "outlinewidth": 0,
              "ticks": ""
             }
            },
            "type": "scattermapbox"
           }
          ],
          "scatterpolar": [
           {
            "marker": {
             "colorbar": {
              "outlinewidth": 0,
              "ticks": ""
             }
            },
            "type": "scatterpolar"
           }
          ],
          "scatterpolargl": [
           {
            "marker": {
             "colorbar": {
              "outlinewidth": 0,
              "ticks": ""
             }
            },
            "type": "scatterpolargl"
           }
          ],
          "scatterternary": [
           {
            "marker": {
             "colorbar": {
              "outlinewidth": 0,
              "ticks": ""
             }
            },
            "type": "scatterternary"
           }
          ],
          "surface": [
           {
            "colorbar": {
             "outlinewidth": 0,
             "ticks": ""
            },
            "colorscale": [
             [
              0,
              "#0d0887"
             ],
             [
              0.1111111111111111,
              "#46039f"
             ],
             [
              0.2222222222222222,
              "#7201a8"
             ],
             [
              0.3333333333333333,
              "#9c179e"
             ],
             [
              0.4444444444444444,
              "#bd3786"
             ],
             [
              0.5555555555555556,
              "#d8576b"
             ],
             [
              0.6666666666666666,
              "#ed7953"
             ],
             [
              0.7777777777777778,
              "#fb9f3a"
             ],
             [
              0.8888888888888888,
              "#fdca26"
             ],
             [
              1,
              "#f0f921"
             ]
            ],
            "type": "surface"
           }
          ],
          "table": [
           {
            "cells": {
             "fill": {
              "color": "#EBF0F8"
             },
             "line": {
              "color": "white"
             }
            },
            "header": {
             "fill": {
              "color": "#C8D4E3"
             },
             "line": {
              "color": "white"
             }
            },
            "type": "table"
           }
          ]
         },
         "layout": {
          "annotationdefaults": {
           "arrowcolor": "#2a3f5f",
           "arrowhead": 0,
           "arrowwidth": 1
          },
          "coloraxis": {
           "colorbar": {
            "outlinewidth": 0,
            "ticks": ""
           }
          },
          "colorscale": {
           "diverging": [
            [
             0,
             "#8e0152"
            ],
            [
             0.1,
             "#c51b7d"
            ],
            [
             0.2,
             "#de77ae"
            ],
            [
             0.3,
             "#f1b6da"
            ],
            [
             0.4,
             "#fde0ef"
            ],
            [
             0.5,
             "#f7f7f7"
            ],
            [
             0.6,
             "#e6f5d0"
            ],
            [
             0.7,
             "#b8e186"
            ],
            [
             0.8,
             "#7fbc41"
            ],
            [
             0.9,
             "#4d9221"
            ],
            [
             1,
             "#276419"
            ]
           ],
           "sequential": [
            [
             0,
             "#0d0887"
            ],
            [
             0.1111111111111111,
             "#46039f"
            ],
            [
             0.2222222222222222,
             "#7201a8"
            ],
            [
             0.3333333333333333,
             "#9c179e"
            ],
            [
             0.4444444444444444,
             "#bd3786"
            ],
            [
             0.5555555555555556,
             "#d8576b"
            ],
            [
             0.6666666666666666,
             "#ed7953"
            ],
            [
             0.7777777777777778,
             "#fb9f3a"
            ],
            [
             0.8888888888888888,
             "#fdca26"
            ],
            [
             1,
             "#f0f921"
            ]
           ],
           "sequentialminus": [
            [
             0,
             "#0d0887"
            ],
            [
             0.1111111111111111,
             "#46039f"
            ],
            [
             0.2222222222222222,
             "#7201a8"
            ],
            [
             0.3333333333333333,
             "#9c179e"
            ],
            [
             0.4444444444444444,
             "#bd3786"
            ],
            [
             0.5555555555555556,
             "#d8576b"
            ],
            [
             0.6666666666666666,
             "#ed7953"
            ],
            [
             0.7777777777777778,
             "#fb9f3a"
            ],
            [
             0.8888888888888888,
             "#fdca26"
            ],
            [
             1,
             "#f0f921"
            ]
           ]
          },
          "colorway": [
           "#636efa",
           "#EF553B",
           "#00cc96",
           "#ab63fa",
           "#FFA15A",
           "#19d3f3",
           "#FF6692",
           "#B6E880",
           "#FF97FF",
           "#FECB52"
          ],
          "font": {
           "color": "#2a3f5f"
          },
          "geo": {
           "bgcolor": "white",
           "lakecolor": "white",
           "landcolor": "#E5ECF6",
           "showlakes": true,
           "showland": true,
           "subunitcolor": "white"
          },
          "hoverlabel": {
           "align": "left"
          },
          "hovermode": "closest",
          "mapbox": {
           "style": "light"
          },
          "paper_bgcolor": "white",
          "plot_bgcolor": "#E5ECF6",
          "polar": {
           "angularaxis": {
            "gridcolor": "white",
            "linecolor": "white",
            "ticks": ""
           },
           "bgcolor": "#E5ECF6",
           "radialaxis": {
            "gridcolor": "white",
            "linecolor": "white",
            "ticks": ""
           }
          },
          "scene": {
           "xaxis": {
            "backgroundcolor": "#E5ECF6",
            "gridcolor": "white",
            "gridwidth": 2,
            "linecolor": "white",
            "showbackground": true,
            "ticks": "",
            "zerolinecolor": "white"
           },
           "yaxis": {
            "backgroundcolor": "#E5ECF6",
            "gridcolor": "white",
            "gridwidth": 2,
            "linecolor": "white",
            "showbackground": true,
            "ticks": "",
            "zerolinecolor": "white"
           },
           "zaxis": {
            "backgroundcolor": "#E5ECF6",
            "gridcolor": "white",
            "gridwidth": 2,
            "linecolor": "white",
            "showbackground": true,
            "ticks": "",
            "zerolinecolor": "white"
           }
          },
          "shapedefaults": {
           "line": {
            "color": "#2a3f5f"
           }
          },
          "ternary": {
           "aaxis": {
            "gridcolor": "white",
            "linecolor": "white",
            "ticks": ""
           },
           "baxis": {
            "gridcolor": "white",
            "linecolor": "white",
            "ticks": ""
           },
           "bgcolor": "#E5ECF6",
           "caxis": {
            "gridcolor": "white",
            "linecolor": "white",
            "ticks": ""
           }
          },
          "title": {
           "x": 0.05
          },
          "xaxis": {
           "automargin": true,
           "gridcolor": "white",
           "linecolor": "white",
           "ticks": "",
           "title": {
            "standoff": 15
           },
           "zerolinecolor": "white",
           "zerolinewidth": 2
          },
          "yaxis": {
           "automargin": true,
           "gridcolor": "white",
           "linecolor": "white",
           "ticks": "",
           "title": {
            "standoff": 15
           },
           "zerolinecolor": "white",
           "zerolinewidth": 2
          }
         }
        },
        "title": {
         "text": "Description Sentiment"
        }
       }
      },
      "text/html": [
       "<div>\n",
       "        \n",
       "        \n",
       "            <div id=\"d2684dd9-84d7-46de-af07-df0b7e524ba1\" class=\"plotly-graph-div\" style=\"height:525px; width:100%;\"></div>\n",
       "            <script type=\"text/javascript\">\n",
       "                require([\"plotly\"], function(Plotly) {\n",
       "                    window.PLOTLYENV=window.PLOTLYENV || {};\n",
       "                    \n",
       "                if (document.getElementById(\"d2684dd9-84d7-46de-af07-df0b7e524ba1\")) {\n",
       "                    Plotly.newPlot(\n",
       "                        'd2684dd9-84d7-46de-af07-df0b7e524ba1',\n",
       "                        [{\"marker\": {\"color\": \"#EE7674\"}, \"name\": \"Negative\", \"type\": \"bar\", \"x\": [\"\", \"The words \\\"bear market\\\" and \\\"recession\\\" are being used with increasing frequency as investors try to assess how badly the coronavirus outbreak will damage global growth and to what extent it could further weigh on asset prices.\", \"Bitcoin price continues to look bearish, yet activity and investing interest continues to grow. Analysts are optimistic about the market recovering\", \"There\\u2019s nothing worse than not having enough toilet paper when you need some, so it\\u2019s always a good idea to have some extra rolls stored up.\", \"OSHU informed its employees over the weekend that a patient had tested as a presumptive positive for COVID-19.\", \"Wash. Your. Hands.\", \"In the spirit of saving money, United Airlines has announced that it has altered its Schedule Change policy\", \"Publix supermarkets are limiting the amount of hand soaps, hand sanitizers and other items that customers can buy because of increased demand.\", \"There are now 13 cases of the novel coronavirus in Massachusetts, most of related to a Biogen management meeting at a Marriott hotel in Boston\", \"\", \"\\\"The Kremlin has decided to sacrifice OPEC+ to stop U.S. shale producers and punish the U.S. for messing with Nord Stream 2,\\\" Alexander Dynkin told Bloomberg.\", \"CNN's Brian Stelter examines the media's coverage of the novel coronavirus outbreak and President Donald Trump's response to it.\", \"As coronavirus concerns cause various problems among cruise ships, one company is offering incentives for travelers to still take their voyages.\", \"Corrections, even bear markets, create opportunities for patient investors. Stock prices may still face selling pressure, but here are the facts.\", \"Costco's decision comes after Trader Joe's changed how its employees distribute\\u00a0food\\u00a0samples.\", \"\\u201cIf the virus isn\\u2019t contained in the next two months, it could have a long-term negative impact on the music scene in Israel, and the arts landscape in general,\\u201d said a music industry insider.\", \"Bad news for the East Coast Elites. Amtrak announced that it will be suspending non-stop Acela service between Washington, D.C., and New York City for the next few months due to decreased demand caused by panic over the coronavirus. \\u201cAs we are experiencing so\\u2026\", \"If you\\u2019ve visited your local grocery or drug store in search of hand sanitizer over the past few weeks you\\u2019ve probably run into problems. Coronavirus concerns have caused hand sanitizer to be sold out almost everywhere, which had led to a number of people to \\u2026\", \"As the coronavirus scare barrels through the travel industry, forcing cancellations of business trips, meetings, events, and vacations, demand for air travel has taken a nose dive. \\n Usually, when demand falls, so do prices. But so far in this crisis, we've n\\u2026\", \"The closure happened during the Warren store's liquidation sale, as all the Art Van stores prepare for an abrupt shut down.\", \"The coronavirus\\u2019 grip on the market continues. Since the beginning of February, the S&P 500 has shed 8.5% of its value, a reflection of the effect the outbreak is having on the global economy. Amidst the bloodbath, one specific group of stocks is holding up. \\u2026\", \"Researchers say sleeping on the job can be a good thing; a mid-afternoon nap has been found to improve performance, cognition and memory\", \"Today in Cord Cutting This Week #286 we talk about: Cheaper Hulu With Live TV Plans? AT&T\\u2019s $15 TV Service, & More. Story #1 Sling TV is Free for New and Returning Customers Through March 15 https://www.cordcuttersnews.com/sling-tv-is-free-for-new-and-returni\\u2026\", \"News, analysis and comment from the Financial Times, the world\\u02bcs leading global business publication\", \"A version of this story first appeared in CNN Business' Before the Bell newsletter. Not a subscriber? You can sign up right here.\", \"One Seattle-area bank says the Fed's abrupt move to lower interest rates by half a percentage point may instead lend \\\"credence to the kind of panic\\\" reminiscent of 2008.\", \"\", \"Finally, some good news for the cannabidiol industry.\", \"As the confirmed number of US coronavirus cases rises to 437, with 19 deaths, anxious shoppers across the country woke up early Saturday to hit stores to hoard bottled water and toilet paper.\", \"The Environmental Protection Agency\\u2019s (EPA) latest rewrite of its science transparency rule may be even more restrictive than the last one, scientists say, expanding the reach of a rule that limits consideration of studies that don\\u2019t make their underlying dat\\u2026\", \"Coronavirus has sent airline shares tumbling. Is now a good time to buy in?\", \"Despite the current state of market uncertainty, now is a time to look at past market turmoil for our queues.\", \"<ul><li>While the opinion did not mention President Trump or claims of improper influence, Amazon (NASDAQ:<a href='https://seekingalpha.com/symbol/AMZN' title='Amazon.com, Inc.'>AMZN</a>) is likely to show that Microsoft\\u2019s (NASDAQ:<a href='https://seekingalph\\u2026\", \"\", \"Supermarket begins rationing some food and household items amid signs customers are stockpiling goods.\", \"The Oracle of Omaha has given some words of wisdom on exactly what you should do.\", \"Early retirement can be a mixed bag.\", \"Through the first two months of the year, Hawaii tourism had experienced only slight coronavirus dampening. February\\u2019s daily domestic passenger count rose to 409,334, an 11,288-\\u00adperson gain over the same month in 2019, while the daily international passenger \\u2026\", \"The Powerball results and winners from last night's drawing, plus how to play the lottery and how the jackpot is calculated.\", \"A new Tesla Giga Berlin rendering overlayed on a satellite 3D view of the Grunheide property provides a strong digital representation of Elon Musk\\u2019s massive electric vehicle factory to come. Emil Senkel, hailed by German local publications as one of the most \\u2026\", \"Mortgage rates hit record lows as the coronavirus spreads to the U.S. With another rate cut priced in and the spread continuing more downside is expected.\", \"Whatever you do, do NOT tell Lieutenant Dan he's not a bunny. Wait until you see him in a pair of bunny ears, rooting through a basket of pastel eggs. You may just believe he's the real thing.\", \"MUMBAI - The founder of India's Yes Bank was arrested on allegations of money laundering Sunday, amid efforts to formulate a rescue plan for the country's fourth-largest private lender.\", \"We have a light economic calendar with little insight into recent events.\\u00a0 That is all that Mr. Market cares about.Last week's trading involved wild swings that exaggerated relatively modest news.\\u00a0 The result was a small gain, which was lost in the noise.Econ\\u2026\", \"Dreaming of long weekdays on the golf course before your 50th birthday? Here's a plan to get you there.\", \"In a News 8 exclusive interview, one Connecticut woman shares her worries for her grandmother who is aboard a cruise ship where 21 people have tested positive for the coronavirus.\", \"As policies for generating stability continue to droop, markets will turn to non-governmental options for stability, like Bitcoin.\", \"The Cats is in the bag. John Catsimatidis has settled on his next business venture \\u2014 paper bags. The Gristedes billionaire is looking to build a factory in upstate New York to produce them in respo\\u2026\", \"According to a statement from law firm Danks and Danks, Donahue has been harassed by co-workers in the days since the incident occured.\", \"Many big tech companies have come out and said that they will pay their hourly employees during the coronavirus outbreak even if there are reduced staffing needs. This comes as many of the companies are asking their full-time employees to work from home.\", \"According to a leaked internal memo first obtained by aero.de the German flag carrier Lufthansa will ground all 14 of its Airbus A380 superjumbos until at least the end of May. The temporary suspension may continue into June and possibly even longer depending\\u2026\", \"<ul><li>China\\u2019s exports <a href=\\\"http://www.customs.gov.cn/customs/xwfb34/302425/2879133/index.html\\\" target=\\\"_blank\\\">plunged 17.2%</a> in Jan./Feb. 2020 on the back of a coronavirus epidemic that forced businesses to suspend operations, according to official \\u2026\", \"New Jersey drivers are seeing lower prices at the pump in recent days.\", \"The company says it will cover COVID-19 screening tests ordered by a medical professional, when medically necessary and appropriate, at no cost.\", \"(CNN) \\u2013 Dairy Queen is turning 80 and wants to celebrate with you! The ice cream shop is offering buy-one-get-one blizzards for just 80 cents. The deal continues until March 15.\", \"Coronavirus concerns has many people rushing stores to gather cleaning essentials, forcing one of the most popular grocery stores in the area to enforce a purchase limit.\", \"Forty-two Minnesotans are among those quarantined on the Grand Princess cruise ship off the coast of California where 21 people on board have tested positive for the coronavirus.\", \"Guests on a Carnival cruise ship in Long Beach were cleared to disembark Saturday night after a passenger fell ill and underwent testing for the coronavirus.\", \"Licking open containers of Blue Bell ice cream\\u00a0and sticking them back on freezer shelves was a fleeting fad in the summer of 2019 that delighted viral fame chasers and enraged law enforcement.\\r\\n\\nNow one of the lickers who got caught will serve jail time and p\\u2026\", \"Times and locations for regional semifinals as the field narrows.\", \"\", \"The largest one-day decline for oil since 2014 pushed 13 stocks in the S&P 500 energy sector down by double digits\", \"Africa now has more than 600 active technology hubs, with facilities and support for digital entrepreneurs. Twitter, Google, Microsoft and other tech giants are starting to act.\", \"Merger with public sector bank ruled out\", \"A Starbucks employee in Seattle \\u2014 where the global coffee giant was founded in 1971 \\u2014 has been diagnosed with Coronavirus, causing the store where he worked to close, the company said F\\u2026\", \"In search of a new favorite barbecue stop? Hoodline crunched the numbers to find the top restaurants serving such fare around Irvine, using both Yelp data and our own secret sauce to produce a ranked list of the best spots to venture next time you're on the h\\u2026\", \"Attorney General Mark Brnovich wants consumers to watch out for scammers\\u00a0trying to capitalize on the public\\u2019s\\u00a0concern regarding the coronavirus.\", \"It says it's taken down hundreds of thousands of highly priced products.\", \"ExxonMobil held its investor day at the New York Stock Exchange last week, where its CEO, Darren Woods, dismissed carbon targets as a \\\"beauty match\\\"\", \"When it comes to paying extra for travel insurance, we typically err on the side of skipping it. And it\\u2019s not because we\\u2019re exceedingly confident that all your trips will go exactly as planned\\u2014it\\u2019s just that unless you\\u2019re taking a long, international trip, yo\\u2026\"], \"y\": [0, 0.142, 0.0, 0.0, 0.0, 0.0, 0.0, 0.054, 0.0, 0.0, 0.189, 0.0, 0.113, 0.07, 0.0, 0.107, 0.168, 0.054, 0.236, 0.0, 0.0, 0.0, 0.039, 0.0, 0.0, 0.171, 0.0, 0.0, 0.058, 0.0, 0.0, 0.224, 0.0, 0, 0.0, 0.0, 0.0, 0.0, 0.0, 0.0, 0.212, 0.0, 0.094, 0.08, 0.0, 0.084, 0.0, 0.0, 0.143, 0.032, 0.053, 0.194, 0.155, 0.099, 0.0, 0.0, 0.0, 0.107, 0.051, 0.0, 0, 0.0, 0.0, 0.0, 0.0, 0.041, 0.0, 0.0, 0.0, 0.0]}, {\"marker\": {\"color\": \"#247BA0\"}, \"name\": \"Neutral\", \"type\": \"bar\", \"x\": [\"\", \"The words \\\"bear market\\\" and \\\"recession\\\" are being used with increasing frequency as investors try to assess how badly the coronavirus outbreak will damage global growth and to what extent it could further weigh on asset prices.\", \"Bitcoin price continues to look bearish, yet activity and investing interest continues to grow. Analysts are optimistic about the market recovering\", \"There\\u2019s nothing worse than not having enough toilet paper when you need some, so it\\u2019s always a good idea to have some extra rolls stored up.\", \"OSHU informed its employees over the weekend that a patient had tested as a presumptive positive for COVID-19.\", \"Wash. Your. Hands.\", \"In the spirit of saving money, United Airlines has announced that it has altered its Schedule Change policy\", \"Publix supermarkets are limiting the amount of hand soaps, hand sanitizers and other items that customers can buy because of increased demand.\", \"There are now 13 cases of the novel coronavirus in Massachusetts, most of related to a Biogen management meeting at a Marriott hotel in Boston\", \"\", \"\\\"The Kremlin has decided to sacrifice OPEC+ to stop U.S. shale producers and punish the U.S. for messing with Nord Stream 2,\\\" Alexander Dynkin told Bloomberg.\", \"CNN's Brian Stelter examines the media's coverage of the novel coronavirus outbreak and President Donald Trump's response to it.\", \"As coronavirus concerns cause various problems among cruise ships, one company is offering incentives for travelers to still take their voyages.\", \"Corrections, even bear markets, create opportunities for patient investors. Stock prices may still face selling pressure, but here are the facts.\", \"Costco's decision comes after Trader Joe's changed how its employees distribute\\u00a0food\\u00a0samples.\", \"\\u201cIf the virus isn\\u2019t contained in the next two months, it could have a long-term negative impact on the music scene in Israel, and the arts landscape in general,\\u201d said a music industry insider.\", \"Bad news for the East Coast Elites. Amtrak announced that it will be suspending non-stop Acela service between Washington, D.C., and New York City for the next few months due to decreased demand caused by panic over the coronavirus. \\u201cAs we are experiencing so\\u2026\", \"If you\\u2019ve visited your local grocery or drug store in search of hand sanitizer over the past few weeks you\\u2019ve probably run into problems. Coronavirus concerns have caused hand sanitizer to be sold out almost everywhere, which had led to a number of people to \\u2026\", \"As the coronavirus scare barrels through the travel industry, forcing cancellations of business trips, meetings, events, and vacations, demand for air travel has taken a nose dive. \\n Usually, when demand falls, so do prices. But so far in this crisis, we've n\\u2026\", \"The closure happened during the Warren store's liquidation sale, as all the Art Van stores prepare for an abrupt shut down.\", \"The coronavirus\\u2019 grip on the market continues. Since the beginning of February, the S&P 500 has shed 8.5% of its value, a reflection of the effect the outbreak is having on the global economy. Amidst the bloodbath, one specific group of stocks is holding up. \\u2026\", \"Researchers say sleeping on the job can be a good thing; a mid-afternoon nap has been found to improve performance, cognition and memory\", \"Today in Cord Cutting This Week #286 we talk about: Cheaper Hulu With Live TV Plans? AT&T\\u2019s $15 TV Service, & More. Story #1 Sling TV is Free for New and Returning Customers Through March 15 https://www.cordcuttersnews.com/sling-tv-is-free-for-new-and-returni\\u2026\", \"News, analysis and comment from the Financial Times, the world\\u02bcs leading global business publication\", \"A version of this story first appeared in CNN Business' Before the Bell newsletter. Not a subscriber? You can sign up right here.\", \"One Seattle-area bank says the Fed's abrupt move to lower interest rates by half a percentage point may instead lend \\\"credence to the kind of panic\\\" reminiscent of 2008.\", \"\", \"Finally, some good news for the cannabidiol industry.\", \"As the confirmed number of US coronavirus cases rises to 437, with 19 deaths, anxious shoppers across the country woke up early Saturday to hit stores to hoard bottled water and toilet paper.\", \"The Environmental Protection Agency\\u2019s (EPA) latest rewrite of its science transparency rule may be even more restrictive than the last one, scientists say, expanding the reach of a rule that limits consideration of studies that don\\u2019t make their underlying dat\\u2026\", \"Coronavirus has sent airline shares tumbling. Is now a good time to buy in?\", \"Despite the current state of market uncertainty, now is a time to look at past market turmoil for our queues.\", \"<ul><li>While the opinion did not mention President Trump or claims of improper influence, Amazon (NASDAQ:<a href='https://seekingalpha.com/symbol/AMZN' title='Amazon.com, Inc.'>AMZN</a>) is likely to show that Microsoft\\u2019s (NASDAQ:<a href='https://seekingalph\\u2026\", \"\", \"Supermarket begins rationing some food and household items amid signs customers are stockpiling goods.\", \"The Oracle of Omaha has given some words of wisdom on exactly what you should do.\", \"Early retirement can be a mixed bag.\", \"Through the first two months of the year, Hawaii tourism had experienced only slight coronavirus dampening. February\\u2019s daily domestic passenger count rose to 409,334, an 11,288-\\u00adperson gain over the same month in 2019, while the daily international passenger \\u2026\", \"The Powerball results and winners from last night's drawing, plus how to play the lottery and how the jackpot is calculated.\", \"A new Tesla Giga Berlin rendering overlayed on a satellite 3D view of the Grunheide property provides a strong digital representation of Elon Musk\\u2019s massive electric vehicle factory to come. Emil Senkel, hailed by German local publications as one of the most \\u2026\", \"Mortgage rates hit record lows as the coronavirus spreads to the U.S. With another rate cut priced in and the spread continuing more downside is expected.\", \"Whatever you do, do NOT tell Lieutenant Dan he's not a bunny. Wait until you see him in a pair of bunny ears, rooting through a basket of pastel eggs. You may just believe he's the real thing.\", \"MUMBAI - The founder of India's Yes Bank was arrested on allegations of money laundering Sunday, amid efforts to formulate a rescue plan for the country's fourth-largest private lender.\", \"We have a light economic calendar with little insight into recent events.\\u00a0 That is all that Mr. Market cares about.Last week's trading involved wild swings that exaggerated relatively modest news.\\u00a0 The result was a small gain, which was lost in the noise.Econ\\u2026\", \"Dreaming of long weekdays on the golf course before your 50th birthday? Here's a plan to get you there.\", \"In a News 8 exclusive interview, one Connecticut woman shares her worries for her grandmother who is aboard a cruise ship where 21 people have tested positive for the coronavirus.\", \"As policies for generating stability continue to droop, markets will turn to non-governmental options for stability, like Bitcoin.\", \"The Cats is in the bag. John Catsimatidis has settled on his next business venture \\u2014 paper bags. The Gristedes billionaire is looking to build a factory in upstate New York to produce them in respo\\u2026\", \"According to a statement from law firm Danks and Danks, Donahue has been harassed by co-workers in the days since the incident occured.\", \"Many big tech companies have come out and said that they will pay their hourly employees during the coronavirus outbreak even if there are reduced staffing needs. This comes as many of the companies are asking their full-time employees to work from home.\", \"According to a leaked internal memo first obtained by aero.de the German flag carrier Lufthansa will ground all 14 of its Airbus A380 superjumbos until at least the end of May. The temporary suspension may continue into June and possibly even longer depending\\u2026\", \"<ul><li>China\\u2019s exports <a href=\\\"http://www.customs.gov.cn/customs/xwfb34/302425/2879133/index.html\\\" target=\\\"_blank\\\">plunged 17.2%</a> in Jan./Feb. 2020 on the back of a coronavirus epidemic that forced businesses to suspend operations, according to official \\u2026\", \"New Jersey drivers are seeing lower prices at the pump in recent days.\", \"The company says it will cover COVID-19 screening tests ordered by a medical professional, when medically necessary and appropriate, at no cost.\", \"(CNN) \\u2013 Dairy Queen is turning 80 and wants to celebrate with you! The ice cream shop is offering buy-one-get-one blizzards for just 80 cents. The deal continues until March 15.\", \"Coronavirus concerns has many people rushing stores to gather cleaning essentials, forcing one of the most popular grocery stores in the area to enforce a purchase limit.\", \"Forty-two Minnesotans are among those quarantined on the Grand Princess cruise ship off the coast of California where 21 people on board have tested positive for the coronavirus.\", \"Guests on a Carnival cruise ship in Long Beach were cleared to disembark Saturday night after a passenger fell ill and underwent testing for the coronavirus.\", \"Licking open containers of Blue Bell ice cream\\u00a0and sticking them back on freezer shelves was a fleeting fad in the summer of 2019 that delighted viral fame chasers and enraged law enforcement.\\r\\n\\nNow one of the lickers who got caught will serve jail time and p\\u2026\", \"Times and locations for regional semifinals as the field narrows.\", \"\", \"The largest one-day decline for oil since 2014 pushed 13 stocks in the S&P 500 energy sector down by double digits\", \"Africa now has more than 600 active technology hubs, with facilities and support for digital entrepreneurs. Twitter, Google, Microsoft and other tech giants are starting to act.\", \"Merger with public sector bank ruled out\", \"A Starbucks employee in Seattle \\u2014 where the global coffee giant was founded in 1971 \\u2014 has been diagnosed with Coronavirus, causing the store where he worked to close, the company said F\\u2026\", \"In search of a new favorite barbecue stop? Hoodline crunched the numbers to find the top restaurants serving such fare around Irvine, using both Yelp data and our own secret sauce to produce a ranked list of the best spots to venture next time you're on the h\\u2026\", \"Attorney General Mark Brnovich wants consumers to watch out for scammers\\u00a0trying to capitalize on the public\\u2019s\\u00a0concern regarding the coronavirus.\", \"It says it's taken down hundreds of thousands of highly priced products.\", \"ExxonMobil held its investor day at the New York Stock Exchange last week, where its CEO, Darren Woods, dismissed carbon targets as a \\\"beauty match\\\"\", \"When it comes to paying extra for travel insurance, we typically err on the side of skipping it. And it\\u2019s not because we\\u2019re exceedingly confident that all your trips will go exactly as planned\\u2014it\\u2019s just that unless you\\u2019re taking a long, international trip, yo\\u2026\"], \"y\": [0, 0.743, 0.782, 0.801, 0.806, 1.0, 0.78, 0.643, 0.905, 0.0, 0.811, 0.887, 0.792, 0.784, 1.0, 0.893, 0.832, 0.794, 0.764, 1.0, 0.947, 0.766, 0.876, 1.0, 1.0, 0.74, 0.0, 0.707, 0.904, 0.972, 0.683, 0.776, 0.936, 0, 1.0, 0.815, 1.0, 0.916, 0.776, 0.877, 0.788, 1.0, 0.725, 0.781, 1.0, 0.663, 0.872, 1.0, 0.857, 0.968, 0.947, 0.806, 0.845, 0.901, 0.879, 0.89, 0.798, 0.84, 0.795, 1.0, 0, 0.905, 0.815, 1.0, 1.0, 0.789, 1.0, 1.0, 0.858, 0.929]}, {\"name\": \"Positive\", \"type\": \"bar\", \"x\": [\"\", \"The words \\\"bear market\\\" and \\\"recession\\\" are being used with increasing frequency as investors try to assess how badly the coronavirus outbreak will damage global growth and to what extent it could further weigh on asset prices.\", \"Bitcoin price continues to look bearish, yet activity and investing interest continues to grow. Analysts are optimistic about the market recovering\", \"There\\u2019s nothing worse than not having enough toilet paper when you need some, so it\\u2019s always a good idea to have some extra rolls stored up.\", \"OSHU informed its employees over the weekend that a patient had tested as a presumptive positive for COVID-19.\", \"Wash. Your. Hands.\", \"In the spirit of saving money, United Airlines has announced that it has altered its Schedule Change policy\", \"Publix supermarkets are limiting the amount of hand soaps, hand sanitizers and other items that customers can buy because of increased demand.\", \"There are now 13 cases of the novel coronavirus in Massachusetts, most of related to a Biogen management meeting at a Marriott hotel in Boston\", \"\", \"\\\"The Kremlin has decided to sacrifice OPEC+ to stop U.S. shale producers and punish the U.S. for messing with Nord Stream 2,\\\" Alexander Dynkin told Bloomberg.\", \"CNN's Brian Stelter examines the media's coverage of the novel coronavirus outbreak and President Donald Trump's response to it.\", \"As coronavirus concerns cause various problems among cruise ships, one company is offering incentives for travelers to still take their voyages.\", \"Corrections, even bear markets, create opportunities for patient investors. Stock prices may still face selling pressure, but here are the facts.\", \"Costco's decision comes after Trader Joe's changed how its employees distribute\\u00a0food\\u00a0samples.\", \"\\u201cIf the virus isn\\u2019t contained in the next two months, it could have a long-term negative impact on the music scene in Israel, and the arts landscape in general,\\u201d said a music industry insider.\", \"Bad news for the East Coast Elites. Amtrak announced that it will be suspending non-stop Acela service between Washington, D.C., and New York City for the next few months due to decreased demand caused by panic over the coronavirus. \\u201cAs we are experiencing so\\u2026\", \"If you\\u2019ve visited your local grocery or drug store in search of hand sanitizer over the past few weeks you\\u2019ve probably run into problems. Coronavirus concerns have caused hand sanitizer to be sold out almost everywhere, which had led to a number of people to \\u2026\", \"As the coronavirus scare barrels through the travel industry, forcing cancellations of business trips, meetings, events, and vacations, demand for air travel has taken a nose dive. \\n Usually, when demand falls, so do prices. But so far in this crisis, we've n\\u2026\", \"The closure happened during the Warren store's liquidation sale, as all the Art Van stores prepare for an abrupt shut down.\", \"The coronavirus\\u2019 grip on the market continues. Since the beginning of February, the S&P 500 has shed 8.5% of its value, a reflection of the effect the outbreak is having on the global economy. Amidst the bloodbath, one specific group of stocks is holding up. \\u2026\", \"Researchers say sleeping on the job can be a good thing; a mid-afternoon nap has been found to improve performance, cognition and memory\", \"Today in Cord Cutting This Week #286 we talk about: Cheaper Hulu With Live TV Plans? AT&T\\u2019s $15 TV Service, & More. Story #1 Sling TV is Free for New and Returning Customers Through March 15 https://www.cordcuttersnews.com/sling-tv-is-free-for-new-and-returni\\u2026\", \"News, analysis and comment from the Financial Times, the world\\u02bcs leading global business publication\", \"A version of this story first appeared in CNN Business' Before the Bell newsletter. Not a subscriber? You can sign up right here.\", \"One Seattle-area bank says the Fed's abrupt move to lower interest rates by half a percentage point may instead lend \\\"credence to the kind of panic\\\" reminiscent of 2008.\", \"\", \"Finally, some good news for the cannabidiol industry.\", \"As the confirmed number of US coronavirus cases rises to 437, with 19 deaths, anxious shoppers across the country woke up early Saturday to hit stores to hoard bottled water and toilet paper.\", \"The Environmental Protection Agency\\u2019s (EPA) latest rewrite of its science transparency rule may be even more restrictive than the last one, scientists say, expanding the reach of a rule that limits consideration of studies that don\\u2019t make their underlying dat\\u2026\", \"Coronavirus has sent airline shares tumbling. Is now a good time to buy in?\", \"Despite the current state of market uncertainty, now is a time to look at past market turmoil for our queues.\", \"<ul><li>While the opinion did not mention President Trump or claims of improper influence, Amazon (NASDAQ:<a href='https://seekingalpha.com/symbol/AMZN' title='Amazon.com, Inc.'>AMZN</a>) is likely to show that Microsoft\\u2019s (NASDAQ:<a href='https://seekingalph\\u2026\", \"\", \"Supermarket begins rationing some food and household items amid signs customers are stockpiling goods.\", \"The Oracle of Omaha has given some words of wisdom on exactly what you should do.\", \"Early retirement can be a mixed bag.\", \"Through the first two months of the year, Hawaii tourism had experienced only slight coronavirus dampening. February\\u2019s daily domestic passenger count rose to 409,334, an 11,288-\\u00adperson gain over the same month in 2019, while the daily international passenger \\u2026\", \"The Powerball results and winners from last night's drawing, plus how to play the lottery and how the jackpot is calculated.\", \"A new Tesla Giga Berlin rendering overlayed on a satellite 3D view of the Grunheide property provides a strong digital representation of Elon Musk\\u2019s massive electric vehicle factory to come. Emil Senkel, hailed by German local publications as one of the most \\u2026\", \"Mortgage rates hit record lows as the coronavirus spreads to the U.S. With another rate cut priced in and the spread continuing more downside is expected.\", \"Whatever you do, do NOT tell Lieutenant Dan he's not a bunny. Wait until you see him in a pair of bunny ears, rooting through a basket of pastel eggs. You may just believe he's the real thing.\", \"MUMBAI - The founder of India's Yes Bank was arrested on allegations of money laundering Sunday, amid efforts to formulate a rescue plan for the country's fourth-largest private lender.\", \"We have a light economic calendar with little insight into recent events.\\u00a0 That is all that Mr. Market cares about.Last week's trading involved wild swings that exaggerated relatively modest news.\\u00a0 The result was a small gain, which was lost in the noise.Econ\\u2026\", \"Dreaming of long weekdays on the golf course before your 50th birthday? Here's a plan to get you there.\", \"In a News 8 exclusive interview, one Connecticut woman shares her worries for her grandmother who is aboard a cruise ship where 21 people have tested positive for the coronavirus.\", \"As policies for generating stability continue to droop, markets will turn to non-governmental options for stability, like Bitcoin.\", \"The Cats is in the bag. John Catsimatidis has settled on his next business venture \\u2014 paper bags. The Gristedes billionaire is looking to build a factory in upstate New York to produce them in respo\\u2026\", \"According to a statement from law firm Danks and Danks, Donahue has been harassed by co-workers in the days since the incident occured.\", \"Many big tech companies have come out and said that they will pay their hourly employees during the coronavirus outbreak even if there are reduced staffing needs. This comes as many of the companies are asking their full-time employees to work from home.\", \"According to a leaked internal memo first obtained by aero.de the German flag carrier Lufthansa will ground all 14 of its Airbus A380 superjumbos until at least the end of May. The temporary suspension may continue into June and possibly even longer depending\\u2026\", \"<ul><li>China\\u2019s exports <a href=\\\"http://www.customs.gov.cn/customs/xwfb34/302425/2879133/index.html\\\" target=\\\"_blank\\\">plunged 17.2%</a> in Jan./Feb. 2020 on the back of a coronavirus epidemic that forced businesses to suspend operations, according to official \\u2026\", \"New Jersey drivers are seeing lower prices at the pump in recent days.\", \"The company says it will cover COVID-19 screening tests ordered by a medical professional, when medically necessary and appropriate, at no cost.\", \"(CNN) \\u2013 Dairy Queen is turning 80 and wants to celebrate with you! The ice cream shop is offering buy-one-get-one blizzards for just 80 cents. The deal continues until March 15.\", \"Coronavirus concerns has many people rushing stores to gather cleaning essentials, forcing one of the most popular grocery stores in the area to enforce a purchase limit.\", \"Forty-two Minnesotans are among those quarantined on the Grand Princess cruise ship off the coast of California where 21 people on board have tested positive for the coronavirus.\", \"Guests on a Carnival cruise ship in Long Beach were cleared to disembark Saturday night after a passenger fell ill and underwent testing for the coronavirus.\", \"Licking open containers of Blue Bell ice cream\\u00a0and sticking them back on freezer shelves was a fleeting fad in the summer of 2019 that delighted viral fame chasers and enraged law enforcement.\\r\\n\\nNow one of the lickers who got caught will serve jail time and p\\u2026\", \"Times and locations for regional semifinals as the field narrows.\", \"\", \"The largest one-day decline for oil since 2014 pushed 13 stocks in the S&P 500 energy sector down by double digits\", \"Africa now has more than 600 active technology hubs, with facilities and support for digital entrepreneurs. Twitter, Google, Microsoft and other tech giants are starting to act.\", \"Merger with public sector bank ruled out\", \"A Starbucks employee in Seattle \\u2014 where the global coffee giant was founded in 1971 \\u2014 has been diagnosed with Coronavirus, causing the store where he worked to close, the company said F\\u2026\", \"In search of a new favorite barbecue stop? Hoodline crunched the numbers to find the top restaurants serving such fare around Irvine, using both Yelp data and our own secret sauce to produce a ranked list of the best spots to venture next time you're on the h\\u2026\", \"Attorney General Mark Brnovich wants consumers to watch out for scammers\\u00a0trying to capitalize on the public\\u2019s\\u00a0concern regarding the coronavirus.\", \"It says it's taken down hundreds of thousands of highly priced products.\", \"ExxonMobil held its investor day at the New York Stock Exchange last week, where its CEO, Darren Woods, dismissed carbon targets as a \\\"beauty match\\\"\", \"When it comes to paying extra for travel insurance, we typically err on the side of skipping it. And it\\u2019s not because we\\u2019re exceedingly confident that all your trips will go exactly as planned\\u2014it\\u2019s just that unless you\\u2019re taking a long, international trip, yo\\u2026\"], \"y\": [0, 0.115, 0.218, 0.199, 0.194, 0.0, 0.22, 0.304, 0.095, 0.0, 0.0, 0.113, 0.096, 0.146, 0.0, 0.0, 0.0, 0.153, 0.0, 0.0, 0.053, 0.234, 0.085, 0.0, 0.0, 0.089, 0.0, 0.293, 0.038, 0.028, 0.317, 0.0, 0.064, 0, 0.0, 0.185, 0.0, 0.084, 0.224, 0.123, 0.0, 0.0, 0.181, 0.139, 0.0, 0.253, 0.128, 0.0, 0.0, 0.0, 0.0, 0.0, 0.0, 0.0, 0.121, 0.11, 0.202, 0.053, 0.153, 0.0, 0, 0.095, 0.185, 0.0, 0.0, 0.169, 0.0, 0.0, 0.142, 0.071]}, {\"name\": \"Compound\", \"type\": \"bar\", \"x\": [\"\", \"The words \\\"bear market\\\" and \\\"recession\\\" are being used with increasing frequency as investors try to assess how badly the coronavirus outbreak will damage global growth and to what extent it could further weigh on asset prices.\", \"Bitcoin price continues to look bearish, yet activity and investing interest continues to grow. Analysts are optimistic about the market recovering\", \"There\\u2019s nothing worse than not having enough toilet paper when you need some, so it\\u2019s always a good idea to have some extra rolls stored up.\", \"OSHU informed its employees over the weekend that a patient had tested as a presumptive positive for COVID-19.\", \"Wash. Your. Hands.\", \"In the spirit of saving money, United Airlines has announced that it has altered its Schedule Change policy\", \"Publix supermarkets are limiting the amount of hand soaps, hand sanitizers and other items that customers can buy because of increased demand.\", \"There are now 13 cases of the novel coronavirus in Massachusetts, most of related to a Biogen management meeting at a Marriott hotel in Boston\", \"\", \"\\\"The Kremlin has decided to sacrifice OPEC+ to stop U.S. shale producers and punish the U.S. for messing with Nord Stream 2,\\\" Alexander Dynkin told Bloomberg.\", \"CNN's Brian Stelter examines the media's coverage of the novel coronavirus outbreak and President Donald Trump's response to it.\", \"As coronavirus concerns cause various problems among cruise ships, one company is offering incentives for travelers to still take their voyages.\", \"Corrections, even bear markets, create opportunities for patient investors. Stock prices may still face selling pressure, but here are the facts.\", \"Costco's decision comes after Trader Joe's changed how its employees distribute\\u00a0food\\u00a0samples.\", \"\\u201cIf the virus isn\\u2019t contained in the next two months, it could have a long-term negative impact on the music scene in Israel, and the arts landscape in general,\\u201d said a music industry insider.\", \"Bad news for the East Coast Elites. Amtrak announced that it will be suspending non-stop Acela service between Washington, D.C., and New York City for the next few months due to decreased demand caused by panic over the coronavirus. \\u201cAs we are experiencing so\\u2026\", \"If you\\u2019ve visited your local grocery or drug store in search of hand sanitizer over the past few weeks you\\u2019ve probably run into problems. Coronavirus concerns have caused hand sanitizer to be sold out almost everywhere, which had led to a number of people to \\u2026\", \"As the coronavirus scare barrels through the travel industry, forcing cancellations of business trips, meetings, events, and vacations, demand for air travel has taken a nose dive. \\n Usually, when demand falls, so do prices. But so far in this crisis, we've n\\u2026\", \"The closure happened during the Warren store's liquidation sale, as all the Art Van stores prepare for an abrupt shut down.\", \"The coronavirus\\u2019 grip on the market continues. Since the beginning of February, the S&P 500 has shed 8.5% of its value, a reflection of the effect the outbreak is having on the global economy. Amidst the bloodbath, one specific group of stocks is holding up. \\u2026\", \"Researchers say sleeping on the job can be a good thing; a mid-afternoon nap has been found to improve performance, cognition and memory\", \"Today in Cord Cutting This Week #286 we talk about: Cheaper Hulu With Live TV Plans? AT&T\\u2019s $15 TV Service, & More. Story #1 Sling TV is Free for New and Returning Customers Through March 15 https://www.cordcuttersnews.com/sling-tv-is-free-for-new-and-returni\\u2026\", \"News, analysis and comment from the Financial Times, the world\\u02bcs leading global business publication\", \"A version of this story first appeared in CNN Business' Before the Bell newsletter. Not a subscriber? You can sign up right here.\", \"One Seattle-area bank says the Fed's abrupt move to lower interest rates by half a percentage point may instead lend \\\"credence to the kind of panic\\\" reminiscent of 2008.\", \"\", \"Finally, some good news for the cannabidiol industry.\", \"As the confirmed number of US coronavirus cases rises to 437, with 19 deaths, anxious shoppers across the country woke up early Saturday to hit stores to hoard bottled water and toilet paper.\", \"The Environmental Protection Agency\\u2019s (EPA) latest rewrite of its science transparency rule may be even more restrictive than the last one, scientists say, expanding the reach of a rule that limits consideration of studies that don\\u2019t make their underlying dat\\u2026\", \"Coronavirus has sent airline shares tumbling. Is now a good time to buy in?\", \"Despite the current state of market uncertainty, now is a time to look at past market turmoil for our queues.\", \"<ul><li>While the opinion did not mention President Trump or claims of improper influence, Amazon (NASDAQ:<a href='https://seekingalpha.com/symbol/AMZN' title='Amazon.com, Inc.'>AMZN</a>) is likely to show that Microsoft\\u2019s (NASDAQ:<a href='https://seekingalph\\u2026\", \"\", \"Supermarket begins rationing some food and household items amid signs customers are stockpiling goods.\", \"The Oracle of Omaha has given some words of wisdom on exactly what you should do.\", \"Early retirement can be a mixed bag.\", \"Through the first two months of the year, Hawaii tourism had experienced only slight coronavirus dampening. February\\u2019s daily domestic passenger count rose to 409,334, an 11,288-\\u00adperson gain over the same month in 2019, while the daily international passenger \\u2026\", \"The Powerball results and winners from last night's drawing, plus how to play the lottery and how the jackpot is calculated.\", \"A new Tesla Giga Berlin rendering overlayed on a satellite 3D view of the Grunheide property provides a strong digital representation of Elon Musk\\u2019s massive electric vehicle factory to come. Emil Senkel, hailed by German local publications as one of the most \\u2026\", \"Mortgage rates hit record lows as the coronavirus spreads to the U.S. With another rate cut priced in and the spread continuing more downside is expected.\", \"Whatever you do, do NOT tell Lieutenant Dan he's not a bunny. Wait until you see him in a pair of bunny ears, rooting through a basket of pastel eggs. You may just believe he's the real thing.\", \"MUMBAI - The founder of India's Yes Bank was arrested on allegations of money laundering Sunday, amid efforts to formulate a rescue plan for the country's fourth-largest private lender.\", \"We have a light economic calendar with little insight into recent events.\\u00a0 That is all that Mr. Market cares about.Last week's trading involved wild swings that exaggerated relatively modest news.\\u00a0 The result was a small gain, which was lost in the noise.Econ\\u2026\", \"Dreaming of long weekdays on the golf course before your 50th birthday? Here's a plan to get you there.\", \"In a News 8 exclusive interview, one Connecticut woman shares her worries for her grandmother who is aboard a cruise ship where 21 people have tested positive for the coronavirus.\", \"As policies for generating stability continue to droop, markets will turn to non-governmental options for stability, like Bitcoin.\", \"The Cats is in the bag. John Catsimatidis has settled on his next business venture \\u2014 paper bags. The Gristedes billionaire is looking to build a factory in upstate New York to produce them in respo\\u2026\", \"According to a statement from law firm Danks and Danks, Donahue has been harassed by co-workers in the days since the incident occured.\", \"Many big tech companies have come out and said that they will pay their hourly employees during the coronavirus outbreak even if there are reduced staffing needs. This comes as many of the companies are asking their full-time employees to work from home.\", \"According to a leaked internal memo first obtained by aero.de the German flag carrier Lufthansa will ground all 14 of its Airbus A380 superjumbos until at least the end of May. The temporary suspension may continue into June and possibly even longer depending\\u2026\", \"<ul><li>China\\u2019s exports <a href=\\\"http://www.customs.gov.cn/customs/xwfb34/302425/2879133/index.html\\\" target=\\\"_blank\\\">plunged 17.2%</a> in Jan./Feb. 2020 on the back of a coronavirus epidemic that forced businesses to suspend operations, according to official \\u2026\", \"New Jersey drivers are seeing lower prices at the pump in recent days.\", \"The company says it will cover COVID-19 screening tests ordered by a medical professional, when medically necessary and appropriate, at no cost.\", \"(CNN) \\u2013 Dairy Queen is turning 80 and wants to celebrate with you! The ice cream shop is offering buy-one-get-one blizzards for just 80 cents. The deal continues until March 15.\", \"Coronavirus concerns has many people rushing stores to gather cleaning essentials, forcing one of the most popular grocery stores in the area to enforce a purchase limit.\", \"Forty-two Minnesotans are among those quarantined on the Grand Princess cruise ship off the coast of California where 21 people on board have tested positive for the coronavirus.\", \"Guests on a Carnival cruise ship in Long Beach were cleared to disembark Saturday night after a passenger fell ill and underwent testing for the coronavirus.\", \"Licking open containers of Blue Bell ice cream\\u00a0and sticking them back on freezer shelves was a fleeting fad in the summer of 2019 that delighted viral fame chasers and enraged law enforcement.\\r\\n\\nNow one of the lickers who got caught will serve jail time and p\\u2026\", \"Times and locations for regional semifinals as the field narrows.\", \"\", \"The largest one-day decline for oil since 2014 pushed 13 stocks in the S&P 500 energy sector down by double digits\", \"Africa now has more than 600 active technology hubs, with facilities and support for digital entrepreneurs. Twitter, Google, Microsoft and other tech giants are starting to act.\", \"Merger with public sector bank ruled out\", \"A Starbucks employee in Seattle \\u2014 where the global coffee giant was founded in 1971 \\u2014 has been diagnosed with Coronavirus, causing the store where he worked to close, the company said F\\u2026\", \"In search of a new favorite barbecue stop? Hoodline crunched the numbers to find the top restaurants serving such fare around Irvine, using both Yelp data and our own secret sauce to produce a ranked list of the best spots to venture next time you're on the h\\u2026\", \"Attorney General Mark Brnovich wants consumers to watch out for scammers\\u00a0trying to capitalize on the public\\u2019s\\u00a0concern regarding the coronavirus.\", \"It says it's taken down hundreds of thousands of highly priced products.\", \"ExxonMobil held its investor day at the New York Stock Exchange last week, where its CEO, Darren Woods, dismissed carbon targets as a \\\"beauty match\\\"\", \"When it comes to paying extra for travel insurance, we typically err on the side of skipping it. And it\\u2019s not because we\\u2019re exceedingly confident that all your trips will go exactly as planned\\u2014it\\u2019s just that unless you\\u2019re taking a long, international trip, yo\\u2026\"], \"y\": [0, -0.296, 0.6486, 0.6925, 0.5574, 0.0, 0.5423, 0.7906, 0.3182, 0.0, -0.6808, 0.3182, -0.1027, 0.1901, 0.0, -0.5719, -0.8074, 0.6124, -0.8863, 0.0, 0.34, 0.7003, 0.4215, 0.0, 0.0, -0.4201, 0.0, 0.4404, -0.1779, 0.0258, 0.6249, -0.5994, 0.1779, 0, 0.0, 0.5267, 0.0, 0.5267, 0.6705, 0.6369, -0.6361, 0.0, 0.4404, 0.5719, 0.0, 0.5574, 0.3612, 0.0, -0.5423, -0.1027, -0.3182, -0.6486, -0.296, -0.296, 0.6114, 0.4754, 0.765, -0.34, 0.6597, 0.0, 0, 0.2732, 0.6872, 0.0, 0.0, 0.7783, 0.0, 0.0, 0.5859, 0.4939]}],\n",
       "                        {\"barmode\": \"stack\", \"template\": {\"data\": {\"bar\": [{\"error_x\": {\"color\": \"#2a3f5f\"}, \"error_y\": {\"color\": \"#2a3f5f\"}, \"marker\": {\"line\": {\"color\": \"#E5ECF6\", \"width\": 0.5}}, \"type\": \"bar\"}], \"barpolar\": [{\"marker\": {\"line\": {\"color\": \"#E5ECF6\", \"width\": 0.5}}, \"type\": \"barpolar\"}], \"carpet\": [{\"aaxis\": {\"endlinecolor\": \"#2a3f5f\", \"gridcolor\": \"white\", \"linecolor\": \"white\", \"minorgridcolor\": \"white\", \"startlinecolor\": \"#2a3f5f\"}, \"baxis\": {\"endlinecolor\": \"#2a3f5f\", \"gridcolor\": \"white\", \"linecolor\": \"white\", \"minorgridcolor\": \"white\", \"startlinecolor\": \"#2a3f5f\"}, \"type\": \"carpet\"}], \"choropleth\": [{\"colorbar\": {\"outlinewidth\": 0, \"ticks\": \"\"}, \"type\": \"choropleth\"}], \"contour\": [{\"colorbar\": {\"outlinewidth\": 0, \"ticks\": \"\"}, \"colorscale\": [[0.0, \"#0d0887\"], [0.1111111111111111, \"#46039f\"], [0.2222222222222222, \"#7201a8\"], [0.3333333333333333, \"#9c179e\"], [0.4444444444444444, \"#bd3786\"], [0.5555555555555556, \"#d8576b\"], [0.6666666666666666, \"#ed7953\"], [0.7777777777777778, \"#fb9f3a\"], [0.8888888888888888, \"#fdca26\"], [1.0, \"#f0f921\"]], \"type\": \"contour\"}], \"contourcarpet\": [{\"colorbar\": {\"outlinewidth\": 0, \"ticks\": \"\"}, \"type\": \"contourcarpet\"}], \"heatmap\": [{\"colorbar\": {\"outlinewidth\": 0, \"ticks\": \"\"}, \"colorscale\": [[0.0, \"#0d0887\"], [0.1111111111111111, \"#46039f\"], [0.2222222222222222, \"#7201a8\"], [0.3333333333333333, \"#9c179e\"], [0.4444444444444444, \"#bd3786\"], [0.5555555555555556, \"#d8576b\"], [0.6666666666666666, \"#ed7953\"], [0.7777777777777778, \"#fb9f3a\"], [0.8888888888888888, \"#fdca26\"], [1.0, \"#f0f921\"]], \"type\": \"heatmap\"}], \"heatmapgl\": [{\"colorbar\": {\"outlinewidth\": 0, \"ticks\": \"\"}, \"colorscale\": [[0.0, \"#0d0887\"], [0.1111111111111111, \"#46039f\"], [0.2222222222222222, \"#7201a8\"], [0.3333333333333333, \"#9c179e\"], [0.4444444444444444, \"#bd3786\"], [0.5555555555555556, \"#d8576b\"], [0.6666666666666666, \"#ed7953\"], [0.7777777777777778, \"#fb9f3a\"], [0.8888888888888888, \"#fdca26\"], [1.0, \"#f0f921\"]], \"type\": \"heatmapgl\"}], \"histogram\": [{\"marker\": {\"colorbar\": {\"outlinewidth\": 0, \"ticks\": \"\"}}, \"type\": \"histogram\"}], \"histogram2d\": [{\"colorbar\": {\"outlinewidth\": 0, \"ticks\": \"\"}, \"colorscale\": [[0.0, \"#0d0887\"], [0.1111111111111111, \"#46039f\"], [0.2222222222222222, \"#7201a8\"], [0.3333333333333333, \"#9c179e\"], [0.4444444444444444, \"#bd3786\"], [0.5555555555555556, \"#d8576b\"], [0.6666666666666666, \"#ed7953\"], [0.7777777777777778, \"#fb9f3a\"], [0.8888888888888888, \"#fdca26\"], [1.0, \"#f0f921\"]], \"type\": \"histogram2d\"}], \"histogram2dcontour\": [{\"colorbar\": {\"outlinewidth\": 0, \"ticks\": \"\"}, \"colorscale\": [[0.0, \"#0d0887\"], [0.1111111111111111, \"#46039f\"], [0.2222222222222222, \"#7201a8\"], [0.3333333333333333, \"#9c179e\"], [0.4444444444444444, \"#bd3786\"], [0.5555555555555556, \"#d8576b\"], [0.6666666666666666, \"#ed7953\"], [0.7777777777777778, \"#fb9f3a\"], [0.8888888888888888, \"#fdca26\"], [1.0, \"#f0f921\"]], \"type\": \"histogram2dcontour\"}], \"mesh3d\": [{\"colorbar\": {\"outlinewidth\": 0, \"ticks\": \"\"}, \"type\": \"mesh3d\"}], \"parcoords\": [{\"line\": {\"colorbar\": {\"outlinewidth\": 0, \"ticks\": \"\"}}, \"type\": \"parcoords\"}], \"pie\": [{\"automargin\": true, \"type\": \"pie\"}], \"scatter\": [{\"marker\": {\"colorbar\": {\"outlinewidth\": 0, \"ticks\": \"\"}}, \"type\": \"scatter\"}], \"scatter3d\": [{\"line\": {\"colorbar\": {\"outlinewidth\": 0, \"ticks\": \"\"}}, \"marker\": {\"colorbar\": {\"outlinewidth\": 0, \"ticks\": \"\"}}, \"type\": \"scatter3d\"}], \"scattercarpet\": [{\"marker\": {\"colorbar\": {\"outlinewidth\": 0, \"ticks\": \"\"}}, \"type\": \"scattercarpet\"}], \"scattergeo\": [{\"marker\": {\"colorbar\": {\"outlinewidth\": 0, \"ticks\": \"\"}}, \"type\": \"scattergeo\"}], \"scattergl\": [{\"marker\": {\"colorbar\": {\"outlinewidth\": 0, \"ticks\": \"\"}}, \"type\": \"scattergl\"}], \"scattermapbox\": [{\"marker\": {\"colorbar\": {\"outlinewidth\": 0, \"ticks\": \"\"}}, \"type\": \"scattermapbox\"}], \"scatterpolar\": [{\"marker\": {\"colorbar\": {\"outlinewidth\": 0, \"ticks\": \"\"}}, \"type\": \"scatterpolar\"}], \"scatterpolargl\": [{\"marker\": {\"colorbar\": {\"outlinewidth\": 0, \"ticks\": \"\"}}, \"type\": \"scatterpolargl\"}], \"scatterternary\": [{\"marker\": {\"colorbar\": {\"outlinewidth\": 0, \"ticks\": \"\"}}, \"type\": \"scatterternary\"}], \"surface\": [{\"colorbar\": {\"outlinewidth\": 0, \"ticks\": \"\"}, \"colorscale\": [[0.0, \"#0d0887\"], [0.1111111111111111, \"#46039f\"], [0.2222222222222222, \"#7201a8\"], [0.3333333333333333, \"#9c179e\"], [0.4444444444444444, \"#bd3786\"], [0.5555555555555556, \"#d8576b\"], [0.6666666666666666, \"#ed7953\"], [0.7777777777777778, \"#fb9f3a\"], [0.8888888888888888, \"#fdca26\"], [1.0, \"#f0f921\"]], \"type\": \"surface\"}], \"table\": [{\"cells\": {\"fill\": {\"color\": \"#EBF0F8\"}, \"line\": {\"color\": \"white\"}}, \"header\": {\"fill\": {\"color\": \"#C8D4E3\"}, \"line\": {\"color\": \"white\"}}, \"type\": \"table\"}]}, \"layout\": {\"annotationdefaults\": {\"arrowcolor\": \"#2a3f5f\", \"arrowhead\": 0, \"arrowwidth\": 1}, \"coloraxis\": {\"colorbar\": {\"outlinewidth\": 0, \"ticks\": \"\"}}, \"colorscale\": {\"diverging\": [[0, \"#8e0152\"], [0.1, \"#c51b7d\"], [0.2, \"#de77ae\"], [0.3, \"#f1b6da\"], [0.4, \"#fde0ef\"], [0.5, \"#f7f7f7\"], [0.6, \"#e6f5d0\"], [0.7, \"#b8e186\"], [0.8, \"#7fbc41\"], [0.9, \"#4d9221\"], [1, \"#276419\"]], \"sequential\": [[0.0, \"#0d0887\"], [0.1111111111111111, \"#46039f\"], [0.2222222222222222, \"#7201a8\"], [0.3333333333333333, \"#9c179e\"], [0.4444444444444444, \"#bd3786\"], [0.5555555555555556, \"#d8576b\"], [0.6666666666666666, \"#ed7953\"], [0.7777777777777778, \"#fb9f3a\"], [0.8888888888888888, \"#fdca26\"], [1.0, \"#f0f921\"]], \"sequentialminus\": [[0.0, \"#0d0887\"], [0.1111111111111111, \"#46039f\"], [0.2222222222222222, \"#7201a8\"], [0.3333333333333333, \"#9c179e\"], [0.4444444444444444, \"#bd3786\"], [0.5555555555555556, \"#d8576b\"], [0.6666666666666666, \"#ed7953\"], [0.7777777777777778, \"#fb9f3a\"], [0.8888888888888888, \"#fdca26\"], [1.0, \"#f0f921\"]]}, \"colorway\": [\"#636efa\", \"#EF553B\", \"#00cc96\", \"#ab63fa\", \"#FFA15A\", \"#19d3f3\", \"#FF6692\", \"#B6E880\", \"#FF97FF\", \"#FECB52\"], \"font\": {\"color\": \"#2a3f5f\"}, \"geo\": {\"bgcolor\": \"white\", \"lakecolor\": \"white\", \"landcolor\": \"#E5ECF6\", \"showlakes\": true, \"showland\": true, \"subunitcolor\": \"white\"}, \"hoverlabel\": {\"align\": \"left\"}, \"hovermode\": \"closest\", \"mapbox\": {\"style\": \"light\"}, \"paper_bgcolor\": \"white\", \"plot_bgcolor\": \"#E5ECF6\", \"polar\": {\"angularaxis\": {\"gridcolor\": \"white\", \"linecolor\": \"white\", \"ticks\": \"\"}, \"bgcolor\": \"#E5ECF6\", \"radialaxis\": {\"gridcolor\": \"white\", \"linecolor\": \"white\", \"ticks\": \"\"}}, \"scene\": {\"xaxis\": {\"backgroundcolor\": \"#E5ECF6\", \"gridcolor\": \"white\", \"gridwidth\": 2, \"linecolor\": \"white\", \"showbackground\": true, \"ticks\": \"\", \"zerolinecolor\": \"white\"}, \"yaxis\": {\"backgroundcolor\": \"#E5ECF6\", \"gridcolor\": \"white\", \"gridwidth\": 2, \"linecolor\": \"white\", \"showbackground\": true, \"ticks\": \"\", \"zerolinecolor\": \"white\"}, \"zaxis\": {\"backgroundcolor\": \"#E5ECF6\", \"gridcolor\": \"white\", \"gridwidth\": 2, \"linecolor\": \"white\", \"showbackground\": true, \"ticks\": \"\", \"zerolinecolor\": \"white\"}}, \"shapedefaults\": {\"line\": {\"color\": \"#2a3f5f\"}}, \"ternary\": {\"aaxis\": {\"gridcolor\": \"white\", \"linecolor\": \"white\", \"ticks\": \"\"}, \"baxis\": {\"gridcolor\": \"white\", \"linecolor\": \"white\", \"ticks\": \"\"}, \"bgcolor\": \"#E5ECF6\", \"caxis\": {\"gridcolor\": \"white\", \"linecolor\": \"white\", \"ticks\": \"\"}}, \"title\": {\"x\": 0.05}, \"xaxis\": {\"automargin\": true, \"gridcolor\": \"white\", \"linecolor\": \"white\", \"ticks\": \"\", \"title\": {\"standoff\": 15}, \"zerolinecolor\": \"white\", \"zerolinewidth\": 2}, \"yaxis\": {\"automargin\": true, \"gridcolor\": \"white\", \"linecolor\": \"white\", \"ticks\": \"\", \"title\": {\"standoff\": 15}, \"zerolinecolor\": \"white\", \"zerolinewidth\": 2}}}, \"title\": {\"text\": \"Description Sentiment\"}},\n",
       "                        {\"responsive\": true}\n",
       "                    ).then(function(){\n",
       "                            \n",
       "var gd = document.getElementById('d2684dd9-84d7-46de-af07-df0b7e524ba1');\n",
       "var x = new MutationObserver(function (mutations, observer) {{\n",
       "        var display = window.getComputedStyle(gd).display;\n",
       "        if (!display || display === 'none') {{\n",
       "            console.log([gd, 'removed!']);\n",
       "            Plotly.purge(gd);\n",
       "            observer.disconnect();\n",
       "        }}\n",
       "}});\n",
       "\n",
       "// Listen for the removal of the full notebook cells\n",
       "var notebookContainer = gd.closest('#notebook-container');\n",
       "if (notebookContainer) {{\n",
       "    x.observe(notebookContainer, {childList: true});\n",
       "}}\n",
       "\n",
       "// Listen for the clearing of the current output cell\n",
       "var outputEl = gd.closest('.output');\n",
       "if (outputEl) {{\n",
       "    x.observe(outputEl, {childList: true});\n",
       "}}\n",
       "\n",
       "                        })\n",
       "                };\n",
       "                });\n",
       "            </script>\n",
       "        </div>"
      ]
     },
     "metadata": {},
     "output_type": "display_data"
    }
   ],
   "source": [
    "graph_sentiment(news_df['description'], news_df['desc_score'], 'Description Sentiment')"
   ]
  },
  {
   "cell_type": "markdown",
   "metadata": {},
   "source": [
    "***How to interpret Compound Values?*** \n",
    "<p>The compound score is computed by summing the valence scores of each word in the lexicon, adjusted according to the rules, and then normalized to be between -1 (most extreme negative) and +1 (most extreme positive). This is the most useful metric if you want a single unidimensional measure of sentiment for a given sentence. Calling it a 'normalized, weighted composite score' is accurate.</p>"
   ]
  },
  {
   "cell_type": "markdown",
   "metadata": {},
   "source": [
    "**Next Step: Populate the score on a daily basis**\n",
    "<p> Use the mean of the headline score for each day </p>"
   ]
  },
  {
   "cell_type": "code",
   "execution_count": 139,
   "metadata": {},
   "outputs": [
    {
     "data": {
      "text/html": [
       "<div>\n",
       "<style scoped>\n",
       "    .dataframe tbody tr th:only-of-type {\n",
       "        vertical-align: middle;\n",
       "    }\n",
       "\n",
       "    .dataframe tbody tr th {\n",
       "        vertical-align: top;\n",
       "    }\n",
       "\n",
       "    .dataframe thead th {\n",
       "        text-align: right;\n",
       "    }\n",
       "</style>\n",
       "<table border=\"1\" class=\"dataframe\">\n",
       "  <thead>\n",
       "    <tr style=\"text-align: right;\">\n",
       "      <th></th>\n",
       "      <th>publishedAt</th>\n",
       "      <th>title_score</th>\n",
       "      <th>desc_score</th>\n",
       "    </tr>\n",
       "  </thead>\n",
       "  <tbody>\n",
       "    <tr>\n",
       "      <th>0</th>\n",
       "      <td>2020-03-08</td>\n",
       "      <td>{'neg': 0.0, 'neu': 1.0, 'pos': 0.0, 'compound...</td>\n",
       "      <td>{'neg': 0, 'neu': 0, 'pos': 0, 'compound': 0}</td>\n",
       "    </tr>\n",
       "    <tr>\n",
       "      <th>1</th>\n",
       "      <td>2020-03-08</td>\n",
       "      <td>{'neg': 0.337, 'neu': 0.663, 'pos': 0.0, 'comp...</td>\n",
       "      <td>{'neg': 0.142, 'neu': 0.743, 'pos': 0.115, 'co...</td>\n",
       "    </tr>\n",
       "    <tr>\n",
       "      <th>2</th>\n",
       "      <td>2020-03-08</td>\n",
       "      <td>{'neg': 0.0, 'neu': 1.0, 'pos': 0.0, 'compound...</td>\n",
       "      <td>{'neg': 0.0, 'neu': 0.782, 'pos': 0.218, 'comp...</td>\n",
       "    </tr>\n",
       "    <tr>\n",
       "      <th>3</th>\n",
       "      <td>2020-03-08</td>\n",
       "      <td>{'neg': 0.18, 'neu': 0.677, 'pos': 0.143, 'com...</td>\n",
       "      <td>{'neg': 0.0, 'neu': 0.801, 'pos': 0.199, 'comp...</td>\n",
       "    </tr>\n",
       "    <tr>\n",
       "      <th>4</th>\n",
       "      <td>2020-03-08</td>\n",
       "      <td>{'neg': 0.0, 'neu': 1.0, 'pos': 0.0, 'compound...</td>\n",
       "      <td>{'neg': 0.0, 'neu': 0.806, 'pos': 0.194, 'comp...</td>\n",
       "    </tr>\n",
       "  </tbody>\n",
       "</table>\n",
       "</div>"
      ],
      "text/plain": [
       "  publishedAt                                        title_score  \\\n",
       "0  2020-03-08  {'neg': 0.0, 'neu': 1.0, 'pos': 0.0, 'compound...   \n",
       "1  2020-03-08  {'neg': 0.337, 'neu': 0.663, 'pos': 0.0, 'comp...   \n",
       "2  2020-03-08  {'neg': 0.0, 'neu': 1.0, 'pos': 0.0, 'compound...   \n",
       "3  2020-03-08  {'neg': 0.18, 'neu': 0.677, 'pos': 0.143, 'com...   \n",
       "4  2020-03-08  {'neg': 0.0, 'neu': 1.0, 'pos': 0.0, 'compound...   \n",
       "\n",
       "                                          desc_score  \n",
       "0      {'neg': 0, 'neu': 0, 'pos': 0, 'compound': 0}  \n",
       "1  {'neg': 0.142, 'neu': 0.743, 'pos': 0.115, 'co...  \n",
       "2  {'neg': 0.0, 'neu': 0.782, 'pos': 0.218, 'comp...  \n",
       "3  {'neg': 0.0, 'neu': 0.801, 'pos': 0.199, 'comp...  \n",
       "4  {'neg': 0.0, 'neu': 0.806, 'pos': 0.194, 'comp...  "
      ]
     },
     "execution_count": 139,
     "metadata": {},
     "output_type": "execute_result"
    }
   ],
   "source": [
    "#extract date and scores\n",
    "news_score_df = news_df[['publishedAt', 'title_score', 'desc_score']].copy()\n",
    "\n",
    "#remove time from datetime\n",
    "news_score_df['publishedAt'] = news_score_df['publishedAt'].str.split('T').str[0]\n",
    "\n",
    "news_score_df.head()"
   ]
  },
  {
   "cell_type": "markdown",
   "metadata": {},
   "source": [
    "**Next Step: Correlate the score of the daily movement of S&P and Dow Jones**\n",
    "\n",
    "<p>Daily average Title score vs S&P <br />\n",
    "   Daily average Description score vs S&P <br />\n",
    "   Daily average Title score vs DJ <br />\n",
    "   Daily average Description score vs DJ <br /></p>"
   ]
  },
  {
   "cell_type": "markdown",
   "metadata": {},
   "source": [
    "**Next Step: Compare the correlations**"
   ]
  },
  {
   "cell_type": "markdown",
   "metadata": {},
   "source": [
    "**Other to do: add pages to API call to pull up to 20 pages**"
   ]
  },
  {
   "cell_type": "code",
   "execution_count": null,
   "metadata": {},
   "outputs": [],
   "source": []
  },
  {
   "cell_type": "code",
   "execution_count": null,
   "metadata": {},
   "outputs": [],
   "source": []
  },
  {
   "cell_type": "code",
   "execution_count": null,
   "metadata": {},
   "outputs": [],
   "source": []
  },
  {
   "cell_type": "code",
   "execution_count": null,
   "metadata": {},
   "outputs": [],
   "source": []
  },
  {
   "cell_type": "code",
   "execution_count": null,
   "metadata": {},
   "outputs": [],
   "source": []
  },
  {
   "cell_type": "code",
   "execution_count": null,
   "metadata": {},
   "outputs": [],
   "source": []
  },
  {
   "cell_type": "code",
   "execution_count": null,
   "metadata": {},
   "outputs": [],
   "source": []
  },
  {
   "cell_type": "code",
   "execution_count": null,
   "metadata": {},
   "outputs": [],
   "source": []
  },
  {
   "cell_type": "code",
   "execution_count": null,
   "metadata": {},
   "outputs": [],
   "source": []
  },
  {
   "cell_type": "code",
   "execution_count": null,
   "metadata": {},
   "outputs": [],
   "source": []
  },
  {
   "cell_type": "code",
   "execution_count": null,
   "metadata": {},
   "outputs": [],
   "source": []
  },
  {
   "cell_type": "code",
   "execution_count": null,
   "metadata": {},
   "outputs": [],
   "source": []
  },
  {
   "cell_type": "code",
   "execution_count": null,
   "metadata": {},
   "outputs": [],
   "source": []
  },
  {
   "cell_type": "code",
   "execution_count": null,
   "metadata": {},
   "outputs": [],
   "source": []
  },
  {
   "cell_type": "code",
   "execution_count": null,
   "metadata": {},
   "outputs": [],
   "source": []
  },
  {
   "cell_type": "code",
   "execution_count": null,
   "metadata": {},
   "outputs": [],
   "source": []
  },
  {
   "cell_type": "code",
   "execution_count": null,
   "metadata": {},
   "outputs": [],
   "source": []
  }
 ],
 "metadata": {
  "kernelspec": {
   "display_name": "Python 3",
   "language": "python",
   "name": "python3"
  },
  "language_info": {
   "codemirror_mode": {
    "name": "ipython",
    "version": 3
   },
   "file_extension": ".py",
   "mimetype": "text/x-python",
   "name": "python",
   "nbconvert_exporter": "python",
   "pygments_lexer": "ipython3",
   "version": "3.7.6"
  }
 },
 "nbformat": 4,
 "nbformat_minor": 4
}
