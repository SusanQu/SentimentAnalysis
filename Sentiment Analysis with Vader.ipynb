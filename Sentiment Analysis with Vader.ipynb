{
 "cells": [
  {
   "cell_type": "markdown",
   "metadata": {},
   "source": [
    "**Import libraries**"
   ]
  },
  {
   "cell_type": "code",
   "execution_count": 1,
   "metadata": {},
   "outputs": [],
   "source": [
    "import pandas as pd\n",
    "from operator import itemgetter\n",
    "from vaderSentiment.vaderSentiment import SentimentIntensityAnalyzer\n",
    "import requests\n",
    "import plotly.graph_objects as go"
   ]
  },
  {
   "cell_type": "markdown",
   "metadata": {},
   "source": [
    "**Try out Vader Sentiment Analyzer**"
   ]
  },
  {
   "cell_type": "code",
   "execution_count": 2,
   "metadata": {},
   "outputs": [],
   "source": [
    "#call analyser object\n",
    "analyser = SentimentIntensityAnalyzer()"
   ]
  },
  {
   "cell_type": "code",
   "execution_count": 3,
   "metadata": {},
   "outputs": [],
   "source": [
    "def sentiment_analyzer_scores(sentence):\n",
    "    score = analyser.polarity_scores(sentence)\n",
    "    return score"
   ]
  },
  {
   "cell_type": "code",
   "execution_count": 4,
   "metadata": {},
   "outputs": [
    {
     "data": {
      "text/plain": [
       "{'neg': 0.0, 'neu': 0.678, 'pos': 0.322, 'compound': 0.2263}"
      ]
     },
     "execution_count": 4,
     "metadata": {},
     "output_type": "execute_result"
    }
   ],
   "source": [
    "sentiment_analyzer_scores(\"Today is an okay day.\")"
   ]
  },
  {
   "cell_type": "code",
   "execution_count": 5,
   "metadata": {},
   "outputs": [
    {
     "data": {
      "text/plain": [
       "{'neg': 0.0, 'neu': 0.494, 'pos': 0.506, 'compound': 0.6239}"
      ]
     },
     "execution_count": 5,
     "metadata": {},
     "output_type": "execute_result"
    }
   ],
   "source": [
    "sentiment_analyzer_scores(\"Today is an amazing day!\")"
   ]
  },
  {
   "cell_type": "code",
   "execution_count": 6,
   "metadata": {},
   "outputs": [
    {
     "data": {
      "text/plain": [
       "{'neg': 0.0, 'neu': 0.803, 'pos': 0.197, 'compound': 0.4003}"
      ]
     },
     "execution_count": 6,
     "metadata": {},
     "output_type": "execute_result"
    }
   ],
   "source": [
    "sentiment_analyzer_scores(\"Today is an amazing day! Vader is working but it took a while\")"
   ]
  },
  {
   "cell_type": "code",
   "execution_count": 7,
   "metadata": {},
   "outputs": [
    {
     "data": {
      "text/plain": [
       "{'neg': 0.523, 'neu': 0.477, 'pos': 0.0, 'compound': -0.5095}"
      ]
     },
     "execution_count": 7,
     "metadata": {},
     "output_type": "execute_result"
    }
   ],
   "source": [
    "sentiment_analyzer_scores(\"Today kind of sucked.\")"
   ]
  },
  {
   "cell_type": "markdown",
   "metadata": {},
   "source": [
    "**Pull in Live News Data from News API**"
   ]
  },
  {
   "cell_type": "code",
   "execution_count": 29,
   "metadata": {
    "scrolled": true
   },
   "outputs": [
    {
     "name": "stdout",
     "output_type": "stream",
     "text": [
      "api key: 798c7707bbe8404199296c0521a99f61\n",
      "Total Results: 70\n"
     ]
    }
   ],
   "source": [
    "url = ('http://newsapi.org/v2/top-headlines?'\n",
    "       #'q=' + input('company: ') + '&'\n",
    "       'country=us&'\n",
    "       'category=business&'\n",
    "       'from=2020-03-01&'\n",
    "       'sortBy=popularity&'\n",
    "       'pageSize=100&'\n",
    "       'apiKey=' + input('api key: '))\n",
    "\n",
    "response = requests.get(url)\n",
    "print('Total Results: ' + str(response.json().get('totalResults')))"
   ]
  },
  {
   "cell_type": "markdown",
   "metadata": {},
   "source": [
    "**Perform Analysis on the News Title**"
   ]
  },
  {
   "cell_type": "code",
   "execution_count": 30,
   "metadata": {},
   "outputs": [],
   "source": [
    "news = response.json().get('articles')\n",
    "\n",
    "#add title score:\n",
    "for item in news:\n",
    "    if item['title'] is None:\n",
    "        continue\n",
    "    item.update({'title_score': sentiment_analyzer_scores(item['title'])})\n",
    "    if item['description'] is None:\n",
    "        continue\n",
    "    item.update({'desc_score': sentiment_analyzer_scores(item['description'])})"
   ]
  },
  {
   "cell_type": "code",
   "execution_count": 31,
   "metadata": {},
   "outputs": [
    {
     "name": "stdout",
     "output_type": "stream",
     "text": [
      "row and column: (70, 10)\n"
     ]
    },
    {
     "data": {
      "text/html": [
       "<div>\n",
       "<style scoped>\n",
       "    .dataframe tbody tr th:only-of-type {\n",
       "        vertical-align: middle;\n",
       "    }\n",
       "\n",
       "    .dataframe tbody tr th {\n",
       "        vertical-align: top;\n",
       "    }\n",
       "\n",
       "    .dataframe thead th {\n",
       "        text-align: right;\n",
       "    }\n",
       "</style>\n",
       "<table border=\"1\" class=\"dataframe\">\n",
       "  <thead>\n",
       "    <tr style=\"text-align: right;\">\n",
       "      <th></th>\n",
       "      <th>source</th>\n",
       "      <th>author</th>\n",
       "      <th>title</th>\n",
       "      <th>description</th>\n",
       "      <th>url</th>\n",
       "      <th>urlToImage</th>\n",
       "      <th>publishedAt</th>\n",
       "      <th>content</th>\n",
       "      <th>title_score</th>\n",
       "      <th>desc_score</th>\n",
       "    </tr>\n",
       "  </thead>\n",
       "  <tbody>\n",
       "    <tr>\n",
       "      <th>0</th>\n",
       "      <td>{'id': 'bloomberg', 'name': 'Bloomberg'}</td>\n",
       "      <td>None</td>\n",
       "      <td>Apple’s Cook Offers Work From Home This Week t...</td>\n",
       "      <td>None</td>\n",
       "      <td>https://www.bloomberg.com/tosv2.html?vid=&amp;uuid...</td>\n",
       "      <td>None</td>\n",
       "      <td>2020-03-08T20:23:41Z</td>\n",
       "      <td>To continue, please click the box below to let...</td>\n",
       "      <td>{'neg': 0.0, 'neu': 1.0, 'pos': 0.0, 'compound...</td>\n",
       "      <td>NaN</td>\n",
       "    </tr>\n",
       "    <tr>\n",
       "      <th>1</th>\n",
       "      <td>{'id': 'reuters', 'name': 'Reuters'}</td>\n",
       "      <td>Megan Davies</td>\n",
       "      <td>Investor fears rise over recession, bear marke...</td>\n",
       "      <td>The words \"bear market\" and \"recession\" are be...</td>\n",
       "      <td>https://www.reuters.com/article/us-health-coro...</td>\n",
       "      <td>https://s3.reutersmedia.net/resources/r/?m=02&amp;...</td>\n",
       "      <td>2020-03-08T20:16:18Z</td>\n",
       "      <td>NEW YORK (Reuters) - The words “bear market” a...</td>\n",
       "      <td>{'neg': 0.337, 'neu': 0.663, 'pos': 0.0, 'comp...</td>\n",
       "      <td>{'neg': 0.142, 'neu': 0.743, 'pos': 0.115, 'co...</td>\n",
       "    </tr>\n",
       "    <tr>\n",
       "      <th>2</th>\n",
       "      <td>{'id': None, 'name': 'Bitcoinist.com'}</td>\n",
       "      <td>None</td>\n",
       "      <td>Bitcoin Price Consolidating, is a Big Move Abo...</td>\n",
       "      <td>Bitcoin price continues to look bearish, yet a...</td>\n",
       "      <td>https://bitcoinist.com/bitcoin-price-consolida...</td>\n",
       "      <td>https://bitcoinist.com/wp-content/uploads/2020...</td>\n",
       "      <td>2020-03-08T19:03:03Z</td>\n",
       "      <td>Bitcoin price continues to look bearish, yet a...</td>\n",
       "      <td>{'neg': 0.0, 'neu': 1.0, 'pos': 0.0, 'compound...</td>\n",
       "      <td>{'neg': 0.0, 'neu': 0.782, 'pos': 0.218, 'comp...</td>\n",
       "    </tr>\n",
       "    <tr>\n",
       "      <th>3</th>\n",
       "      <td>{'id': 'fox-news', 'name': 'Fox News'}</td>\n",
       "      <td>Michael Hollan</td>\n",
       "      <td>Family accidentally orders 12 years' worth of ...</td>\n",
       "      <td>There’s nothing worse than not having enough t...</td>\n",
       "      <td>https://www.foxnews.com/lifestyle/12-years-toi...</td>\n",
       "      <td>https://static.foxnews.com/foxnews.com/content...</td>\n",
       "      <td>2020-03-08T18:53:56Z</td>\n",
       "      <td>There’s nothing worse than not having enough t...</td>\n",
       "      <td>{'neg': 0.18, 'neu': 0.677, 'pos': 0.143, 'com...</td>\n",
       "      <td>{'neg': 0.0, 'neu': 0.801, 'pos': 0.199, 'comp...</td>\n",
       "    </tr>\n",
       "    <tr>\n",
       "      <th>4</th>\n",
       "      <td>{'id': None, 'name': 'Oregonlive.com'}</td>\n",
       "      <td>Laura Gunderson | The Oregonian/OregonLive</td>\n",
       "      <td>New coronavirus case at OHSU Hospital in Portl...</td>\n",
       "      <td>OSHU informed its employees over the weekend t...</td>\n",
       "      <td>https://www.oregonlive.com/coronavirus/2020/03...</td>\n",
       "      <td>https://www.oregonlive.com/resizer/PoxhmM45EGw...</td>\n",
       "      <td>2020-03-08T18:53:02Z</td>\n",
       "      <td>This is breaking news and will be updated.\\r\\n...</td>\n",
       "      <td>{'neg': 0.0, 'neu': 1.0, 'pos': 0.0, 'compound...</td>\n",
       "      <td>{'neg': 0.0, 'neu': 0.806, 'pos': 0.194, 'comp...</td>\n",
       "    </tr>\n",
       "  </tbody>\n",
       "</table>\n",
       "</div>"
      ],
      "text/plain": [
       "                                     source  \\\n",
       "0  {'id': 'bloomberg', 'name': 'Bloomberg'}   \n",
       "1      {'id': 'reuters', 'name': 'Reuters'}   \n",
       "2    {'id': None, 'name': 'Bitcoinist.com'}   \n",
       "3    {'id': 'fox-news', 'name': 'Fox News'}   \n",
       "4    {'id': None, 'name': 'Oregonlive.com'}   \n",
       "\n",
       "                                       author  \\\n",
       "0                                        None   \n",
       "1                                Megan Davies   \n",
       "2                                        None   \n",
       "3                              Michael Hollan   \n",
       "4  Laura Gunderson | The Oregonian/OregonLive   \n",
       "\n",
       "                                               title  \\\n",
       "0  Apple’s Cook Offers Work From Home This Week t...   \n",
       "1  Investor fears rise over recession, bear marke...   \n",
       "2  Bitcoin Price Consolidating, is a Big Move Abo...   \n",
       "3  Family accidentally orders 12 years' worth of ...   \n",
       "4  New coronavirus case at OHSU Hospital in Portl...   \n",
       "\n",
       "                                         description  \\\n",
       "0                                               None   \n",
       "1  The words \"bear market\" and \"recession\" are be...   \n",
       "2  Bitcoin price continues to look bearish, yet a...   \n",
       "3  There’s nothing worse than not having enough t...   \n",
       "4  OSHU informed its employees over the weekend t...   \n",
       "\n",
       "                                                 url  \\\n",
       "0  https://www.bloomberg.com/tosv2.html?vid=&uuid...   \n",
       "1  https://www.reuters.com/article/us-health-coro...   \n",
       "2  https://bitcoinist.com/bitcoin-price-consolida...   \n",
       "3  https://www.foxnews.com/lifestyle/12-years-toi...   \n",
       "4  https://www.oregonlive.com/coronavirus/2020/03...   \n",
       "\n",
       "                                          urlToImage           publishedAt  \\\n",
       "0                                               None  2020-03-08T20:23:41Z   \n",
       "1  https://s3.reutersmedia.net/resources/r/?m=02&...  2020-03-08T20:16:18Z   \n",
       "2  https://bitcoinist.com/wp-content/uploads/2020...  2020-03-08T19:03:03Z   \n",
       "3  https://static.foxnews.com/foxnews.com/content...  2020-03-08T18:53:56Z   \n",
       "4  https://www.oregonlive.com/resizer/PoxhmM45EGw...  2020-03-08T18:53:02Z   \n",
       "\n",
       "                                             content  \\\n",
       "0  To continue, please click the box below to let...   \n",
       "1  NEW YORK (Reuters) - The words “bear market” a...   \n",
       "2  Bitcoin price continues to look bearish, yet a...   \n",
       "3  There’s nothing worse than not having enough t...   \n",
       "4  This is breaking news and will be updated.\\r\\n...   \n",
       "\n",
       "                                         title_score  \\\n",
       "0  {'neg': 0.0, 'neu': 1.0, 'pos': 0.0, 'compound...   \n",
       "1  {'neg': 0.337, 'neu': 0.663, 'pos': 0.0, 'comp...   \n",
       "2  {'neg': 0.0, 'neu': 1.0, 'pos': 0.0, 'compound...   \n",
       "3  {'neg': 0.18, 'neu': 0.677, 'pos': 0.143, 'com...   \n",
       "4  {'neg': 0.0, 'neu': 1.0, 'pos': 0.0, 'compound...   \n",
       "\n",
       "                                          desc_score  \n",
       "0                                                NaN  \n",
       "1  {'neg': 0.142, 'neu': 0.743, 'pos': 0.115, 'co...  \n",
       "2  {'neg': 0.0, 'neu': 0.782, 'pos': 0.218, 'comp...  \n",
       "3  {'neg': 0.0, 'neu': 0.801, 'pos': 0.199, 'comp...  \n",
       "4  {'neg': 0.0, 'neu': 0.806, 'pos': 0.194, 'comp...  "
      ]
     },
     "execution_count": 31,
     "metadata": {},
     "output_type": "execute_result"
    }
   ],
   "source": [
    "news_df = pd.DataFrame(news)\n",
    "print('row and column: ' + str(news_df.shape))\n",
    "news_df.head()"
   ]
  },
  {
   "cell_type": "code",
   "execution_count": 32,
   "metadata": {},
   "outputs": [],
   "source": [
    "#other ways to add title score object to news\n",
    "\n",
    "\n",
    "#add title score way 2 -----------------------:\n",
    "\n",
    "# def add_title_scoore():\n",
    "#     for item in news:\n",
    "#         score = {'title_score' : sentiment_analyzer_scores(item['title'])}\n",
    "#     return news\n",
    "# add_title_scoore()\n",
    "\n",
    "\n",
    "#add title score way 3 -----------------------:\n",
    "\n",
    "# result = [dict(item, scoreeeeeeeeeeeeeee=sentiment_analyzer_scores(item['title'])) for item in news]\n",
    "# print(result)\n",
    "\n",
    "\n",
    "#this works append static object -------------:\n",
    "\n",
    "# for item in news:\n",
    "#     item.update({'scooooooooooooooooore': 'baaaaaaaaaaaaaaaaaad'})\n",
    "# print(news)"
   ]
  },
  {
   "cell_type": "markdown",
   "metadata": {},
   "source": [
    "**Plot Title Sentiment Score**"
   ]
  },
  {
   "cell_type": "code",
   "execution_count": 33,
   "metadata": {},
   "outputs": [
    {
     "data": {
      "application/vnd.plotly.v1+json": {
       "config": {
        "plotlyServerURL": "https://plot.ly"
       },
       "data": [
        {
         "marker": {
          "color": "#EE7674"
         },
         "name": "Negative",
         "type": "bar",
         "x": [
          "Apple’s Cook Offers Work From Home This Week to Most Staff - Bloomberg",
          "Investor fears rise over recession, bear market as coronavirus spreads in U.S. - Reuters",
          "Bitcoin Price Consolidating, is a Big Move About to Happen? - Bitcoinist",
          "Family accidentally orders 12 years' worth of toilet paper - Fox News",
          "New coronavirus case at OHSU Hospital in Portland - OregonLive",
          "Hand sanitizer and coronavirus: Not all of it will work - Mashable",
          "United Airlines Negatively Alters Refund Policy - Simple Flying",
          "Publix limiting customers on purchases of hand soaps, sanitizers and more - WPTV.com",
          "Biogen orders employees to work from home after employees at Boston meeting test positive for coronavirus - MarketWatch",
          "How Is the U.S. Economy Doing? Ways to Give the Economy a Boost. - Barron's",
          "Putin Targets U.S. Fracking With Oil Price War, in New Threat to Trump's Election-Year Economy - Newsweek",
          "Brian Stelter examines media coverage of coronavirus - CNN",
          "Amid coronavirus outbreak, Carnival Cruise Line offers on-ship credits to passengers who don't reschedule - Fox News",
          "Coronavirus fears shouldn't stop you from adding to your investment portfolio - USA TODAY",
          "Coronavirus outbreak means Costco shoppers can say goodbye to free samples - Fox Business",
          "Cancel Culture - How coronavirus is affecting the arts scene in Israel - The Jerusalem Post",
          "Amtrak To Halt Non-stop Train From D.C. To New York City Amid Coronavirus Panic - The Daily Wire",
          "Please Don't Try to Make Hand Sanitizer Using Vodka - Lifehacker",
          "The fate of airline fare deals during the coronavirus crisis - SF Gate",
          "Police order crowded Art Van Furniture store to close early: ‘We could come close to a riot’ - MLive.com",
          "Gilead Sciences Could Be the First to Beat the Coronavirus - Yahoo Finance",
          "Napping – You snooze, you win! - CBS News",
          "Cord Cutting This Week #286 – Cheaper Hulu With Live TV Plans? AT&T’s $15 TV Service, & More - Cord Cutters News, LLC",
          "The eurozone is too complacent about the coronavirus threat - Financial Times",
          "Parts of financial markets are pricing in a global recession - CNN",
          "'Talk ourselves into a recession': Bank in coronavirus hotspot has doubts over Fed rate cut - Yahoo Finance",
          "Workers Could Be In Danger. Here’s the Coming Data That Will Tell the Story. - Barron's",
          "The Must-See CBD Quote From the Head of the FDA - Motley Fool",
          "Anxious shoppers across the US line up at stores to stockpile water, toilet paper - Daily Mail",
          "Experts warn EPA making 'secret science' rule more restrictive | TheHill - The Hill",
          "Should You Buy or Sell Airline Stocks Right Now? - Motley Fool",
          "In the Wake of Coronavirus, Should You Be Buying or Selling Stocks Right Now? - Motley Fool",
          "Some good news for Amazon's JEDI challenge - Seeking Alpha",
          "Computer systems at UK and UK HealthCare hobbled by massive, month-long cyber attack - Lexington Herald Leader",
          "Coronavirus: Tesco rations essential shopping items - BBC News",
          "Warren Buffett's Advice on How Investors Should Respond to a Super-Contagious Disease - Motley Fool",
          "2 Reasons to Retire Early, and 2 Reasons Not To - The Motley Fool",
          "Hawaii travel industry offers deals to offset impact of coronavirus anxiety - Honolulu Star-Advertiser",
          "Powerball Results, Numbers for 3/7/20: Did Anyone Win the $100 Million Jackpot on Saturday (Last) Night? - Newsweek",
          "Tesla Giga Berlin in stunning 3D render is a sneak peek of Elon Musk’s grand plans in Germany - Teslarati",
          "US Mortgage Rates Fall to Record Lows. The Year of Record Breaking May Well Continue - Yahoo Finance",
          "Lieutenant Dan the two-legged hound is competing to be the next Cadbury Bunny - CNN",
          "India's Yes Bank founder arrested on money laundering allegations - Bangkok Post",
          "Weighing The Week Ahead: Why The Right Time Frame Is Crucial - Seeking Alpha",
          "These 2 Steps Will Help You Retire Early - The Motley Fool",
          "EXCLUSIVE: CT woman worries her grandmother with congestive heart failure aboard cruise ship with 21 cases of coronavirus is vulnerable to virus - WTNH.com",
          "Bitcoin Boon Likely amid Plummeting Treasury Yields, ‘Policy Failure’ - BeInCrypto",
          "John Catsimatidis wants to build paper bag factory in upstate New York - New York Post ",
          "Evansville Olive Garden employee quits job, will apparently file lawsuit - Courier & Press",
          "Big Tech Will Pay Its Hourly Workers Even as Full-Time Staff Stays Home During Coronavirus Outbreak - Gizmodo",
          "Confirmed: Lufthansa Will Ground Airbus A380 Fleet Until at Least May, Possibly Extended into June - Paddle Your Own Kanoo",
          "China exports plunge, but worst likely still to come - Seeking Alpha",
          "Gas prices dropping in N.J. as coronavirus concern cuts into oil production - NJ.com",
          "Blue Cross Blue Shield expands coverage for COVID-19 screening tests - KARE11.com",
          "Dairy Queen celebrates 80th birthday with 80¢ blizzards deal - WJHL-TV News Channel 11",
          "Wegmans limiting purchase of cleaning essentials due to high demand - WTVD-TV",
          "Passengers wonder what's next as 42 Minnesotans remain stuck on quarantined cruise ship - FOX 9",
          "Long Beach: Carnival cruise ship's disembarkation suspended due to passenger's 'medical matter' - KABC-TV",
          "Man filmed licking tub of ice cream gets 30 days in jail - Q13 News Seattle",
          "See the high school girls basketball regional brackets - MLive.com",
          "JPMorgan CEO’s Health Emergency Casts Shadow on China Plans - Bloomberg",
          "Here are Friday’s worst stock-market performers as oil takes the market down - MarketWatch",
          "Why companies like Microsoft and Google are betting big on Africa - CNBC",
          "SBI readies Rs 10,000-crore warchest to rescue Yes Bank - The Tribune India",
          "Seattle Starbucks employee diagnosed with coronavirus - New York Post ",
          "The 4 Best Barbecue Spots In Irvine - CBS Los Angeles",
          "Coronavirus-related scams: AG, locals let you know what to watch out for - The Daily Courier",
          "Amazon plans to prosecute sellers for price gouging during coronavirus outbreak - CNET",
          "Why Exxon’s CEO ‘has his head buried in the tar sands’ - Electrek",
          "Does Credit Card Travel Insurance Cover Coronavirus Cancellations? - Lifehacker"
         ],
         "y": [
          0,
          0.337,
          0,
          0.18,
          0,
          0,
          0,
          0,
          0,
          0,
          0.343,
          0,
          0,
          0.178,
          0,
          0.133,
          0.171,
          0,
          0.272,
          0,
          0,
          0,
          0.073,
          0.343,
          0.237,
          0.235,
          0.195,
          0.209,
          0.118,
          0.113,
          0.225,
          0.162,
          0,
          0.171,
          0,
          0.195,
          0.225,
          0.124,
          0,
          0,
          0.095,
          0,
          0.209,
          0,
          0.213,
          0.273,
          0,
          0,
          0.147,
          0.08,
          0,
          0.361,
          0.155,
          0,
          0,
          0.13,
          0.133,
          0.204,
          0,
          0,
          0.224,
          0.255,
          0,
          0,
          0,
          0,
          0.213,
          0.188,
          0,
          0
         ]
        },
        {
         "marker": {
          "color": "#247BA0"
         },
         "name": "Neutral",
         "type": "bar",
         "x": [
          "Apple’s Cook Offers Work From Home This Week to Most Staff - Bloomberg",
          "Investor fears rise over recession, bear market as coronavirus spreads in U.S. - Reuters",
          "Bitcoin Price Consolidating, is a Big Move About to Happen? - Bitcoinist",
          "Family accidentally orders 12 years' worth of toilet paper - Fox News",
          "New coronavirus case at OHSU Hospital in Portland - OregonLive",
          "Hand sanitizer and coronavirus: Not all of it will work - Mashable",
          "United Airlines Negatively Alters Refund Policy - Simple Flying",
          "Publix limiting customers on purchases of hand soaps, sanitizers and more - WPTV.com",
          "Biogen orders employees to work from home after employees at Boston meeting test positive for coronavirus - MarketWatch",
          "How Is the U.S. Economy Doing? Ways to Give the Economy a Boost. - Barron's",
          "Putin Targets U.S. Fracking With Oil Price War, in New Threat to Trump's Election-Year Economy - Newsweek",
          "Brian Stelter examines media coverage of coronavirus - CNN",
          "Amid coronavirus outbreak, Carnival Cruise Line offers on-ship credits to passengers who don't reschedule - Fox News",
          "Coronavirus fears shouldn't stop you from adding to your investment portfolio - USA TODAY",
          "Coronavirus outbreak means Costco shoppers can say goodbye to free samples - Fox Business",
          "Cancel Culture - How coronavirus is affecting the arts scene in Israel - The Jerusalem Post",
          "Amtrak To Halt Non-stop Train From D.C. To New York City Amid Coronavirus Panic - The Daily Wire",
          "Please Don't Try to Make Hand Sanitizer Using Vodka - Lifehacker",
          "The fate of airline fare deals during the coronavirus crisis - SF Gate",
          "Police order crowded Art Van Furniture store to close early: ‘We could come close to a riot’ - MLive.com",
          "Gilead Sciences Could Be the First to Beat the Coronavirus - Yahoo Finance",
          "Napping – You snooze, you win! - CBS News",
          "Cord Cutting This Week #286 – Cheaper Hulu With Live TV Plans? AT&T’s $15 TV Service, & More - Cord Cutters News, LLC",
          "The eurozone is too complacent about the coronavirus threat - Financial Times",
          "Parts of financial markets are pricing in a global recession - CNN",
          "'Talk ourselves into a recession': Bank in coronavirus hotspot has doubts over Fed rate cut - Yahoo Finance",
          "Workers Could Be In Danger. Here’s the Coming Data That Will Tell the Story. - Barron's",
          "The Must-See CBD Quote From the Head of the FDA - Motley Fool",
          "Anxious shoppers across the US line up at stores to stockpile water, toilet paper - Daily Mail",
          "Experts warn EPA making 'secret science' rule more restrictive | TheHill - The Hill",
          "Should You Buy or Sell Airline Stocks Right Now? - Motley Fool",
          "In the Wake of Coronavirus, Should You Be Buying or Selling Stocks Right Now? - Motley Fool",
          "Some good news for Amazon's JEDI challenge - Seeking Alpha",
          "Computer systems at UK and UK HealthCare hobbled by massive, month-long cyber attack - Lexington Herald Leader",
          "Coronavirus: Tesco rations essential shopping items - BBC News",
          "Warren Buffett's Advice on How Investors Should Respond to a Super-Contagious Disease - Motley Fool",
          "2 Reasons to Retire Early, and 2 Reasons Not To - The Motley Fool",
          "Hawaii travel industry offers deals to offset impact of coronavirus anxiety - Honolulu Star-Advertiser",
          "Powerball Results, Numbers for 3/7/20: Did Anyone Win the $100 Million Jackpot on Saturday (Last) Night? - Newsweek",
          "Tesla Giga Berlin in stunning 3D render is a sneak peek of Elon Musk’s grand plans in Germany - Teslarati",
          "US Mortgage Rates Fall to Record Lows. The Year of Record Breaking May Well Continue - Yahoo Finance",
          "Lieutenant Dan the two-legged hound is competing to be the next Cadbury Bunny - CNN",
          "India's Yes Bank founder arrested on money laundering allegations - Bangkok Post",
          "Weighing The Week Ahead: Why The Right Time Frame Is Crucial - Seeking Alpha",
          "These 2 Steps Will Help You Retire Early - The Motley Fool",
          "EXCLUSIVE: CT woman worries her grandmother with congestive heart failure aboard cruise ship with 21 cases of coronavirus is vulnerable to virus - WTNH.com",
          "Bitcoin Boon Likely amid Plummeting Treasury Yields, ‘Policy Failure’ - BeInCrypto",
          "John Catsimatidis wants to build paper bag factory in upstate New York - New York Post ",
          "Evansville Olive Garden employee quits job, will apparently file lawsuit - Courier & Press",
          "Big Tech Will Pay Its Hourly Workers Even as Full-Time Staff Stays Home During Coronavirus Outbreak - Gizmodo",
          "Confirmed: Lufthansa Will Ground Airbus A380 Fleet Until at Least May, Possibly Extended into June - Paddle Your Own Kanoo",
          "China exports plunge, but worst likely still to come - Seeking Alpha",
          "Gas prices dropping in N.J. as coronavirus concern cuts into oil production - NJ.com",
          "Blue Cross Blue Shield expands coverage for COVID-19 screening tests - KARE11.com",
          "Dairy Queen celebrates 80th birthday with 80¢ blizzards deal - WJHL-TV News Channel 11",
          "Wegmans limiting purchase of cleaning essentials due to high demand - WTVD-TV",
          "Passengers wonder what's next as 42 Minnesotans remain stuck on quarantined cruise ship - FOX 9",
          "Long Beach: Carnival cruise ship's disembarkation suspended due to passenger's 'medical matter' - KABC-TV",
          "Man filmed licking tub of ice cream gets 30 days in jail - Q13 News Seattle",
          "See the high school girls basketball regional brackets - MLive.com",
          "JPMorgan CEO’s Health Emergency Casts Shadow on China Plans - Bloomberg",
          "Here are Friday’s worst stock-market performers as oil takes the market down - MarketWatch",
          "Why companies like Microsoft and Google are betting big on Africa - CNBC",
          "SBI readies Rs 10,000-crore warchest to rescue Yes Bank - The Tribune India",
          "Seattle Starbucks employee diagnosed with coronavirus - New York Post ",
          "The 4 Best Barbecue Spots In Irvine - CBS Los Angeles",
          "Coronavirus-related scams: AG, locals let you know what to watch out for - The Daily Courier",
          "Amazon plans to prosecute sellers for price gouging during coronavirus outbreak - CNET",
          "Why Exxon’s CEO ‘has his head buried in the tar sands’ - Electrek",
          "Does Credit Card Travel Insurance Cover Coronavirus Cancellations? - Lifehacker"
         ],
         "y": [
          1,
          0.663,
          1,
          0.677,
          1,
          0.758,
          0.714,
          0.775,
          0.816,
          0.816,
          0.657,
          1,
          0.857,
          0.701,
          0.784,
          0.867,
          0.829,
          0.593,
          0.728,
          1,
          1,
          0.595,
          0.927,
          0.657,
          0.763,
          0.765,
          0.805,
          0.791,
          0.882,
          0.887,
          0.775,
          0.838,
          0.625,
          0.829,
          1,
          0.805,
          0.775,
          0.876,
          0.808,
          0.741,
          0.794,
          1,
          0.608,
          1,
          0.588,
          0.614,
          0.833,
          1,
          0.853,
          0.92,
          1,
          0.639,
          0.845,
          0.877,
          0.764,
          0.87,
          0.867,
          0.724,
          1,
          1,
          0.776,
          0.745,
          0.815,
          0.625,
          1,
          0.656,
          0.787,
          0.694,
          1,
          0.755
         ]
        },
        {
         "name": "Positive",
         "type": "bar",
         "x": [
          "Apple’s Cook Offers Work From Home This Week to Most Staff - Bloomberg",
          "Investor fears rise over recession, bear market as coronavirus spreads in U.S. - Reuters",
          "Bitcoin Price Consolidating, is a Big Move About to Happen? - Bitcoinist",
          "Family accidentally orders 12 years' worth of toilet paper - Fox News",
          "New coronavirus case at OHSU Hospital in Portland - OregonLive",
          "Hand sanitizer and coronavirus: Not all of it will work - Mashable",
          "United Airlines Negatively Alters Refund Policy - Simple Flying",
          "Publix limiting customers on purchases of hand soaps, sanitizers and more - WPTV.com",
          "Biogen orders employees to work from home after employees at Boston meeting test positive for coronavirus - MarketWatch",
          "How Is the U.S. Economy Doing? Ways to Give the Economy a Boost. - Barron's",
          "Putin Targets U.S. Fracking With Oil Price War, in New Threat to Trump's Election-Year Economy - Newsweek",
          "Brian Stelter examines media coverage of coronavirus - CNN",
          "Amid coronavirus outbreak, Carnival Cruise Line offers on-ship credits to passengers who don't reschedule - Fox News",
          "Coronavirus fears shouldn't stop you from adding to your investment portfolio - USA TODAY",
          "Coronavirus outbreak means Costco shoppers can say goodbye to free samples - Fox Business",
          "Cancel Culture - How coronavirus is affecting the arts scene in Israel - The Jerusalem Post",
          "Amtrak To Halt Non-stop Train From D.C. To New York City Amid Coronavirus Panic - The Daily Wire",
          "Please Don't Try to Make Hand Sanitizer Using Vodka - Lifehacker",
          "The fate of airline fare deals during the coronavirus crisis - SF Gate",
          "Police order crowded Art Van Furniture store to close early: ‘We could come close to a riot’ - MLive.com",
          "Gilead Sciences Could Be the First to Beat the Coronavirus - Yahoo Finance",
          "Napping – You snooze, you win! - CBS News",
          "Cord Cutting This Week #286 – Cheaper Hulu With Live TV Plans? AT&T’s $15 TV Service, & More - Cord Cutters News, LLC",
          "The eurozone is too complacent about the coronavirus threat - Financial Times",
          "Parts of financial markets are pricing in a global recession - CNN",
          "'Talk ourselves into a recession': Bank in coronavirus hotspot has doubts over Fed rate cut - Yahoo Finance",
          "Workers Could Be In Danger. Here’s the Coming Data That Will Tell the Story. - Barron's",
          "The Must-See CBD Quote From the Head of the FDA - Motley Fool",
          "Anxious shoppers across the US line up at stores to stockpile water, toilet paper - Daily Mail",
          "Experts warn EPA making 'secret science' rule more restrictive | TheHill - The Hill",
          "Should You Buy or Sell Airline Stocks Right Now? - Motley Fool",
          "In the Wake of Coronavirus, Should You Be Buying or Selling Stocks Right Now? - Motley Fool",
          "Some good news for Amazon's JEDI challenge - Seeking Alpha",
          "Computer systems at UK and UK HealthCare hobbled by massive, month-long cyber attack - Lexington Herald Leader",
          "Coronavirus: Tesco rations essential shopping items - BBC News",
          "Warren Buffett's Advice on How Investors Should Respond to a Super-Contagious Disease - Motley Fool",
          "2 Reasons to Retire Early, and 2 Reasons Not To - The Motley Fool",
          "Hawaii travel industry offers deals to offset impact of coronavirus anxiety - Honolulu Star-Advertiser",
          "Powerball Results, Numbers for 3/7/20: Did Anyone Win the $100 Million Jackpot on Saturday (Last) Night? - Newsweek",
          "Tesla Giga Berlin in stunning 3D render is a sneak peek of Elon Musk’s grand plans in Germany - Teslarati",
          "US Mortgage Rates Fall to Record Lows. The Year of Record Breaking May Well Continue - Yahoo Finance",
          "Lieutenant Dan the two-legged hound is competing to be the next Cadbury Bunny - CNN",
          "India's Yes Bank founder arrested on money laundering allegations - Bangkok Post",
          "Weighing The Week Ahead: Why The Right Time Frame Is Crucial - Seeking Alpha",
          "These 2 Steps Will Help You Retire Early - The Motley Fool",
          "EXCLUSIVE: CT woman worries her grandmother with congestive heart failure aboard cruise ship with 21 cases of coronavirus is vulnerable to virus - WTNH.com",
          "Bitcoin Boon Likely amid Plummeting Treasury Yields, ‘Policy Failure’ - BeInCrypto",
          "John Catsimatidis wants to build paper bag factory in upstate New York - New York Post ",
          "Evansville Olive Garden employee quits job, will apparently file lawsuit - Courier & Press",
          "Big Tech Will Pay Its Hourly Workers Even as Full-Time Staff Stays Home During Coronavirus Outbreak - Gizmodo",
          "Confirmed: Lufthansa Will Ground Airbus A380 Fleet Until at Least May, Possibly Extended into June - Paddle Your Own Kanoo",
          "China exports plunge, but worst likely still to come - Seeking Alpha",
          "Gas prices dropping in N.J. as coronavirus concern cuts into oil production - NJ.com",
          "Blue Cross Blue Shield expands coverage for COVID-19 screening tests - KARE11.com",
          "Dairy Queen celebrates 80th birthday with 80¢ blizzards deal - WJHL-TV News Channel 11",
          "Wegmans limiting purchase of cleaning essentials due to high demand - WTVD-TV",
          "Passengers wonder what's next as 42 Minnesotans remain stuck on quarantined cruise ship - FOX 9",
          "Long Beach: Carnival cruise ship's disembarkation suspended due to passenger's 'medical matter' - KABC-TV",
          "Man filmed licking tub of ice cream gets 30 days in jail - Q13 News Seattle",
          "See the high school girls basketball regional brackets - MLive.com",
          "JPMorgan CEO’s Health Emergency Casts Shadow on China Plans - Bloomberg",
          "Here are Friday’s worst stock-market performers as oil takes the market down - MarketWatch",
          "Why companies like Microsoft and Google are betting big on Africa - CNBC",
          "SBI readies Rs 10,000-crore warchest to rescue Yes Bank - The Tribune India",
          "Seattle Starbucks employee diagnosed with coronavirus - New York Post ",
          "The 4 Best Barbecue Spots In Irvine - CBS Los Angeles",
          "Coronavirus-related scams: AG, locals let you know what to watch out for - The Daily Courier",
          "Amazon plans to prosecute sellers for price gouging during coronavirus outbreak - CNET",
          "Why Exxon’s CEO ‘has his head buried in the tar sands’ - Electrek",
          "Does Credit Card Travel Insurance Cover Coronavirus Cancellations? - Lifehacker"
         ],
         "y": [
          0,
          0,
          0,
          0.143,
          0,
          0.242,
          0.286,
          0.225,
          0.184,
          0.184,
          0,
          0,
          0.143,
          0.12,
          0.216,
          0,
          0,
          0.407,
          0,
          0,
          0,
          0.405,
          0,
          0,
          0,
          0,
          0,
          0,
          0,
          0,
          0,
          0,
          0.375,
          0,
          0,
          0,
          0,
          0,
          0.192,
          0.259,
          0.111,
          0,
          0.182,
          0,
          0.199,
          0.114,
          0.167,
          0,
          0,
          0,
          0,
          0,
          0,
          0.123,
          0.236,
          0,
          0,
          0.072,
          0,
          0,
          0,
          0,
          0.185,
          0.375,
          0,
          0.344,
          0,
          0.118,
          0,
          0.245
         ]
        },
        {
         "name": "Compound",
         "type": "bar",
         "x": [
          "Apple’s Cook Offers Work From Home This Week to Most Staff - Bloomberg",
          "Investor fears rise over recession, bear market as coronavirus spreads in U.S. - Reuters",
          "Bitcoin Price Consolidating, is a Big Move About to Happen? - Bitcoinist",
          "Family accidentally orders 12 years' worth of toilet paper - Fox News",
          "New coronavirus case at OHSU Hospital in Portland - OregonLive",
          "Hand sanitizer and coronavirus: Not all of it will work - Mashable",
          "United Airlines Negatively Alters Refund Policy - Simple Flying",
          "Publix limiting customers on purchases of hand soaps, sanitizers and more - WPTV.com",
          "Biogen orders employees to work from home after employees at Boston meeting test positive for coronavirus - MarketWatch",
          "How Is the U.S. Economy Doing? Ways to Give the Economy a Boost. - Barron's",
          "Putin Targets U.S. Fracking With Oil Price War, in New Threat to Trump's Election-Year Economy - Newsweek",
          "Brian Stelter examines media coverage of coronavirus - CNN",
          "Amid coronavirus outbreak, Carnival Cruise Line offers on-ship credits to passengers who don't reschedule - Fox News",
          "Coronavirus fears shouldn't stop you from adding to your investment portfolio - USA TODAY",
          "Coronavirus outbreak means Costco shoppers can say goodbye to free samples - Fox Business",
          "Cancel Culture - How coronavirus is affecting the arts scene in Israel - The Jerusalem Post",
          "Amtrak To Halt Non-stop Train From D.C. To New York City Amid Coronavirus Panic - The Daily Wire",
          "Please Don't Try to Make Hand Sanitizer Using Vodka - Lifehacker",
          "The fate of airline fare deals during the coronavirus crisis - SF Gate",
          "Police order crowded Art Van Furniture store to close early: ‘We could come close to a riot’ - MLive.com",
          "Gilead Sciences Could Be the First to Beat the Coronavirus - Yahoo Finance",
          "Napping – You snooze, you win! - CBS News",
          "Cord Cutting This Week #286 – Cheaper Hulu With Live TV Plans? AT&T’s $15 TV Service, & More - Cord Cutters News, LLC",
          "The eurozone is too complacent about the coronavirus threat - Financial Times",
          "Parts of financial markets are pricing in a global recession - CNN",
          "'Talk ourselves into a recession': Bank in coronavirus hotspot has doubts over Fed rate cut - Yahoo Finance",
          "Workers Could Be In Danger. Here’s the Coming Data That Will Tell the Story. - Barron's",
          "The Must-See CBD Quote From the Head of the FDA - Motley Fool",
          "Anxious shoppers across the US line up at stores to stockpile water, toilet paper - Daily Mail",
          "Experts warn EPA making 'secret science' rule more restrictive | TheHill - The Hill",
          "Should You Buy or Sell Airline Stocks Right Now? - Motley Fool",
          "In the Wake of Coronavirus, Should You Be Buying or Selling Stocks Right Now? - Motley Fool",
          "Some good news for Amazon's JEDI challenge - Seeking Alpha",
          "Computer systems at UK and UK HealthCare hobbled by massive, month-long cyber attack - Lexington Herald Leader",
          "Coronavirus: Tesco rations essential shopping items - BBC News",
          "Warren Buffett's Advice on How Investors Should Respond to a Super-Contagious Disease - Motley Fool",
          "2 Reasons to Retire Early, and 2 Reasons Not To - The Motley Fool",
          "Hawaii travel industry offers deals to offset impact of coronavirus anxiety - Honolulu Star-Advertiser",
          "Powerball Results, Numbers for 3/7/20: Did Anyone Win the $100 Million Jackpot on Saturday (Last) Night? - Newsweek",
          "Tesla Giga Berlin in stunning 3D render is a sneak peek of Elon Musk’s grand plans in Germany - Teslarati",
          "US Mortgage Rates Fall to Record Lows. The Year of Record Breaking May Well Continue - Yahoo Finance",
          "Lieutenant Dan the two-legged hound is competing to be the next Cadbury Bunny - CNN",
          "India's Yes Bank founder arrested on money laundering allegations - Bangkok Post",
          "Weighing The Week Ahead: Why The Right Time Frame Is Crucial - Seeking Alpha",
          "These 2 Steps Will Help You Retire Early - The Motley Fool",
          "EXCLUSIVE: CT woman worries her grandmother with congestive heart failure aboard cruise ship with 21 cases of coronavirus is vulnerable to virus - WTNH.com",
          "Bitcoin Boon Likely amid Plummeting Treasury Yields, ‘Policy Failure’ - BeInCrypto",
          "John Catsimatidis wants to build paper bag factory in upstate New York - New York Post ",
          "Evansville Olive Garden employee quits job, will apparently file lawsuit - Courier & Press",
          "Big Tech Will Pay Its Hourly Workers Even as Full-Time Staff Stays Home During Coronavirus Outbreak - Gizmodo",
          "Confirmed: Lufthansa Will Ground Airbus A380 Fleet Until at Least May, Possibly Extended into June - Paddle Your Own Kanoo",
          "China exports plunge, but worst likely still to come - Seeking Alpha",
          "Gas prices dropping in N.J. as coronavirus concern cuts into oil production - NJ.com",
          "Blue Cross Blue Shield expands coverage for COVID-19 screening tests - KARE11.com",
          "Dairy Queen celebrates 80th birthday with 80¢ blizzards deal - WJHL-TV News Channel 11",
          "Wegmans limiting purchase of cleaning essentials due to high demand - WTVD-TV",
          "Passengers wonder what's next as 42 Minnesotans remain stuck on quarantined cruise ship - FOX 9",
          "Long Beach: Carnival cruise ship's disembarkation suspended due to passenger's 'medical matter' - KABC-TV",
          "Man filmed licking tub of ice cream gets 30 days in jail - Q13 News Seattle",
          "See the high school girls basketball regional brackets - MLive.com",
          "JPMorgan CEO’s Health Emergency Casts Shadow on China Plans - Bloomberg",
          "Here are Friday’s worst stock-market performers as oil takes the market down - MarketWatch",
          "Why companies like Microsoft and Google are betting big on Africa - CNBC",
          "SBI readies Rs 10,000-crore warchest to rescue Yes Bank - The Tribune India",
          "Seattle Starbucks employee diagnosed with coronavirus - New York Post ",
          "The 4 Best Barbecue Spots In Irvine - CBS Los Angeles",
          "Coronavirus-related scams: AG, locals let you know what to watch out for - The Daily Courier",
          "Amazon plans to prosecute sellers for price gouging during coronavirus outbreak - CNET",
          "Why Exxon’s CEO ‘has his head buried in the tar sands’ - Electrek",
          "Does Credit Card Travel Insurance Cover Coronavirus Cancellations? - Lifehacker"
         ],
         "y": [
          0,
          -0.6808,
          0,
          -0.128,
          0,
          0.4939,
          0.4215,
          0.4939,
          0.5574,
          0.4019,
          -0.8074,
          0,
          0.3612,
          -0.2292,
          0.5106,
          -0.25,
          -0.5106,
          0.6705,
          -0.6249,
          0,
          0,
          0.6239,
          -0.128,
          -0.5719,
          -0.4215,
          -0.5106,
          -0.5267,
          -0.4404,
          -0.25,
          -0.1027,
          -0.4404,
          -0.4404,
          0.4939,
          -0.4767,
          0,
          -0.4404,
          -0.4404,
          -0.1779,
          0.5859,
          0.6808,
          0.0772,
          0,
          -0.1027,
          0,
          -0.0516,
          -0.6875,
          0.2023,
          0,
          -0.2263,
          -0.1027,
          0,
          -0.7684,
          -0.296,
          0.1027,
          0.5719,
          -0.128,
          -0.25,
          -0.4588,
          0,
          0,
          -0.3818,
          -0.6249,
          0.3612,
          0.7184,
          0,
          0.6369,
          -0.5859,
          -0.25,
          0,
          0.3818
         ]
        }
       ],
       "layout": {
        "barmode": "stack",
        "template": {
         "data": {
          "bar": [
           {
            "error_x": {
             "color": "#2a3f5f"
            },
            "error_y": {
             "color": "#2a3f5f"
            },
            "marker": {
             "line": {
              "color": "#E5ECF6",
              "width": 0.5
             }
            },
            "type": "bar"
           }
          ],
          "barpolar": [
           {
            "marker": {
             "line": {
              "color": "#E5ECF6",
              "width": 0.5
             }
            },
            "type": "barpolar"
           }
          ],
          "carpet": [
           {
            "aaxis": {
             "endlinecolor": "#2a3f5f",
             "gridcolor": "white",
             "linecolor": "white",
             "minorgridcolor": "white",
             "startlinecolor": "#2a3f5f"
            },
            "baxis": {
             "endlinecolor": "#2a3f5f",
             "gridcolor": "white",
             "linecolor": "white",
             "minorgridcolor": "white",
             "startlinecolor": "#2a3f5f"
            },
            "type": "carpet"
           }
          ],
          "choropleth": [
           {
            "colorbar": {
             "outlinewidth": 0,
             "ticks": ""
            },
            "type": "choropleth"
           }
          ],
          "contour": [
           {
            "colorbar": {
             "outlinewidth": 0,
             "ticks": ""
            },
            "colorscale": [
             [
              0,
              "#0d0887"
             ],
             [
              0.1111111111111111,
              "#46039f"
             ],
             [
              0.2222222222222222,
              "#7201a8"
             ],
             [
              0.3333333333333333,
              "#9c179e"
             ],
             [
              0.4444444444444444,
              "#bd3786"
             ],
             [
              0.5555555555555556,
              "#d8576b"
             ],
             [
              0.6666666666666666,
              "#ed7953"
             ],
             [
              0.7777777777777778,
              "#fb9f3a"
             ],
             [
              0.8888888888888888,
              "#fdca26"
             ],
             [
              1,
              "#f0f921"
             ]
            ],
            "type": "contour"
           }
          ],
          "contourcarpet": [
           {
            "colorbar": {
             "outlinewidth": 0,
             "ticks": ""
            },
            "type": "contourcarpet"
           }
          ],
          "heatmap": [
           {
            "colorbar": {
             "outlinewidth": 0,
             "ticks": ""
            },
            "colorscale": [
             [
              0,
              "#0d0887"
             ],
             [
              0.1111111111111111,
              "#46039f"
             ],
             [
              0.2222222222222222,
              "#7201a8"
             ],
             [
              0.3333333333333333,
              "#9c179e"
             ],
             [
              0.4444444444444444,
              "#bd3786"
             ],
             [
              0.5555555555555556,
              "#d8576b"
             ],
             [
              0.6666666666666666,
              "#ed7953"
             ],
             [
              0.7777777777777778,
              "#fb9f3a"
             ],
             [
              0.8888888888888888,
              "#fdca26"
             ],
             [
              1,
              "#f0f921"
             ]
            ],
            "type": "heatmap"
           }
          ],
          "heatmapgl": [
           {
            "colorbar": {
             "outlinewidth": 0,
             "ticks": ""
            },
            "colorscale": [
             [
              0,
              "#0d0887"
             ],
             [
              0.1111111111111111,
              "#46039f"
             ],
             [
              0.2222222222222222,
              "#7201a8"
             ],
             [
              0.3333333333333333,
              "#9c179e"
             ],
             [
              0.4444444444444444,
              "#bd3786"
             ],
             [
              0.5555555555555556,
              "#d8576b"
             ],
             [
              0.6666666666666666,
              "#ed7953"
             ],
             [
              0.7777777777777778,
              "#fb9f3a"
             ],
             [
              0.8888888888888888,
              "#fdca26"
             ],
             [
              1,
              "#f0f921"
             ]
            ],
            "type": "heatmapgl"
           }
          ],
          "histogram": [
           {
            "marker": {
             "colorbar": {
              "outlinewidth": 0,
              "ticks": ""
             }
            },
            "type": "histogram"
           }
          ],
          "histogram2d": [
           {
            "colorbar": {
             "outlinewidth": 0,
             "ticks": ""
            },
            "colorscale": [
             [
              0,
              "#0d0887"
             ],
             [
              0.1111111111111111,
              "#46039f"
             ],
             [
              0.2222222222222222,
              "#7201a8"
             ],
             [
              0.3333333333333333,
              "#9c179e"
             ],
             [
              0.4444444444444444,
              "#bd3786"
             ],
             [
              0.5555555555555556,
              "#d8576b"
             ],
             [
              0.6666666666666666,
              "#ed7953"
             ],
             [
              0.7777777777777778,
              "#fb9f3a"
             ],
             [
              0.8888888888888888,
              "#fdca26"
             ],
             [
              1,
              "#f0f921"
             ]
            ],
            "type": "histogram2d"
           }
          ],
          "histogram2dcontour": [
           {
            "colorbar": {
             "outlinewidth": 0,
             "ticks": ""
            },
            "colorscale": [
             [
              0,
              "#0d0887"
             ],
             [
              0.1111111111111111,
              "#46039f"
             ],
             [
              0.2222222222222222,
              "#7201a8"
             ],
             [
              0.3333333333333333,
              "#9c179e"
             ],
             [
              0.4444444444444444,
              "#bd3786"
             ],
             [
              0.5555555555555556,
              "#d8576b"
             ],
             [
              0.6666666666666666,
              "#ed7953"
             ],
             [
              0.7777777777777778,
              "#fb9f3a"
             ],
             [
              0.8888888888888888,
              "#fdca26"
             ],
             [
              1,
              "#f0f921"
             ]
            ],
            "type": "histogram2dcontour"
           }
          ],
          "mesh3d": [
           {
            "colorbar": {
             "outlinewidth": 0,
             "ticks": ""
            },
            "type": "mesh3d"
           }
          ],
          "parcoords": [
           {
            "line": {
             "colorbar": {
              "outlinewidth": 0,
              "ticks": ""
             }
            },
            "type": "parcoords"
           }
          ],
          "pie": [
           {
            "automargin": true,
            "type": "pie"
           }
          ],
          "scatter": [
           {
            "marker": {
             "colorbar": {
              "outlinewidth": 0,
              "ticks": ""
             }
            },
            "type": "scatter"
           }
          ],
          "scatter3d": [
           {
            "line": {
             "colorbar": {
              "outlinewidth": 0,
              "ticks": ""
             }
            },
            "marker": {
             "colorbar": {
              "outlinewidth": 0,
              "ticks": ""
             }
            },
            "type": "scatter3d"
           }
          ],
          "scattercarpet": [
           {
            "marker": {
             "colorbar": {
              "outlinewidth": 0,
              "ticks": ""
             }
            },
            "type": "scattercarpet"
           }
          ],
          "scattergeo": [
           {
            "marker": {
             "colorbar": {
              "outlinewidth": 0,
              "ticks": ""
             }
            },
            "type": "scattergeo"
           }
          ],
          "scattergl": [
           {
            "marker": {
             "colorbar": {
              "outlinewidth": 0,
              "ticks": ""
             }
            },
            "type": "scattergl"
           }
          ],
          "scattermapbox": [
           {
            "marker": {
             "colorbar": {
              "outlinewidth": 0,
              "ticks": ""
             }
            },
            "type": "scattermapbox"
           }
          ],
          "scatterpolar": [
           {
            "marker": {
             "colorbar": {
              "outlinewidth": 0,
              "ticks": ""
             }
            },
            "type": "scatterpolar"
           }
          ],
          "scatterpolargl": [
           {
            "marker": {
             "colorbar": {
              "outlinewidth": 0,
              "ticks": ""
             }
            },
            "type": "scatterpolargl"
           }
          ],
          "scatterternary": [
           {
            "marker": {
             "colorbar": {
              "outlinewidth": 0,
              "ticks": ""
             }
            },
            "type": "scatterternary"
           }
          ],
          "surface": [
           {
            "colorbar": {
             "outlinewidth": 0,
             "ticks": ""
            },
            "colorscale": [
             [
              0,
              "#0d0887"
             ],
             [
              0.1111111111111111,
              "#46039f"
             ],
             [
              0.2222222222222222,
              "#7201a8"
             ],
             [
              0.3333333333333333,
              "#9c179e"
             ],
             [
              0.4444444444444444,
              "#bd3786"
             ],
             [
              0.5555555555555556,
              "#d8576b"
             ],
             [
              0.6666666666666666,
              "#ed7953"
             ],
             [
              0.7777777777777778,
              "#fb9f3a"
             ],
             [
              0.8888888888888888,
              "#fdca26"
             ],
             [
              1,
              "#f0f921"
             ]
            ],
            "type": "surface"
           }
          ],
          "table": [
           {
            "cells": {
             "fill": {
              "color": "#EBF0F8"
             },
             "line": {
              "color": "white"
             }
            },
            "header": {
             "fill": {
              "color": "#C8D4E3"
             },
             "line": {
              "color": "white"
             }
            },
            "type": "table"
           }
          ]
         },
         "layout": {
          "annotationdefaults": {
           "arrowcolor": "#2a3f5f",
           "arrowhead": 0,
           "arrowwidth": 1
          },
          "coloraxis": {
           "colorbar": {
            "outlinewidth": 0,
            "ticks": ""
           }
          },
          "colorscale": {
           "diverging": [
            [
             0,
             "#8e0152"
            ],
            [
             0.1,
             "#c51b7d"
            ],
            [
             0.2,
             "#de77ae"
            ],
            [
             0.3,
             "#f1b6da"
            ],
            [
             0.4,
             "#fde0ef"
            ],
            [
             0.5,
             "#f7f7f7"
            ],
            [
             0.6,
             "#e6f5d0"
            ],
            [
             0.7,
             "#b8e186"
            ],
            [
             0.8,
             "#7fbc41"
            ],
            [
             0.9,
             "#4d9221"
            ],
            [
             1,
             "#276419"
            ]
           ],
           "sequential": [
            [
             0,
             "#0d0887"
            ],
            [
             0.1111111111111111,
             "#46039f"
            ],
            [
             0.2222222222222222,
             "#7201a8"
            ],
            [
             0.3333333333333333,
             "#9c179e"
            ],
            [
             0.4444444444444444,
             "#bd3786"
            ],
            [
             0.5555555555555556,
             "#d8576b"
            ],
            [
             0.6666666666666666,
             "#ed7953"
            ],
            [
             0.7777777777777778,
             "#fb9f3a"
            ],
            [
             0.8888888888888888,
             "#fdca26"
            ],
            [
             1,
             "#f0f921"
            ]
           ],
           "sequentialminus": [
            [
             0,
             "#0d0887"
            ],
            [
             0.1111111111111111,
             "#46039f"
            ],
            [
             0.2222222222222222,
             "#7201a8"
            ],
            [
             0.3333333333333333,
             "#9c179e"
            ],
            [
             0.4444444444444444,
             "#bd3786"
            ],
            [
             0.5555555555555556,
             "#d8576b"
            ],
            [
             0.6666666666666666,
             "#ed7953"
            ],
            [
             0.7777777777777778,
             "#fb9f3a"
            ],
            [
             0.8888888888888888,
             "#fdca26"
            ],
            [
             1,
             "#f0f921"
            ]
           ]
          },
          "colorway": [
           "#636efa",
           "#EF553B",
           "#00cc96",
           "#ab63fa",
           "#FFA15A",
           "#19d3f3",
           "#FF6692",
           "#B6E880",
           "#FF97FF",
           "#FECB52"
          ],
          "font": {
           "color": "#2a3f5f"
          },
          "geo": {
           "bgcolor": "white",
           "lakecolor": "white",
           "landcolor": "#E5ECF6",
           "showlakes": true,
           "showland": true,
           "subunitcolor": "white"
          },
          "hoverlabel": {
           "align": "left"
          },
          "hovermode": "closest",
          "mapbox": {
           "style": "light"
          },
          "paper_bgcolor": "white",
          "plot_bgcolor": "#E5ECF6",
          "polar": {
           "angularaxis": {
            "gridcolor": "white",
            "linecolor": "white",
            "ticks": ""
           },
           "bgcolor": "#E5ECF6",
           "radialaxis": {
            "gridcolor": "white",
            "linecolor": "white",
            "ticks": ""
           }
          },
          "scene": {
           "xaxis": {
            "backgroundcolor": "#E5ECF6",
            "gridcolor": "white",
            "gridwidth": 2,
            "linecolor": "white",
            "showbackground": true,
            "ticks": "",
            "zerolinecolor": "white"
           },
           "yaxis": {
            "backgroundcolor": "#E5ECF6",
            "gridcolor": "white",
            "gridwidth": 2,
            "linecolor": "white",
            "showbackground": true,
            "ticks": "",
            "zerolinecolor": "white"
           },
           "zaxis": {
            "backgroundcolor": "#E5ECF6",
            "gridcolor": "white",
            "gridwidth": 2,
            "linecolor": "white",
            "showbackground": true,
            "ticks": "",
            "zerolinecolor": "white"
           }
          },
          "shapedefaults": {
           "line": {
            "color": "#2a3f5f"
           }
          },
          "ternary": {
           "aaxis": {
            "gridcolor": "white",
            "linecolor": "white",
            "ticks": ""
           },
           "baxis": {
            "gridcolor": "white",
            "linecolor": "white",
            "ticks": ""
           },
           "bgcolor": "#E5ECF6",
           "caxis": {
            "gridcolor": "white",
            "linecolor": "white",
            "ticks": ""
           }
          },
          "title": {
           "x": 0.05
          },
          "xaxis": {
           "automargin": true,
           "gridcolor": "white",
           "linecolor": "white",
           "ticks": "",
           "title": {
            "standoff": 15
           },
           "zerolinecolor": "white",
           "zerolinewidth": 2
          },
          "yaxis": {
           "automargin": true,
           "gridcolor": "white",
           "linecolor": "white",
           "ticks": "",
           "title": {
            "standoff": 15
           },
           "zerolinecolor": "white",
           "zerolinewidth": 2
          }
         }
        },
        "title": {
         "text": "Title Sentiment"
        }
       }
      },
      "text/html": [
       "<div>\n",
       "        \n",
       "        \n",
       "            <div id=\"9885573d-efed-4921-bc4c-67de73908064\" class=\"plotly-graph-div\" style=\"height:525px; width:100%;\"></div>\n",
       "            <script type=\"text/javascript\">\n",
       "                require([\"plotly\"], function(Plotly) {\n",
       "                    window.PLOTLYENV=window.PLOTLYENV || {};\n",
       "                    \n",
       "                if (document.getElementById(\"9885573d-efed-4921-bc4c-67de73908064\")) {\n",
       "                    Plotly.newPlot(\n",
       "                        '9885573d-efed-4921-bc4c-67de73908064',\n",
       "                        [{\"marker\": {\"color\": \"#EE7674\"}, \"name\": \"Negative\", \"type\": \"bar\", \"x\": [\"Apple\\u2019s Cook Offers Work From Home This Week to Most Staff - Bloomberg\", \"Investor fears rise over recession, bear market as coronavirus spreads in U.S. - Reuters\", \"Bitcoin Price Consolidating, is a Big Move About to Happen? - Bitcoinist\", \"Family accidentally orders 12 years' worth of toilet paper - Fox News\", \"New coronavirus case at OHSU Hospital in Portland - OregonLive\", \"Hand sanitizer and coronavirus: Not all of it will work - Mashable\", \"United Airlines Negatively Alters Refund Policy - Simple Flying\", \"Publix limiting customers on purchases of hand soaps, sanitizers and more - WPTV.com\", \"Biogen orders employees to work from home after employees at Boston meeting test positive for coronavirus - MarketWatch\", \"How Is the U.S. Economy Doing? Ways to Give the Economy a Boost. - Barron's\", \"Putin Targets U.S. Fracking With Oil Price War, in New Threat to Trump's Election-Year Economy - Newsweek\", \"Brian Stelter examines media coverage of coronavirus - CNN\", \"Amid coronavirus outbreak, Carnival Cruise Line offers on-ship credits to passengers who don't reschedule - Fox News\", \"Coronavirus fears shouldn't stop you from adding to your investment portfolio - USA TODAY\", \"Coronavirus outbreak means Costco shoppers can say goodbye to free samples - Fox Business\", \"Cancel Culture - How coronavirus is affecting the arts scene in Israel - The Jerusalem Post\", \"Amtrak To Halt Non-stop Train From D.C. To New York City Amid Coronavirus Panic - The Daily Wire\", \"Please Don't Try to Make Hand Sanitizer Using Vodka - Lifehacker\", \"The fate of airline fare deals during the coronavirus crisis - SF Gate\", \"Police order crowded Art Van Furniture store to close early: \\u2018We could come close to a riot\\u2019 - MLive.com\", \"Gilead Sciences Could Be the First to Beat the Coronavirus - Yahoo Finance\", \"Napping \\u2013 You snooze, you win! - CBS News\", \"Cord Cutting This Week #286 \\u2013 Cheaper Hulu With Live TV Plans? AT&T\\u2019s $15 TV Service, & More - Cord Cutters News, LLC\", \"The eurozone is too complacent about the coronavirus threat - Financial Times\", \"Parts of financial markets are pricing in a global recession - CNN\", \"'Talk ourselves into a recession': Bank in coronavirus hotspot has doubts over Fed rate cut - Yahoo Finance\", \"Workers Could Be In Danger. Here\\u2019s the Coming Data That Will Tell the Story. - Barron's\", \"The Must-See CBD Quote From the Head of the FDA - Motley Fool\", \"Anxious shoppers across the US line up at stores to stockpile water, toilet paper - Daily Mail\", \"Experts warn EPA making 'secret science' rule more restrictive | TheHill - The Hill\", \"Should You Buy or Sell Airline Stocks Right Now? - Motley Fool\", \"In the Wake of Coronavirus, Should You Be Buying or Selling Stocks Right Now? - Motley Fool\", \"Some good news for Amazon's JEDI challenge - Seeking Alpha\", \"Computer systems at UK and UK HealthCare hobbled by massive, month-long cyber attack - Lexington Herald Leader\", \"Coronavirus: Tesco rations essential shopping items - BBC News\", \"Warren Buffett's Advice on How Investors Should Respond to a Super-Contagious Disease - Motley Fool\", \"2 Reasons to Retire Early, and 2 Reasons Not To - The Motley Fool\", \"Hawaii travel industry offers deals to offset impact of coronavirus anxiety - Honolulu Star-Advertiser\", \"Powerball Results, Numbers for 3/7/20: Did Anyone Win the $100 Million Jackpot on Saturday (Last) Night? - Newsweek\", \"Tesla Giga Berlin in stunning 3D render is a sneak peek of Elon Musk\\u2019s grand plans in Germany - Teslarati\", \"US Mortgage Rates Fall to Record Lows. The Year of Record Breaking May Well Continue - Yahoo Finance\", \"Lieutenant Dan the two-legged hound is competing to be the next Cadbury Bunny - CNN\", \"India's Yes Bank founder arrested on money laundering allegations - Bangkok Post\", \"Weighing The Week Ahead: Why The Right Time Frame Is Crucial - Seeking Alpha\", \"These 2 Steps Will Help You Retire Early - The Motley Fool\", \"EXCLUSIVE: CT woman worries her grandmother with congestive heart failure aboard cruise ship with 21 cases of coronavirus is vulnerable to virus - WTNH.com\", \"Bitcoin Boon Likely amid Plummeting Treasury Yields, \\u2018Policy Failure\\u2019 - BeInCrypto\", \"John Catsimatidis wants to build paper bag factory in upstate New York - New York Post \", \"Evansville Olive Garden employee quits job, will apparently file lawsuit - Courier & Press\", \"Big Tech Will Pay Its Hourly Workers Even as Full-Time Staff Stays Home During Coronavirus Outbreak - Gizmodo\", \"Confirmed: Lufthansa Will Ground Airbus A380 Fleet Until at Least May, Possibly Extended into June - Paddle Your Own Kanoo\", \"China exports plunge, but worst likely still to come - Seeking Alpha\", \"Gas prices dropping in N.J. as coronavirus concern cuts into oil production - NJ.com\", \"Blue Cross Blue Shield expands coverage for COVID-19 screening tests - KARE11.com\", \"Dairy Queen celebrates 80th birthday with 80\\u00a2 blizzards deal - WJHL-TV News Channel 11\", \"Wegmans limiting purchase of cleaning essentials due to high demand - WTVD-TV\", \"Passengers wonder what's next as 42 Minnesotans remain stuck on quarantined cruise ship - FOX 9\", \"Long Beach: Carnival cruise ship's disembarkation suspended due to passenger's 'medical matter' - KABC-TV\", \"Man filmed licking tub of ice cream gets 30 days in jail - Q13 News Seattle\", \"See the high school girls basketball regional brackets - MLive.com\", \"JPMorgan CEO\\u2019s Health Emergency Casts Shadow on China Plans - Bloomberg\", \"Here are Friday\\u2019s worst stock-market performers as oil takes the market down - MarketWatch\", \"Why companies like Microsoft and Google are betting big on Africa - CNBC\", \"SBI readies Rs 10,000-crore warchest to rescue Yes Bank - The Tribune India\", \"Seattle Starbucks employee diagnosed with coronavirus - New York Post \", \"The 4 Best Barbecue Spots In Irvine - CBS Los Angeles\", \"Coronavirus-related scams: AG, locals let you know what to watch out for - The Daily Courier\", \"Amazon plans to prosecute sellers for price gouging during coronavirus outbreak - CNET\", \"Why Exxon\\u2019s CEO \\u2018has his head buried in the tar sands\\u2019 - Electrek\", \"Does Credit Card Travel Insurance Cover Coronavirus Cancellations? - Lifehacker\"], \"y\": [0.0, 0.337, 0.0, 0.18, 0.0, 0.0, 0.0, 0.0, 0.0, 0.0, 0.343, 0.0, 0.0, 0.178, 0.0, 0.133, 0.171, 0.0, 0.272, 0.0, 0.0, 0.0, 0.073, 0.343, 0.237, 0.235, 0.195, 0.209, 0.118, 0.113, 0.225, 0.162, 0.0, 0.171, 0.0, 0.195, 0.225, 0.124, 0.0, 0.0, 0.095, 0.0, 0.209, 0.0, 0.213, 0.273, 0.0, 0.0, 0.147, 0.08, 0.0, 0.361, 0.155, 0.0, 0.0, 0.13, 0.133, 0.204, 0.0, 0.0, 0.224, 0.255, 0.0, 0.0, 0.0, 0.0, 0.213, 0.188, 0.0, 0.0]}, {\"marker\": {\"color\": \"#247BA0\"}, \"name\": \"Neutral\", \"type\": \"bar\", \"x\": [\"Apple\\u2019s Cook Offers Work From Home This Week to Most Staff - Bloomberg\", \"Investor fears rise over recession, bear market as coronavirus spreads in U.S. - Reuters\", \"Bitcoin Price Consolidating, is a Big Move About to Happen? - Bitcoinist\", \"Family accidentally orders 12 years' worth of toilet paper - Fox News\", \"New coronavirus case at OHSU Hospital in Portland - OregonLive\", \"Hand sanitizer and coronavirus: Not all of it will work - Mashable\", \"United Airlines Negatively Alters Refund Policy - Simple Flying\", \"Publix limiting customers on purchases of hand soaps, sanitizers and more - WPTV.com\", \"Biogen orders employees to work from home after employees at Boston meeting test positive for coronavirus - MarketWatch\", \"How Is the U.S. Economy Doing? Ways to Give the Economy a Boost. - Barron's\", \"Putin Targets U.S. Fracking With Oil Price War, in New Threat to Trump's Election-Year Economy - Newsweek\", \"Brian Stelter examines media coverage of coronavirus - CNN\", \"Amid coronavirus outbreak, Carnival Cruise Line offers on-ship credits to passengers who don't reschedule - Fox News\", \"Coronavirus fears shouldn't stop you from adding to your investment portfolio - USA TODAY\", \"Coronavirus outbreak means Costco shoppers can say goodbye to free samples - Fox Business\", \"Cancel Culture - How coronavirus is affecting the arts scene in Israel - The Jerusalem Post\", \"Amtrak To Halt Non-stop Train From D.C. To New York City Amid Coronavirus Panic - The Daily Wire\", \"Please Don't Try to Make Hand Sanitizer Using Vodka - Lifehacker\", \"The fate of airline fare deals during the coronavirus crisis - SF Gate\", \"Police order crowded Art Van Furniture store to close early: \\u2018We could come close to a riot\\u2019 - MLive.com\", \"Gilead Sciences Could Be the First to Beat the Coronavirus - Yahoo Finance\", \"Napping \\u2013 You snooze, you win! - CBS News\", \"Cord Cutting This Week #286 \\u2013 Cheaper Hulu With Live TV Plans? AT&T\\u2019s $15 TV Service, & More - Cord Cutters News, LLC\", \"The eurozone is too complacent about the coronavirus threat - Financial Times\", \"Parts of financial markets are pricing in a global recession - CNN\", \"'Talk ourselves into a recession': Bank in coronavirus hotspot has doubts over Fed rate cut - Yahoo Finance\", \"Workers Could Be In Danger. Here\\u2019s the Coming Data That Will Tell the Story. - Barron's\", \"The Must-See CBD Quote From the Head of the FDA - Motley Fool\", \"Anxious shoppers across the US line up at stores to stockpile water, toilet paper - Daily Mail\", \"Experts warn EPA making 'secret science' rule more restrictive | TheHill - The Hill\", \"Should You Buy or Sell Airline Stocks Right Now? - Motley Fool\", \"In the Wake of Coronavirus, Should You Be Buying or Selling Stocks Right Now? - Motley Fool\", \"Some good news for Amazon's JEDI challenge - Seeking Alpha\", \"Computer systems at UK and UK HealthCare hobbled by massive, month-long cyber attack - Lexington Herald Leader\", \"Coronavirus: Tesco rations essential shopping items - BBC News\", \"Warren Buffett's Advice on How Investors Should Respond to a Super-Contagious Disease - Motley Fool\", \"2 Reasons to Retire Early, and 2 Reasons Not To - The Motley Fool\", \"Hawaii travel industry offers deals to offset impact of coronavirus anxiety - Honolulu Star-Advertiser\", \"Powerball Results, Numbers for 3/7/20: Did Anyone Win the $100 Million Jackpot on Saturday (Last) Night? - Newsweek\", \"Tesla Giga Berlin in stunning 3D render is a sneak peek of Elon Musk\\u2019s grand plans in Germany - Teslarati\", \"US Mortgage Rates Fall to Record Lows. The Year of Record Breaking May Well Continue - Yahoo Finance\", \"Lieutenant Dan the two-legged hound is competing to be the next Cadbury Bunny - CNN\", \"India's Yes Bank founder arrested on money laundering allegations - Bangkok Post\", \"Weighing The Week Ahead: Why The Right Time Frame Is Crucial - Seeking Alpha\", \"These 2 Steps Will Help You Retire Early - The Motley Fool\", \"EXCLUSIVE: CT woman worries her grandmother with congestive heart failure aboard cruise ship with 21 cases of coronavirus is vulnerable to virus - WTNH.com\", \"Bitcoin Boon Likely amid Plummeting Treasury Yields, \\u2018Policy Failure\\u2019 - BeInCrypto\", \"John Catsimatidis wants to build paper bag factory in upstate New York - New York Post \", \"Evansville Olive Garden employee quits job, will apparently file lawsuit - Courier & Press\", \"Big Tech Will Pay Its Hourly Workers Even as Full-Time Staff Stays Home During Coronavirus Outbreak - Gizmodo\", \"Confirmed: Lufthansa Will Ground Airbus A380 Fleet Until at Least May, Possibly Extended into June - Paddle Your Own Kanoo\", \"China exports plunge, but worst likely still to come - Seeking Alpha\", \"Gas prices dropping in N.J. as coronavirus concern cuts into oil production - NJ.com\", \"Blue Cross Blue Shield expands coverage for COVID-19 screening tests - KARE11.com\", \"Dairy Queen celebrates 80th birthday with 80\\u00a2 blizzards deal - WJHL-TV News Channel 11\", \"Wegmans limiting purchase of cleaning essentials due to high demand - WTVD-TV\", \"Passengers wonder what's next as 42 Minnesotans remain stuck on quarantined cruise ship - FOX 9\", \"Long Beach: Carnival cruise ship's disembarkation suspended due to passenger's 'medical matter' - KABC-TV\", \"Man filmed licking tub of ice cream gets 30 days in jail - Q13 News Seattle\", \"See the high school girls basketball regional brackets - MLive.com\", \"JPMorgan CEO\\u2019s Health Emergency Casts Shadow on China Plans - Bloomberg\", \"Here are Friday\\u2019s worst stock-market performers as oil takes the market down - MarketWatch\", \"Why companies like Microsoft and Google are betting big on Africa - CNBC\", \"SBI readies Rs 10,000-crore warchest to rescue Yes Bank - The Tribune India\", \"Seattle Starbucks employee diagnosed with coronavirus - New York Post \", \"The 4 Best Barbecue Spots In Irvine - CBS Los Angeles\", \"Coronavirus-related scams: AG, locals let you know what to watch out for - The Daily Courier\", \"Amazon plans to prosecute sellers for price gouging during coronavirus outbreak - CNET\", \"Why Exxon\\u2019s CEO \\u2018has his head buried in the tar sands\\u2019 - Electrek\", \"Does Credit Card Travel Insurance Cover Coronavirus Cancellations? - Lifehacker\"], \"y\": [1.0, 0.663, 1.0, 0.677, 1.0, 0.758, 0.714, 0.775, 0.816, 0.816, 0.657, 1.0, 0.857, 0.701, 0.784, 0.867, 0.829, 0.593, 0.728, 1.0, 1.0, 0.595, 0.927, 0.657, 0.763, 0.765, 0.805, 0.791, 0.882, 0.887, 0.775, 0.838, 0.625, 0.829, 1.0, 0.805, 0.775, 0.876, 0.808, 0.741, 0.794, 1.0, 0.608, 1.0, 0.588, 0.614, 0.833, 1.0, 0.853, 0.92, 1.0, 0.639, 0.845, 0.877, 0.764, 0.87, 0.867, 0.724, 1.0, 1.0, 0.776, 0.745, 0.815, 0.625, 1.0, 0.656, 0.787, 0.694, 1.0, 0.755]}, {\"name\": \"Positive\", \"type\": \"bar\", \"x\": [\"Apple\\u2019s Cook Offers Work From Home This Week to Most Staff - Bloomberg\", \"Investor fears rise over recession, bear market as coronavirus spreads in U.S. - Reuters\", \"Bitcoin Price Consolidating, is a Big Move About to Happen? - Bitcoinist\", \"Family accidentally orders 12 years' worth of toilet paper - Fox News\", \"New coronavirus case at OHSU Hospital in Portland - OregonLive\", \"Hand sanitizer and coronavirus: Not all of it will work - Mashable\", \"United Airlines Negatively Alters Refund Policy - Simple Flying\", \"Publix limiting customers on purchases of hand soaps, sanitizers and more - WPTV.com\", \"Biogen orders employees to work from home after employees at Boston meeting test positive for coronavirus - MarketWatch\", \"How Is the U.S. Economy Doing? Ways to Give the Economy a Boost. - Barron's\", \"Putin Targets U.S. Fracking With Oil Price War, in New Threat to Trump's Election-Year Economy - Newsweek\", \"Brian Stelter examines media coverage of coronavirus - CNN\", \"Amid coronavirus outbreak, Carnival Cruise Line offers on-ship credits to passengers who don't reschedule - Fox News\", \"Coronavirus fears shouldn't stop you from adding to your investment portfolio - USA TODAY\", \"Coronavirus outbreak means Costco shoppers can say goodbye to free samples - Fox Business\", \"Cancel Culture - How coronavirus is affecting the arts scene in Israel - The Jerusalem Post\", \"Amtrak To Halt Non-stop Train From D.C. To New York City Amid Coronavirus Panic - The Daily Wire\", \"Please Don't Try to Make Hand Sanitizer Using Vodka - Lifehacker\", \"The fate of airline fare deals during the coronavirus crisis - SF Gate\", \"Police order crowded Art Van Furniture store to close early: \\u2018We could come close to a riot\\u2019 - MLive.com\", \"Gilead Sciences Could Be the First to Beat the Coronavirus - Yahoo Finance\", \"Napping \\u2013 You snooze, you win! - CBS News\", \"Cord Cutting This Week #286 \\u2013 Cheaper Hulu With Live TV Plans? AT&T\\u2019s $15 TV Service, & More - Cord Cutters News, LLC\", \"The eurozone is too complacent about the coronavirus threat - Financial Times\", \"Parts of financial markets are pricing in a global recession - CNN\", \"'Talk ourselves into a recession': Bank in coronavirus hotspot has doubts over Fed rate cut - Yahoo Finance\", \"Workers Could Be In Danger. Here\\u2019s the Coming Data That Will Tell the Story. - Barron's\", \"The Must-See CBD Quote From the Head of the FDA - Motley Fool\", \"Anxious shoppers across the US line up at stores to stockpile water, toilet paper - Daily Mail\", \"Experts warn EPA making 'secret science' rule more restrictive | TheHill - The Hill\", \"Should You Buy or Sell Airline Stocks Right Now? - Motley Fool\", \"In the Wake of Coronavirus, Should You Be Buying or Selling Stocks Right Now? - Motley Fool\", \"Some good news for Amazon's JEDI challenge - Seeking Alpha\", \"Computer systems at UK and UK HealthCare hobbled by massive, month-long cyber attack - Lexington Herald Leader\", \"Coronavirus: Tesco rations essential shopping items - BBC News\", \"Warren Buffett's Advice on How Investors Should Respond to a Super-Contagious Disease - Motley Fool\", \"2 Reasons to Retire Early, and 2 Reasons Not To - The Motley Fool\", \"Hawaii travel industry offers deals to offset impact of coronavirus anxiety - Honolulu Star-Advertiser\", \"Powerball Results, Numbers for 3/7/20: Did Anyone Win the $100 Million Jackpot on Saturday (Last) Night? - Newsweek\", \"Tesla Giga Berlin in stunning 3D render is a sneak peek of Elon Musk\\u2019s grand plans in Germany - Teslarati\", \"US Mortgage Rates Fall to Record Lows. The Year of Record Breaking May Well Continue - Yahoo Finance\", \"Lieutenant Dan the two-legged hound is competing to be the next Cadbury Bunny - CNN\", \"India's Yes Bank founder arrested on money laundering allegations - Bangkok Post\", \"Weighing The Week Ahead: Why The Right Time Frame Is Crucial - Seeking Alpha\", \"These 2 Steps Will Help You Retire Early - The Motley Fool\", \"EXCLUSIVE: CT woman worries her grandmother with congestive heart failure aboard cruise ship with 21 cases of coronavirus is vulnerable to virus - WTNH.com\", \"Bitcoin Boon Likely amid Plummeting Treasury Yields, \\u2018Policy Failure\\u2019 - BeInCrypto\", \"John Catsimatidis wants to build paper bag factory in upstate New York - New York Post \", \"Evansville Olive Garden employee quits job, will apparently file lawsuit - Courier & Press\", \"Big Tech Will Pay Its Hourly Workers Even as Full-Time Staff Stays Home During Coronavirus Outbreak - Gizmodo\", \"Confirmed: Lufthansa Will Ground Airbus A380 Fleet Until at Least May, Possibly Extended into June - Paddle Your Own Kanoo\", \"China exports plunge, but worst likely still to come - Seeking Alpha\", \"Gas prices dropping in N.J. as coronavirus concern cuts into oil production - NJ.com\", \"Blue Cross Blue Shield expands coverage for COVID-19 screening tests - KARE11.com\", \"Dairy Queen celebrates 80th birthday with 80\\u00a2 blizzards deal - WJHL-TV News Channel 11\", \"Wegmans limiting purchase of cleaning essentials due to high demand - WTVD-TV\", \"Passengers wonder what's next as 42 Minnesotans remain stuck on quarantined cruise ship - FOX 9\", \"Long Beach: Carnival cruise ship's disembarkation suspended due to passenger's 'medical matter' - KABC-TV\", \"Man filmed licking tub of ice cream gets 30 days in jail - Q13 News Seattle\", \"See the high school girls basketball regional brackets - MLive.com\", \"JPMorgan CEO\\u2019s Health Emergency Casts Shadow on China Plans - Bloomberg\", \"Here are Friday\\u2019s worst stock-market performers as oil takes the market down - MarketWatch\", \"Why companies like Microsoft and Google are betting big on Africa - CNBC\", \"SBI readies Rs 10,000-crore warchest to rescue Yes Bank - The Tribune India\", \"Seattle Starbucks employee diagnosed with coronavirus - New York Post \", \"The 4 Best Barbecue Spots In Irvine - CBS Los Angeles\", \"Coronavirus-related scams: AG, locals let you know what to watch out for - The Daily Courier\", \"Amazon plans to prosecute sellers for price gouging during coronavirus outbreak - CNET\", \"Why Exxon\\u2019s CEO \\u2018has his head buried in the tar sands\\u2019 - Electrek\", \"Does Credit Card Travel Insurance Cover Coronavirus Cancellations? - Lifehacker\"], \"y\": [0.0, 0.0, 0.0, 0.143, 0.0, 0.242, 0.286, 0.225, 0.184, 0.184, 0.0, 0.0, 0.143, 0.12, 0.216, 0.0, 0.0, 0.407, 0.0, 0.0, 0.0, 0.405, 0.0, 0.0, 0.0, 0.0, 0.0, 0.0, 0.0, 0.0, 0.0, 0.0, 0.375, 0.0, 0.0, 0.0, 0.0, 0.0, 0.192, 0.259, 0.111, 0.0, 0.182, 0.0, 0.199, 0.114, 0.167, 0.0, 0.0, 0.0, 0.0, 0.0, 0.0, 0.123, 0.236, 0.0, 0.0, 0.072, 0.0, 0.0, 0.0, 0.0, 0.185, 0.375, 0.0, 0.344, 0.0, 0.118, 0.0, 0.245]}, {\"name\": \"Compound\", \"type\": \"bar\", \"x\": [\"Apple\\u2019s Cook Offers Work From Home This Week to Most Staff - Bloomberg\", \"Investor fears rise over recession, bear market as coronavirus spreads in U.S. - Reuters\", \"Bitcoin Price Consolidating, is a Big Move About to Happen? - Bitcoinist\", \"Family accidentally orders 12 years' worth of toilet paper - Fox News\", \"New coronavirus case at OHSU Hospital in Portland - OregonLive\", \"Hand sanitizer and coronavirus: Not all of it will work - Mashable\", \"United Airlines Negatively Alters Refund Policy - Simple Flying\", \"Publix limiting customers on purchases of hand soaps, sanitizers and more - WPTV.com\", \"Biogen orders employees to work from home after employees at Boston meeting test positive for coronavirus - MarketWatch\", \"How Is the U.S. Economy Doing? Ways to Give the Economy a Boost. - Barron's\", \"Putin Targets U.S. Fracking With Oil Price War, in New Threat to Trump's Election-Year Economy - Newsweek\", \"Brian Stelter examines media coverage of coronavirus - CNN\", \"Amid coronavirus outbreak, Carnival Cruise Line offers on-ship credits to passengers who don't reschedule - Fox News\", \"Coronavirus fears shouldn't stop you from adding to your investment portfolio - USA TODAY\", \"Coronavirus outbreak means Costco shoppers can say goodbye to free samples - Fox Business\", \"Cancel Culture - How coronavirus is affecting the arts scene in Israel - The Jerusalem Post\", \"Amtrak To Halt Non-stop Train From D.C. To New York City Amid Coronavirus Panic - The Daily Wire\", \"Please Don't Try to Make Hand Sanitizer Using Vodka - Lifehacker\", \"The fate of airline fare deals during the coronavirus crisis - SF Gate\", \"Police order crowded Art Van Furniture store to close early: \\u2018We could come close to a riot\\u2019 - MLive.com\", \"Gilead Sciences Could Be the First to Beat the Coronavirus - Yahoo Finance\", \"Napping \\u2013 You snooze, you win! - CBS News\", \"Cord Cutting This Week #286 \\u2013 Cheaper Hulu With Live TV Plans? AT&T\\u2019s $15 TV Service, & More - Cord Cutters News, LLC\", \"The eurozone is too complacent about the coronavirus threat - Financial Times\", \"Parts of financial markets are pricing in a global recession - CNN\", \"'Talk ourselves into a recession': Bank in coronavirus hotspot has doubts over Fed rate cut - Yahoo Finance\", \"Workers Could Be In Danger. Here\\u2019s the Coming Data That Will Tell the Story. - Barron's\", \"The Must-See CBD Quote From the Head of the FDA - Motley Fool\", \"Anxious shoppers across the US line up at stores to stockpile water, toilet paper - Daily Mail\", \"Experts warn EPA making 'secret science' rule more restrictive | TheHill - The Hill\", \"Should You Buy or Sell Airline Stocks Right Now? - Motley Fool\", \"In the Wake of Coronavirus, Should You Be Buying or Selling Stocks Right Now? - Motley Fool\", \"Some good news for Amazon's JEDI challenge - Seeking Alpha\", \"Computer systems at UK and UK HealthCare hobbled by massive, month-long cyber attack - Lexington Herald Leader\", \"Coronavirus: Tesco rations essential shopping items - BBC News\", \"Warren Buffett's Advice on How Investors Should Respond to a Super-Contagious Disease - Motley Fool\", \"2 Reasons to Retire Early, and 2 Reasons Not To - The Motley Fool\", \"Hawaii travel industry offers deals to offset impact of coronavirus anxiety - Honolulu Star-Advertiser\", \"Powerball Results, Numbers for 3/7/20: Did Anyone Win the $100 Million Jackpot on Saturday (Last) Night? - Newsweek\", \"Tesla Giga Berlin in stunning 3D render is a sneak peek of Elon Musk\\u2019s grand plans in Germany - Teslarati\", \"US Mortgage Rates Fall to Record Lows. The Year of Record Breaking May Well Continue - Yahoo Finance\", \"Lieutenant Dan the two-legged hound is competing to be the next Cadbury Bunny - CNN\", \"India's Yes Bank founder arrested on money laundering allegations - Bangkok Post\", \"Weighing The Week Ahead: Why The Right Time Frame Is Crucial - Seeking Alpha\", \"These 2 Steps Will Help You Retire Early - The Motley Fool\", \"EXCLUSIVE: CT woman worries her grandmother with congestive heart failure aboard cruise ship with 21 cases of coronavirus is vulnerable to virus - WTNH.com\", \"Bitcoin Boon Likely amid Plummeting Treasury Yields, \\u2018Policy Failure\\u2019 - BeInCrypto\", \"John Catsimatidis wants to build paper bag factory in upstate New York - New York Post \", \"Evansville Olive Garden employee quits job, will apparently file lawsuit - Courier & Press\", \"Big Tech Will Pay Its Hourly Workers Even as Full-Time Staff Stays Home During Coronavirus Outbreak - Gizmodo\", \"Confirmed: Lufthansa Will Ground Airbus A380 Fleet Until at Least May, Possibly Extended into June - Paddle Your Own Kanoo\", \"China exports plunge, but worst likely still to come - Seeking Alpha\", \"Gas prices dropping in N.J. as coronavirus concern cuts into oil production - NJ.com\", \"Blue Cross Blue Shield expands coverage for COVID-19 screening tests - KARE11.com\", \"Dairy Queen celebrates 80th birthday with 80\\u00a2 blizzards deal - WJHL-TV News Channel 11\", \"Wegmans limiting purchase of cleaning essentials due to high demand - WTVD-TV\", \"Passengers wonder what's next as 42 Minnesotans remain stuck on quarantined cruise ship - FOX 9\", \"Long Beach: Carnival cruise ship's disembarkation suspended due to passenger's 'medical matter' - KABC-TV\", \"Man filmed licking tub of ice cream gets 30 days in jail - Q13 News Seattle\", \"See the high school girls basketball regional brackets - MLive.com\", \"JPMorgan CEO\\u2019s Health Emergency Casts Shadow on China Plans - Bloomberg\", \"Here are Friday\\u2019s worst stock-market performers as oil takes the market down - MarketWatch\", \"Why companies like Microsoft and Google are betting big on Africa - CNBC\", \"SBI readies Rs 10,000-crore warchest to rescue Yes Bank - The Tribune India\", \"Seattle Starbucks employee diagnosed with coronavirus - New York Post \", \"The 4 Best Barbecue Spots In Irvine - CBS Los Angeles\", \"Coronavirus-related scams: AG, locals let you know what to watch out for - The Daily Courier\", \"Amazon plans to prosecute sellers for price gouging during coronavirus outbreak - CNET\", \"Why Exxon\\u2019s CEO \\u2018has his head buried in the tar sands\\u2019 - Electrek\", \"Does Credit Card Travel Insurance Cover Coronavirus Cancellations? - Lifehacker\"], \"y\": [0.0, -0.6808, 0.0, -0.128, 0.0, 0.4939, 0.4215, 0.4939, 0.5574, 0.4019, -0.8074, 0.0, 0.3612, -0.2292, 0.5106, -0.25, -0.5106, 0.6705, -0.6249, 0.0, 0.0, 0.6239, -0.128, -0.5719, -0.4215, -0.5106, -0.5267, -0.4404, -0.25, -0.1027, -0.4404, -0.4404, 0.4939, -0.4767, 0.0, -0.4404, -0.4404, -0.1779, 0.5859, 0.6808, 0.0772, 0.0, -0.1027, 0.0, -0.0516, -0.6875, 0.2023, 0.0, -0.2263, -0.1027, 0.0, -0.7684, -0.296, 0.1027, 0.5719, -0.128, -0.25, -0.4588, 0.0, 0.0, -0.3818, -0.6249, 0.3612, 0.7184, 0.0, 0.6369, -0.5859, -0.25, 0.0, 0.3818]}],\n",
       "                        {\"barmode\": \"stack\", \"template\": {\"data\": {\"bar\": [{\"error_x\": {\"color\": \"#2a3f5f\"}, \"error_y\": {\"color\": \"#2a3f5f\"}, \"marker\": {\"line\": {\"color\": \"#E5ECF6\", \"width\": 0.5}}, \"type\": \"bar\"}], \"barpolar\": [{\"marker\": {\"line\": {\"color\": \"#E5ECF6\", \"width\": 0.5}}, \"type\": \"barpolar\"}], \"carpet\": [{\"aaxis\": {\"endlinecolor\": \"#2a3f5f\", \"gridcolor\": \"white\", \"linecolor\": \"white\", \"minorgridcolor\": \"white\", \"startlinecolor\": \"#2a3f5f\"}, \"baxis\": {\"endlinecolor\": \"#2a3f5f\", \"gridcolor\": \"white\", \"linecolor\": \"white\", \"minorgridcolor\": \"white\", \"startlinecolor\": \"#2a3f5f\"}, \"type\": \"carpet\"}], \"choropleth\": [{\"colorbar\": {\"outlinewidth\": 0, \"ticks\": \"\"}, \"type\": \"choropleth\"}], \"contour\": [{\"colorbar\": {\"outlinewidth\": 0, \"ticks\": \"\"}, \"colorscale\": [[0.0, \"#0d0887\"], [0.1111111111111111, \"#46039f\"], [0.2222222222222222, \"#7201a8\"], [0.3333333333333333, \"#9c179e\"], [0.4444444444444444, \"#bd3786\"], [0.5555555555555556, \"#d8576b\"], [0.6666666666666666, \"#ed7953\"], [0.7777777777777778, \"#fb9f3a\"], [0.8888888888888888, \"#fdca26\"], [1.0, \"#f0f921\"]], \"type\": \"contour\"}], \"contourcarpet\": [{\"colorbar\": {\"outlinewidth\": 0, \"ticks\": \"\"}, \"type\": \"contourcarpet\"}], \"heatmap\": [{\"colorbar\": {\"outlinewidth\": 0, \"ticks\": \"\"}, \"colorscale\": [[0.0, \"#0d0887\"], [0.1111111111111111, \"#46039f\"], [0.2222222222222222, \"#7201a8\"], [0.3333333333333333, \"#9c179e\"], [0.4444444444444444, \"#bd3786\"], [0.5555555555555556, \"#d8576b\"], [0.6666666666666666, \"#ed7953\"], [0.7777777777777778, \"#fb9f3a\"], [0.8888888888888888, \"#fdca26\"], [1.0, \"#f0f921\"]], \"type\": \"heatmap\"}], \"heatmapgl\": [{\"colorbar\": {\"outlinewidth\": 0, \"ticks\": \"\"}, \"colorscale\": [[0.0, \"#0d0887\"], [0.1111111111111111, \"#46039f\"], [0.2222222222222222, \"#7201a8\"], [0.3333333333333333, \"#9c179e\"], [0.4444444444444444, \"#bd3786\"], [0.5555555555555556, \"#d8576b\"], [0.6666666666666666, \"#ed7953\"], [0.7777777777777778, \"#fb9f3a\"], [0.8888888888888888, \"#fdca26\"], [1.0, \"#f0f921\"]], \"type\": \"heatmapgl\"}], \"histogram\": [{\"marker\": {\"colorbar\": {\"outlinewidth\": 0, \"ticks\": \"\"}}, \"type\": \"histogram\"}], \"histogram2d\": [{\"colorbar\": {\"outlinewidth\": 0, \"ticks\": \"\"}, \"colorscale\": [[0.0, \"#0d0887\"], [0.1111111111111111, \"#46039f\"], [0.2222222222222222, \"#7201a8\"], [0.3333333333333333, \"#9c179e\"], [0.4444444444444444, \"#bd3786\"], [0.5555555555555556, \"#d8576b\"], [0.6666666666666666, \"#ed7953\"], [0.7777777777777778, \"#fb9f3a\"], [0.8888888888888888, \"#fdca26\"], [1.0, \"#f0f921\"]], \"type\": \"histogram2d\"}], \"histogram2dcontour\": [{\"colorbar\": {\"outlinewidth\": 0, \"ticks\": \"\"}, \"colorscale\": [[0.0, \"#0d0887\"], [0.1111111111111111, \"#46039f\"], [0.2222222222222222, \"#7201a8\"], [0.3333333333333333, \"#9c179e\"], [0.4444444444444444, \"#bd3786\"], [0.5555555555555556, \"#d8576b\"], [0.6666666666666666, \"#ed7953\"], [0.7777777777777778, \"#fb9f3a\"], [0.8888888888888888, \"#fdca26\"], [1.0, \"#f0f921\"]], \"type\": \"histogram2dcontour\"}], \"mesh3d\": [{\"colorbar\": {\"outlinewidth\": 0, \"ticks\": \"\"}, \"type\": \"mesh3d\"}], \"parcoords\": [{\"line\": {\"colorbar\": {\"outlinewidth\": 0, \"ticks\": \"\"}}, \"type\": \"parcoords\"}], \"pie\": [{\"automargin\": true, \"type\": \"pie\"}], \"scatter\": [{\"marker\": {\"colorbar\": {\"outlinewidth\": 0, \"ticks\": \"\"}}, \"type\": \"scatter\"}], \"scatter3d\": [{\"line\": {\"colorbar\": {\"outlinewidth\": 0, \"ticks\": \"\"}}, \"marker\": {\"colorbar\": {\"outlinewidth\": 0, \"ticks\": \"\"}}, \"type\": \"scatter3d\"}], \"scattercarpet\": [{\"marker\": {\"colorbar\": {\"outlinewidth\": 0, \"ticks\": \"\"}}, \"type\": \"scattercarpet\"}], \"scattergeo\": [{\"marker\": {\"colorbar\": {\"outlinewidth\": 0, \"ticks\": \"\"}}, \"type\": \"scattergeo\"}], \"scattergl\": [{\"marker\": {\"colorbar\": {\"outlinewidth\": 0, \"ticks\": \"\"}}, \"type\": \"scattergl\"}], \"scattermapbox\": [{\"marker\": {\"colorbar\": {\"outlinewidth\": 0, \"ticks\": \"\"}}, \"type\": \"scattermapbox\"}], \"scatterpolar\": [{\"marker\": {\"colorbar\": {\"outlinewidth\": 0, \"ticks\": \"\"}}, \"type\": \"scatterpolar\"}], \"scatterpolargl\": [{\"marker\": {\"colorbar\": {\"outlinewidth\": 0, \"ticks\": \"\"}}, \"type\": \"scatterpolargl\"}], \"scatterternary\": [{\"marker\": {\"colorbar\": {\"outlinewidth\": 0, \"ticks\": \"\"}}, \"type\": \"scatterternary\"}], \"surface\": [{\"colorbar\": {\"outlinewidth\": 0, \"ticks\": \"\"}, \"colorscale\": [[0.0, \"#0d0887\"], [0.1111111111111111, \"#46039f\"], [0.2222222222222222, \"#7201a8\"], [0.3333333333333333, \"#9c179e\"], [0.4444444444444444, \"#bd3786\"], [0.5555555555555556, \"#d8576b\"], [0.6666666666666666, \"#ed7953\"], [0.7777777777777778, \"#fb9f3a\"], [0.8888888888888888, \"#fdca26\"], [1.0, \"#f0f921\"]], \"type\": \"surface\"}], \"table\": [{\"cells\": {\"fill\": {\"color\": \"#EBF0F8\"}, \"line\": {\"color\": \"white\"}}, \"header\": {\"fill\": {\"color\": \"#C8D4E3\"}, \"line\": {\"color\": \"white\"}}, \"type\": \"table\"}]}, \"layout\": {\"annotationdefaults\": {\"arrowcolor\": \"#2a3f5f\", \"arrowhead\": 0, \"arrowwidth\": 1}, \"coloraxis\": {\"colorbar\": {\"outlinewidth\": 0, \"ticks\": \"\"}}, \"colorscale\": {\"diverging\": [[0, \"#8e0152\"], [0.1, \"#c51b7d\"], [0.2, \"#de77ae\"], [0.3, \"#f1b6da\"], [0.4, \"#fde0ef\"], [0.5, \"#f7f7f7\"], [0.6, \"#e6f5d0\"], [0.7, \"#b8e186\"], [0.8, \"#7fbc41\"], [0.9, \"#4d9221\"], [1, \"#276419\"]], \"sequential\": [[0.0, \"#0d0887\"], [0.1111111111111111, \"#46039f\"], [0.2222222222222222, \"#7201a8\"], [0.3333333333333333, \"#9c179e\"], [0.4444444444444444, \"#bd3786\"], [0.5555555555555556, \"#d8576b\"], [0.6666666666666666, \"#ed7953\"], [0.7777777777777778, \"#fb9f3a\"], [0.8888888888888888, \"#fdca26\"], [1.0, \"#f0f921\"]], \"sequentialminus\": [[0.0, \"#0d0887\"], [0.1111111111111111, \"#46039f\"], [0.2222222222222222, \"#7201a8\"], [0.3333333333333333, \"#9c179e\"], [0.4444444444444444, \"#bd3786\"], [0.5555555555555556, \"#d8576b\"], [0.6666666666666666, \"#ed7953\"], [0.7777777777777778, \"#fb9f3a\"], [0.8888888888888888, \"#fdca26\"], [1.0, \"#f0f921\"]]}, \"colorway\": [\"#636efa\", \"#EF553B\", \"#00cc96\", \"#ab63fa\", \"#FFA15A\", \"#19d3f3\", \"#FF6692\", \"#B6E880\", \"#FF97FF\", \"#FECB52\"], \"font\": {\"color\": \"#2a3f5f\"}, \"geo\": {\"bgcolor\": \"white\", \"lakecolor\": \"white\", \"landcolor\": \"#E5ECF6\", \"showlakes\": true, \"showland\": true, \"subunitcolor\": \"white\"}, \"hoverlabel\": {\"align\": \"left\"}, \"hovermode\": \"closest\", \"mapbox\": {\"style\": \"light\"}, \"paper_bgcolor\": \"white\", \"plot_bgcolor\": \"#E5ECF6\", \"polar\": {\"angularaxis\": {\"gridcolor\": \"white\", \"linecolor\": \"white\", \"ticks\": \"\"}, \"bgcolor\": \"#E5ECF6\", \"radialaxis\": {\"gridcolor\": \"white\", \"linecolor\": \"white\", \"ticks\": \"\"}}, \"scene\": {\"xaxis\": {\"backgroundcolor\": \"#E5ECF6\", \"gridcolor\": \"white\", \"gridwidth\": 2, \"linecolor\": \"white\", \"showbackground\": true, \"ticks\": \"\", \"zerolinecolor\": \"white\"}, \"yaxis\": {\"backgroundcolor\": \"#E5ECF6\", \"gridcolor\": \"white\", \"gridwidth\": 2, \"linecolor\": \"white\", \"showbackground\": true, \"ticks\": \"\", \"zerolinecolor\": \"white\"}, \"zaxis\": {\"backgroundcolor\": \"#E5ECF6\", \"gridcolor\": \"white\", \"gridwidth\": 2, \"linecolor\": \"white\", \"showbackground\": true, \"ticks\": \"\", \"zerolinecolor\": \"white\"}}, \"shapedefaults\": {\"line\": {\"color\": \"#2a3f5f\"}}, \"ternary\": {\"aaxis\": {\"gridcolor\": \"white\", \"linecolor\": \"white\", \"ticks\": \"\"}, \"baxis\": {\"gridcolor\": \"white\", \"linecolor\": \"white\", \"ticks\": \"\"}, \"bgcolor\": \"#E5ECF6\", \"caxis\": {\"gridcolor\": \"white\", \"linecolor\": \"white\", \"ticks\": \"\"}}, \"title\": {\"x\": 0.05}, \"xaxis\": {\"automargin\": true, \"gridcolor\": \"white\", \"linecolor\": \"white\", \"ticks\": \"\", \"title\": {\"standoff\": 15}, \"zerolinecolor\": \"white\", \"zerolinewidth\": 2}, \"yaxis\": {\"automargin\": true, \"gridcolor\": \"white\", \"linecolor\": \"white\", \"ticks\": \"\", \"title\": {\"standoff\": 15}, \"zerolinecolor\": \"white\", \"zerolinewidth\": 2}}}, \"title\": {\"text\": \"Title Sentiment\"}},\n",
       "                        {\"responsive\": true}\n",
       "                    ).then(function(){\n",
       "                            \n",
       "var gd = document.getElementById('9885573d-efed-4921-bc4c-67de73908064');\n",
       "var x = new MutationObserver(function (mutations, observer) {{\n",
       "        var display = window.getComputedStyle(gd).display;\n",
       "        if (!display || display === 'none') {{\n",
       "            console.log([gd, 'removed!']);\n",
       "            Plotly.purge(gd);\n",
       "            observer.disconnect();\n",
       "        }}\n",
       "}});\n",
       "\n",
       "// Listen for the removal of the full notebook cells\n",
       "var notebookContainer = gd.closest('#notebook-container');\n",
       "if (notebookContainer) {{\n",
       "    x.observe(notebookContainer, {childList: true});\n",
       "}}\n",
       "\n",
       "// Listen for the clearing of the current output cell\n",
       "var outputEl = gd.closest('.output');\n",
       "if (outputEl) {{\n",
       "    x.observe(outputEl, {childList: true});\n",
       "}}\n",
       "\n",
       "                        })\n",
       "                };\n",
       "                });\n",
       "            </script>\n",
       "        </div>"
      ]
     },
     "metadata": {},
     "output_type": "display_data"
    }
   ],
   "source": [
    "def graph_sentiment(text, score, graph_title):\n",
    "    x = text\n",
    "    y = [d.get('neg') for d in score]\n",
    "    y1 = [d.get('neu') for d in score]\n",
    "    y2 = [d.get('pos') for d in score]\n",
    "    y3 = [d.get('compound') for d in score]\n",
    "\n",
    "    fig = go.Figure(go.Bar(x=x, y=y, name='Negative', marker_color='#EE7674'))\n",
    "    fig.add_trace(go.Bar(x=x, y=y1, name='Neutral', marker_color='#247BA0'))\n",
    "    fig.add_trace(go.Bar(x=x, y=y2, name='Positive'))\n",
    "    fig.add_trace(go.Bar(x=x, y=y3, name='Compound'))\n",
    "\n",
    "    fig.update_layout(barmode='stack', title=graph_title)\n",
    "    fig.show()\n",
    "\n",
    "\n",
    "graph_sentiment(news_df['title'], news_df['title_score'], 'Title Sentiment')"
   ]
  },
  {
   "cell_type": "code",
   "execution_count": null,
   "metadata": {},
   "outputs": [],
   "source": [
    "graph_sentiment(news_df['description'], news_df['desc_score'], 'Description Sentiment')"
   ]
  },
  {
   "cell_type": "markdown",
   "metadata": {},
   "source": [
    "***How to interpret Compound Values?*** \n",
    "<p>The compound score is computed by summing the valence scores of each word in the lexicon, adjusted according to the rules, and then normalized to be between -1 (most extreme negative) and +1 (most extreme positive). This is the most useful metric if you want a single unidimensional measure of sentiment for a given sentence. Calling it a 'normalized, weighted composite score' is accurate.</p>"
   ]
  },
  {
   "cell_type": "markdown",
   "metadata": {},
   "source": [
    "**Next Step: Populate the score on a daily basis**\n",
    "<p> Use the mean of the headline score for each day </p>"
   ]
  },
  {
   "cell_type": "code",
   "execution_count": null,
   "metadata": {},
   "outputs": [],
   "source": [
    "**Next Step: Correlate the score of the daily movement of S\\\\&P and **"
   ]
  }
 ],
 "metadata": {
  "kernelspec": {
   "display_name": "Python 3",
   "language": "python",
   "name": "python3"
  },
  "language_info": {
   "codemirror_mode": {
    "name": "ipython",
    "version": 3
   },
   "file_extension": ".py",
   "mimetype": "text/x-python",
   "name": "python",
   "nbconvert_exporter": "python",
   "pygments_lexer": "ipython3",
   "version": "3.7.6"
  }
 },
 "nbformat": 4,
 "nbformat_minor": 4
}
