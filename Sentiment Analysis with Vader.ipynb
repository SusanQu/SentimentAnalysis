{
 "cells": [
  {
   "cell_type": "markdown",
   "metadata": {},
   "source": [
    "**import libraries**"
   ]
  },
  {
   "cell_type": "code",
   "execution_count": 19,
   "metadata": {},
   "outputs": [],
   "source": [
    "import pandas as pd\n",
    "from operator import itemgetter\n",
    "from vaderSentiment.vaderSentiment import SentimentIntensityAnalyzer\n",
    "import requests\n",
    "import plotly.graph_objects as go"
   ]
  },
  {
   "cell_type": "markdown",
   "metadata": {},
   "source": [
    "**Try out Vader Sentiment Analyzer**"
   ]
  },
  {
   "cell_type": "code",
   "execution_count": 2,
   "metadata": {},
   "outputs": [],
   "source": [
    "#call analyser object\n",
    "analyser = SentimentIntensityAnalyzer()"
   ]
  },
  {
   "cell_type": "code",
   "execution_count": 3,
   "metadata": {},
   "outputs": [],
   "source": [
    "def sentiment_analyzer_scores(sentence):\n",
    "    score = analyser.polarity_scores(sentence)\n",
    "    return score"
   ]
  },
  {
   "cell_type": "code",
   "execution_count": 4,
   "metadata": {},
   "outputs": [
    {
     "data": {
      "text/plain": [
       "{'neg': 0.0, 'neu': 0.678, 'pos': 0.322, 'compound': 0.2263}"
      ]
     },
     "execution_count": 4,
     "metadata": {},
     "output_type": "execute_result"
    }
   ],
   "source": [
    "sentiment_analyzer_scores(\"Today is an okay day.\")"
   ]
  },
  {
   "cell_type": "code",
   "execution_count": 5,
   "metadata": {},
   "outputs": [
    {
     "data": {
      "text/plain": [
       "{'neg': 0.0, 'neu': 0.494, 'pos': 0.506, 'compound': 0.6239}"
      ]
     },
     "execution_count": 5,
     "metadata": {},
     "output_type": "execute_result"
    }
   ],
   "source": [
    "sentiment_analyzer_scores(\"Today is an amazing day!\")"
   ]
  },
  {
   "cell_type": "code",
   "execution_count": 6,
   "metadata": {},
   "outputs": [
    {
     "data": {
      "text/plain": [
       "{'neg': 0.0, 'neu': 0.803, 'pos': 0.197, 'compound': 0.4003}"
      ]
     },
     "execution_count": 6,
     "metadata": {},
     "output_type": "execute_result"
    }
   ],
   "source": [
    "sentiment_analyzer_scores(\"Today is an amazing day! Vader is working but it took a while\")"
   ]
  },
  {
   "cell_type": "code",
   "execution_count": 7,
   "metadata": {},
   "outputs": [
    {
     "data": {
      "text/plain": [
       "{'neg': 0.523, 'neu': 0.477, 'pos': 0.0, 'compound': -0.5095}"
      ]
     },
     "execution_count": 7,
     "metadata": {},
     "output_type": "execute_result"
    }
   ],
   "source": [
    "sentiment_analyzer_scores(\"Today kind of sucked.\")"
   ]
  },
  {
   "cell_type": "markdown",
   "metadata": {},
   "source": [
    "**Pull in Live News Data from News API**"
   ]
  },
  {
   "cell_type": "code",
   "execution_count": 8,
   "metadata": {
    "scrolled": true
   },
   "outputs": [
    {
     "name": "stdout",
     "output_type": "stream",
     "text": [
      "api key: 798c7707bbe8404199296c0521a99f61\n"
     ]
    }
   ],
   "source": [
    "url = ('http://newsapi.org/v2/everything?'\n",
    "       'q=Apple&'\n",
    "       'from=2020-03-03&'\n",
    "       'sortBy=popularity&'\n",
    "       'apiKey=' + input('api key: '))\n",
    "\n",
    "response = requests.get(url)"
   ]
  },
  {
   "cell_type": "markdown",
   "metadata": {},
   "source": [
    "**Perform Analysis on the News Title**"
   ]
  },
  {
   "cell_type": "code",
   "execution_count": 61,
   "metadata": {},
   "outputs": [
    {
     "data": {
      "text/html": [
       "<div>\n",
       "<style scoped>\n",
       "    .dataframe tbody tr th:only-of-type {\n",
       "        vertical-align: middle;\n",
       "    }\n",
       "\n",
       "    .dataframe tbody tr th {\n",
       "        vertical-align: top;\n",
       "    }\n",
       "\n",
       "    .dataframe thead th {\n",
       "        text-align: right;\n",
       "    }\n",
       "</style>\n",
       "<table border=\"1\" class=\"dataframe\">\n",
       "  <thead>\n",
       "    <tr style=\"text-align: right;\">\n",
       "      <th></th>\n",
       "      <th>source</th>\n",
       "      <th>author</th>\n",
       "      <th>title</th>\n",
       "      <th>description</th>\n",
       "      <th>url</th>\n",
       "      <th>urlToImage</th>\n",
       "      <th>publishedAt</th>\n",
       "      <th>content</th>\n",
       "      <th>title_score</th>\n",
       "      <th>desc_score</th>\n",
       "    </tr>\n",
       "  </thead>\n",
       "  <tbody>\n",
       "    <tr>\n",
       "      <th>0</th>\n",
       "      <td>{'id': None, 'name': 'Lifehacker.com'}</td>\n",
       "      <td>Brendan Hesse</td>\n",
       "      <td>Buy a Refurbished 2017 or 2018 MacBook Pro for...</td>\n",
       "      <td>There’s an incredible deal on refurbished 2017...</td>\n",
       "      <td>https://lifehacker.com/buy-a-refurbished-2017-...</td>\n",
       "      <td>https://i.kinja-img.com/gawker-media/image/upl...</td>\n",
       "      <td>2020-03-04T18:45:00Z</td>\n",
       "      <td>Theres an incredible deal on refurbished 2017 ...</td>\n",
       "      <td>{'neg': 0.0, 'neu': 1.0, 'pos': 0.0, 'compound...</td>\n",
       "      <td>{'neg': 0.0, 'neu': 0.94, 'pos': 0.06, 'compou...</td>\n",
       "    </tr>\n",
       "    <tr>\n",
       "      <th>1</th>\n",
       "      <td>{'id': None, 'name': 'Lifehacker.com'}</td>\n",
       "      <td>Micaela Heck</td>\n",
       "      <td>How to Stop Procrastinating, With Behavior Sci...</td>\n",
       "      <td>Do you put things off ‘til the last minute? Ar...</td>\n",
       "      <td>https://lifehacker.com/how-to-stop-procrastina...</td>\n",
       "      <td>https://i.kinja-img.com/gawker-media/image/upl...</td>\n",
       "      <td>2020-03-03T14:30:00Z</td>\n",
       "      <td>Do you put things off til the last minute? Are...</td>\n",
       "      <td>{'neg': 0.216, 'neu': 0.784, 'pos': 0.0, 'comp...</td>\n",
       "      <td>{'neg': 0.092, 'neu': 0.853, 'pos': 0.055, 'co...</td>\n",
       "    </tr>\n",
       "    <tr>\n",
       "      <th>2</th>\n",
       "      <td>{'id': 'engadget', 'name': 'Engadget'}</td>\n",
       "      <td>Richard Lawler</td>\n",
       "      <td>The Morning After: NASA is taking applications...</td>\n",
       "      <td>Hey, good morning! You look fabulous. SXSW 202...</td>\n",
       "      <td>https://www.engadget.com/2020/03/03/nasa-is-hi...</td>\n",
       "      <td>https://o.aolcdn.com/images/dims?thumbnail=120...</td>\n",
       "      <td>2020-03-03T12:45:00Z</td>\n",
       "      <td>What will you do with $25?Apple will pay up to...</td>\n",
       "      <td>{'neg': 0.0, 'neu': 1.0, 'pos': 0.0, 'compound...</td>\n",
       "      <td>{'neg': 0.043, 'neu': 0.764, 'pos': 0.194, 'co...</td>\n",
       "    </tr>\n",
       "    <tr>\n",
       "      <th>3</th>\n",
       "      <td>{'id': 'engadget', 'name': 'Engadget'}</td>\n",
       "      <td>Engadget</td>\n",
       "      <td>The Morning After: Amazon's accelerated one-da...</td>\n",
       "      <td>Hey, good morning! You look fabulous. Amazon i...</td>\n",
       "      <td>https://www.engadget.com/2020/03/04/amazon-one...</td>\n",
       "      <td>https://o.aolcdn.com/images/dims?thumbnail=120...</td>\n",
       "      <td>2020-03-04T12:30:00Z</td>\n",
       "      <td>Goodbye doesn't mean forever.The gadgets that ...</td>\n",
       "      <td>{'neg': 0.0, 'neu': 1.0, 'pos': 0.0, 'compound...</td>\n",
       "      <td>{'neg': 0.0, 'neu': 0.81, 'pos': 0.19, 'compou...</td>\n",
       "    </tr>\n",
       "    <tr>\n",
       "      <th>4</th>\n",
       "      <td>{'id': 'engadget', 'name': 'Engadget'}</td>\n",
       "      <td>Igor Bonifacic</td>\n",
       "      <td>Amazon has a rare sale on official iPhone cases</td>\n",
       "      <td>Apple's first-party iPhone cases tend to cost ...</td>\n",
       "      <td>https://www.engadget.com/2020/03/03/amazon-iph...</td>\n",
       "      <td>https://o.aolcdn.com/images/dims?thumbnail=120...</td>\n",
       "      <td>2020-03-03T18:39:00Z</td>\n",
       "      <td>iPhone 11\\r\\nWhen it comes to the iPhone 11, t...</td>\n",
       "      <td>{'neg': 0.0, 'neu': 0.805, 'pos': 0.195, 'comp...</td>\n",
       "      <td>{'neg': 0.0, 'neu': 0.941, 'pos': 0.059, 'comp...</td>\n",
       "    </tr>\n",
       "  </tbody>\n",
       "</table>\n",
       "</div>"
      ],
      "text/plain": [
       "                                   source          author  \\\n",
       "0  {'id': None, 'name': 'Lifehacker.com'}   Brendan Hesse   \n",
       "1  {'id': None, 'name': 'Lifehacker.com'}    Micaela Heck   \n",
       "2  {'id': 'engadget', 'name': 'Engadget'}  Richard Lawler   \n",
       "3  {'id': 'engadget', 'name': 'Engadget'}        Engadget   \n",
       "4  {'id': 'engadget', 'name': 'Engadget'}  Igor Bonifacic   \n",
       "\n",
       "                                               title  \\\n",
       "0  Buy a Refurbished 2017 or 2018 MacBook Pro for...   \n",
       "1  How to Stop Procrastinating, With Behavior Sci...   \n",
       "2  The Morning After: NASA is taking applications...   \n",
       "3  The Morning After: Amazon's accelerated one-da...   \n",
       "4    Amazon has a rare sale on official iPhone cases   \n",
       "\n",
       "                                         description  \\\n",
       "0  There’s an incredible deal on refurbished 2017...   \n",
       "1  Do you put things off ‘til the last minute? Ar...   \n",
       "2  Hey, good morning! You look fabulous. SXSW 202...   \n",
       "3  Hey, good morning! You look fabulous. Amazon i...   \n",
       "4  Apple's first-party iPhone cases tend to cost ...   \n",
       "\n",
       "                                                 url  \\\n",
       "0  https://lifehacker.com/buy-a-refurbished-2017-...   \n",
       "1  https://lifehacker.com/how-to-stop-procrastina...   \n",
       "2  https://www.engadget.com/2020/03/03/nasa-is-hi...   \n",
       "3  https://www.engadget.com/2020/03/04/amazon-one...   \n",
       "4  https://www.engadget.com/2020/03/03/amazon-iph...   \n",
       "\n",
       "                                          urlToImage           publishedAt  \\\n",
       "0  https://i.kinja-img.com/gawker-media/image/upl...  2020-03-04T18:45:00Z   \n",
       "1  https://i.kinja-img.com/gawker-media/image/upl...  2020-03-03T14:30:00Z   \n",
       "2  https://o.aolcdn.com/images/dims?thumbnail=120...  2020-03-03T12:45:00Z   \n",
       "3  https://o.aolcdn.com/images/dims?thumbnail=120...  2020-03-04T12:30:00Z   \n",
       "4  https://o.aolcdn.com/images/dims?thumbnail=120...  2020-03-03T18:39:00Z   \n",
       "\n",
       "                                             content  \\\n",
       "0  Theres an incredible deal on refurbished 2017 ...   \n",
       "1  Do you put things off til the last minute? Are...   \n",
       "2  What will you do with $25?Apple will pay up to...   \n",
       "3  Goodbye doesn't mean forever.The gadgets that ...   \n",
       "4  iPhone 11\\r\\nWhen it comes to the iPhone 11, t...   \n",
       "\n",
       "                                         title_score  \\\n",
       "0  {'neg': 0.0, 'neu': 1.0, 'pos': 0.0, 'compound...   \n",
       "1  {'neg': 0.216, 'neu': 0.784, 'pos': 0.0, 'comp...   \n",
       "2  {'neg': 0.0, 'neu': 1.0, 'pos': 0.0, 'compound...   \n",
       "3  {'neg': 0.0, 'neu': 1.0, 'pos': 0.0, 'compound...   \n",
       "4  {'neg': 0.0, 'neu': 0.805, 'pos': 0.195, 'comp...   \n",
       "\n",
       "                                          desc_score  \n",
       "0  {'neg': 0.0, 'neu': 0.94, 'pos': 0.06, 'compou...  \n",
       "1  {'neg': 0.092, 'neu': 0.853, 'pos': 0.055, 'co...  \n",
       "2  {'neg': 0.043, 'neu': 0.764, 'pos': 0.194, 'co...  \n",
       "3  {'neg': 0.0, 'neu': 0.81, 'pos': 0.19, 'compou...  \n",
       "4  {'neg': 0.0, 'neu': 0.941, 'pos': 0.059, 'comp...  "
      ]
     },
     "execution_count": 61,
     "metadata": {},
     "output_type": "execute_result"
    }
   ],
   "source": [
    "news = response.json().get('articles')\n",
    "\n",
    "#add title score:\n",
    "for item in news:\n",
    "    item.update({'title_score': sentiment_analyzer_scores(item['title'])})\n",
    "    item.update({'desc_score': sentiment_analyzer_scores(item['description'])})\n",
    "\n",
    "news_df = pd.DataFrame(news)\n",
    "news_df.head()"
   ]
  },
  {
   "cell_type": "code",
   "execution_count": 17,
   "metadata": {},
   "outputs": [],
   "source": [
    "#other ways to add title score object to news\n",
    "\n",
    "\n",
    "#add title score way 2 -----------------------:\n",
    "\n",
    "# def add_title_scoore():\n",
    "#     for item in news:\n",
    "#         score = {'title_score' : sentiment_analyzer_scores(item['title'])}\n",
    "#     return news\n",
    "# add_title_scoore()\n",
    "\n",
    "\n",
    "#add title score way 3 -----------------------:\n",
    "\n",
    "# result = [dict(item, scoreeeeeeeeeeeeeee=sentiment_analyzer_scores(item['title'])) for item in news]\n",
    "# print(result)\n",
    "\n",
    "\n",
    "#this works append static object -------------:\n",
    "\n",
    "# for item in news:\n",
    "#     item.update({'scooooooooooooooooore': 'baaaaaaaaaaaaaaaaaad'})\n",
    "# print(news)"
   ]
  },
  {
   "cell_type": "markdown",
   "metadata": {},
   "source": [
    "**Plot Title Sentiment Score**"
   ]
  },
  {
   "cell_type": "code",
   "execution_count": 75,
   "metadata": {},
   "outputs": [
    {
     "data": {
      "application/vnd.plotly.v1+json": {
       "config": {
        "plotlyServerURL": "https://plot.ly"
       },
       "data": [
        {
         "marker": {
          "color": "#EE7674"
         },
         "name": "Negative",
         "type": "bar",
         "x": [
          "Buy a Refurbished 2017 or 2018 MacBook Pro for $610 Today",
          "How to Stop Procrastinating, With Behavior Scientist BJ Fogg",
          "The Morning After: NASA is taking applications for new astronauts",
          "The Morning After: Amazon's accelerated one-day shipping",
          "Amazon has a rare sale on official iPhone cases",
          "The gadgets that refuse to die",
          "A 'Netflix for the 99 Percent' Enters the Streaming Wars",
          "How to Clean Your Smartphone and Keyboard the Right Way",
          "Oppo’s new smartwatch looks just like the Apple Watch",
          "Foxconn expects to resume normal production by end of March",
          "Apple is planning to launch a 14.1-inch MacBook Pro with a Mini-LED display, says Ming-Chi Kuo",
          "Big tech’s coronavirus responses are getting serious",
          "What Facebook could learn from Microsoft",
          "Apple Stores to host over 5,000 female-focused sessions in March for International Women’s Day",
          "Hulu with Live TV belatedly arrives on PlayStation 4",
          "Equity Shot: What’s Elliott Management and why is it coming after Twitter and SoftBank?",
          "Resso, Bytedance’s music streaming app, officially launches in India, sans Tencent-backed Universal Music",
          "Stocks fall despite Fed intervention, dragging tech shares down once again",
          "Cool, Here's Another New Smartwatch That Looks Like an Apple Watch",
          "Apple May Be Supersizing Its Smallest MacBook Pro and Adding Mini-LEDs"
         ],
         "y": [
          0,
          0.216,
          0,
          0,
          0,
          0.604,
          0.31,
          0,
          0,
          0,
          0,
          0.178,
          0,
          0,
          0,
          0,
          0,
          0,
          0,
          0
         ]
        },
        {
         "marker": {
          "color": "#247BA0"
         },
         "name": "Neutral",
         "type": "bar",
         "x": [
          "Buy a Refurbished 2017 or 2018 MacBook Pro for $610 Today",
          "How to Stop Procrastinating, With Behavior Scientist BJ Fogg",
          "The Morning After: NASA is taking applications for new astronauts",
          "The Morning After: Amazon's accelerated one-day shipping",
          "Amazon has a rare sale on official iPhone cases",
          "The gadgets that refuse to die",
          "A 'Netflix for the 99 Percent' Enters the Streaming Wars",
          "How to Clean Your Smartphone and Keyboard the Right Way",
          "Oppo’s new smartwatch looks just like the Apple Watch",
          "Foxconn expects to resume normal production by end of March",
          "Apple is planning to launch a 14.1-inch MacBook Pro with a Mini-LED display, says Ming-Chi Kuo",
          "Big tech’s coronavirus responses are getting serious",
          "What Facebook could learn from Microsoft",
          "Apple Stores to host over 5,000 female-focused sessions in March for International Women’s Day",
          "Hulu with Live TV belatedly arrives on PlayStation 4",
          "Equity Shot: What’s Elliott Management and why is it coming after Twitter and SoftBank?",
          "Resso, Bytedance’s music streaming app, officially launches in India, sans Tencent-backed Universal Music",
          "Stocks fall despite Fed intervention, dragging tech shares down once again",
          "Cool, Here's Another New Smartwatch That Looks Like an Apple Watch",
          "Apple May Be Supersizing Its Smallest MacBook Pro and Adding Mini-LEDs"
         ],
         "y": [
          1,
          0.784,
          1,
          1,
          0.805,
          0.396,
          0.69,
          0.769,
          0.762,
          1,
          1,
          0.822,
          1,
          1,
          1,
          1,
          1,
          0.82,
          0.652,
          1
         ]
        },
        {
         "name": "Positive",
         "type": "bar",
         "x": [
          "Buy a Refurbished 2017 or 2018 MacBook Pro for $610 Today",
          "How to Stop Procrastinating, With Behavior Scientist BJ Fogg",
          "The Morning After: NASA is taking applications for new astronauts",
          "The Morning After: Amazon's accelerated one-day shipping",
          "Amazon has a rare sale on official iPhone cases",
          "The gadgets that refuse to die",
          "A 'Netflix for the 99 Percent' Enters the Streaming Wars",
          "How to Clean Your Smartphone and Keyboard the Right Way",
          "Oppo’s new smartwatch looks just like the Apple Watch",
          "Foxconn expects to resume normal production by end of March",
          "Apple is planning to launch a 14.1-inch MacBook Pro with a Mini-LED display, says Ming-Chi Kuo",
          "Big tech’s coronavirus responses are getting serious",
          "What Facebook could learn from Microsoft",
          "Apple Stores to host over 5,000 female-focused sessions in March for International Women’s Day",
          "Hulu with Live TV belatedly arrives on PlayStation 4",
          "Equity Shot: What’s Elliott Management and why is it coming after Twitter and SoftBank?",
          "Resso, Bytedance’s music streaming app, officially launches in India, sans Tencent-backed Universal Music",
          "Stocks fall despite Fed intervention, dragging tech shares down once again",
          "Cool, Here's Another New Smartwatch That Looks Like an Apple Watch",
          "Apple May Be Supersizing Its Smallest MacBook Pro and Adding Mini-LEDs"
         ],
         "y": [
          0,
          0,
          0,
          0,
          0.195,
          0,
          0,
          0.231,
          0.238,
          0,
          0,
          0,
          0,
          0,
          0,
          0,
          0,
          0.18,
          0.348,
          0
         ]
        },
        {
         "name": "Compound",
         "type": "bar",
         "x": [
          "Buy a Refurbished 2017 or 2018 MacBook Pro for $610 Today",
          "How to Stop Procrastinating, With Behavior Scientist BJ Fogg",
          "The Morning After: NASA is taking applications for new astronauts",
          "The Morning After: Amazon's accelerated one-day shipping",
          "Amazon has a rare sale on official iPhone cases",
          "The gadgets that refuse to die",
          "A 'Netflix for the 99 Percent' Enters the Streaming Wars",
          "How to Clean Your Smartphone and Keyboard the Right Way",
          "Oppo’s new smartwatch looks just like the Apple Watch",
          "Foxconn expects to resume normal production by end of March",
          "Apple is planning to launch a 14.1-inch MacBook Pro with a Mini-LED display, says Ming-Chi Kuo",
          "Big tech’s coronavirus responses are getting serious",
          "What Facebook could learn from Microsoft",
          "Apple Stores to host over 5,000 female-focused sessions in March for International Women’s Day",
          "Hulu with Live TV belatedly arrives on PlayStation 4",
          "Equity Shot: What’s Elliott Management and why is it coming after Twitter and SoftBank?",
          "Resso, Bytedance’s music streaming app, officially launches in India, sans Tencent-backed Universal Music",
          "Stocks fall despite Fed intervention, dragging tech shares down once again",
          "Cool, Here's Another New Smartwatch That Looks Like an Apple Watch",
          "Apple May Be Supersizing Its Smallest MacBook Pro and Adding Mini-LEDs"
         ],
         "y": [
          0,
          -0.296,
          0,
          0,
          0.1779,
          -0.7269,
          -0.5574,
          0.4019,
          0.3612,
          0,
          0,
          -0.0772,
          0,
          0,
          0,
          0,
          0,
          0.296,
          0.5859,
          0
         ]
        }
       ],
       "layout": {
        "barmode": "stack",
        "template": {
         "data": {
          "bar": [
           {
            "error_x": {
             "color": "#2a3f5f"
            },
            "error_y": {
             "color": "#2a3f5f"
            },
            "marker": {
             "line": {
              "color": "#E5ECF6",
              "width": 0.5
             }
            },
            "type": "bar"
           }
          ],
          "barpolar": [
           {
            "marker": {
             "line": {
              "color": "#E5ECF6",
              "width": 0.5
             }
            },
            "type": "barpolar"
           }
          ],
          "carpet": [
           {
            "aaxis": {
             "endlinecolor": "#2a3f5f",
             "gridcolor": "white",
             "linecolor": "white",
             "minorgridcolor": "white",
             "startlinecolor": "#2a3f5f"
            },
            "baxis": {
             "endlinecolor": "#2a3f5f",
             "gridcolor": "white",
             "linecolor": "white",
             "minorgridcolor": "white",
             "startlinecolor": "#2a3f5f"
            },
            "type": "carpet"
           }
          ],
          "choropleth": [
           {
            "colorbar": {
             "outlinewidth": 0,
             "ticks": ""
            },
            "type": "choropleth"
           }
          ],
          "contour": [
           {
            "colorbar": {
             "outlinewidth": 0,
             "ticks": ""
            },
            "colorscale": [
             [
              0,
              "#0d0887"
             ],
             [
              0.1111111111111111,
              "#46039f"
             ],
             [
              0.2222222222222222,
              "#7201a8"
             ],
             [
              0.3333333333333333,
              "#9c179e"
             ],
             [
              0.4444444444444444,
              "#bd3786"
             ],
             [
              0.5555555555555556,
              "#d8576b"
             ],
             [
              0.6666666666666666,
              "#ed7953"
             ],
             [
              0.7777777777777778,
              "#fb9f3a"
             ],
             [
              0.8888888888888888,
              "#fdca26"
             ],
             [
              1,
              "#f0f921"
             ]
            ],
            "type": "contour"
           }
          ],
          "contourcarpet": [
           {
            "colorbar": {
             "outlinewidth": 0,
             "ticks": ""
            },
            "type": "contourcarpet"
           }
          ],
          "heatmap": [
           {
            "colorbar": {
             "outlinewidth": 0,
             "ticks": ""
            },
            "colorscale": [
             [
              0,
              "#0d0887"
             ],
             [
              0.1111111111111111,
              "#46039f"
             ],
             [
              0.2222222222222222,
              "#7201a8"
             ],
             [
              0.3333333333333333,
              "#9c179e"
             ],
             [
              0.4444444444444444,
              "#bd3786"
             ],
             [
              0.5555555555555556,
              "#d8576b"
             ],
             [
              0.6666666666666666,
              "#ed7953"
             ],
             [
              0.7777777777777778,
              "#fb9f3a"
             ],
             [
              0.8888888888888888,
              "#fdca26"
             ],
             [
              1,
              "#f0f921"
             ]
            ],
            "type": "heatmap"
           }
          ],
          "heatmapgl": [
           {
            "colorbar": {
             "outlinewidth": 0,
             "ticks": ""
            },
            "colorscale": [
             [
              0,
              "#0d0887"
             ],
             [
              0.1111111111111111,
              "#46039f"
             ],
             [
              0.2222222222222222,
              "#7201a8"
             ],
             [
              0.3333333333333333,
              "#9c179e"
             ],
             [
              0.4444444444444444,
              "#bd3786"
             ],
             [
              0.5555555555555556,
              "#d8576b"
             ],
             [
              0.6666666666666666,
              "#ed7953"
             ],
             [
              0.7777777777777778,
              "#fb9f3a"
             ],
             [
              0.8888888888888888,
              "#fdca26"
             ],
             [
              1,
              "#f0f921"
             ]
            ],
            "type": "heatmapgl"
           }
          ],
          "histogram": [
           {
            "marker": {
             "colorbar": {
              "outlinewidth": 0,
              "ticks": ""
             }
            },
            "type": "histogram"
           }
          ],
          "histogram2d": [
           {
            "colorbar": {
             "outlinewidth": 0,
             "ticks": ""
            },
            "colorscale": [
             [
              0,
              "#0d0887"
             ],
             [
              0.1111111111111111,
              "#46039f"
             ],
             [
              0.2222222222222222,
              "#7201a8"
             ],
             [
              0.3333333333333333,
              "#9c179e"
             ],
             [
              0.4444444444444444,
              "#bd3786"
             ],
             [
              0.5555555555555556,
              "#d8576b"
             ],
             [
              0.6666666666666666,
              "#ed7953"
             ],
             [
              0.7777777777777778,
              "#fb9f3a"
             ],
             [
              0.8888888888888888,
              "#fdca26"
             ],
             [
              1,
              "#f0f921"
             ]
            ],
            "type": "histogram2d"
           }
          ],
          "histogram2dcontour": [
           {
            "colorbar": {
             "outlinewidth": 0,
             "ticks": ""
            },
            "colorscale": [
             [
              0,
              "#0d0887"
             ],
             [
              0.1111111111111111,
              "#46039f"
             ],
             [
              0.2222222222222222,
              "#7201a8"
             ],
             [
              0.3333333333333333,
              "#9c179e"
             ],
             [
              0.4444444444444444,
              "#bd3786"
             ],
             [
              0.5555555555555556,
              "#d8576b"
             ],
             [
              0.6666666666666666,
              "#ed7953"
             ],
             [
              0.7777777777777778,
              "#fb9f3a"
             ],
             [
              0.8888888888888888,
              "#fdca26"
             ],
             [
              1,
              "#f0f921"
             ]
            ],
            "type": "histogram2dcontour"
           }
          ],
          "mesh3d": [
           {
            "colorbar": {
             "outlinewidth": 0,
             "ticks": ""
            },
            "type": "mesh3d"
           }
          ],
          "parcoords": [
           {
            "line": {
             "colorbar": {
              "outlinewidth": 0,
              "ticks": ""
             }
            },
            "type": "parcoords"
           }
          ],
          "pie": [
           {
            "automargin": true,
            "type": "pie"
           }
          ],
          "scatter": [
           {
            "marker": {
             "colorbar": {
              "outlinewidth": 0,
              "ticks": ""
             }
            },
            "type": "scatter"
           }
          ],
          "scatter3d": [
           {
            "line": {
             "colorbar": {
              "outlinewidth": 0,
              "ticks": ""
             }
            },
            "marker": {
             "colorbar": {
              "outlinewidth": 0,
              "ticks": ""
             }
            },
            "type": "scatter3d"
           }
          ],
          "scattercarpet": [
           {
            "marker": {
             "colorbar": {
              "outlinewidth": 0,
              "ticks": ""
             }
            },
            "type": "scattercarpet"
           }
          ],
          "scattergeo": [
           {
            "marker": {
             "colorbar": {
              "outlinewidth": 0,
              "ticks": ""
             }
            },
            "type": "scattergeo"
           }
          ],
          "scattergl": [
           {
            "marker": {
             "colorbar": {
              "outlinewidth": 0,
              "ticks": ""
             }
            },
            "type": "scattergl"
           }
          ],
          "scattermapbox": [
           {
            "marker": {
             "colorbar": {
              "outlinewidth": 0,
              "ticks": ""
             }
            },
            "type": "scattermapbox"
           }
          ],
          "scatterpolar": [
           {
            "marker": {
             "colorbar": {
              "outlinewidth": 0,
              "ticks": ""
             }
            },
            "type": "scatterpolar"
           }
          ],
          "scatterpolargl": [
           {
            "marker": {
             "colorbar": {
              "outlinewidth": 0,
              "ticks": ""
             }
            },
            "type": "scatterpolargl"
           }
          ],
          "scatterternary": [
           {
            "marker": {
             "colorbar": {
              "outlinewidth": 0,
              "ticks": ""
             }
            },
            "type": "scatterternary"
           }
          ],
          "surface": [
           {
            "colorbar": {
             "outlinewidth": 0,
             "ticks": ""
            },
            "colorscale": [
             [
              0,
              "#0d0887"
             ],
             [
              0.1111111111111111,
              "#46039f"
             ],
             [
              0.2222222222222222,
              "#7201a8"
             ],
             [
              0.3333333333333333,
              "#9c179e"
             ],
             [
              0.4444444444444444,
              "#bd3786"
             ],
             [
              0.5555555555555556,
              "#d8576b"
             ],
             [
              0.6666666666666666,
              "#ed7953"
             ],
             [
              0.7777777777777778,
              "#fb9f3a"
             ],
             [
              0.8888888888888888,
              "#fdca26"
             ],
             [
              1,
              "#f0f921"
             ]
            ],
            "type": "surface"
           }
          ],
          "table": [
           {
            "cells": {
             "fill": {
              "color": "#EBF0F8"
             },
             "line": {
              "color": "white"
             }
            },
            "header": {
             "fill": {
              "color": "#C8D4E3"
             },
             "line": {
              "color": "white"
             }
            },
            "type": "table"
           }
          ]
         },
         "layout": {
          "annotationdefaults": {
           "arrowcolor": "#2a3f5f",
           "arrowhead": 0,
           "arrowwidth": 1
          },
          "coloraxis": {
           "colorbar": {
            "outlinewidth": 0,
            "ticks": ""
           }
          },
          "colorscale": {
           "diverging": [
            [
             0,
             "#8e0152"
            ],
            [
             0.1,
             "#c51b7d"
            ],
            [
             0.2,
             "#de77ae"
            ],
            [
             0.3,
             "#f1b6da"
            ],
            [
             0.4,
             "#fde0ef"
            ],
            [
             0.5,
             "#f7f7f7"
            ],
            [
             0.6,
             "#e6f5d0"
            ],
            [
             0.7,
             "#b8e186"
            ],
            [
             0.8,
             "#7fbc41"
            ],
            [
             0.9,
             "#4d9221"
            ],
            [
             1,
             "#276419"
            ]
           ],
           "sequential": [
            [
             0,
             "#0d0887"
            ],
            [
             0.1111111111111111,
             "#46039f"
            ],
            [
             0.2222222222222222,
             "#7201a8"
            ],
            [
             0.3333333333333333,
             "#9c179e"
            ],
            [
             0.4444444444444444,
             "#bd3786"
            ],
            [
             0.5555555555555556,
             "#d8576b"
            ],
            [
             0.6666666666666666,
             "#ed7953"
            ],
            [
             0.7777777777777778,
             "#fb9f3a"
            ],
            [
             0.8888888888888888,
             "#fdca26"
            ],
            [
             1,
             "#f0f921"
            ]
           ],
           "sequentialminus": [
            [
             0,
             "#0d0887"
            ],
            [
             0.1111111111111111,
             "#46039f"
            ],
            [
             0.2222222222222222,
             "#7201a8"
            ],
            [
             0.3333333333333333,
             "#9c179e"
            ],
            [
             0.4444444444444444,
             "#bd3786"
            ],
            [
             0.5555555555555556,
             "#d8576b"
            ],
            [
             0.6666666666666666,
             "#ed7953"
            ],
            [
             0.7777777777777778,
             "#fb9f3a"
            ],
            [
             0.8888888888888888,
             "#fdca26"
            ],
            [
             1,
             "#f0f921"
            ]
           ]
          },
          "colorway": [
           "#636efa",
           "#EF553B",
           "#00cc96",
           "#ab63fa",
           "#FFA15A",
           "#19d3f3",
           "#FF6692",
           "#B6E880",
           "#FF97FF",
           "#FECB52"
          ],
          "font": {
           "color": "#2a3f5f"
          },
          "geo": {
           "bgcolor": "white",
           "lakecolor": "white",
           "landcolor": "#E5ECF6",
           "showlakes": true,
           "showland": true,
           "subunitcolor": "white"
          },
          "hoverlabel": {
           "align": "left"
          },
          "hovermode": "closest",
          "mapbox": {
           "style": "light"
          },
          "paper_bgcolor": "white",
          "plot_bgcolor": "#E5ECF6",
          "polar": {
           "angularaxis": {
            "gridcolor": "white",
            "linecolor": "white",
            "ticks": ""
           },
           "bgcolor": "#E5ECF6",
           "radialaxis": {
            "gridcolor": "white",
            "linecolor": "white",
            "ticks": ""
           }
          },
          "scene": {
           "xaxis": {
            "backgroundcolor": "#E5ECF6",
            "gridcolor": "white",
            "gridwidth": 2,
            "linecolor": "white",
            "showbackground": true,
            "ticks": "",
            "zerolinecolor": "white"
           },
           "yaxis": {
            "backgroundcolor": "#E5ECF6",
            "gridcolor": "white",
            "gridwidth": 2,
            "linecolor": "white",
            "showbackground": true,
            "ticks": "",
            "zerolinecolor": "white"
           },
           "zaxis": {
            "backgroundcolor": "#E5ECF6",
            "gridcolor": "white",
            "gridwidth": 2,
            "linecolor": "white",
            "showbackground": true,
            "ticks": "",
            "zerolinecolor": "white"
           }
          },
          "shapedefaults": {
           "line": {
            "color": "#2a3f5f"
           }
          },
          "ternary": {
           "aaxis": {
            "gridcolor": "white",
            "linecolor": "white",
            "ticks": ""
           },
           "baxis": {
            "gridcolor": "white",
            "linecolor": "white",
            "ticks": ""
           },
           "bgcolor": "#E5ECF6",
           "caxis": {
            "gridcolor": "white",
            "linecolor": "white",
            "ticks": ""
           }
          },
          "title": {
           "x": 0.05
          },
          "xaxis": {
           "automargin": true,
           "gridcolor": "white",
           "linecolor": "white",
           "ticks": "",
           "title": {
            "standoff": 15
           },
           "zerolinecolor": "white",
           "zerolinewidth": 2
          },
          "yaxis": {
           "automargin": true,
           "gridcolor": "white",
           "linecolor": "white",
           "ticks": "",
           "title": {
            "standoff": 15
           },
           "zerolinecolor": "white",
           "zerolinewidth": 2
          }
         }
        },
        "title": {
         "text": "Title Sentiment"
        }
       }
      },
      "text/html": [
       "<div>\n",
       "        \n",
       "        \n",
       "            <div id=\"2d38071d-926a-4b42-92a4-d9824bbc23eb\" class=\"plotly-graph-div\" style=\"height:525px; width:100%;\"></div>\n",
       "            <script type=\"text/javascript\">\n",
       "                require([\"plotly\"], function(Plotly) {\n",
       "                    window.PLOTLYENV=window.PLOTLYENV || {};\n",
       "                    \n",
       "                if (document.getElementById(\"2d38071d-926a-4b42-92a4-d9824bbc23eb\")) {\n",
       "                    Plotly.newPlot(\n",
       "                        '2d38071d-926a-4b42-92a4-d9824bbc23eb',\n",
       "                        [{\"marker\": {\"color\": \"#EE7674\"}, \"name\": \"Negative\", \"type\": \"bar\", \"x\": [\"Buy a Refurbished 2017 or 2018 MacBook Pro for $610 Today\", \"How to Stop Procrastinating, With Behavior Scientist BJ Fogg\", \"The Morning After: NASA is taking applications for new astronauts\", \"The Morning After: Amazon's accelerated one-day shipping\", \"Amazon has a rare sale on official iPhone cases\", \"The gadgets that refuse to die\", \"A 'Netflix for the 99 Percent' Enters the Streaming Wars\", \"How to Clean Your Smartphone and Keyboard the Right Way\", \"Oppo\\u2019s new smartwatch looks just like the Apple Watch\", \"Foxconn expects to resume normal production by end of March\", \"Apple is planning to launch a 14.1-inch MacBook Pro with a Mini-LED display, says Ming-Chi Kuo\", \"Big tech\\u2019s coronavirus responses are getting serious\", \"What Facebook could learn from Microsoft\", \"Apple Stores to host over 5,000 female-focused sessions in March for International Women\\u2019s Day\", \"Hulu with Live TV belatedly arrives on PlayStation 4\", \"Equity Shot: What\\u2019s Elliott Management and why is it coming after Twitter and SoftBank?\", \"Resso, Bytedance\\u2019s music streaming app, officially launches in India, sans Tencent-backed Universal Music\", \"Stocks fall despite Fed intervention, dragging tech shares down once again\", \"Cool, Here's Another New Smartwatch That Looks Like an Apple Watch\", \"Apple May Be Supersizing Its Smallest MacBook Pro and Adding Mini-LEDs\"], \"y\": [0.0, 0.216, 0.0, 0.0, 0.0, 0.604, 0.31, 0.0, 0.0, 0.0, 0.0, 0.178, 0.0, 0.0, 0.0, 0.0, 0.0, 0.0, 0.0, 0.0]}, {\"marker\": {\"color\": \"#247BA0\"}, \"name\": \"Neutral\", \"type\": \"bar\", \"x\": [\"Buy a Refurbished 2017 or 2018 MacBook Pro for $610 Today\", \"How to Stop Procrastinating, With Behavior Scientist BJ Fogg\", \"The Morning After: NASA is taking applications for new astronauts\", \"The Morning After: Amazon's accelerated one-day shipping\", \"Amazon has a rare sale on official iPhone cases\", \"The gadgets that refuse to die\", \"A 'Netflix for the 99 Percent' Enters the Streaming Wars\", \"How to Clean Your Smartphone and Keyboard the Right Way\", \"Oppo\\u2019s new smartwatch looks just like the Apple Watch\", \"Foxconn expects to resume normal production by end of March\", \"Apple is planning to launch a 14.1-inch MacBook Pro with a Mini-LED display, says Ming-Chi Kuo\", \"Big tech\\u2019s coronavirus responses are getting serious\", \"What Facebook could learn from Microsoft\", \"Apple Stores to host over 5,000 female-focused sessions in March for International Women\\u2019s Day\", \"Hulu with Live TV belatedly arrives on PlayStation 4\", \"Equity Shot: What\\u2019s Elliott Management and why is it coming after Twitter and SoftBank?\", \"Resso, Bytedance\\u2019s music streaming app, officially launches in India, sans Tencent-backed Universal Music\", \"Stocks fall despite Fed intervention, dragging tech shares down once again\", \"Cool, Here's Another New Smartwatch That Looks Like an Apple Watch\", \"Apple May Be Supersizing Its Smallest MacBook Pro and Adding Mini-LEDs\"], \"y\": [1.0, 0.784, 1.0, 1.0, 0.805, 0.396, 0.69, 0.769, 0.762, 1.0, 1.0, 0.822, 1.0, 1.0, 1.0, 1.0, 1.0, 0.82, 0.652, 1.0]}, {\"name\": \"Positive\", \"type\": \"bar\", \"x\": [\"Buy a Refurbished 2017 or 2018 MacBook Pro for $610 Today\", \"How to Stop Procrastinating, With Behavior Scientist BJ Fogg\", \"The Morning After: NASA is taking applications for new astronauts\", \"The Morning After: Amazon's accelerated one-day shipping\", \"Amazon has a rare sale on official iPhone cases\", \"The gadgets that refuse to die\", \"A 'Netflix for the 99 Percent' Enters the Streaming Wars\", \"How to Clean Your Smartphone and Keyboard the Right Way\", \"Oppo\\u2019s new smartwatch looks just like the Apple Watch\", \"Foxconn expects to resume normal production by end of March\", \"Apple is planning to launch a 14.1-inch MacBook Pro with a Mini-LED display, says Ming-Chi Kuo\", \"Big tech\\u2019s coronavirus responses are getting serious\", \"What Facebook could learn from Microsoft\", \"Apple Stores to host over 5,000 female-focused sessions in March for International Women\\u2019s Day\", \"Hulu with Live TV belatedly arrives on PlayStation 4\", \"Equity Shot: What\\u2019s Elliott Management and why is it coming after Twitter and SoftBank?\", \"Resso, Bytedance\\u2019s music streaming app, officially launches in India, sans Tencent-backed Universal Music\", \"Stocks fall despite Fed intervention, dragging tech shares down once again\", \"Cool, Here's Another New Smartwatch That Looks Like an Apple Watch\", \"Apple May Be Supersizing Its Smallest MacBook Pro and Adding Mini-LEDs\"], \"y\": [0.0, 0.0, 0.0, 0.0, 0.195, 0.0, 0.0, 0.231, 0.238, 0.0, 0.0, 0.0, 0.0, 0.0, 0.0, 0.0, 0.0, 0.18, 0.348, 0.0]}, {\"name\": \"Compound\", \"type\": \"bar\", \"x\": [\"Buy a Refurbished 2017 or 2018 MacBook Pro for $610 Today\", \"How to Stop Procrastinating, With Behavior Scientist BJ Fogg\", \"The Morning After: NASA is taking applications for new astronauts\", \"The Morning After: Amazon's accelerated one-day shipping\", \"Amazon has a rare sale on official iPhone cases\", \"The gadgets that refuse to die\", \"A 'Netflix for the 99 Percent' Enters the Streaming Wars\", \"How to Clean Your Smartphone and Keyboard the Right Way\", \"Oppo\\u2019s new smartwatch looks just like the Apple Watch\", \"Foxconn expects to resume normal production by end of March\", \"Apple is planning to launch a 14.1-inch MacBook Pro with a Mini-LED display, says Ming-Chi Kuo\", \"Big tech\\u2019s coronavirus responses are getting serious\", \"What Facebook could learn from Microsoft\", \"Apple Stores to host over 5,000 female-focused sessions in March for International Women\\u2019s Day\", \"Hulu with Live TV belatedly arrives on PlayStation 4\", \"Equity Shot: What\\u2019s Elliott Management and why is it coming after Twitter and SoftBank?\", \"Resso, Bytedance\\u2019s music streaming app, officially launches in India, sans Tencent-backed Universal Music\", \"Stocks fall despite Fed intervention, dragging tech shares down once again\", \"Cool, Here's Another New Smartwatch That Looks Like an Apple Watch\", \"Apple May Be Supersizing Its Smallest MacBook Pro and Adding Mini-LEDs\"], \"y\": [0.0, -0.296, 0.0, 0.0, 0.1779, -0.7269, -0.5574, 0.4019, 0.3612, 0.0, 0.0, -0.0772, 0.0, 0.0, 0.0, 0.0, 0.0, 0.296, 0.5859, 0.0]}],\n",
       "                        {\"barmode\": \"stack\", \"template\": {\"data\": {\"bar\": [{\"error_x\": {\"color\": \"#2a3f5f\"}, \"error_y\": {\"color\": \"#2a3f5f\"}, \"marker\": {\"line\": {\"color\": \"#E5ECF6\", \"width\": 0.5}}, \"type\": \"bar\"}], \"barpolar\": [{\"marker\": {\"line\": {\"color\": \"#E5ECF6\", \"width\": 0.5}}, \"type\": \"barpolar\"}], \"carpet\": [{\"aaxis\": {\"endlinecolor\": \"#2a3f5f\", \"gridcolor\": \"white\", \"linecolor\": \"white\", \"minorgridcolor\": \"white\", \"startlinecolor\": \"#2a3f5f\"}, \"baxis\": {\"endlinecolor\": \"#2a3f5f\", \"gridcolor\": \"white\", \"linecolor\": \"white\", \"minorgridcolor\": \"white\", \"startlinecolor\": \"#2a3f5f\"}, \"type\": \"carpet\"}], \"choropleth\": [{\"colorbar\": {\"outlinewidth\": 0, \"ticks\": \"\"}, \"type\": \"choropleth\"}], \"contour\": [{\"colorbar\": {\"outlinewidth\": 0, \"ticks\": \"\"}, \"colorscale\": [[0.0, \"#0d0887\"], [0.1111111111111111, \"#46039f\"], [0.2222222222222222, \"#7201a8\"], [0.3333333333333333, \"#9c179e\"], [0.4444444444444444, \"#bd3786\"], [0.5555555555555556, \"#d8576b\"], [0.6666666666666666, \"#ed7953\"], [0.7777777777777778, \"#fb9f3a\"], [0.8888888888888888, \"#fdca26\"], [1.0, \"#f0f921\"]], \"type\": \"contour\"}], \"contourcarpet\": [{\"colorbar\": {\"outlinewidth\": 0, \"ticks\": \"\"}, \"type\": \"contourcarpet\"}], \"heatmap\": [{\"colorbar\": {\"outlinewidth\": 0, \"ticks\": \"\"}, \"colorscale\": [[0.0, \"#0d0887\"], [0.1111111111111111, \"#46039f\"], [0.2222222222222222, \"#7201a8\"], [0.3333333333333333, \"#9c179e\"], [0.4444444444444444, \"#bd3786\"], [0.5555555555555556, \"#d8576b\"], [0.6666666666666666, \"#ed7953\"], [0.7777777777777778, \"#fb9f3a\"], [0.8888888888888888, \"#fdca26\"], [1.0, \"#f0f921\"]], \"type\": \"heatmap\"}], \"heatmapgl\": [{\"colorbar\": {\"outlinewidth\": 0, \"ticks\": \"\"}, \"colorscale\": [[0.0, \"#0d0887\"], [0.1111111111111111, \"#46039f\"], [0.2222222222222222, \"#7201a8\"], [0.3333333333333333, \"#9c179e\"], [0.4444444444444444, \"#bd3786\"], [0.5555555555555556, \"#d8576b\"], [0.6666666666666666, \"#ed7953\"], [0.7777777777777778, \"#fb9f3a\"], [0.8888888888888888, \"#fdca26\"], [1.0, \"#f0f921\"]], \"type\": \"heatmapgl\"}], \"histogram\": [{\"marker\": {\"colorbar\": {\"outlinewidth\": 0, \"ticks\": \"\"}}, \"type\": \"histogram\"}], \"histogram2d\": [{\"colorbar\": {\"outlinewidth\": 0, \"ticks\": \"\"}, \"colorscale\": [[0.0, \"#0d0887\"], [0.1111111111111111, \"#46039f\"], [0.2222222222222222, \"#7201a8\"], [0.3333333333333333, \"#9c179e\"], [0.4444444444444444, \"#bd3786\"], [0.5555555555555556, \"#d8576b\"], [0.6666666666666666, \"#ed7953\"], [0.7777777777777778, \"#fb9f3a\"], [0.8888888888888888, \"#fdca26\"], [1.0, \"#f0f921\"]], \"type\": \"histogram2d\"}], \"histogram2dcontour\": [{\"colorbar\": {\"outlinewidth\": 0, \"ticks\": \"\"}, \"colorscale\": [[0.0, \"#0d0887\"], [0.1111111111111111, \"#46039f\"], [0.2222222222222222, \"#7201a8\"], [0.3333333333333333, \"#9c179e\"], [0.4444444444444444, \"#bd3786\"], [0.5555555555555556, \"#d8576b\"], [0.6666666666666666, \"#ed7953\"], [0.7777777777777778, \"#fb9f3a\"], [0.8888888888888888, \"#fdca26\"], [1.0, \"#f0f921\"]], \"type\": \"histogram2dcontour\"}], \"mesh3d\": [{\"colorbar\": {\"outlinewidth\": 0, \"ticks\": \"\"}, \"type\": \"mesh3d\"}], \"parcoords\": [{\"line\": {\"colorbar\": {\"outlinewidth\": 0, \"ticks\": \"\"}}, \"type\": \"parcoords\"}], \"pie\": [{\"automargin\": true, \"type\": \"pie\"}], \"scatter\": [{\"marker\": {\"colorbar\": {\"outlinewidth\": 0, \"ticks\": \"\"}}, \"type\": \"scatter\"}], \"scatter3d\": [{\"line\": {\"colorbar\": {\"outlinewidth\": 0, \"ticks\": \"\"}}, \"marker\": {\"colorbar\": {\"outlinewidth\": 0, \"ticks\": \"\"}}, \"type\": \"scatter3d\"}], \"scattercarpet\": [{\"marker\": {\"colorbar\": {\"outlinewidth\": 0, \"ticks\": \"\"}}, \"type\": \"scattercarpet\"}], \"scattergeo\": [{\"marker\": {\"colorbar\": {\"outlinewidth\": 0, \"ticks\": \"\"}}, \"type\": \"scattergeo\"}], \"scattergl\": [{\"marker\": {\"colorbar\": {\"outlinewidth\": 0, \"ticks\": \"\"}}, \"type\": \"scattergl\"}], \"scattermapbox\": [{\"marker\": {\"colorbar\": {\"outlinewidth\": 0, \"ticks\": \"\"}}, \"type\": \"scattermapbox\"}], \"scatterpolar\": [{\"marker\": {\"colorbar\": {\"outlinewidth\": 0, \"ticks\": \"\"}}, \"type\": \"scatterpolar\"}], \"scatterpolargl\": [{\"marker\": {\"colorbar\": {\"outlinewidth\": 0, \"ticks\": \"\"}}, \"type\": \"scatterpolargl\"}], \"scatterternary\": [{\"marker\": {\"colorbar\": {\"outlinewidth\": 0, \"ticks\": \"\"}}, \"type\": \"scatterternary\"}], \"surface\": [{\"colorbar\": {\"outlinewidth\": 0, \"ticks\": \"\"}, \"colorscale\": [[0.0, \"#0d0887\"], [0.1111111111111111, \"#46039f\"], [0.2222222222222222, \"#7201a8\"], [0.3333333333333333, \"#9c179e\"], [0.4444444444444444, \"#bd3786\"], [0.5555555555555556, \"#d8576b\"], [0.6666666666666666, \"#ed7953\"], [0.7777777777777778, \"#fb9f3a\"], [0.8888888888888888, \"#fdca26\"], [1.0, \"#f0f921\"]], \"type\": \"surface\"}], \"table\": [{\"cells\": {\"fill\": {\"color\": \"#EBF0F8\"}, \"line\": {\"color\": \"white\"}}, \"header\": {\"fill\": {\"color\": \"#C8D4E3\"}, \"line\": {\"color\": \"white\"}}, \"type\": \"table\"}]}, \"layout\": {\"annotationdefaults\": {\"arrowcolor\": \"#2a3f5f\", \"arrowhead\": 0, \"arrowwidth\": 1}, \"coloraxis\": {\"colorbar\": {\"outlinewidth\": 0, \"ticks\": \"\"}}, \"colorscale\": {\"diverging\": [[0, \"#8e0152\"], [0.1, \"#c51b7d\"], [0.2, \"#de77ae\"], [0.3, \"#f1b6da\"], [0.4, \"#fde0ef\"], [0.5, \"#f7f7f7\"], [0.6, \"#e6f5d0\"], [0.7, \"#b8e186\"], [0.8, \"#7fbc41\"], [0.9, \"#4d9221\"], [1, \"#276419\"]], \"sequential\": [[0.0, \"#0d0887\"], [0.1111111111111111, \"#46039f\"], [0.2222222222222222, \"#7201a8\"], [0.3333333333333333, \"#9c179e\"], [0.4444444444444444, \"#bd3786\"], [0.5555555555555556, \"#d8576b\"], [0.6666666666666666, \"#ed7953\"], [0.7777777777777778, \"#fb9f3a\"], [0.8888888888888888, \"#fdca26\"], [1.0, \"#f0f921\"]], \"sequentialminus\": [[0.0, \"#0d0887\"], [0.1111111111111111, \"#46039f\"], [0.2222222222222222, \"#7201a8\"], [0.3333333333333333, \"#9c179e\"], [0.4444444444444444, \"#bd3786\"], [0.5555555555555556, \"#d8576b\"], [0.6666666666666666, \"#ed7953\"], [0.7777777777777778, \"#fb9f3a\"], [0.8888888888888888, \"#fdca26\"], [1.0, \"#f0f921\"]]}, \"colorway\": [\"#636efa\", \"#EF553B\", \"#00cc96\", \"#ab63fa\", \"#FFA15A\", \"#19d3f3\", \"#FF6692\", \"#B6E880\", \"#FF97FF\", \"#FECB52\"], \"font\": {\"color\": \"#2a3f5f\"}, \"geo\": {\"bgcolor\": \"white\", \"lakecolor\": \"white\", \"landcolor\": \"#E5ECF6\", \"showlakes\": true, \"showland\": true, \"subunitcolor\": \"white\"}, \"hoverlabel\": {\"align\": \"left\"}, \"hovermode\": \"closest\", \"mapbox\": {\"style\": \"light\"}, \"paper_bgcolor\": \"white\", \"plot_bgcolor\": \"#E5ECF6\", \"polar\": {\"angularaxis\": {\"gridcolor\": \"white\", \"linecolor\": \"white\", \"ticks\": \"\"}, \"bgcolor\": \"#E5ECF6\", \"radialaxis\": {\"gridcolor\": \"white\", \"linecolor\": \"white\", \"ticks\": \"\"}}, \"scene\": {\"xaxis\": {\"backgroundcolor\": \"#E5ECF6\", \"gridcolor\": \"white\", \"gridwidth\": 2, \"linecolor\": \"white\", \"showbackground\": true, \"ticks\": \"\", \"zerolinecolor\": \"white\"}, \"yaxis\": {\"backgroundcolor\": \"#E5ECF6\", \"gridcolor\": \"white\", \"gridwidth\": 2, \"linecolor\": \"white\", \"showbackground\": true, \"ticks\": \"\", \"zerolinecolor\": \"white\"}, \"zaxis\": {\"backgroundcolor\": \"#E5ECF6\", \"gridcolor\": \"white\", \"gridwidth\": 2, \"linecolor\": \"white\", \"showbackground\": true, \"ticks\": \"\", \"zerolinecolor\": \"white\"}}, \"shapedefaults\": {\"line\": {\"color\": \"#2a3f5f\"}}, \"ternary\": {\"aaxis\": {\"gridcolor\": \"white\", \"linecolor\": \"white\", \"ticks\": \"\"}, \"baxis\": {\"gridcolor\": \"white\", \"linecolor\": \"white\", \"ticks\": \"\"}, \"bgcolor\": \"#E5ECF6\", \"caxis\": {\"gridcolor\": \"white\", \"linecolor\": \"white\", \"ticks\": \"\"}}, \"title\": {\"x\": 0.05}, \"xaxis\": {\"automargin\": true, \"gridcolor\": \"white\", \"linecolor\": \"white\", \"ticks\": \"\", \"title\": {\"standoff\": 15}, \"zerolinecolor\": \"white\", \"zerolinewidth\": 2}, \"yaxis\": {\"automargin\": true, \"gridcolor\": \"white\", \"linecolor\": \"white\", \"ticks\": \"\", \"title\": {\"standoff\": 15}, \"zerolinecolor\": \"white\", \"zerolinewidth\": 2}}}, \"title\": {\"text\": \"Title Sentiment\"}},\n",
       "                        {\"responsive\": true}\n",
       "                    ).then(function(){\n",
       "                            \n",
       "var gd = document.getElementById('2d38071d-926a-4b42-92a4-d9824bbc23eb');\n",
       "var x = new MutationObserver(function (mutations, observer) {{\n",
       "        var display = window.getComputedStyle(gd).display;\n",
       "        if (!display || display === 'none') {{\n",
       "            console.log([gd, 'removed!']);\n",
       "            Plotly.purge(gd);\n",
       "            observer.disconnect();\n",
       "        }}\n",
       "}});\n",
       "\n",
       "// Listen for the removal of the full notebook cells\n",
       "var notebookContainer = gd.closest('#notebook-container');\n",
       "if (notebookContainer) {{\n",
       "    x.observe(notebookContainer, {childList: true});\n",
       "}}\n",
       "\n",
       "// Listen for the clearing of the current output cell\n",
       "var outputEl = gd.closest('.output');\n",
       "if (outputEl) {{\n",
       "    x.observe(outputEl, {childList: true});\n",
       "}}\n",
       "\n",
       "                        })\n",
       "                };\n",
       "                });\n",
       "            </script>\n",
       "        </div>"
      ]
     },
     "metadata": {},
     "output_type": "display_data"
    }
   ],
   "source": [
    "def graph_sentiment(text, score, graph_title):\n",
    "    x = text\n",
    "    y = [d.get('neg') for d in score]\n",
    "    y1 = [d.get('neu') for d in score]\n",
    "    y2 = [d.get('pos') for d in score]\n",
    "    y3 = [d.get('compound') for d in score]\n",
    "\n",
    "    fig = go.Figure(go.Bar(x=x, y=y, name='Negative', marker_color='#EE7674'))\n",
    "    fig.add_trace(go.Bar(x=x, y=y1, name='Neutral', marker_color='#247BA0'))\n",
    "    fig.add_trace(go.Bar(x=x, y=y2, name='Positive'))\n",
    "    fig.add_trace(go.Bar(x=x, y=y3, name='Compound'))\n",
    "\n",
    "    fig.update_layout(barmode='stack', title=graph_title)\n",
    "    fig.show()\n",
    "\n",
    "\n",
    "graph_sentiment(news_df['title'], news_df['title_score'], 'Title Sentiment')"
   ]
  },
  {
   "cell_type": "code",
   "execution_count": 76,
   "metadata": {},
   "outputs": [
    {
     "data": {
      "application/vnd.plotly.v1+json": {
       "config": {
        "plotlyServerURL": "https://plot.ly"
       },
       "data": [
        {
         "marker": {
          "color": "#EE7674"
         },
         "name": "Negative",
         "type": "bar",
         "x": [
          "There’s an incredible deal on refurbished 2017 and 2018 MacBook Pros on Amazon’s Woot site for today and today only. The pre-owned models are on sale at drastic price cuts—$600 to $900 off the full retail prices, and hundreds of dollars cheaper than Apple’s r…",
          "Do you put things off ‘til the last minute? Are you one of the millions who tend to delay getting to your to-do list? Then you’re in luck—behavior scientist BJ Fogg joins us on this episode to talk about how to stop procrastinating thanks to his researched ap…",
          "Hey, good morning! You look fabulous. SXSW 2020 has not been canceled and will start as planned in just a couple of weeks. However, the show will lack some social media muscle due to the absence of Facebook and 2007 SXSW darling, Twitter. Both companies annou…",
          "Hey, good morning! You look fabulous. Amazon is offering faster same-day delivery that could get your order to you in a matter of hours. There will apparently be up to three million items marked \"Today by\" available to order for speedy same-day delivery to Pr…",
          "Apple's first-party iPhone cases tend to cost significantly more than their no-name counterparts. Even cases from well-regarded companies like Spigen are usually less expensive than the ones you can buy directly from Apple. That said, if you prefer to put you…",
          "I have a drawer in my bedroom that's filled with defunct tech. It consists of old PDAs, bricked smartwatches and wearables that no longer work. Like many of you, I've realized that gadgets don't last forever. As Engadget Senior Editor Devindra Hardawar recent…",
          "Means TV is structured as a worker-owned cooperative. But even a \"post-capitalist\" streaming service will need to compete for subscriptions.",
          "Your phone is a disease magnet. Here's how to safely disinfect it and the rest of your gear to help you stay healthy as coronavirus spreads.",
          "Oppo has revealed new pictures of its upcoming smartwatch, called the Oppo Watch, and the watch looks remarkably similar to an Apple Watch. We don’t know too much about the device, but it seems the company will reveal more at its March 6th event, which takes …",
          "iPhone maker Foxconn says it expects to be back to full strength before April as new infections caused by the coronavirus begin to curtail in China.",
          "Apple is working on a new 14.1-inch MacBook Pro, as well as a refresh to the iMac Pro, the 7.9-inch iPad mini, the 16-inch MacBook Pro, the 12.9-inch iPad Pro, and the 10.2-inch iPad, according to the latest research note from analyst Ming-Chi Kuo seen by Mac…",
          "Another big conference got canceled, Google I/O in May. That means the big, uncanceled tech events include Apple’s WWDC and its rumored Spring event, Microsoft’s Build, and of course SXSW. SXSW starts next week and despite the fact that yet more companies pul…",
          "Improving your public reputation often means taking a step out of the spotlight",
          "Apple is celebrating International Women’s Day with a full month of events across its retail stores, App Store and other platforms, including Apple TV, plus its Apple Books and Apple Podcasts applications. In March, Apple’s retail stores will host over 5,000 …",
          "Hulu’s Live TV service, which allows users to watch both live and on-demand programming, including Hulu Originals, has finally arrived on the PlayStation 4 — close to three years after the service first debuted. The launch closes a significant hole in Hulu’s …",
          "Hello and welcome back to Equity, TechCrunch’s venture capital-focused podcast, where we unpack the numbers behind the headlines. After a long Shot hiatus, things keep happening that demand our attention. So, after digging into Tesla’s near-miss of the $1,000…",
          "TikTok, the hugely popular social media app, found a lot of early traction by giving users a way to create funny lip-synced versions of clips from well-known songs and then share them with friends (its predecessor in the West was even called Musically). Now a…",
          "On a day that saw the U.S. Federal Reserve try to flip the only switch it can to light up investor confidence, investors remained unconvinced of the short-term financial prospects of the U.S. and global economies. All three major indices saw red on Tuesday af…",
          "Because we certainly don’t have enough Android smartwatches to choose from, Chinese smartphone maker Oppo leaked a photo of its new Oppo Watch in a tweet announcing its upcoming phone event. Read more...",
          "Even though COVID-19 has already put hurt Apple’s bottom line and forced the company to temporarily close stores in China, according to a new report, the coronavirus hasn’t put any dampers on Apple’s plans to release new devices: specifically, six new product…"
         ],
         "y": [
          0,
          0.092,
          0.043,
          0,
          0,
          0.05,
          0,
          0,
          0,
          0,
          0,
          0,
          0,
          0,
          0,
          0.037,
          0,
          0.053,
          0.068,
          0.141
         ]
        },
        {
         "marker": {
          "color": "#247BA0"
         },
         "name": "Neutral",
         "type": "bar",
         "x": [
          "There’s an incredible deal on refurbished 2017 and 2018 MacBook Pros on Amazon’s Woot site for today and today only. The pre-owned models are on sale at drastic price cuts—$600 to $900 off the full retail prices, and hundreds of dollars cheaper than Apple’s r…",
          "Do you put things off ‘til the last minute? Are you one of the millions who tend to delay getting to your to-do list? Then you’re in luck—behavior scientist BJ Fogg joins us on this episode to talk about how to stop procrastinating thanks to his researched ap…",
          "Hey, good morning! You look fabulous. SXSW 2020 has not been canceled and will start as planned in just a couple of weeks. However, the show will lack some social media muscle due to the absence of Facebook and 2007 SXSW darling, Twitter. Both companies annou…",
          "Hey, good morning! You look fabulous. Amazon is offering faster same-day delivery that could get your order to you in a matter of hours. There will apparently be up to three million items marked \"Today by\" available to order for speedy same-day delivery to Pr…",
          "Apple's first-party iPhone cases tend to cost significantly more than their no-name counterparts. Even cases from well-regarded companies like Spigen are usually less expensive than the ones you can buy directly from Apple. That said, if you prefer to put you…",
          "I have a drawer in my bedroom that's filled with defunct tech. It consists of old PDAs, bricked smartwatches and wearables that no longer work. Like many of you, I've realized that gadgets don't last forever. As Engadget Senior Editor Devindra Hardawar recent…",
          "Means TV is structured as a worker-owned cooperative. But even a \"post-capitalist\" streaming service will need to compete for subscriptions.",
          "Your phone is a disease magnet. Here's how to safely disinfect it and the rest of your gear to help you stay healthy as coronavirus spreads.",
          "Oppo has revealed new pictures of its upcoming smartwatch, called the Oppo Watch, and the watch looks remarkably similar to an Apple Watch. We don’t know too much about the device, but it seems the company will reveal more at its March 6th event, which takes …",
          "iPhone maker Foxconn says it expects to be back to full strength before April as new infections caused by the coronavirus begin to curtail in China.",
          "Apple is working on a new 14.1-inch MacBook Pro, as well as a refresh to the iMac Pro, the 7.9-inch iPad mini, the 16-inch MacBook Pro, the 12.9-inch iPad Pro, and the 10.2-inch iPad, according to the latest research note from analyst Ming-Chi Kuo seen by Mac…",
          "Another big conference got canceled, Google I/O in May. That means the big, uncanceled tech events include Apple’s WWDC and its rumored Spring event, Microsoft’s Build, and of course SXSW. SXSW starts next week and despite the fact that yet more companies pul…",
          "Improving your public reputation often means taking a step out of the spotlight",
          "Apple is celebrating International Women’s Day with a full month of events across its retail stores, App Store and other platforms, including Apple TV, plus its Apple Books and Apple Podcasts applications. In March, Apple’s retail stores will host over 5,000 …",
          "Hulu’s Live TV service, which allows users to watch both live and on-demand programming, including Hulu Originals, has finally arrived on the PlayStation 4 — close to three years after the service first debuted. The launch closes a significant hole in Hulu’s …",
          "Hello and welcome back to Equity, TechCrunch’s venture capital-focused podcast, where we unpack the numbers behind the headlines. After a long Shot hiatus, things keep happening that demand our attention. So, after digging into Tesla’s near-miss of the $1,000…",
          "TikTok, the hugely popular social media app, found a lot of early traction by giving users a way to create funny lip-synced versions of clips from well-known songs and then share them with friends (its predecessor in the West was even called Musically). Now a…",
          "On a day that saw the U.S. Federal Reserve try to flip the only switch it can to light up investor confidence, investors remained unconvinced of the short-term financial prospects of the U.S. and global economies. All three major indices saw red on Tuesday af…",
          "Because we certainly don’t have enough Android smartwatches to choose from, Chinese smartphone maker Oppo leaked a photo of its new Oppo Watch in a tweet announcing its upcoming phone event. Read more...",
          "Even though COVID-19 has already put hurt Apple’s bottom line and forced the company to temporarily close stores in China, according to a new report, the coronavirus hasn’t put any dampers on Apple’s plans to release new devices: specifically, six new product…"
         ],
         "y": [
          0.94,
          0.853,
          0.764,
          0.81,
          0.941,
          0.892,
          1,
          0.719,
          1,
          0.887,
          0.954,
          1,
          0.797,
          0.913,
          0.955,
          0.889,
          0.701,
          0.835,
          0.861,
          0.859
         ]
        },
        {
         "name": "Positive",
         "type": "bar",
         "x": [
          "There’s an incredible deal on refurbished 2017 and 2018 MacBook Pros on Amazon’s Woot site for today and today only. The pre-owned models are on sale at drastic price cuts—$600 to $900 off the full retail prices, and hundreds of dollars cheaper than Apple’s r…",
          "Do you put things off ‘til the last minute? Are you one of the millions who tend to delay getting to your to-do list? Then you’re in luck—behavior scientist BJ Fogg joins us on this episode to talk about how to stop procrastinating thanks to his researched ap…",
          "Hey, good morning! You look fabulous. SXSW 2020 has not been canceled and will start as planned in just a couple of weeks. However, the show will lack some social media muscle due to the absence of Facebook and 2007 SXSW darling, Twitter. Both companies annou…",
          "Hey, good morning! You look fabulous. Amazon is offering faster same-day delivery that could get your order to you in a matter of hours. There will apparently be up to three million items marked \"Today by\" available to order for speedy same-day delivery to Pr…",
          "Apple's first-party iPhone cases tend to cost significantly more than their no-name counterparts. Even cases from well-regarded companies like Spigen are usually less expensive than the ones you can buy directly from Apple. That said, if you prefer to put you…",
          "I have a drawer in my bedroom that's filled with defunct tech. It consists of old PDAs, bricked smartwatches and wearables that no longer work. Like many of you, I've realized that gadgets don't last forever. As Engadget Senior Editor Devindra Hardawar recent…",
          "Means TV is structured as a worker-owned cooperative. But even a \"post-capitalist\" streaming service will need to compete for subscriptions.",
          "Your phone is a disease magnet. Here's how to safely disinfect it and the rest of your gear to help you stay healthy as coronavirus spreads.",
          "Oppo has revealed new pictures of its upcoming smartwatch, called the Oppo Watch, and the watch looks remarkably similar to an Apple Watch. We don’t know too much about the device, but it seems the company will reveal more at its March 6th event, which takes …",
          "iPhone maker Foxconn says it expects to be back to full strength before April as new infections caused by the coronavirus begin to curtail in China.",
          "Apple is working on a new 14.1-inch MacBook Pro, as well as a refresh to the iMac Pro, the 7.9-inch iPad mini, the 16-inch MacBook Pro, the 12.9-inch iPad Pro, and the 10.2-inch iPad, according to the latest research note from analyst Ming-Chi Kuo seen by Mac…",
          "Another big conference got canceled, Google I/O in May. That means the big, uncanceled tech events include Apple’s WWDC and its rumored Spring event, Microsoft’s Build, and of course SXSW. SXSW starts next week and despite the fact that yet more companies pul…",
          "Improving your public reputation often means taking a step out of the spotlight",
          "Apple is celebrating International Women’s Day with a full month of events across its retail stores, App Store and other platforms, including Apple TV, plus its Apple Books and Apple Podcasts applications. In March, Apple’s retail stores will host over 5,000 …",
          "Hulu’s Live TV service, which allows users to watch both live and on-demand programming, including Hulu Originals, has finally arrived on the PlayStation 4 — close to three years after the service first debuted. The launch closes a significant hole in Hulu’s …",
          "Hello and welcome back to Equity, TechCrunch’s venture capital-focused podcast, where we unpack the numbers behind the headlines. After a long Shot hiatus, things keep happening that demand our attention. So, after digging into Tesla’s near-miss of the $1,000…",
          "TikTok, the hugely popular social media app, found a lot of early traction by giving users a way to create funny lip-synced versions of clips from well-known songs and then share them with friends (its predecessor in the West was even called Musically). Now a…",
          "On a day that saw the U.S. Federal Reserve try to flip the only switch it can to light up investor confidence, investors remained unconvinced of the short-term financial prospects of the U.S. and global economies. All three major indices saw red on Tuesday af…",
          "Because we certainly don’t have enough Android smartwatches to choose from, Chinese smartphone maker Oppo leaked a photo of its new Oppo Watch in a tweet announcing its upcoming phone event. Read more...",
          "Even though COVID-19 has already put hurt Apple’s bottom line and forced the company to temporarily close stores in China, according to a new report, the coronavirus hasn’t put any dampers on Apple’s plans to release new devices: specifically, six new product…"
         ],
         "y": [
          0.06,
          0.055,
          0.194,
          0.19,
          0.059,
          0.057,
          0,
          0.281,
          0,
          0.113,
          0.046,
          0,
          0.203,
          0.087,
          0.045,
          0.074,
          0.299,
          0.112,
          0.071,
          0
         ]
        },
        {
         "name": "Compound",
         "type": "bar",
         "x": [
          "There’s an incredible deal on refurbished 2017 and 2018 MacBook Pros on Amazon’s Woot site for today and today only. The pre-owned models are on sale at drastic price cuts—$600 to $900 off the full retail prices, and hundreds of dollars cheaper than Apple’s r…",
          "Do you put things off ‘til the last minute? Are you one of the millions who tend to delay getting to your to-do list? Then you’re in luck—behavior scientist BJ Fogg joins us on this episode to talk about how to stop procrastinating thanks to his researched ap…",
          "Hey, good morning! You look fabulous. SXSW 2020 has not been canceled and will start as planned in just a couple of weeks. However, the show will lack some social media muscle due to the absence of Facebook and 2007 SXSW darling, Twitter. Both companies annou…",
          "Hey, good morning! You look fabulous. Amazon is offering faster same-day delivery that could get your order to you in a matter of hours. There will apparently be up to three million items marked \"Today by\" available to order for speedy same-day delivery to Pr…",
          "Apple's first-party iPhone cases tend to cost significantly more than their no-name counterparts. Even cases from well-regarded companies like Spigen are usually less expensive than the ones you can buy directly from Apple. That said, if you prefer to put you…",
          "I have a drawer in my bedroom that's filled with defunct tech. It consists of old PDAs, bricked smartwatches and wearables that no longer work. Like many of you, I've realized that gadgets don't last forever. As Engadget Senior Editor Devindra Hardawar recent…",
          "Means TV is structured as a worker-owned cooperative. But even a \"post-capitalist\" streaming service will need to compete for subscriptions.",
          "Your phone is a disease magnet. Here's how to safely disinfect it and the rest of your gear to help you stay healthy as coronavirus spreads.",
          "Oppo has revealed new pictures of its upcoming smartwatch, called the Oppo Watch, and the watch looks remarkably similar to an Apple Watch. We don’t know too much about the device, but it seems the company will reveal more at its March 6th event, which takes …",
          "iPhone maker Foxconn says it expects to be back to full strength before April as new infections caused by the coronavirus begin to curtail in China.",
          "Apple is working on a new 14.1-inch MacBook Pro, as well as a refresh to the iMac Pro, the 7.9-inch iPad mini, the 16-inch MacBook Pro, the 12.9-inch iPad Pro, and the 10.2-inch iPad, according to the latest research note from analyst Ming-Chi Kuo seen by Mac…",
          "Another big conference got canceled, Google I/O in May. That means the big, uncanceled tech events include Apple’s WWDC and its rumored Spring event, Microsoft’s Build, and of course SXSW. SXSW starts next week and despite the fact that yet more companies pul…",
          "Improving your public reputation often means taking a step out of the spotlight",
          "Apple is celebrating International Women’s Day with a full month of events across its retail stores, App Store and other platforms, including Apple TV, plus its Apple Books and Apple Podcasts applications. In March, Apple’s retail stores will host over 5,000 …",
          "Hulu’s Live TV service, which allows users to watch both live and on-demand programming, including Hulu Originals, has finally arrived on the PlayStation 4 — close to three years after the service first debuted. The launch closes a significant hole in Hulu’s …",
          "Hello and welcome back to Equity, TechCrunch’s venture capital-focused podcast, where we unpack the numbers behind the headlines. After a long Shot hiatus, things keep happening that demand our attention. So, after digging into Tesla’s near-miss of the $1,000…",
          "TikTok, the hugely popular social media app, found a lot of early traction by giving users a way to create funny lip-synced versions of clips from well-known songs and then share them with friends (its predecessor in the West was even called Musically). Now a…",
          "On a day that saw the U.S. Federal Reserve try to flip the only switch it can to light up investor confidence, investors remained unconvinced of the short-term financial prospects of the U.S. and global economies. All three major indices saw red on Tuesday af…",
          "Because we certainly don’t have enough Android smartwatches to choose from, Chinese smartphone maker Oppo leaked a photo of its new Oppo Watch in a tweet announcing its upcoming phone event. Read more...",
          "Even though COVID-19 has already put hurt Apple’s bottom line and forced the company to temporarily close stores in China, according to a new report, the coronavirus hasn’t put any dampers on Apple’s plans to release new devices: specifically, six new product…"
         ],
         "y": [
          0.4215,
          -0.2406,
          0.8439,
          0.8122,
          0.3612,
          0.0772,
          0,
          0.8225,
          0,
          0.4939,
          0.2732,
          0,
          0.4215,
          0.5719,
          0.2023,
          0.3612,
          0.9299,
          0.4404,
          0.0258,
          -0.7506
         ]
        }
       ],
       "layout": {
        "barmode": "stack",
        "template": {
         "data": {
          "bar": [
           {
            "error_x": {
             "color": "#2a3f5f"
            },
            "error_y": {
             "color": "#2a3f5f"
            },
            "marker": {
             "line": {
              "color": "#E5ECF6",
              "width": 0.5
             }
            },
            "type": "bar"
           }
          ],
          "barpolar": [
           {
            "marker": {
             "line": {
              "color": "#E5ECF6",
              "width": 0.5
             }
            },
            "type": "barpolar"
           }
          ],
          "carpet": [
           {
            "aaxis": {
             "endlinecolor": "#2a3f5f",
             "gridcolor": "white",
             "linecolor": "white",
             "minorgridcolor": "white",
             "startlinecolor": "#2a3f5f"
            },
            "baxis": {
             "endlinecolor": "#2a3f5f",
             "gridcolor": "white",
             "linecolor": "white",
             "minorgridcolor": "white",
             "startlinecolor": "#2a3f5f"
            },
            "type": "carpet"
           }
          ],
          "choropleth": [
           {
            "colorbar": {
             "outlinewidth": 0,
             "ticks": ""
            },
            "type": "choropleth"
           }
          ],
          "contour": [
           {
            "colorbar": {
             "outlinewidth": 0,
             "ticks": ""
            },
            "colorscale": [
             [
              0,
              "#0d0887"
             ],
             [
              0.1111111111111111,
              "#46039f"
             ],
             [
              0.2222222222222222,
              "#7201a8"
             ],
             [
              0.3333333333333333,
              "#9c179e"
             ],
             [
              0.4444444444444444,
              "#bd3786"
             ],
             [
              0.5555555555555556,
              "#d8576b"
             ],
             [
              0.6666666666666666,
              "#ed7953"
             ],
             [
              0.7777777777777778,
              "#fb9f3a"
             ],
             [
              0.8888888888888888,
              "#fdca26"
             ],
             [
              1,
              "#f0f921"
             ]
            ],
            "type": "contour"
           }
          ],
          "contourcarpet": [
           {
            "colorbar": {
             "outlinewidth": 0,
             "ticks": ""
            },
            "type": "contourcarpet"
           }
          ],
          "heatmap": [
           {
            "colorbar": {
             "outlinewidth": 0,
             "ticks": ""
            },
            "colorscale": [
             [
              0,
              "#0d0887"
             ],
             [
              0.1111111111111111,
              "#46039f"
             ],
             [
              0.2222222222222222,
              "#7201a8"
             ],
             [
              0.3333333333333333,
              "#9c179e"
             ],
             [
              0.4444444444444444,
              "#bd3786"
             ],
             [
              0.5555555555555556,
              "#d8576b"
             ],
             [
              0.6666666666666666,
              "#ed7953"
             ],
             [
              0.7777777777777778,
              "#fb9f3a"
             ],
             [
              0.8888888888888888,
              "#fdca26"
             ],
             [
              1,
              "#f0f921"
             ]
            ],
            "type": "heatmap"
           }
          ],
          "heatmapgl": [
           {
            "colorbar": {
             "outlinewidth": 0,
             "ticks": ""
            },
            "colorscale": [
             [
              0,
              "#0d0887"
             ],
             [
              0.1111111111111111,
              "#46039f"
             ],
             [
              0.2222222222222222,
              "#7201a8"
             ],
             [
              0.3333333333333333,
              "#9c179e"
             ],
             [
              0.4444444444444444,
              "#bd3786"
             ],
             [
              0.5555555555555556,
              "#d8576b"
             ],
             [
              0.6666666666666666,
              "#ed7953"
             ],
             [
              0.7777777777777778,
              "#fb9f3a"
             ],
             [
              0.8888888888888888,
              "#fdca26"
             ],
             [
              1,
              "#f0f921"
             ]
            ],
            "type": "heatmapgl"
           }
          ],
          "histogram": [
           {
            "marker": {
             "colorbar": {
              "outlinewidth": 0,
              "ticks": ""
             }
            },
            "type": "histogram"
           }
          ],
          "histogram2d": [
           {
            "colorbar": {
             "outlinewidth": 0,
             "ticks": ""
            },
            "colorscale": [
             [
              0,
              "#0d0887"
             ],
             [
              0.1111111111111111,
              "#46039f"
             ],
             [
              0.2222222222222222,
              "#7201a8"
             ],
             [
              0.3333333333333333,
              "#9c179e"
             ],
             [
              0.4444444444444444,
              "#bd3786"
             ],
             [
              0.5555555555555556,
              "#d8576b"
             ],
             [
              0.6666666666666666,
              "#ed7953"
             ],
             [
              0.7777777777777778,
              "#fb9f3a"
             ],
             [
              0.8888888888888888,
              "#fdca26"
             ],
             [
              1,
              "#f0f921"
             ]
            ],
            "type": "histogram2d"
           }
          ],
          "histogram2dcontour": [
           {
            "colorbar": {
             "outlinewidth": 0,
             "ticks": ""
            },
            "colorscale": [
             [
              0,
              "#0d0887"
             ],
             [
              0.1111111111111111,
              "#46039f"
             ],
             [
              0.2222222222222222,
              "#7201a8"
             ],
             [
              0.3333333333333333,
              "#9c179e"
             ],
             [
              0.4444444444444444,
              "#bd3786"
             ],
             [
              0.5555555555555556,
              "#d8576b"
             ],
             [
              0.6666666666666666,
              "#ed7953"
             ],
             [
              0.7777777777777778,
              "#fb9f3a"
             ],
             [
              0.8888888888888888,
              "#fdca26"
             ],
             [
              1,
              "#f0f921"
             ]
            ],
            "type": "histogram2dcontour"
           }
          ],
          "mesh3d": [
           {
            "colorbar": {
             "outlinewidth": 0,
             "ticks": ""
            },
            "type": "mesh3d"
           }
          ],
          "parcoords": [
           {
            "line": {
             "colorbar": {
              "outlinewidth": 0,
              "ticks": ""
             }
            },
            "type": "parcoords"
           }
          ],
          "pie": [
           {
            "automargin": true,
            "type": "pie"
           }
          ],
          "scatter": [
           {
            "marker": {
             "colorbar": {
              "outlinewidth": 0,
              "ticks": ""
             }
            },
            "type": "scatter"
           }
          ],
          "scatter3d": [
           {
            "line": {
             "colorbar": {
              "outlinewidth": 0,
              "ticks": ""
             }
            },
            "marker": {
             "colorbar": {
              "outlinewidth": 0,
              "ticks": ""
             }
            },
            "type": "scatter3d"
           }
          ],
          "scattercarpet": [
           {
            "marker": {
             "colorbar": {
              "outlinewidth": 0,
              "ticks": ""
             }
            },
            "type": "scattercarpet"
           }
          ],
          "scattergeo": [
           {
            "marker": {
             "colorbar": {
              "outlinewidth": 0,
              "ticks": ""
             }
            },
            "type": "scattergeo"
           }
          ],
          "scattergl": [
           {
            "marker": {
             "colorbar": {
              "outlinewidth": 0,
              "ticks": ""
             }
            },
            "type": "scattergl"
           }
          ],
          "scattermapbox": [
           {
            "marker": {
             "colorbar": {
              "outlinewidth": 0,
              "ticks": ""
             }
            },
            "type": "scattermapbox"
           }
          ],
          "scatterpolar": [
           {
            "marker": {
             "colorbar": {
              "outlinewidth": 0,
              "ticks": ""
             }
            },
            "type": "scatterpolar"
           }
          ],
          "scatterpolargl": [
           {
            "marker": {
             "colorbar": {
              "outlinewidth": 0,
              "ticks": ""
             }
            },
            "type": "scatterpolargl"
           }
          ],
          "scatterternary": [
           {
            "marker": {
             "colorbar": {
              "outlinewidth": 0,
              "ticks": ""
             }
            },
            "type": "scatterternary"
           }
          ],
          "surface": [
           {
            "colorbar": {
             "outlinewidth": 0,
             "ticks": ""
            },
            "colorscale": [
             [
              0,
              "#0d0887"
             ],
             [
              0.1111111111111111,
              "#46039f"
             ],
             [
              0.2222222222222222,
              "#7201a8"
             ],
             [
              0.3333333333333333,
              "#9c179e"
             ],
             [
              0.4444444444444444,
              "#bd3786"
             ],
             [
              0.5555555555555556,
              "#d8576b"
             ],
             [
              0.6666666666666666,
              "#ed7953"
             ],
             [
              0.7777777777777778,
              "#fb9f3a"
             ],
             [
              0.8888888888888888,
              "#fdca26"
             ],
             [
              1,
              "#f0f921"
             ]
            ],
            "type": "surface"
           }
          ],
          "table": [
           {
            "cells": {
             "fill": {
              "color": "#EBF0F8"
             },
             "line": {
              "color": "white"
             }
            },
            "header": {
             "fill": {
              "color": "#C8D4E3"
             },
             "line": {
              "color": "white"
             }
            },
            "type": "table"
           }
          ]
         },
         "layout": {
          "annotationdefaults": {
           "arrowcolor": "#2a3f5f",
           "arrowhead": 0,
           "arrowwidth": 1
          },
          "coloraxis": {
           "colorbar": {
            "outlinewidth": 0,
            "ticks": ""
           }
          },
          "colorscale": {
           "diverging": [
            [
             0,
             "#8e0152"
            ],
            [
             0.1,
             "#c51b7d"
            ],
            [
             0.2,
             "#de77ae"
            ],
            [
             0.3,
             "#f1b6da"
            ],
            [
             0.4,
             "#fde0ef"
            ],
            [
             0.5,
             "#f7f7f7"
            ],
            [
             0.6,
             "#e6f5d0"
            ],
            [
             0.7,
             "#b8e186"
            ],
            [
             0.8,
             "#7fbc41"
            ],
            [
             0.9,
             "#4d9221"
            ],
            [
             1,
             "#276419"
            ]
           ],
           "sequential": [
            [
             0,
             "#0d0887"
            ],
            [
             0.1111111111111111,
             "#46039f"
            ],
            [
             0.2222222222222222,
             "#7201a8"
            ],
            [
             0.3333333333333333,
             "#9c179e"
            ],
            [
             0.4444444444444444,
             "#bd3786"
            ],
            [
             0.5555555555555556,
             "#d8576b"
            ],
            [
             0.6666666666666666,
             "#ed7953"
            ],
            [
             0.7777777777777778,
             "#fb9f3a"
            ],
            [
             0.8888888888888888,
             "#fdca26"
            ],
            [
             1,
             "#f0f921"
            ]
           ],
           "sequentialminus": [
            [
             0,
             "#0d0887"
            ],
            [
             0.1111111111111111,
             "#46039f"
            ],
            [
             0.2222222222222222,
             "#7201a8"
            ],
            [
             0.3333333333333333,
             "#9c179e"
            ],
            [
             0.4444444444444444,
             "#bd3786"
            ],
            [
             0.5555555555555556,
             "#d8576b"
            ],
            [
             0.6666666666666666,
             "#ed7953"
            ],
            [
             0.7777777777777778,
             "#fb9f3a"
            ],
            [
             0.8888888888888888,
             "#fdca26"
            ],
            [
             1,
             "#f0f921"
            ]
           ]
          },
          "colorway": [
           "#636efa",
           "#EF553B",
           "#00cc96",
           "#ab63fa",
           "#FFA15A",
           "#19d3f3",
           "#FF6692",
           "#B6E880",
           "#FF97FF",
           "#FECB52"
          ],
          "font": {
           "color": "#2a3f5f"
          },
          "geo": {
           "bgcolor": "white",
           "lakecolor": "white",
           "landcolor": "#E5ECF6",
           "showlakes": true,
           "showland": true,
           "subunitcolor": "white"
          },
          "hoverlabel": {
           "align": "left"
          },
          "hovermode": "closest",
          "mapbox": {
           "style": "light"
          },
          "paper_bgcolor": "white",
          "plot_bgcolor": "#E5ECF6",
          "polar": {
           "angularaxis": {
            "gridcolor": "white",
            "linecolor": "white",
            "ticks": ""
           },
           "bgcolor": "#E5ECF6",
           "radialaxis": {
            "gridcolor": "white",
            "linecolor": "white",
            "ticks": ""
           }
          },
          "scene": {
           "xaxis": {
            "backgroundcolor": "#E5ECF6",
            "gridcolor": "white",
            "gridwidth": 2,
            "linecolor": "white",
            "showbackground": true,
            "ticks": "",
            "zerolinecolor": "white"
           },
           "yaxis": {
            "backgroundcolor": "#E5ECF6",
            "gridcolor": "white",
            "gridwidth": 2,
            "linecolor": "white",
            "showbackground": true,
            "ticks": "",
            "zerolinecolor": "white"
           },
           "zaxis": {
            "backgroundcolor": "#E5ECF6",
            "gridcolor": "white",
            "gridwidth": 2,
            "linecolor": "white",
            "showbackground": true,
            "ticks": "",
            "zerolinecolor": "white"
           }
          },
          "shapedefaults": {
           "line": {
            "color": "#2a3f5f"
           }
          },
          "ternary": {
           "aaxis": {
            "gridcolor": "white",
            "linecolor": "white",
            "ticks": ""
           },
           "baxis": {
            "gridcolor": "white",
            "linecolor": "white",
            "ticks": ""
           },
           "bgcolor": "#E5ECF6",
           "caxis": {
            "gridcolor": "white",
            "linecolor": "white",
            "ticks": ""
           }
          },
          "title": {
           "x": 0.05
          },
          "xaxis": {
           "automargin": true,
           "gridcolor": "white",
           "linecolor": "white",
           "ticks": "",
           "title": {
            "standoff": 15
           },
           "zerolinecolor": "white",
           "zerolinewidth": 2
          },
          "yaxis": {
           "automargin": true,
           "gridcolor": "white",
           "linecolor": "white",
           "ticks": "",
           "title": {
            "standoff": 15
           },
           "zerolinecolor": "white",
           "zerolinewidth": 2
          }
         }
        },
        "title": {
         "text": "Description Sentiment"
        }
       }
      },
      "text/html": [
       "<div>\n",
       "        \n",
       "        \n",
       "            <div id=\"074850c4-3b3f-40e4-ad16-1a432929dd00\" class=\"plotly-graph-div\" style=\"height:525px; width:100%;\"></div>\n",
       "            <script type=\"text/javascript\">\n",
       "                require([\"plotly\"], function(Plotly) {\n",
       "                    window.PLOTLYENV=window.PLOTLYENV || {};\n",
       "                    \n",
       "                if (document.getElementById(\"074850c4-3b3f-40e4-ad16-1a432929dd00\")) {\n",
       "                    Plotly.newPlot(\n",
       "                        '074850c4-3b3f-40e4-ad16-1a432929dd00',\n",
       "                        [{\"marker\": {\"color\": \"#EE7674\"}, \"name\": \"Negative\", \"type\": \"bar\", \"x\": [\"There\\u2019s an incredible deal on refurbished 2017 and 2018 MacBook Pros on Amazon\\u2019s Woot site for today and today only. The pre-owned models are on sale at drastic price cuts\\u2014$600 to $900 off the full retail prices, and hundreds of dollars cheaper than Apple\\u2019s r\\u2026\", \"Do you put things off \\u2018til the last minute? Are you one of the millions who tend to delay getting to your to-do list? Then you\\u2019re in luck\\u2014behavior scientist BJ Fogg joins us on this episode to talk about how to stop procrastinating thanks to his researched ap\\u2026\", \"Hey, good morning! You look fabulous. SXSW 2020 has not been canceled and will start as planned in just a couple of weeks. However, the show will lack some social media muscle due to the absence of Facebook and 2007 SXSW darling, Twitter. Both companies annou\\u2026\", \"Hey, good morning! You look fabulous. Amazon is offering faster same-day delivery that could get your order to you in a matter of hours. There will apparently be up to three million items marked \\\"Today by\\\" available to order for speedy same-day delivery to Pr\\u2026\", \"Apple's first-party iPhone cases tend to cost significantly more than their no-name counterparts. Even cases from well-regarded companies like Spigen are usually less expensive than the ones you can buy directly from Apple. That said, if you prefer to put you\\u2026\", \"I have a drawer in my bedroom that's filled with defunct tech. It consists of old PDAs, bricked smartwatches and wearables that no longer work. Like many of you, I've realized that gadgets don't last forever. As Engadget Senior Editor Devindra Hardawar recent\\u2026\", \"Means TV is structured as a worker-owned cooperative. But even a \\\"post-capitalist\\\" streaming service will need to compete for subscriptions.\", \"Your phone is a disease magnet. Here's how to safely disinfect it and the rest of your gear to help you stay healthy as coronavirus spreads.\", \"Oppo has revealed new pictures of its upcoming smartwatch, called the Oppo Watch, and the watch looks remarkably similar to an Apple Watch. We don\\u2019t know too much about the device, but it seems the company will reveal more at its March 6th event, which takes \\u2026\", \"iPhone maker Foxconn says it expects to be back to full strength before April as new infections caused by the coronavirus begin to curtail in China.\", \"Apple is working on a new 14.1-inch MacBook Pro, as well as a refresh to the iMac Pro, the 7.9-inch iPad mini, the 16-inch MacBook Pro, the 12.9-inch iPad Pro, and the 10.2-inch iPad, according to the latest research note from analyst Ming-Chi Kuo seen by Mac\\u2026\", \"Another big conference got canceled, Google I/O in May. That means the big, uncanceled tech events include Apple\\u2019s WWDC and its rumored Spring event, Microsoft\\u2019s Build, and of course SXSW. SXSW starts next week and despite the fact that yet more companies pul\\u2026\", \"Improving your public reputation often means taking a step out of the spotlight\", \"Apple is celebrating International Women\\u2019s Day with a full month of events across its retail stores, App Store and other platforms, including Apple TV, plus its Apple Books and Apple Podcasts applications. In March, Apple\\u2019s retail stores will host over 5,000 \\u2026\", \"Hulu\\u2019s Live TV service, which allows users to watch both live and on-demand programming, including Hulu Originals, has finally arrived on the PlayStation 4 \\u2014 close to three years after the service first debuted. The launch closes a significant hole in Hulu\\u2019s \\u2026\", \"Hello and welcome back to Equity, TechCrunch\\u2019s venture capital-focused podcast, where we unpack the numbers behind the headlines. After a long Shot hiatus, things keep happening that demand our attention. So, after digging into Tesla\\u2019s near-miss of the $1,000\\u2026\", \"TikTok, the hugely popular social media app, found a lot of early traction by giving users a way to create funny lip-synced versions of clips from well-known songs and then share them with friends (its predecessor in the West was even called Musically). Now a\\u2026\", \"On a day that saw the U.S. Federal Reserve try to flip the only switch it can to light up investor confidence, investors remained unconvinced of the short-term financial prospects of the U.S. and global economies. All three major indices saw red on Tuesday af\\u2026\", \"Because we certainly don\\u2019t have enough Android smartwatches to choose from, Chinese smartphone maker Oppo leaked a photo of its new Oppo Watch in a tweet announcing its upcoming phone event. Read more...\", \"Even though COVID-19 has already put hurt Apple\\u2019s bottom line and forced the company to temporarily close stores in China, according to a new report, the coronavirus hasn\\u2019t put any dampers on Apple\\u2019s plans to release new devices: specifically, six new product\\u2026\"], \"y\": [0.0, 0.092, 0.043, 0.0, 0.0, 0.05, 0.0, 0.0, 0.0, 0.0, 0.0, 0.0, 0.0, 0.0, 0.0, 0.037, 0.0, 0.053, 0.068, 0.141]}, {\"marker\": {\"color\": \"#247BA0\"}, \"name\": \"Neutral\", \"type\": \"bar\", \"x\": [\"There\\u2019s an incredible deal on refurbished 2017 and 2018 MacBook Pros on Amazon\\u2019s Woot site for today and today only. The pre-owned models are on sale at drastic price cuts\\u2014$600 to $900 off the full retail prices, and hundreds of dollars cheaper than Apple\\u2019s r\\u2026\", \"Do you put things off \\u2018til the last minute? Are you one of the millions who tend to delay getting to your to-do list? Then you\\u2019re in luck\\u2014behavior scientist BJ Fogg joins us on this episode to talk about how to stop procrastinating thanks to his researched ap\\u2026\", \"Hey, good morning! You look fabulous. SXSW 2020 has not been canceled and will start as planned in just a couple of weeks. However, the show will lack some social media muscle due to the absence of Facebook and 2007 SXSW darling, Twitter. Both companies annou\\u2026\", \"Hey, good morning! You look fabulous. Amazon is offering faster same-day delivery that could get your order to you in a matter of hours. There will apparently be up to three million items marked \\\"Today by\\\" available to order for speedy same-day delivery to Pr\\u2026\", \"Apple's first-party iPhone cases tend to cost significantly more than their no-name counterparts. Even cases from well-regarded companies like Spigen are usually less expensive than the ones you can buy directly from Apple. That said, if you prefer to put you\\u2026\", \"I have a drawer in my bedroom that's filled with defunct tech. It consists of old PDAs, bricked smartwatches and wearables that no longer work. Like many of you, I've realized that gadgets don't last forever. As Engadget Senior Editor Devindra Hardawar recent\\u2026\", \"Means TV is structured as a worker-owned cooperative. But even a \\\"post-capitalist\\\" streaming service will need to compete for subscriptions.\", \"Your phone is a disease magnet. Here's how to safely disinfect it and the rest of your gear to help you stay healthy as coronavirus spreads.\", \"Oppo has revealed new pictures of its upcoming smartwatch, called the Oppo Watch, and the watch looks remarkably similar to an Apple Watch. We don\\u2019t know too much about the device, but it seems the company will reveal more at its March 6th event, which takes \\u2026\", \"iPhone maker Foxconn says it expects to be back to full strength before April as new infections caused by the coronavirus begin to curtail in China.\", \"Apple is working on a new 14.1-inch MacBook Pro, as well as a refresh to the iMac Pro, the 7.9-inch iPad mini, the 16-inch MacBook Pro, the 12.9-inch iPad Pro, and the 10.2-inch iPad, according to the latest research note from analyst Ming-Chi Kuo seen by Mac\\u2026\", \"Another big conference got canceled, Google I/O in May. That means the big, uncanceled tech events include Apple\\u2019s WWDC and its rumored Spring event, Microsoft\\u2019s Build, and of course SXSW. SXSW starts next week and despite the fact that yet more companies pul\\u2026\", \"Improving your public reputation often means taking a step out of the spotlight\", \"Apple is celebrating International Women\\u2019s Day with a full month of events across its retail stores, App Store and other platforms, including Apple TV, plus its Apple Books and Apple Podcasts applications. In March, Apple\\u2019s retail stores will host over 5,000 \\u2026\", \"Hulu\\u2019s Live TV service, which allows users to watch both live and on-demand programming, including Hulu Originals, has finally arrived on the PlayStation 4 \\u2014 close to three years after the service first debuted. The launch closes a significant hole in Hulu\\u2019s \\u2026\", \"Hello and welcome back to Equity, TechCrunch\\u2019s venture capital-focused podcast, where we unpack the numbers behind the headlines. After a long Shot hiatus, things keep happening that demand our attention. So, after digging into Tesla\\u2019s near-miss of the $1,000\\u2026\", \"TikTok, the hugely popular social media app, found a lot of early traction by giving users a way to create funny lip-synced versions of clips from well-known songs and then share them with friends (its predecessor in the West was even called Musically). Now a\\u2026\", \"On a day that saw the U.S. Federal Reserve try to flip the only switch it can to light up investor confidence, investors remained unconvinced of the short-term financial prospects of the U.S. and global economies. All three major indices saw red on Tuesday af\\u2026\", \"Because we certainly don\\u2019t have enough Android smartwatches to choose from, Chinese smartphone maker Oppo leaked a photo of its new Oppo Watch in a tweet announcing its upcoming phone event. Read more...\", \"Even though COVID-19 has already put hurt Apple\\u2019s bottom line and forced the company to temporarily close stores in China, according to a new report, the coronavirus hasn\\u2019t put any dampers on Apple\\u2019s plans to release new devices: specifically, six new product\\u2026\"], \"y\": [0.94, 0.853, 0.764, 0.81, 0.941, 0.892, 1.0, 0.719, 1.0, 0.887, 0.954, 1.0, 0.797, 0.913, 0.955, 0.889, 0.701, 0.835, 0.861, 0.859]}, {\"name\": \"Positive\", \"type\": \"bar\", \"x\": [\"There\\u2019s an incredible deal on refurbished 2017 and 2018 MacBook Pros on Amazon\\u2019s Woot site for today and today only. The pre-owned models are on sale at drastic price cuts\\u2014$600 to $900 off the full retail prices, and hundreds of dollars cheaper than Apple\\u2019s r\\u2026\", \"Do you put things off \\u2018til the last minute? Are you one of the millions who tend to delay getting to your to-do list? Then you\\u2019re in luck\\u2014behavior scientist BJ Fogg joins us on this episode to talk about how to stop procrastinating thanks to his researched ap\\u2026\", \"Hey, good morning! You look fabulous. SXSW 2020 has not been canceled and will start as planned in just a couple of weeks. However, the show will lack some social media muscle due to the absence of Facebook and 2007 SXSW darling, Twitter. Both companies annou\\u2026\", \"Hey, good morning! You look fabulous. Amazon is offering faster same-day delivery that could get your order to you in a matter of hours. There will apparently be up to three million items marked \\\"Today by\\\" available to order for speedy same-day delivery to Pr\\u2026\", \"Apple's first-party iPhone cases tend to cost significantly more than their no-name counterparts. Even cases from well-regarded companies like Spigen are usually less expensive than the ones you can buy directly from Apple. That said, if you prefer to put you\\u2026\", \"I have a drawer in my bedroom that's filled with defunct tech. It consists of old PDAs, bricked smartwatches and wearables that no longer work. Like many of you, I've realized that gadgets don't last forever. As Engadget Senior Editor Devindra Hardawar recent\\u2026\", \"Means TV is structured as a worker-owned cooperative. But even a \\\"post-capitalist\\\" streaming service will need to compete for subscriptions.\", \"Your phone is a disease magnet. Here's how to safely disinfect it and the rest of your gear to help you stay healthy as coronavirus spreads.\", \"Oppo has revealed new pictures of its upcoming smartwatch, called the Oppo Watch, and the watch looks remarkably similar to an Apple Watch. We don\\u2019t know too much about the device, but it seems the company will reveal more at its March 6th event, which takes \\u2026\", \"iPhone maker Foxconn says it expects to be back to full strength before April as new infections caused by the coronavirus begin to curtail in China.\", \"Apple is working on a new 14.1-inch MacBook Pro, as well as a refresh to the iMac Pro, the 7.9-inch iPad mini, the 16-inch MacBook Pro, the 12.9-inch iPad Pro, and the 10.2-inch iPad, according to the latest research note from analyst Ming-Chi Kuo seen by Mac\\u2026\", \"Another big conference got canceled, Google I/O in May. That means the big, uncanceled tech events include Apple\\u2019s WWDC and its rumored Spring event, Microsoft\\u2019s Build, and of course SXSW. SXSW starts next week and despite the fact that yet more companies pul\\u2026\", \"Improving your public reputation often means taking a step out of the spotlight\", \"Apple is celebrating International Women\\u2019s Day with a full month of events across its retail stores, App Store and other platforms, including Apple TV, plus its Apple Books and Apple Podcasts applications. In March, Apple\\u2019s retail stores will host over 5,000 \\u2026\", \"Hulu\\u2019s Live TV service, which allows users to watch both live and on-demand programming, including Hulu Originals, has finally arrived on the PlayStation 4 \\u2014 close to three years after the service first debuted. The launch closes a significant hole in Hulu\\u2019s \\u2026\", \"Hello and welcome back to Equity, TechCrunch\\u2019s venture capital-focused podcast, where we unpack the numbers behind the headlines. After a long Shot hiatus, things keep happening that demand our attention. So, after digging into Tesla\\u2019s near-miss of the $1,000\\u2026\", \"TikTok, the hugely popular social media app, found a lot of early traction by giving users a way to create funny lip-synced versions of clips from well-known songs and then share them with friends (its predecessor in the West was even called Musically). Now a\\u2026\", \"On a day that saw the U.S. Federal Reserve try to flip the only switch it can to light up investor confidence, investors remained unconvinced of the short-term financial prospects of the U.S. and global economies. All three major indices saw red on Tuesday af\\u2026\", \"Because we certainly don\\u2019t have enough Android smartwatches to choose from, Chinese smartphone maker Oppo leaked a photo of its new Oppo Watch in a tweet announcing its upcoming phone event. Read more...\", \"Even though COVID-19 has already put hurt Apple\\u2019s bottom line and forced the company to temporarily close stores in China, according to a new report, the coronavirus hasn\\u2019t put any dampers on Apple\\u2019s plans to release new devices: specifically, six new product\\u2026\"], \"y\": [0.06, 0.055, 0.194, 0.19, 0.059, 0.057, 0.0, 0.281, 0.0, 0.113, 0.046, 0.0, 0.203, 0.087, 0.045, 0.074, 0.299, 0.112, 0.071, 0.0]}, {\"name\": \"Compound\", \"type\": \"bar\", \"x\": [\"There\\u2019s an incredible deal on refurbished 2017 and 2018 MacBook Pros on Amazon\\u2019s Woot site for today and today only. The pre-owned models are on sale at drastic price cuts\\u2014$600 to $900 off the full retail prices, and hundreds of dollars cheaper than Apple\\u2019s r\\u2026\", \"Do you put things off \\u2018til the last minute? Are you one of the millions who tend to delay getting to your to-do list? Then you\\u2019re in luck\\u2014behavior scientist BJ Fogg joins us on this episode to talk about how to stop procrastinating thanks to his researched ap\\u2026\", \"Hey, good morning! You look fabulous. SXSW 2020 has not been canceled and will start as planned in just a couple of weeks. However, the show will lack some social media muscle due to the absence of Facebook and 2007 SXSW darling, Twitter. Both companies annou\\u2026\", \"Hey, good morning! You look fabulous. Amazon is offering faster same-day delivery that could get your order to you in a matter of hours. There will apparently be up to three million items marked \\\"Today by\\\" available to order for speedy same-day delivery to Pr\\u2026\", \"Apple's first-party iPhone cases tend to cost significantly more than their no-name counterparts. Even cases from well-regarded companies like Spigen are usually less expensive than the ones you can buy directly from Apple. That said, if you prefer to put you\\u2026\", \"I have a drawer in my bedroom that's filled with defunct tech. It consists of old PDAs, bricked smartwatches and wearables that no longer work. Like many of you, I've realized that gadgets don't last forever. As Engadget Senior Editor Devindra Hardawar recent\\u2026\", \"Means TV is structured as a worker-owned cooperative. But even a \\\"post-capitalist\\\" streaming service will need to compete for subscriptions.\", \"Your phone is a disease magnet. Here's how to safely disinfect it and the rest of your gear to help you stay healthy as coronavirus spreads.\", \"Oppo has revealed new pictures of its upcoming smartwatch, called the Oppo Watch, and the watch looks remarkably similar to an Apple Watch. We don\\u2019t know too much about the device, but it seems the company will reveal more at its March 6th event, which takes \\u2026\", \"iPhone maker Foxconn says it expects to be back to full strength before April as new infections caused by the coronavirus begin to curtail in China.\", \"Apple is working on a new 14.1-inch MacBook Pro, as well as a refresh to the iMac Pro, the 7.9-inch iPad mini, the 16-inch MacBook Pro, the 12.9-inch iPad Pro, and the 10.2-inch iPad, according to the latest research note from analyst Ming-Chi Kuo seen by Mac\\u2026\", \"Another big conference got canceled, Google I/O in May. That means the big, uncanceled tech events include Apple\\u2019s WWDC and its rumored Spring event, Microsoft\\u2019s Build, and of course SXSW. SXSW starts next week and despite the fact that yet more companies pul\\u2026\", \"Improving your public reputation often means taking a step out of the spotlight\", \"Apple is celebrating International Women\\u2019s Day with a full month of events across its retail stores, App Store and other platforms, including Apple TV, plus its Apple Books and Apple Podcasts applications. In March, Apple\\u2019s retail stores will host over 5,000 \\u2026\", \"Hulu\\u2019s Live TV service, which allows users to watch both live and on-demand programming, including Hulu Originals, has finally arrived on the PlayStation 4 \\u2014 close to three years after the service first debuted. The launch closes a significant hole in Hulu\\u2019s \\u2026\", \"Hello and welcome back to Equity, TechCrunch\\u2019s venture capital-focused podcast, where we unpack the numbers behind the headlines. After a long Shot hiatus, things keep happening that demand our attention. So, after digging into Tesla\\u2019s near-miss of the $1,000\\u2026\", \"TikTok, the hugely popular social media app, found a lot of early traction by giving users a way to create funny lip-synced versions of clips from well-known songs and then share them with friends (its predecessor in the West was even called Musically). Now a\\u2026\", \"On a day that saw the U.S. Federal Reserve try to flip the only switch it can to light up investor confidence, investors remained unconvinced of the short-term financial prospects of the U.S. and global economies. All three major indices saw red on Tuesday af\\u2026\", \"Because we certainly don\\u2019t have enough Android smartwatches to choose from, Chinese smartphone maker Oppo leaked a photo of its new Oppo Watch in a tweet announcing its upcoming phone event. Read more...\", \"Even though COVID-19 has already put hurt Apple\\u2019s bottom line and forced the company to temporarily close stores in China, according to a new report, the coronavirus hasn\\u2019t put any dampers on Apple\\u2019s plans to release new devices: specifically, six new product\\u2026\"], \"y\": [0.4215, -0.2406, 0.8439, 0.8122, 0.3612, 0.0772, 0.0, 0.8225, 0.0, 0.4939, 0.2732, 0.0, 0.4215, 0.5719, 0.2023, 0.3612, 0.9299, 0.4404, 0.0258, -0.7506]}],\n",
       "                        {\"barmode\": \"stack\", \"template\": {\"data\": {\"bar\": [{\"error_x\": {\"color\": \"#2a3f5f\"}, \"error_y\": {\"color\": \"#2a3f5f\"}, \"marker\": {\"line\": {\"color\": \"#E5ECF6\", \"width\": 0.5}}, \"type\": \"bar\"}], \"barpolar\": [{\"marker\": {\"line\": {\"color\": \"#E5ECF6\", \"width\": 0.5}}, \"type\": \"barpolar\"}], \"carpet\": [{\"aaxis\": {\"endlinecolor\": \"#2a3f5f\", \"gridcolor\": \"white\", \"linecolor\": \"white\", \"minorgridcolor\": \"white\", \"startlinecolor\": \"#2a3f5f\"}, \"baxis\": {\"endlinecolor\": \"#2a3f5f\", \"gridcolor\": \"white\", \"linecolor\": \"white\", \"minorgridcolor\": \"white\", \"startlinecolor\": \"#2a3f5f\"}, \"type\": \"carpet\"}], \"choropleth\": [{\"colorbar\": {\"outlinewidth\": 0, \"ticks\": \"\"}, \"type\": \"choropleth\"}], \"contour\": [{\"colorbar\": {\"outlinewidth\": 0, \"ticks\": \"\"}, \"colorscale\": [[0.0, \"#0d0887\"], [0.1111111111111111, \"#46039f\"], [0.2222222222222222, \"#7201a8\"], [0.3333333333333333, \"#9c179e\"], [0.4444444444444444, \"#bd3786\"], [0.5555555555555556, \"#d8576b\"], [0.6666666666666666, \"#ed7953\"], [0.7777777777777778, \"#fb9f3a\"], [0.8888888888888888, \"#fdca26\"], [1.0, \"#f0f921\"]], \"type\": \"contour\"}], \"contourcarpet\": [{\"colorbar\": {\"outlinewidth\": 0, \"ticks\": \"\"}, \"type\": \"contourcarpet\"}], \"heatmap\": [{\"colorbar\": {\"outlinewidth\": 0, \"ticks\": \"\"}, \"colorscale\": [[0.0, \"#0d0887\"], [0.1111111111111111, \"#46039f\"], [0.2222222222222222, \"#7201a8\"], [0.3333333333333333, \"#9c179e\"], [0.4444444444444444, \"#bd3786\"], [0.5555555555555556, \"#d8576b\"], [0.6666666666666666, \"#ed7953\"], [0.7777777777777778, \"#fb9f3a\"], [0.8888888888888888, \"#fdca26\"], [1.0, \"#f0f921\"]], \"type\": \"heatmap\"}], \"heatmapgl\": [{\"colorbar\": {\"outlinewidth\": 0, \"ticks\": \"\"}, \"colorscale\": [[0.0, \"#0d0887\"], [0.1111111111111111, \"#46039f\"], [0.2222222222222222, \"#7201a8\"], [0.3333333333333333, \"#9c179e\"], [0.4444444444444444, \"#bd3786\"], [0.5555555555555556, \"#d8576b\"], [0.6666666666666666, \"#ed7953\"], [0.7777777777777778, \"#fb9f3a\"], [0.8888888888888888, \"#fdca26\"], [1.0, \"#f0f921\"]], \"type\": \"heatmapgl\"}], \"histogram\": [{\"marker\": {\"colorbar\": {\"outlinewidth\": 0, \"ticks\": \"\"}}, \"type\": \"histogram\"}], \"histogram2d\": [{\"colorbar\": {\"outlinewidth\": 0, \"ticks\": \"\"}, \"colorscale\": [[0.0, \"#0d0887\"], [0.1111111111111111, \"#46039f\"], [0.2222222222222222, \"#7201a8\"], [0.3333333333333333, \"#9c179e\"], [0.4444444444444444, \"#bd3786\"], [0.5555555555555556, \"#d8576b\"], [0.6666666666666666, \"#ed7953\"], [0.7777777777777778, \"#fb9f3a\"], [0.8888888888888888, \"#fdca26\"], [1.0, \"#f0f921\"]], \"type\": \"histogram2d\"}], \"histogram2dcontour\": [{\"colorbar\": {\"outlinewidth\": 0, \"ticks\": \"\"}, \"colorscale\": [[0.0, \"#0d0887\"], [0.1111111111111111, \"#46039f\"], [0.2222222222222222, \"#7201a8\"], [0.3333333333333333, \"#9c179e\"], [0.4444444444444444, \"#bd3786\"], [0.5555555555555556, \"#d8576b\"], [0.6666666666666666, \"#ed7953\"], [0.7777777777777778, \"#fb9f3a\"], [0.8888888888888888, \"#fdca26\"], [1.0, \"#f0f921\"]], \"type\": \"histogram2dcontour\"}], \"mesh3d\": [{\"colorbar\": {\"outlinewidth\": 0, \"ticks\": \"\"}, \"type\": \"mesh3d\"}], \"parcoords\": [{\"line\": {\"colorbar\": {\"outlinewidth\": 0, \"ticks\": \"\"}}, \"type\": \"parcoords\"}], \"pie\": [{\"automargin\": true, \"type\": \"pie\"}], \"scatter\": [{\"marker\": {\"colorbar\": {\"outlinewidth\": 0, \"ticks\": \"\"}}, \"type\": \"scatter\"}], \"scatter3d\": [{\"line\": {\"colorbar\": {\"outlinewidth\": 0, \"ticks\": \"\"}}, \"marker\": {\"colorbar\": {\"outlinewidth\": 0, \"ticks\": \"\"}}, \"type\": \"scatter3d\"}], \"scattercarpet\": [{\"marker\": {\"colorbar\": {\"outlinewidth\": 0, \"ticks\": \"\"}}, \"type\": \"scattercarpet\"}], \"scattergeo\": [{\"marker\": {\"colorbar\": {\"outlinewidth\": 0, \"ticks\": \"\"}}, \"type\": \"scattergeo\"}], \"scattergl\": [{\"marker\": {\"colorbar\": {\"outlinewidth\": 0, \"ticks\": \"\"}}, \"type\": \"scattergl\"}], \"scattermapbox\": [{\"marker\": {\"colorbar\": {\"outlinewidth\": 0, \"ticks\": \"\"}}, \"type\": \"scattermapbox\"}], \"scatterpolar\": [{\"marker\": {\"colorbar\": {\"outlinewidth\": 0, \"ticks\": \"\"}}, \"type\": \"scatterpolar\"}], \"scatterpolargl\": [{\"marker\": {\"colorbar\": {\"outlinewidth\": 0, \"ticks\": \"\"}}, \"type\": \"scatterpolargl\"}], \"scatterternary\": [{\"marker\": {\"colorbar\": {\"outlinewidth\": 0, \"ticks\": \"\"}}, \"type\": \"scatterternary\"}], \"surface\": [{\"colorbar\": {\"outlinewidth\": 0, \"ticks\": \"\"}, \"colorscale\": [[0.0, \"#0d0887\"], [0.1111111111111111, \"#46039f\"], [0.2222222222222222, \"#7201a8\"], [0.3333333333333333, \"#9c179e\"], [0.4444444444444444, \"#bd3786\"], [0.5555555555555556, \"#d8576b\"], [0.6666666666666666, \"#ed7953\"], [0.7777777777777778, \"#fb9f3a\"], [0.8888888888888888, \"#fdca26\"], [1.0, \"#f0f921\"]], \"type\": \"surface\"}], \"table\": [{\"cells\": {\"fill\": {\"color\": \"#EBF0F8\"}, \"line\": {\"color\": \"white\"}}, \"header\": {\"fill\": {\"color\": \"#C8D4E3\"}, \"line\": {\"color\": \"white\"}}, \"type\": \"table\"}]}, \"layout\": {\"annotationdefaults\": {\"arrowcolor\": \"#2a3f5f\", \"arrowhead\": 0, \"arrowwidth\": 1}, \"coloraxis\": {\"colorbar\": {\"outlinewidth\": 0, \"ticks\": \"\"}}, \"colorscale\": {\"diverging\": [[0, \"#8e0152\"], [0.1, \"#c51b7d\"], [0.2, \"#de77ae\"], [0.3, \"#f1b6da\"], [0.4, \"#fde0ef\"], [0.5, \"#f7f7f7\"], [0.6, \"#e6f5d0\"], [0.7, \"#b8e186\"], [0.8, \"#7fbc41\"], [0.9, \"#4d9221\"], [1, \"#276419\"]], \"sequential\": [[0.0, \"#0d0887\"], [0.1111111111111111, \"#46039f\"], [0.2222222222222222, \"#7201a8\"], [0.3333333333333333, \"#9c179e\"], [0.4444444444444444, \"#bd3786\"], [0.5555555555555556, \"#d8576b\"], [0.6666666666666666, \"#ed7953\"], [0.7777777777777778, \"#fb9f3a\"], [0.8888888888888888, \"#fdca26\"], [1.0, \"#f0f921\"]], \"sequentialminus\": [[0.0, \"#0d0887\"], [0.1111111111111111, \"#46039f\"], [0.2222222222222222, \"#7201a8\"], [0.3333333333333333, \"#9c179e\"], [0.4444444444444444, \"#bd3786\"], [0.5555555555555556, \"#d8576b\"], [0.6666666666666666, \"#ed7953\"], [0.7777777777777778, \"#fb9f3a\"], [0.8888888888888888, \"#fdca26\"], [1.0, \"#f0f921\"]]}, \"colorway\": [\"#636efa\", \"#EF553B\", \"#00cc96\", \"#ab63fa\", \"#FFA15A\", \"#19d3f3\", \"#FF6692\", \"#B6E880\", \"#FF97FF\", \"#FECB52\"], \"font\": {\"color\": \"#2a3f5f\"}, \"geo\": {\"bgcolor\": \"white\", \"lakecolor\": \"white\", \"landcolor\": \"#E5ECF6\", \"showlakes\": true, \"showland\": true, \"subunitcolor\": \"white\"}, \"hoverlabel\": {\"align\": \"left\"}, \"hovermode\": \"closest\", \"mapbox\": {\"style\": \"light\"}, \"paper_bgcolor\": \"white\", \"plot_bgcolor\": \"#E5ECF6\", \"polar\": {\"angularaxis\": {\"gridcolor\": \"white\", \"linecolor\": \"white\", \"ticks\": \"\"}, \"bgcolor\": \"#E5ECF6\", \"radialaxis\": {\"gridcolor\": \"white\", \"linecolor\": \"white\", \"ticks\": \"\"}}, \"scene\": {\"xaxis\": {\"backgroundcolor\": \"#E5ECF6\", \"gridcolor\": \"white\", \"gridwidth\": 2, \"linecolor\": \"white\", \"showbackground\": true, \"ticks\": \"\", \"zerolinecolor\": \"white\"}, \"yaxis\": {\"backgroundcolor\": \"#E5ECF6\", \"gridcolor\": \"white\", \"gridwidth\": 2, \"linecolor\": \"white\", \"showbackground\": true, \"ticks\": \"\", \"zerolinecolor\": \"white\"}, \"zaxis\": {\"backgroundcolor\": \"#E5ECF6\", \"gridcolor\": \"white\", \"gridwidth\": 2, \"linecolor\": \"white\", \"showbackground\": true, \"ticks\": \"\", \"zerolinecolor\": \"white\"}}, \"shapedefaults\": {\"line\": {\"color\": \"#2a3f5f\"}}, \"ternary\": {\"aaxis\": {\"gridcolor\": \"white\", \"linecolor\": \"white\", \"ticks\": \"\"}, \"baxis\": {\"gridcolor\": \"white\", \"linecolor\": \"white\", \"ticks\": \"\"}, \"bgcolor\": \"#E5ECF6\", \"caxis\": {\"gridcolor\": \"white\", \"linecolor\": \"white\", \"ticks\": \"\"}}, \"title\": {\"x\": 0.05}, \"xaxis\": {\"automargin\": true, \"gridcolor\": \"white\", \"linecolor\": \"white\", \"ticks\": \"\", \"title\": {\"standoff\": 15}, \"zerolinecolor\": \"white\", \"zerolinewidth\": 2}, \"yaxis\": {\"automargin\": true, \"gridcolor\": \"white\", \"linecolor\": \"white\", \"ticks\": \"\", \"title\": {\"standoff\": 15}, \"zerolinecolor\": \"white\", \"zerolinewidth\": 2}}}, \"title\": {\"text\": \"Description Sentiment\"}},\n",
       "                        {\"responsive\": true}\n",
       "                    ).then(function(){\n",
       "                            \n",
       "var gd = document.getElementById('074850c4-3b3f-40e4-ad16-1a432929dd00');\n",
       "var x = new MutationObserver(function (mutations, observer) {{\n",
       "        var display = window.getComputedStyle(gd).display;\n",
       "        if (!display || display === 'none') {{\n",
       "            console.log([gd, 'removed!']);\n",
       "            Plotly.purge(gd);\n",
       "            observer.disconnect();\n",
       "        }}\n",
       "}});\n",
       "\n",
       "// Listen for the removal of the full notebook cells\n",
       "var notebookContainer = gd.closest('#notebook-container');\n",
       "if (notebookContainer) {{\n",
       "    x.observe(notebookContainer, {childList: true});\n",
       "}}\n",
       "\n",
       "// Listen for the clearing of the current output cell\n",
       "var outputEl = gd.closest('.output');\n",
       "if (outputEl) {{\n",
       "    x.observe(outputEl, {childList: true});\n",
       "}}\n",
       "\n",
       "                        })\n",
       "                };\n",
       "                });\n",
       "            </script>\n",
       "        </div>"
      ]
     },
     "metadata": {},
     "output_type": "display_data"
    }
   ],
   "source": [
    "graph_sentiment(news_df['description'], news_df['desc_score'], 'Description Sentiment')"
   ]
  },
  {
   "cell_type": "code",
   "execution_count": null,
   "metadata": {},
   "outputs": [],
   "source": []
  }
 ],
 "metadata": {
  "kernelspec": {
   "display_name": "Python 3",
   "language": "python",
   "name": "python3"
  },
  "language_info": {
   "codemirror_mode": {
    "name": "ipython",
    "version": 3
   },
   "file_extension": ".py",
   "mimetype": "text/x-python",
   "name": "python",
   "nbconvert_exporter": "python",
   "pygments_lexer": "ipython3",
   "version": "3.7.6"
  }
 },
 "nbformat": 4,
 "nbformat_minor": 4
}
