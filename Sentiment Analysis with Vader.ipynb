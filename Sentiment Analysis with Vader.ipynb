{
 "cells": [
  {
   "cell_type": "markdown",
   "metadata": {},
   "source": [
    "**Import libraries**"
   ]
  },
  {
   "cell_type": "code",
   "execution_count": 271,
   "metadata": {},
   "outputs": [],
   "source": [
    "import pandas as pd\n",
    "import numpy as np\n",
    "from datetime import date, timedelta, datetime\n",
    "from operator import itemgetter\n",
    "from vaderSentiment.vaderSentiment import SentimentIntensityAnalyzer\n",
    "import requests\n",
    "import plotly.graph_objects as go\n",
    "from pandas_datareader import data as pdr\n",
    "\n",
    "#yahoo finance and pandadata reader override\n",
    "import yfinance as yf\n",
    "yf.pdr_override()\n",
    "\n",
    "#machine learning\n",
    "from sklearn.linear_model import LinearRegression"
   ]
  },
  {
   "cell_type": "markdown",
   "metadata": {},
   "source": [
    "**Try out Vader Sentiment Analyzer**"
   ]
  },
  {
   "cell_type": "code",
   "execution_count": 272,
   "metadata": {},
   "outputs": [],
   "source": [
    "#call analyser object\n",
    "analyser = SentimentIntensityAnalyzer()"
   ]
  },
  {
   "cell_type": "code",
   "execution_count": 273,
   "metadata": {},
   "outputs": [],
   "source": [
    "def sentiment_analyzer_scores(sentence):\n",
    "    score = analyser.polarity_scores(sentence)\n",
    "    return score"
   ]
  },
  {
   "cell_type": "code",
   "execution_count": 274,
   "metadata": {},
   "outputs": [
    {
     "data": {
      "text/plain": [
       "{'neg': 0.0, 'neu': 0.678, 'pos': 0.322, 'compound': 0.2263}"
      ]
     },
     "execution_count": 274,
     "metadata": {},
     "output_type": "execute_result"
    }
   ],
   "source": [
    "sentiment_analyzer_scores(\"Today is an okay day.\")"
   ]
  },
  {
   "cell_type": "code",
   "execution_count": 275,
   "metadata": {},
   "outputs": [
    {
     "data": {
      "text/plain": [
       "{'neg': 0.0, 'neu': 0.494, 'pos': 0.506, 'compound': 0.6239}"
      ]
     },
     "execution_count": 275,
     "metadata": {},
     "output_type": "execute_result"
    }
   ],
   "source": [
    "sentiment_analyzer_scores(\"Today is an amazing day!\")"
   ]
  },
  {
   "cell_type": "code",
   "execution_count": 276,
   "metadata": {},
   "outputs": [
    {
     "data": {
      "text/plain": [
       "{'neg': 0.0, 'neu': 0.803, 'pos': 0.197, 'compound': 0.4003}"
      ]
     },
     "execution_count": 276,
     "metadata": {},
     "output_type": "execute_result"
    }
   ],
   "source": [
    "sentiment_analyzer_scores(\"Today is an amazing day! Vader is working but it took a while\")"
   ]
  },
  {
   "cell_type": "code",
   "execution_count": 277,
   "metadata": {},
   "outputs": [
    {
     "data": {
      "text/plain": [
       "{'neg': 0.523, 'neu': 0.477, 'pos': 0.0, 'compound': -0.5095}"
      ]
     },
     "execution_count": 277,
     "metadata": {},
     "output_type": "execute_result"
    }
   ],
   "source": [
    "sentiment_analyzer_scores(\"Today kind of sucked.\")"
   ]
  },
  {
   "cell_type": "markdown",
   "metadata": {},
   "source": [
    "**Pull in Live News Data from News API**\n",
    "<p>News API only display news up to a month old</p>"
   ]
  },
  {
   "cell_type": "code",
   "execution_count": 278,
   "metadata": {},
   "outputs": [
    {
     "name": "stdout",
     "output_type": "stream",
     "text": [
      "company: starbucks\n",
      "stock ticker: sbux\n",
      "api key: 798c7707bbe8404199296c0521a99f61\n"
     ]
    }
   ],
   "source": [
    "#enter company and api key\n",
    "company = input('company: ')\n",
    "stock_ticker = input('stock ticker: ')\n",
    "api_key = input('api key: ')"
   ]
  },
  {
   "cell_type": "markdown",
   "metadata": {},
   "source": [
    "<h4 style='background:#ffbdb3'>Major limitation of News API: Free version has max of 100 results per call; 1 month old max; 500 request per day</h4>\n",
    "<h4>To get around this, we will make a request for each day, and compile the first 100 most popular results for each day</h4>"
   ]
  },
  {
   "cell_type": "code",
   "execution_count": 279,
   "metadata": {},
   "outputs": [],
   "source": [
    "#get dates, 28 days from today (28 days max as per free api)\n",
    "today = date.today() - timedelta(0)\n",
    "numdays = 28\n",
    "date_list = [today - timedelta(days=x) for x in range(numdays)]"
   ]
  },
  {
   "cell_type": "code",
   "execution_count": 280,
   "metadata": {
    "scrolled": true
   },
   "outputs": [],
   "source": [
    "#try return news for 1 day, make 7 requests, sort by most popular results\n",
    "total_res = []\n",
    "\n",
    "for x in range(0, numdays):  \n",
    "    url = ('http://newsapi.org/v2/everything?'\n",
    "           'q=' + company + '&'\n",
    "           'from=' + str(date_list[x]) + '&'\n",
    "           'to=' + str(date_list[x]) + '&'\n",
    "           'language=en&'\n",
    "           'sortBy=popularity&'\n",
    "           'pageSize=100&'\n",
    "           'apiKey=' + api_key)\n",
    "    response = requests.get(url)\n",
    "    total_res.append(response.json())\n",
    "\n",
    "\n",
    "#print('Total Results: ' + str(response.json().get('totalResults')))\n",
    "\n",
    "#print(*total_res, sep = '\\n')   "
   ]
  },
  {
   "cell_type": "code",
   "execution_count": 283,
   "metadata": {},
   "outputs": [
    {
     "name": "stdout",
     "output_type": "stream",
     "text": [
      "{'status': 'error', 'code': 'rateLimited', 'message': 'You have made too many requests recently. Developer accounts are limited to 500 requests over a 24 hour period (250 requests available every 12 hours). Please upgrade to a paid plan if you need more requests.'}\n",
      "{'status': 'error', 'code': 'rateLimited', 'message': 'You have made too many requests recently. Developer accounts are limited to 500 requests over a 24 hour period (250 requests available every 12 hours). Please upgrade to a paid plan if you need more requests.'}\n",
      "{'status': 'error', 'code': 'rateLimited', 'message': 'You have made too many requests recently. Developer accounts are limited to 500 requests over a 24 hour period (250 requests available every 12 hours). Please upgrade to a paid plan if you need more requests.'}\n",
      "{'status': 'error', 'code': 'rateLimited', 'message': 'You have made too many requests recently. Developer accounts are limited to 500 requests over a 24 hour period (250 requests available every 12 hours). Please upgrade to a paid plan if you need more requests.'}\n",
      "{'status': 'error', 'code': 'rateLimited', 'message': 'You have made too many requests recently. Developer accounts are limited to 500 requests over a 24 hour period (250 requests available every 12 hours). Please upgrade to a paid plan if you need more requests.'}\n",
      "{'status': 'error', 'code': 'rateLimited', 'message': 'You have made too many requests recently. Developer accounts are limited to 500 requests over a 24 hour period (250 requests available every 12 hours). Please upgrade to a paid plan if you need more requests.'}\n",
      "{'status': 'error', 'code': 'rateLimited', 'message': 'You have made too many requests recently. Developer accounts are limited to 500 requests over a 24 hour period (250 requests available every 12 hours). Please upgrade to a paid plan if you need more requests.'}\n",
      "{'status': 'error', 'code': 'rateLimited', 'message': 'You have made too many requests recently. Developer accounts are limited to 500 requests over a 24 hour period (250 requests available every 12 hours). Please upgrade to a paid plan if you need more requests.'}\n",
      "{'status': 'error', 'code': 'rateLimited', 'message': 'You have made too many requests recently. Developer accounts are limited to 500 requests over a 24 hour period (250 requests available every 12 hours). Please upgrade to a paid plan if you need more requests.'}\n",
      "{'status': 'error', 'code': 'rateLimited', 'message': 'You have made too many requests recently. Developer accounts are limited to 500 requests over a 24 hour period (250 requests available every 12 hours). Please upgrade to a paid plan if you need more requests.'}\n",
      "{'status': 'error', 'code': 'rateLimited', 'message': 'You have made too many requests recently. Developer accounts are limited to 500 requests over a 24 hour period (250 requests available every 12 hours). Please upgrade to a paid plan if you need more requests.'}\n",
      "{'status': 'error', 'code': 'rateLimited', 'message': 'You have made too many requests recently. Developer accounts are limited to 500 requests over a 24 hour period (250 requests available every 12 hours). Please upgrade to a paid plan if you need more requests.'}\n",
      "{'status': 'error', 'code': 'rateLimited', 'message': 'You have made too many requests recently. Developer accounts are limited to 500 requests over a 24 hour period (250 requests available every 12 hours). Please upgrade to a paid plan if you need more requests.'}\n",
      "{'status': 'error', 'code': 'rateLimited', 'message': 'You have made too many requests recently. Developer accounts are limited to 500 requests over a 24 hour period (250 requests available every 12 hours). Please upgrade to a paid plan if you need more requests.'}\n",
      "{'status': 'error', 'code': 'rateLimited', 'message': 'You have made too many requests recently. Developer accounts are limited to 500 requests over a 24 hour period (250 requests available every 12 hours). Please upgrade to a paid plan if you need more requests.'}\n",
      "{'status': 'error', 'code': 'rateLimited', 'message': 'You have made too many requests recently. Developer accounts are limited to 500 requests over a 24 hour period (250 requests available every 12 hours). Please upgrade to a paid plan if you need more requests.'}\n",
      "{'status': 'error', 'code': 'rateLimited', 'message': 'You have made too many requests recently. Developer accounts are limited to 500 requests over a 24 hour period (250 requests available every 12 hours). Please upgrade to a paid plan if you need more requests.'}\n",
      "{'status': 'error', 'code': 'rateLimited', 'message': 'You have made too many requests recently. Developer accounts are limited to 500 requests over a 24 hour period (250 requests available every 12 hours). Please upgrade to a paid plan if you need more requests.'}\n",
      "{'status': 'error', 'code': 'rateLimited', 'message': 'You have made too many requests recently. Developer accounts are limited to 500 requests over a 24 hour period (250 requests available every 12 hours). Please upgrade to a paid plan if you need more requests.'}\n",
      "{'status': 'error', 'code': 'rateLimited', 'message': 'You have made too many requests recently. Developer accounts are limited to 500 requests over a 24 hour period (250 requests available every 12 hours). Please upgrade to a paid plan if you need more requests.'}\n",
      "{'status': 'error', 'code': 'rateLimited', 'message': 'You have made too many requests recently. Developer accounts are limited to 500 requests over a 24 hour period (250 requests available every 12 hours). Please upgrade to a paid plan if you need more requests.'}\n",
      "{'status': 'error', 'code': 'rateLimited', 'message': 'You have made too many requests recently. Developer accounts are limited to 500 requests over a 24 hour period (250 requests available every 12 hours). Please upgrade to a paid plan if you need more requests.'}\n",
      "{'status': 'error', 'code': 'rateLimited', 'message': 'You have made too many requests recently. Developer accounts are limited to 500 requests over a 24 hour period (250 requests available every 12 hours). Please upgrade to a paid plan if you need more requests.'}\n",
      "{'status': 'error', 'code': 'rateLimited', 'message': 'You have made too many requests recently. Developer accounts are limited to 500 requests over a 24 hour period (250 requests available every 12 hours). Please upgrade to a paid plan if you need more requests.'}\n",
      "{'status': 'error', 'code': 'rateLimited', 'message': 'You have made too many requests recently. Developer accounts are limited to 500 requests over a 24 hour period (250 requests available every 12 hours). Please upgrade to a paid plan if you need more requests.'}\n",
      "{'status': 'error', 'code': 'rateLimited', 'message': 'You have made too many requests recently. Developer accounts are limited to 500 requests over a 24 hour period (250 requests available every 12 hours). Please upgrade to a paid plan if you need more requests.'}\n",
      "{'status': 'error', 'code': 'rateLimited', 'message': 'You have made too many requests recently. Developer accounts are limited to 500 requests over a 24 hour period (250 requests available every 12 hours). Please upgrade to a paid plan if you need more requests.'}\n",
      "{'status': 'error', 'code': 'rateLimited', 'message': 'You have made too many requests recently. Developer accounts are limited to 500 requests over a 24 hour period (250 requests available every 12 hours). Please upgrade to a paid plan if you need more requests.'}\n"
     ]
    }
   ],
   "source": [
    " "
   ]
  },
  {
   "cell_type": "code",
   "execution_count": 282,
   "metadata": {},
   "outputs": [
    {
     "ename": "KeyError",
     "evalue": "'articles'",
     "output_type": "error",
     "traceback": [
      "\u001b[0;31m---------------------------------------------------------------------------\u001b[0m",
      "\u001b[0;31mKeyError\u001b[0m                                  Traceback (most recent call last)",
      "\u001b[0;32m<ipython-input-282-26c315e3d5e3>\u001b[0m in \u001b[0;36m<module>\u001b[0;34m\u001b[0m\n\u001b[1;32m      2\u001b[0m \u001b[0marticles\u001b[0m \u001b[0;34m=\u001b[0m \u001b[0;34m[\u001b[0m\u001b[0;34m]\u001b[0m\u001b[0;34m\u001b[0m\u001b[0;34m\u001b[0m\u001b[0m\n\u001b[1;32m      3\u001b[0m \u001b[0;32mfor\u001b[0m \u001b[0mx\u001b[0m \u001b[0;32min\u001b[0m \u001b[0mrange\u001b[0m\u001b[0;34m(\u001b[0m\u001b[0;36m0\u001b[0m\u001b[0;34m,\u001b[0m \u001b[0mlen\u001b[0m\u001b[0;34m(\u001b[0m\u001b[0mtotal_res\u001b[0m\u001b[0;34m)\u001b[0m\u001b[0;34m)\u001b[0m\u001b[0;34m:\u001b[0m\u001b[0;34m\u001b[0m\u001b[0;34m\u001b[0m\u001b[0m\n\u001b[0;32m----> 4\u001b[0;31m     \u001b[0marticles\u001b[0m\u001b[0;34m.\u001b[0m\u001b[0mappend\u001b[0m\u001b[0;34m(\u001b[0m\u001b[0mtotal_res\u001b[0m\u001b[0;34m[\u001b[0m\u001b[0mx\u001b[0m\u001b[0;34m]\u001b[0m\u001b[0;34m[\u001b[0m\u001b[0;34m'articles'\u001b[0m\u001b[0;34m]\u001b[0m\u001b[0;34m)\u001b[0m\u001b[0;34m\u001b[0m\u001b[0;34m\u001b[0m\u001b[0m\n\u001b[0m\u001b[1;32m      5\u001b[0m \u001b[0;34m\u001b[0m\u001b[0m\n\u001b[1;32m      6\u001b[0m \u001b[0mnews\u001b[0m \u001b[0;34m=\u001b[0m \u001b[0;34m[\u001b[0m\u001b[0;34m]\u001b[0m\u001b[0;34m\u001b[0m\u001b[0;34m\u001b[0m\u001b[0m\n",
      "\u001b[0;31mKeyError\u001b[0m: 'articles'"
     ]
    }
   ],
   "source": [
    "#put all 'articles' in 1 list, then remove the nested list\n",
    "articles = []\n",
    "for x in range(0, len(total_res)):\n",
    "    articles.append(total_res[x]['articles'])\n",
    "\n",
    "news = []\n",
    "def removeNesting(nestedList):\n",
    "    for i in nestedList:\n",
    "        if type(i) == list:\n",
    "            removeNesting(i)\n",
    "        else: \n",
    "            news.append(i)\n",
    "            \n",
    "removeNesting(articles)\n",
    "print(news)"
   ]
  },
  {
   "cell_type": "markdown",
   "metadata": {},
   "source": [
    "**Perform Analysis on the News Title**"
   ]
  },
  {
   "cell_type": "code",
   "execution_count": null,
   "metadata": {},
   "outputs": [],
   "source": [
    "#news = response.json().get('articles')\n",
    "\n",
    "#add title score:\n",
    "na_score = {'neg': 0, 'neu': 0, 'pos': 0, 'compound': 0}\n",
    "\n",
    "for item in news:\n",
    "    if item['title'] is None:\n",
    "        item.update({'title_score': na_score})\n",
    "    else:\n",
    "        item.update({'title_score': sentiment_analyzer_scores(item['title'])})\n",
    "    if item['description'] is None:\n",
    "        item.update({'desc_score': na_score})\n",
    "    else:\n",
    "        item.update({'desc_score': sentiment_analyzer_scores(item['description'])})"
   ]
  },
  {
   "cell_type": "code",
   "execution_count": null,
   "metadata": {
    "scrolled": true
   },
   "outputs": [],
   "source": [
    "news_df = pd.DataFrame(news)\n",
    "news_df.sort_values(by=['publishedAt'])\n",
    "\n",
    "#replace all NaN score with 0 \n",
    "\n",
    "print('row and column: ' + str(news_df.shape))\n",
    "news_df.head(30)"
   ]
  },
  {
   "cell_type": "code",
   "execution_count": null,
   "metadata": {},
   "outputs": [],
   "source": [
    "#other ways to add title score object to news\n",
    "\n",
    "\n",
    "#add title score way 2 -----------------------:\n",
    "\n",
    "# def add_title_scoore():\n",
    "#     for item in news:\n",
    "#         score = {'title_score' : sentiment_analyzer_scores(item['title'])}\n",
    "#     return news\n",
    "# add_title_scoore()\n",
    "\n",
    "\n",
    "#add title score way 3 -----------------------:\n",
    "\n",
    "# result = [dict(item, scoreeeeeeeeeeeeeee=sentiment_analyzer_scores(item['title'])) for item in news]\n",
    "# print(result)\n",
    "\n",
    "\n",
    "#this works append static object -------------:\n",
    "\n",
    "# for item in news:\n",
    "#     item.update({'scooooooooooooooooore': 'baaaaaaaaaaaaaaaaaad'})\n",
    "# print(news)"
   ]
  },
  {
   "cell_type": "markdown",
   "metadata": {},
   "source": [
    "**Plot Title Sentiment Score**"
   ]
  },
  {
   "cell_type": "code",
   "execution_count": null,
   "metadata": {},
   "outputs": [],
   "source": [
    "def graph_sentiment(text, score, graph_title):\n",
    "    x = text\n",
    "    y = [d.get('neg') for d in score]\n",
    "    y1 = [d.get('neu') for d in score]\n",
    "    y2 = [d.get('pos') for d in score]\n",
    "    y3 = [d.get('compound') for d in score]\n",
    "\n",
    "    fig = go.Figure(go.Bar(x=x, y=y, name='Negative', marker_color='#EE7674'))\n",
    "    fig.add_trace(go.Bar(x=x, y=y1, name='Neutral', marker_color='#247BA0'))\n",
    "    fig.add_trace(go.Bar(x=x, y=y2, name='Positive'))\n",
    "    fig.add_trace(go.Bar(x=x, y=y3, name='Compound'))\n",
    "\n",
    "    fig.update_layout(title=graph_title)\n",
    "    fig.show()\n",
    "\n",
    "\n",
    "graph_sentiment(news_df['title'], news_df['title_score'], 'Title Sentiment')"
   ]
  },
  {
   "cell_type": "code",
   "execution_count": null,
   "metadata": {},
   "outputs": [],
   "source": [
    "graph_sentiment(news_df['description'], news_df['desc_score'], 'Description Sentiment')"
   ]
  },
  {
   "cell_type": "markdown",
   "metadata": {},
   "source": [
    "***How to interpret Compound Values?*** \n",
    "<p>The compound score is computed by summing the valence scores of each word in the lexicon, adjusted according to the rules, and then normalized to be between -1 (most extreme negative) and +1 (most extreme positive). This is the most useful metric if you want a single unidimensional measure of sentiment for a given sentence. Calling it a 'normalized, weighted composite score' is accurate.</p>"
   ]
  },
  {
   "cell_type": "markdown",
   "metadata": {},
   "source": [
    "**Next Step: Populate the score on a daily basis**\n",
    "<p> Use the mean of the headline score for each day </p>"
   ]
  },
  {
   "cell_type": "code",
   "execution_count": null,
   "metadata": {
    "scrolled": false
   },
   "outputs": [],
   "source": [
    "#extract date and scores\n",
    "news_score_df = news_df[['publishedAt', 'title_score', 'desc_score']].copy()\n",
    "\n",
    "#remove time from datetime\n",
    "news_score_df['publishedAt'] = pd.to_datetime(news_score_df['publishedAt'].str.split('T').str[0])\n",
    "\n",
    "#convert object into datetime\n",
    "#pd.to_datetime(news_score_df['publishedAt'])\n",
    "\n",
    "#populate each score in nested title_score and desc_score into own column\n",
    "news_score_df = pd.concat([news_score_df, \n",
    "                 pd.DataFrame((d for i, d in news_score_df['title_score'].iteritems()))], \n",
    "                 axis=1)\n",
    "\n",
    "news_score_df = pd.concat([news_score_df, \n",
    "                 pd.DataFrame((d for i, d in news_score_df['desc_score'].iteritems()))], \n",
    "                 axis=1)\n",
    "\n",
    "\n",
    "news_score_df.columns = ['publishedAt', 'title_score', 'desc_score', \n",
    "                         't_neg', 't_neu', 't_pos', 't_compound',\n",
    "                         'd_neg', 'd_neu', 'd_pos', 'd_compound']\n",
    "\n",
    "daily_score_df = news_score_df.groupby('publishedAt', as_index=True)[['t_neg', 't_neu', 't_pos', 't_compound',\n",
    "                         'd_neg', 'd_neu', 'd_pos', 'd_compound']].mean().reset_index()\n",
    "\n",
    "#add % change to each column\n",
    "daily_score_df['t_neg_pc'] = daily_score_df['t_neg'].pct_change()\n",
    "\n",
    "daily_score_df.head(30)"
   ]
  },
  {
   "cell_type": "code",
   "execution_count": null,
   "metadata": {},
   "outputs": [],
   "source": [
    "def daily_score_graph(graph_title, x, y1, y2, y3, y4):\n",
    "    fig = go.Figure()\n",
    "    fig.add_trace(go.Scatter(x=x, y=y1,\n",
    "                        mode='lines+markers',\n",
    "                        name='neg',\n",
    "                        line=dict(color='#EE7674')))\n",
    "    fig.add_trace(go.Scatter(x=x, y=y2,\n",
    "                        mode='lines+markers',\n",
    "                        name='neu',\n",
    "                        line=dict(color='#247BA0')))\n",
    "    fig.add_trace(go.Scatter(x=x, y=y3,\n",
    "                        mode='lines+markers', \n",
    "                        name='pos'))\n",
    "    fig.add_trace(go.Scatter(x=x, y=y4,\n",
    "                        mode='lines+markers', \n",
    "                        name='compound',\n",
    "                        line=dict(width=4)))\n",
    "\n",
    "    fig.update_layout(title=graph_title)\n",
    "    fig.show()\n",
    "\n",
    "daily_score_graph('Daily Title Score', daily_score_df['publishedAt'], \n",
    "                  daily_score_df['t_neg'], daily_score_df['t_neu'], daily_score_df['t_pos'], daily_score_df['t_compound'])"
   ]
  },
  {
   "cell_type": "code",
   "execution_count": null,
   "metadata": {},
   "outputs": [],
   "source": [
    "daily_score_graph('Daily Description Score', daily_score_df['publishedAt'], \n",
    "                  daily_score_df['d_neg'], daily_score_df['d_neu'], daily_score_df['d_pos'], daily_score_df['d_compound'])\n"
   ]
  },
  {
   "cell_type": "markdown",
   "metadata": {},
   "source": [
    "**Next Step: Pull Daily price of S&P and Dow Jones**\n",
    "\n",
    "reference: https://pypi.org/project/yfinance/"
   ]
  },
  {
   "cell_type": "code",
   "execution_count": null,
   "metadata": {
    "scrolled": true
   },
   "outputs": [],
   "source": [
    "stock_data = pdr.get_data_yahoo(stock_ticker, start=date_list[-1], end=date_list[0])\n",
    "stock_data_df = pd.DataFrame(stock_data).reset_index()\n",
    "\n",
    "stock_data_df['Adj Close PC'] = stock_data_df['Adj Close'].pct_change()\n",
    "\n",
    "print('Start Date: ' + str(date_list[-1]))\n",
    "print('End Date: ' + str(date_list[0]))\n",
    "stock_data_df.head(15)"
   ]
  },
  {
   "cell_type": "code",
   "execution_count": null,
   "metadata": {},
   "outputs": [],
   "source": [
    "#plot daily close for last 7 days\n",
    "def stock_graph():\n",
    "    x = stock_data_df['Date']\n",
    "    y = stock_data_df['Adj Close']\n",
    "\n",
    "    fig = go.Figure()\n",
    "    fig.add_trace(go.Scatter(x=x, y=y,\n",
    "                        mode='lines+markers',\n",
    "                        name='Daily Close',\n",
    "                        line=dict(color='#EE7674')))\n",
    "\n",
    "    graph_title = str(company).upper() + ' Daily Close'\n",
    "    fig.update_layout(title=graph_title)\n",
    "    fig.show()\n",
    "\n",
    "stock_graph()\n",
    "\n",
    "#add label for day of week\n",
    "#remove weekends"
   ]
  },
  {
   "cell_type": "code",
   "execution_count": null,
   "metadata": {},
   "outputs": [],
   "source": [
    "print(stock_data_df['Date'].dtypes)\n",
    "print(daily_score_df['publishedAt'].dtypes)"
   ]
  },
  {
   "cell_type": "markdown",
   "metadata": {},
   "source": [
    "**Next Step: Correlate the score of the daily movement of S&P and Dow Jones**\n",
    "\n",
    "<p>Daily average Title score vs S&P <br />\n",
    "   Daily average Description score vs S&P <br />\n",
    "   Daily average Title score vs DJ <br />\n",
    "   Daily average Description score vs DJ <br /></p>"
   ]
  },
  {
   "cell_type": "markdown",
   "metadata": {},
   "source": [
    "**Compare % change each day between score and price**"
   ]
  },
  {
   "cell_type": "code",
   "execution_count": 228,
   "metadata": {},
   "outputs": [],
   "source": [
    "price_score_df = pd.merge(daily_score_df, stock_data_df, how='left', left_on='publishedAt', right_on='Date')\n",
    "price_score_df.head(15)\n",
    "\n",
    "#saving data to csv\n",
    "price_score_df.to_csv(r'/Users/susanqu/Desktop/Data Science/SentimentAnalysis/cmg.csv', index=False)"
   ]
  },
  {
   "cell_type": "code",
   "execution_count": 229,
   "metadata": {},
   "outputs": [
    {
     "name": "stdout",
     "output_type": "stream",
     "text": [
      "r: [[0.01393979]]\n"
     ]
    }
   ],
   "source": [
    "#Linear Regression Model\n",
    "price_score_df = price_score_df.fillna(0)\n",
    "price_score_df['t_neg_pc'] = price_score_df['t_neg_pc'].replace(np.inf, 0)\n",
    "X = price_score_df['t_compound'].values.reshape(-1, 1)\n",
    "Y = price_score_df['Adj Close PC'].values.reshape(-1, 1)\n",
    "linear_regressor = LinearRegression()\n",
    "linear_regressor.fit(X, Y)\n",
    "Y_pred = linear_regressor.predict(X)\n",
    "price_score_df['linear_fit'] = Y_pred\n",
    "\n",
    "print('r: ' + str(linear_regressor.coef_))\n"
   ]
  },
  {
   "cell_type": "code",
   "execution_count": 230,
   "metadata": {},
   "outputs": [
    {
     "data": {
      "application/vnd.plotly.v1+json": {
       "config": {
        "plotlyServerURL": "https://plot.ly"
       },
       "data": [
        {
         "mode": "markers",
         "name": "Title Compound Score vs Closing Price PC",
         "type": "scatter",
         "x": [
          0,
          -0.2528,
          0.06021428571428571,
          0.15983333333333336,
          0.2023,
          0.3612,
          0.18076666666666666,
          0.1925285714285714,
          0.1708,
          0.04539999999999999,
          0.007455000000000001,
          0.2755,
          0,
          0.2605,
          -0.051475,
          -0.08102499999999999,
          0.4569500000000001,
          -0.14817500000000003,
          0.09866666666666667,
          0,
          0.037672727272727274,
          -0.06363333333333333,
          0.09688666666666666,
          0.2759,
          0.08038
         ],
         "y": [
          0,
          -0.032757051112288105,
          -0.010186833843997656,
          -0.10827460800134048,
          0.023863449921483593,
          0,
          -0.006166161774956991,
          -0.04258528158887498,
          0.045770106248286035,
          -0.05483530118108926,
          -0.006143867470446596,
          0,
          0,
          -0.09019753028270672,
          0.06589553641559065,
          -0.07817915546899645,
          -0.06712667842190712,
          0.04537311003575861,
          0,
          0,
          -0.09335931365173167,
          -0.08241331878055713,
          -0.11288874110168223,
          0.15249034685841334,
          0
         ]
        },
        {
         "mode": "lines",
         "name": "Best Fit",
         "type": "scatter",
         "x": [
          [
           0
          ],
          [
           -0.2528
          ],
          [
           0.06021428571428571
          ],
          [
           0.15983333333333336
          ],
          [
           0.2023
          ],
          [
           0.3612
          ],
          [
           0.18076666666666666
          ],
          [
           0.1925285714285714
          ],
          [
           0.1708
          ],
          [
           0.04539999999999999
          ],
          [
           0.007455000000000001
          ],
          [
           0.2755
          ],
          [
           0
          ],
          [
           0.2605
          ],
          [
           -0.051475
          ],
          [
           -0.08102499999999999
          ],
          [
           0.4569500000000001
          ],
          [
           -0.14817500000000003
          ],
          [
           0.09866666666666667
          ],
          [
           0
          ],
          [
           0.037672727272727274
          ],
          [
           -0.06363333333333333
          ],
          [
           0.09688666666666666
          ],
          [
           0.2759
          ],
          [
           0.08038
          ]
         ],
         "y": [
          -0.01938802749363289,
          -0.02291200678182284,
          -0.01854865290617128,
          -0.01715998415411933,
          -0.01656800767559164,
          -0.014352974808133637,
          -0.016868177852301915,
          -0.016704219352418153,
          -0.017007111107466576,
          -0.01875516096007346,
          -0.019284106348089157,
          -0.015547614938663223,
          -0.01938802749363289,
          -0.01575671181098462,
          -0.020105578260482485,
          -0.02051749909895564,
          -0.013018239773148716,
          -0.021453556097381095,
          -0.018012634733474364,
          -0.01938802749363289,
          -0.01886287753066327,
          -0.020275062891991887,
          -0.01803744756232317,
          -0.015542039022067987,
          -0.01826754705381996
         ]
        }
       ],
       "layout": {
        "template": {
         "data": {
          "bar": [
           {
            "error_x": {
             "color": "#2a3f5f"
            },
            "error_y": {
             "color": "#2a3f5f"
            },
            "marker": {
             "line": {
              "color": "#E5ECF6",
              "width": 0.5
             }
            },
            "type": "bar"
           }
          ],
          "barpolar": [
           {
            "marker": {
             "line": {
              "color": "#E5ECF6",
              "width": 0.5
             }
            },
            "type": "barpolar"
           }
          ],
          "carpet": [
           {
            "aaxis": {
             "endlinecolor": "#2a3f5f",
             "gridcolor": "white",
             "linecolor": "white",
             "minorgridcolor": "white",
             "startlinecolor": "#2a3f5f"
            },
            "baxis": {
             "endlinecolor": "#2a3f5f",
             "gridcolor": "white",
             "linecolor": "white",
             "minorgridcolor": "white",
             "startlinecolor": "#2a3f5f"
            },
            "type": "carpet"
           }
          ],
          "choropleth": [
           {
            "colorbar": {
             "outlinewidth": 0,
             "ticks": ""
            },
            "type": "choropleth"
           }
          ],
          "contour": [
           {
            "colorbar": {
             "outlinewidth": 0,
             "ticks": ""
            },
            "colorscale": [
             [
              0,
              "#0d0887"
             ],
             [
              0.1111111111111111,
              "#46039f"
             ],
             [
              0.2222222222222222,
              "#7201a8"
             ],
             [
              0.3333333333333333,
              "#9c179e"
             ],
             [
              0.4444444444444444,
              "#bd3786"
             ],
             [
              0.5555555555555556,
              "#d8576b"
             ],
             [
              0.6666666666666666,
              "#ed7953"
             ],
             [
              0.7777777777777778,
              "#fb9f3a"
             ],
             [
              0.8888888888888888,
              "#fdca26"
             ],
             [
              1,
              "#f0f921"
             ]
            ],
            "type": "contour"
           }
          ],
          "contourcarpet": [
           {
            "colorbar": {
             "outlinewidth": 0,
             "ticks": ""
            },
            "type": "contourcarpet"
           }
          ],
          "heatmap": [
           {
            "colorbar": {
             "outlinewidth": 0,
             "ticks": ""
            },
            "colorscale": [
             [
              0,
              "#0d0887"
             ],
             [
              0.1111111111111111,
              "#46039f"
             ],
             [
              0.2222222222222222,
              "#7201a8"
             ],
             [
              0.3333333333333333,
              "#9c179e"
             ],
             [
              0.4444444444444444,
              "#bd3786"
             ],
             [
              0.5555555555555556,
              "#d8576b"
             ],
             [
              0.6666666666666666,
              "#ed7953"
             ],
             [
              0.7777777777777778,
              "#fb9f3a"
             ],
             [
              0.8888888888888888,
              "#fdca26"
             ],
             [
              1,
              "#f0f921"
             ]
            ],
            "type": "heatmap"
           }
          ],
          "heatmapgl": [
           {
            "colorbar": {
             "outlinewidth": 0,
             "ticks": ""
            },
            "colorscale": [
             [
              0,
              "#0d0887"
             ],
             [
              0.1111111111111111,
              "#46039f"
             ],
             [
              0.2222222222222222,
              "#7201a8"
             ],
             [
              0.3333333333333333,
              "#9c179e"
             ],
             [
              0.4444444444444444,
              "#bd3786"
             ],
             [
              0.5555555555555556,
              "#d8576b"
             ],
             [
              0.6666666666666666,
              "#ed7953"
             ],
             [
              0.7777777777777778,
              "#fb9f3a"
             ],
             [
              0.8888888888888888,
              "#fdca26"
             ],
             [
              1,
              "#f0f921"
             ]
            ],
            "type": "heatmapgl"
           }
          ],
          "histogram": [
           {
            "marker": {
             "colorbar": {
              "outlinewidth": 0,
              "ticks": ""
             }
            },
            "type": "histogram"
           }
          ],
          "histogram2d": [
           {
            "colorbar": {
             "outlinewidth": 0,
             "ticks": ""
            },
            "colorscale": [
             [
              0,
              "#0d0887"
             ],
             [
              0.1111111111111111,
              "#46039f"
             ],
             [
              0.2222222222222222,
              "#7201a8"
             ],
             [
              0.3333333333333333,
              "#9c179e"
             ],
             [
              0.4444444444444444,
              "#bd3786"
             ],
             [
              0.5555555555555556,
              "#d8576b"
             ],
             [
              0.6666666666666666,
              "#ed7953"
             ],
             [
              0.7777777777777778,
              "#fb9f3a"
             ],
             [
              0.8888888888888888,
              "#fdca26"
             ],
             [
              1,
              "#f0f921"
             ]
            ],
            "type": "histogram2d"
           }
          ],
          "histogram2dcontour": [
           {
            "colorbar": {
             "outlinewidth": 0,
             "ticks": ""
            },
            "colorscale": [
             [
              0,
              "#0d0887"
             ],
             [
              0.1111111111111111,
              "#46039f"
             ],
             [
              0.2222222222222222,
              "#7201a8"
             ],
             [
              0.3333333333333333,
              "#9c179e"
             ],
             [
              0.4444444444444444,
              "#bd3786"
             ],
             [
              0.5555555555555556,
              "#d8576b"
             ],
             [
              0.6666666666666666,
              "#ed7953"
             ],
             [
              0.7777777777777778,
              "#fb9f3a"
             ],
             [
              0.8888888888888888,
              "#fdca26"
             ],
             [
              1,
              "#f0f921"
             ]
            ],
            "type": "histogram2dcontour"
           }
          ],
          "mesh3d": [
           {
            "colorbar": {
             "outlinewidth": 0,
             "ticks": ""
            },
            "type": "mesh3d"
           }
          ],
          "parcoords": [
           {
            "line": {
             "colorbar": {
              "outlinewidth": 0,
              "ticks": ""
             }
            },
            "type": "parcoords"
           }
          ],
          "pie": [
           {
            "automargin": true,
            "type": "pie"
           }
          ],
          "scatter": [
           {
            "marker": {
             "colorbar": {
              "outlinewidth": 0,
              "ticks": ""
             }
            },
            "type": "scatter"
           }
          ],
          "scatter3d": [
           {
            "line": {
             "colorbar": {
              "outlinewidth": 0,
              "ticks": ""
             }
            },
            "marker": {
             "colorbar": {
              "outlinewidth": 0,
              "ticks": ""
             }
            },
            "type": "scatter3d"
           }
          ],
          "scattercarpet": [
           {
            "marker": {
             "colorbar": {
              "outlinewidth": 0,
              "ticks": ""
             }
            },
            "type": "scattercarpet"
           }
          ],
          "scattergeo": [
           {
            "marker": {
             "colorbar": {
              "outlinewidth": 0,
              "ticks": ""
             }
            },
            "type": "scattergeo"
           }
          ],
          "scattergl": [
           {
            "marker": {
             "colorbar": {
              "outlinewidth": 0,
              "ticks": ""
             }
            },
            "type": "scattergl"
           }
          ],
          "scattermapbox": [
           {
            "marker": {
             "colorbar": {
              "outlinewidth": 0,
              "ticks": ""
             }
            },
            "type": "scattermapbox"
           }
          ],
          "scatterpolar": [
           {
            "marker": {
             "colorbar": {
              "outlinewidth": 0,
              "ticks": ""
             }
            },
            "type": "scatterpolar"
           }
          ],
          "scatterpolargl": [
           {
            "marker": {
             "colorbar": {
              "outlinewidth": 0,
              "ticks": ""
             }
            },
            "type": "scatterpolargl"
           }
          ],
          "scatterternary": [
           {
            "marker": {
             "colorbar": {
              "outlinewidth": 0,
              "ticks": ""
             }
            },
            "type": "scatterternary"
           }
          ],
          "surface": [
           {
            "colorbar": {
             "outlinewidth": 0,
             "ticks": ""
            },
            "colorscale": [
             [
              0,
              "#0d0887"
             ],
             [
              0.1111111111111111,
              "#46039f"
             ],
             [
              0.2222222222222222,
              "#7201a8"
             ],
             [
              0.3333333333333333,
              "#9c179e"
             ],
             [
              0.4444444444444444,
              "#bd3786"
             ],
             [
              0.5555555555555556,
              "#d8576b"
             ],
             [
              0.6666666666666666,
              "#ed7953"
             ],
             [
              0.7777777777777778,
              "#fb9f3a"
             ],
             [
              0.8888888888888888,
              "#fdca26"
             ],
             [
              1,
              "#f0f921"
             ]
            ],
            "type": "surface"
           }
          ],
          "table": [
           {
            "cells": {
             "fill": {
              "color": "#EBF0F8"
             },
             "line": {
              "color": "white"
             }
            },
            "header": {
             "fill": {
              "color": "#C8D4E3"
             },
             "line": {
              "color": "white"
             }
            },
            "type": "table"
           }
          ]
         },
         "layout": {
          "annotationdefaults": {
           "arrowcolor": "#2a3f5f",
           "arrowhead": 0,
           "arrowwidth": 1
          },
          "coloraxis": {
           "colorbar": {
            "outlinewidth": 0,
            "ticks": ""
           }
          },
          "colorscale": {
           "diverging": [
            [
             0,
             "#8e0152"
            ],
            [
             0.1,
             "#c51b7d"
            ],
            [
             0.2,
             "#de77ae"
            ],
            [
             0.3,
             "#f1b6da"
            ],
            [
             0.4,
             "#fde0ef"
            ],
            [
             0.5,
             "#f7f7f7"
            ],
            [
             0.6,
             "#e6f5d0"
            ],
            [
             0.7,
             "#b8e186"
            ],
            [
             0.8,
             "#7fbc41"
            ],
            [
             0.9,
             "#4d9221"
            ],
            [
             1,
             "#276419"
            ]
           ],
           "sequential": [
            [
             0,
             "#0d0887"
            ],
            [
             0.1111111111111111,
             "#46039f"
            ],
            [
             0.2222222222222222,
             "#7201a8"
            ],
            [
             0.3333333333333333,
             "#9c179e"
            ],
            [
             0.4444444444444444,
             "#bd3786"
            ],
            [
             0.5555555555555556,
             "#d8576b"
            ],
            [
             0.6666666666666666,
             "#ed7953"
            ],
            [
             0.7777777777777778,
             "#fb9f3a"
            ],
            [
             0.8888888888888888,
             "#fdca26"
            ],
            [
             1,
             "#f0f921"
            ]
           ],
           "sequentialminus": [
            [
             0,
             "#0d0887"
            ],
            [
             0.1111111111111111,
             "#46039f"
            ],
            [
             0.2222222222222222,
             "#7201a8"
            ],
            [
             0.3333333333333333,
             "#9c179e"
            ],
            [
             0.4444444444444444,
             "#bd3786"
            ],
            [
             0.5555555555555556,
             "#d8576b"
            ],
            [
             0.6666666666666666,
             "#ed7953"
            ],
            [
             0.7777777777777778,
             "#fb9f3a"
            ],
            [
             0.8888888888888888,
             "#fdca26"
            ],
            [
             1,
             "#f0f921"
            ]
           ]
          },
          "colorway": [
           "#636efa",
           "#EF553B",
           "#00cc96",
           "#ab63fa",
           "#FFA15A",
           "#19d3f3",
           "#FF6692",
           "#B6E880",
           "#FF97FF",
           "#FECB52"
          ],
          "font": {
           "color": "#2a3f5f"
          },
          "geo": {
           "bgcolor": "white",
           "lakecolor": "white",
           "landcolor": "#E5ECF6",
           "showlakes": true,
           "showland": true,
           "subunitcolor": "white"
          },
          "hoverlabel": {
           "align": "left"
          },
          "hovermode": "closest",
          "mapbox": {
           "style": "light"
          },
          "paper_bgcolor": "white",
          "plot_bgcolor": "#E5ECF6",
          "polar": {
           "angularaxis": {
            "gridcolor": "white",
            "linecolor": "white",
            "ticks": ""
           },
           "bgcolor": "#E5ECF6",
           "radialaxis": {
            "gridcolor": "white",
            "linecolor": "white",
            "ticks": ""
           }
          },
          "scene": {
           "xaxis": {
            "backgroundcolor": "#E5ECF6",
            "gridcolor": "white",
            "gridwidth": 2,
            "linecolor": "white",
            "showbackground": true,
            "ticks": "",
            "zerolinecolor": "white"
           },
           "yaxis": {
            "backgroundcolor": "#E5ECF6",
            "gridcolor": "white",
            "gridwidth": 2,
            "linecolor": "white",
            "showbackground": true,
            "ticks": "",
            "zerolinecolor": "white"
           },
           "zaxis": {
            "backgroundcolor": "#E5ECF6",
            "gridcolor": "white",
            "gridwidth": 2,
            "linecolor": "white",
            "showbackground": true,
            "ticks": "",
            "zerolinecolor": "white"
           }
          },
          "shapedefaults": {
           "line": {
            "color": "#2a3f5f"
           }
          },
          "ternary": {
           "aaxis": {
            "gridcolor": "white",
            "linecolor": "white",
            "ticks": ""
           },
           "baxis": {
            "gridcolor": "white",
            "linecolor": "white",
            "ticks": ""
           },
           "bgcolor": "#E5ECF6",
           "caxis": {
            "gridcolor": "white",
            "linecolor": "white",
            "ticks": ""
           }
          },
          "title": {
           "x": 0.05
          },
          "xaxis": {
           "automargin": true,
           "gridcolor": "white",
           "linecolor": "white",
           "ticks": "",
           "title": {
            "standoff": 15
           },
           "zerolinecolor": "white",
           "zerolinewidth": 2
          },
          "yaxis": {
           "automargin": true,
           "gridcolor": "white",
           "linecolor": "white",
           "ticks": "",
           "title": {
            "standoff": 15
           },
           "zerolinecolor": "white",
           "zerolinewidth": 2
          }
         }
        },
        "xaxis": {
         "title": {
          "text": "Title Negative Score"
         }
        },
        "yaxis": {
         "title": {
          "text": "Closing Price % Change"
         }
        }
       }
      },
      "text/html": [
       "<div>\n",
       "        \n",
       "        \n",
       "            <div id=\"4530f76e-18d5-44f8-bd99-37773fb1773f\" class=\"plotly-graph-div\" style=\"height:525px; width:100%;\"></div>\n",
       "            <script type=\"text/javascript\">\n",
       "                require([\"plotly\"], function(Plotly) {\n",
       "                    window.PLOTLYENV=window.PLOTLYENV || {};\n",
       "                    \n",
       "                if (document.getElementById(\"4530f76e-18d5-44f8-bd99-37773fb1773f\")) {\n",
       "                    Plotly.newPlot(\n",
       "                        '4530f76e-18d5-44f8-bd99-37773fb1773f',\n",
       "                        [{\"mode\": \"markers\", \"name\": \"Title Compound Score vs Closing Price PC\", \"type\": \"scatter\", \"x\": [0.0, -0.2528, 0.06021428571428571, 0.15983333333333336, 0.2023, 0.3612, 0.18076666666666666, 0.1925285714285714, 0.1708, 0.04539999999999999, 0.007455000000000001, 0.2755, 0.0, 0.2605, -0.051475, -0.08102499999999999, 0.4569500000000001, -0.14817500000000003, 0.09866666666666667, 0.0, 0.037672727272727274, -0.06363333333333333, 0.09688666666666666, 0.2759, 0.08038], \"y\": [0.0, -0.032757051112288105, -0.010186833843997656, -0.10827460800134048, 0.023863449921483593, 0.0, -0.006166161774956991, -0.04258528158887498, 0.045770106248286035, -0.05483530118108926, -0.006143867470446596, 0.0, 0.0, -0.09019753028270672, 0.06589553641559065, -0.07817915546899645, -0.06712667842190712, 0.04537311003575861, 0.0, 0.0, -0.09335931365173167, -0.08241331878055713, -0.11288874110168223, 0.15249034685841334, 0.0]}, {\"mode\": \"lines\", \"name\": \"Best Fit\", \"type\": \"scatter\", \"x\": [[0.0], [-0.2528], [0.06021428571428571], [0.15983333333333336], [0.2023], [0.3612], [0.18076666666666666], [0.1925285714285714], [0.1708], [0.04539999999999999], [0.007455000000000001], [0.2755], [0.0], [0.2605], [-0.051475], [-0.08102499999999999], [0.4569500000000001], [-0.14817500000000003], [0.09866666666666667], [0.0], [0.037672727272727274], [-0.06363333333333333], [0.09688666666666666], [0.2759], [0.08038]], \"y\": [-0.01938802749363289, -0.02291200678182284, -0.01854865290617128, -0.01715998415411933, -0.01656800767559164, -0.014352974808133637, -0.016868177852301915, -0.016704219352418153, -0.017007111107466576, -0.01875516096007346, -0.019284106348089157, -0.015547614938663223, -0.01938802749363289, -0.01575671181098462, -0.020105578260482485, -0.02051749909895564, -0.013018239773148716, -0.021453556097381095, -0.018012634733474364, -0.01938802749363289, -0.01886287753066327, -0.020275062891991887, -0.01803744756232317, -0.015542039022067987, -0.01826754705381996]}],\n",
       "                        {\"template\": {\"data\": {\"bar\": [{\"error_x\": {\"color\": \"#2a3f5f\"}, \"error_y\": {\"color\": \"#2a3f5f\"}, \"marker\": {\"line\": {\"color\": \"#E5ECF6\", \"width\": 0.5}}, \"type\": \"bar\"}], \"barpolar\": [{\"marker\": {\"line\": {\"color\": \"#E5ECF6\", \"width\": 0.5}}, \"type\": \"barpolar\"}], \"carpet\": [{\"aaxis\": {\"endlinecolor\": \"#2a3f5f\", \"gridcolor\": \"white\", \"linecolor\": \"white\", \"minorgridcolor\": \"white\", \"startlinecolor\": \"#2a3f5f\"}, \"baxis\": {\"endlinecolor\": \"#2a3f5f\", \"gridcolor\": \"white\", \"linecolor\": \"white\", \"minorgridcolor\": \"white\", \"startlinecolor\": \"#2a3f5f\"}, \"type\": \"carpet\"}], \"choropleth\": [{\"colorbar\": {\"outlinewidth\": 0, \"ticks\": \"\"}, \"type\": \"choropleth\"}], \"contour\": [{\"colorbar\": {\"outlinewidth\": 0, \"ticks\": \"\"}, \"colorscale\": [[0.0, \"#0d0887\"], [0.1111111111111111, \"#46039f\"], [0.2222222222222222, \"#7201a8\"], [0.3333333333333333, \"#9c179e\"], [0.4444444444444444, \"#bd3786\"], [0.5555555555555556, \"#d8576b\"], [0.6666666666666666, \"#ed7953\"], [0.7777777777777778, \"#fb9f3a\"], [0.8888888888888888, \"#fdca26\"], [1.0, \"#f0f921\"]], \"type\": \"contour\"}], \"contourcarpet\": [{\"colorbar\": {\"outlinewidth\": 0, \"ticks\": \"\"}, \"type\": \"contourcarpet\"}], \"heatmap\": [{\"colorbar\": {\"outlinewidth\": 0, \"ticks\": \"\"}, \"colorscale\": [[0.0, \"#0d0887\"], [0.1111111111111111, \"#46039f\"], [0.2222222222222222, \"#7201a8\"], [0.3333333333333333, \"#9c179e\"], [0.4444444444444444, \"#bd3786\"], [0.5555555555555556, \"#d8576b\"], [0.6666666666666666, \"#ed7953\"], [0.7777777777777778, \"#fb9f3a\"], [0.8888888888888888, \"#fdca26\"], [1.0, \"#f0f921\"]], \"type\": \"heatmap\"}], \"heatmapgl\": [{\"colorbar\": {\"outlinewidth\": 0, \"ticks\": \"\"}, \"colorscale\": [[0.0, \"#0d0887\"], [0.1111111111111111, \"#46039f\"], [0.2222222222222222, \"#7201a8\"], [0.3333333333333333, \"#9c179e\"], [0.4444444444444444, \"#bd3786\"], [0.5555555555555556, \"#d8576b\"], [0.6666666666666666, \"#ed7953\"], [0.7777777777777778, \"#fb9f3a\"], [0.8888888888888888, \"#fdca26\"], [1.0, \"#f0f921\"]], \"type\": \"heatmapgl\"}], \"histogram\": [{\"marker\": {\"colorbar\": {\"outlinewidth\": 0, \"ticks\": \"\"}}, \"type\": \"histogram\"}], \"histogram2d\": [{\"colorbar\": {\"outlinewidth\": 0, \"ticks\": \"\"}, \"colorscale\": [[0.0, \"#0d0887\"], [0.1111111111111111, \"#46039f\"], [0.2222222222222222, \"#7201a8\"], [0.3333333333333333, \"#9c179e\"], [0.4444444444444444, \"#bd3786\"], [0.5555555555555556, \"#d8576b\"], [0.6666666666666666, \"#ed7953\"], [0.7777777777777778, \"#fb9f3a\"], [0.8888888888888888, \"#fdca26\"], [1.0, \"#f0f921\"]], \"type\": \"histogram2d\"}], \"histogram2dcontour\": [{\"colorbar\": {\"outlinewidth\": 0, \"ticks\": \"\"}, \"colorscale\": [[0.0, \"#0d0887\"], [0.1111111111111111, \"#46039f\"], [0.2222222222222222, \"#7201a8\"], [0.3333333333333333, \"#9c179e\"], [0.4444444444444444, \"#bd3786\"], [0.5555555555555556, \"#d8576b\"], [0.6666666666666666, \"#ed7953\"], [0.7777777777777778, \"#fb9f3a\"], [0.8888888888888888, \"#fdca26\"], [1.0, \"#f0f921\"]], \"type\": \"histogram2dcontour\"}], \"mesh3d\": [{\"colorbar\": {\"outlinewidth\": 0, \"ticks\": \"\"}, \"type\": \"mesh3d\"}], \"parcoords\": [{\"line\": {\"colorbar\": {\"outlinewidth\": 0, \"ticks\": \"\"}}, \"type\": \"parcoords\"}], \"pie\": [{\"automargin\": true, \"type\": \"pie\"}], \"scatter\": [{\"marker\": {\"colorbar\": {\"outlinewidth\": 0, \"ticks\": \"\"}}, \"type\": \"scatter\"}], \"scatter3d\": [{\"line\": {\"colorbar\": {\"outlinewidth\": 0, \"ticks\": \"\"}}, \"marker\": {\"colorbar\": {\"outlinewidth\": 0, \"ticks\": \"\"}}, \"type\": \"scatter3d\"}], \"scattercarpet\": [{\"marker\": {\"colorbar\": {\"outlinewidth\": 0, \"ticks\": \"\"}}, \"type\": \"scattercarpet\"}], \"scattergeo\": [{\"marker\": {\"colorbar\": {\"outlinewidth\": 0, \"ticks\": \"\"}}, \"type\": \"scattergeo\"}], \"scattergl\": [{\"marker\": {\"colorbar\": {\"outlinewidth\": 0, \"ticks\": \"\"}}, \"type\": \"scattergl\"}], \"scattermapbox\": [{\"marker\": {\"colorbar\": {\"outlinewidth\": 0, \"ticks\": \"\"}}, \"type\": \"scattermapbox\"}], \"scatterpolar\": [{\"marker\": {\"colorbar\": {\"outlinewidth\": 0, \"ticks\": \"\"}}, \"type\": \"scatterpolar\"}], \"scatterpolargl\": [{\"marker\": {\"colorbar\": {\"outlinewidth\": 0, \"ticks\": \"\"}}, \"type\": \"scatterpolargl\"}], \"scatterternary\": [{\"marker\": {\"colorbar\": {\"outlinewidth\": 0, \"ticks\": \"\"}}, \"type\": \"scatterternary\"}], \"surface\": [{\"colorbar\": {\"outlinewidth\": 0, \"ticks\": \"\"}, \"colorscale\": [[0.0, \"#0d0887\"], [0.1111111111111111, \"#46039f\"], [0.2222222222222222, \"#7201a8\"], [0.3333333333333333, \"#9c179e\"], [0.4444444444444444, \"#bd3786\"], [0.5555555555555556, \"#d8576b\"], [0.6666666666666666, \"#ed7953\"], [0.7777777777777778, \"#fb9f3a\"], [0.8888888888888888, \"#fdca26\"], [1.0, \"#f0f921\"]], \"type\": \"surface\"}], \"table\": [{\"cells\": {\"fill\": {\"color\": \"#EBF0F8\"}, \"line\": {\"color\": \"white\"}}, \"header\": {\"fill\": {\"color\": \"#C8D4E3\"}, \"line\": {\"color\": \"white\"}}, \"type\": \"table\"}]}, \"layout\": {\"annotationdefaults\": {\"arrowcolor\": \"#2a3f5f\", \"arrowhead\": 0, \"arrowwidth\": 1}, \"coloraxis\": {\"colorbar\": {\"outlinewidth\": 0, \"ticks\": \"\"}}, \"colorscale\": {\"diverging\": [[0, \"#8e0152\"], [0.1, \"#c51b7d\"], [0.2, \"#de77ae\"], [0.3, \"#f1b6da\"], [0.4, \"#fde0ef\"], [0.5, \"#f7f7f7\"], [0.6, \"#e6f5d0\"], [0.7, \"#b8e186\"], [0.8, \"#7fbc41\"], [0.9, \"#4d9221\"], [1, \"#276419\"]], \"sequential\": [[0.0, \"#0d0887\"], [0.1111111111111111, \"#46039f\"], [0.2222222222222222, \"#7201a8\"], [0.3333333333333333, \"#9c179e\"], [0.4444444444444444, \"#bd3786\"], [0.5555555555555556, \"#d8576b\"], [0.6666666666666666, \"#ed7953\"], [0.7777777777777778, \"#fb9f3a\"], [0.8888888888888888, \"#fdca26\"], [1.0, \"#f0f921\"]], \"sequentialminus\": [[0.0, \"#0d0887\"], [0.1111111111111111, \"#46039f\"], [0.2222222222222222, \"#7201a8\"], [0.3333333333333333, \"#9c179e\"], [0.4444444444444444, \"#bd3786\"], [0.5555555555555556, \"#d8576b\"], [0.6666666666666666, \"#ed7953\"], [0.7777777777777778, \"#fb9f3a\"], [0.8888888888888888, \"#fdca26\"], [1.0, \"#f0f921\"]]}, \"colorway\": [\"#636efa\", \"#EF553B\", \"#00cc96\", \"#ab63fa\", \"#FFA15A\", \"#19d3f3\", \"#FF6692\", \"#B6E880\", \"#FF97FF\", \"#FECB52\"], \"font\": {\"color\": \"#2a3f5f\"}, \"geo\": {\"bgcolor\": \"white\", \"lakecolor\": \"white\", \"landcolor\": \"#E5ECF6\", \"showlakes\": true, \"showland\": true, \"subunitcolor\": \"white\"}, \"hoverlabel\": {\"align\": \"left\"}, \"hovermode\": \"closest\", \"mapbox\": {\"style\": \"light\"}, \"paper_bgcolor\": \"white\", \"plot_bgcolor\": \"#E5ECF6\", \"polar\": {\"angularaxis\": {\"gridcolor\": \"white\", \"linecolor\": \"white\", \"ticks\": \"\"}, \"bgcolor\": \"#E5ECF6\", \"radialaxis\": {\"gridcolor\": \"white\", \"linecolor\": \"white\", \"ticks\": \"\"}}, \"scene\": {\"xaxis\": {\"backgroundcolor\": \"#E5ECF6\", \"gridcolor\": \"white\", \"gridwidth\": 2, \"linecolor\": \"white\", \"showbackground\": true, \"ticks\": \"\", \"zerolinecolor\": \"white\"}, \"yaxis\": {\"backgroundcolor\": \"#E5ECF6\", \"gridcolor\": \"white\", \"gridwidth\": 2, \"linecolor\": \"white\", \"showbackground\": true, \"ticks\": \"\", \"zerolinecolor\": \"white\"}, \"zaxis\": {\"backgroundcolor\": \"#E5ECF6\", \"gridcolor\": \"white\", \"gridwidth\": 2, \"linecolor\": \"white\", \"showbackground\": true, \"ticks\": \"\", \"zerolinecolor\": \"white\"}}, \"shapedefaults\": {\"line\": {\"color\": \"#2a3f5f\"}}, \"ternary\": {\"aaxis\": {\"gridcolor\": \"white\", \"linecolor\": \"white\", \"ticks\": \"\"}, \"baxis\": {\"gridcolor\": \"white\", \"linecolor\": \"white\", \"ticks\": \"\"}, \"bgcolor\": \"#E5ECF6\", \"caxis\": {\"gridcolor\": \"white\", \"linecolor\": \"white\", \"ticks\": \"\"}}, \"title\": {\"x\": 0.05}, \"xaxis\": {\"automargin\": true, \"gridcolor\": \"white\", \"linecolor\": \"white\", \"ticks\": \"\", \"title\": {\"standoff\": 15}, \"zerolinecolor\": \"white\", \"zerolinewidth\": 2}, \"yaxis\": {\"automargin\": true, \"gridcolor\": \"white\", \"linecolor\": \"white\", \"ticks\": \"\", \"title\": {\"standoff\": 15}, \"zerolinecolor\": \"white\", \"zerolinewidth\": 2}}}, \"xaxis\": {\"title\": {\"text\": \"Title Negative Score\"}}, \"yaxis\": {\"title\": {\"text\": \"Closing Price % Change\"}}},\n",
       "                        {\"responsive\": true}\n",
       "                    ).then(function(){\n",
       "                            \n",
       "var gd = document.getElementById('4530f76e-18d5-44f8-bd99-37773fb1773f');\n",
       "var x = new MutationObserver(function (mutations, observer) {{\n",
       "        var display = window.getComputedStyle(gd).display;\n",
       "        if (!display || display === 'none') {{\n",
       "            console.log([gd, 'removed!']);\n",
       "            Plotly.purge(gd);\n",
       "            observer.disconnect();\n",
       "        }}\n",
       "}});\n",
       "\n",
       "// Listen for the removal of the full notebook cells\n",
       "var notebookContainer = gd.closest('#notebook-container');\n",
       "if (notebookContainer) {{\n",
       "    x.observe(notebookContainer, {childList: true});\n",
       "}}\n",
       "\n",
       "// Listen for the clearing of the current output cell\n",
       "var outputEl = gd.closest('.output');\n",
       "if (outputEl) {{\n",
       "    x.observe(outputEl, {childList: true});\n",
       "}}\n",
       "\n",
       "                        })\n",
       "                };\n",
       "                });\n",
       "            </script>\n",
       "        </div>"
      ]
     },
     "metadata": {},
     "output_type": "display_data"
    }
   ],
   "source": [
    "#Plot Linear Model\n",
    "def linear_graph():\n",
    "    fig=go.Figure()\n",
    "    fig.add_trace(go.Scatter(name='Title Compound Score vs Closing Price PC', x=price_score_df['t_compound'], y=price_score_df['Adj Close PC'], mode='markers'))\n",
    "    fig.add_trace(go.Scatter(name='Best Fit', x=X, y=price_score_df['linear_fit'], mode='lines'))\n",
    "    \n",
    "    fig.update_layout(xaxis_title = 'Title Negative Score', yaxis_title = 'Closing Price % Change')\n",
    "    fig.show()\n",
    "\n",
    "linear_graph()\n",
    "\n",
    "#need to fix line\n",
    "#need to think about weekend data points"
   ]
  },
  {
   "cell_type": "code",
   "execution_count": 231,
   "metadata": {},
   "outputs": [
    {
     "data": {
      "text/html": [
       "<div>\n",
       "<style scoped>\n",
       "    .dataframe tbody tr th:only-of-type {\n",
       "        vertical-align: middle;\n",
       "    }\n",
       "\n",
       "    .dataframe tbody tr th {\n",
       "        vertical-align: top;\n",
       "    }\n",
       "\n",
       "    .dataframe thead th {\n",
       "        text-align: right;\n",
       "    }\n",
       "</style>\n",
       "<table border=\"1\" class=\"dataframe\">\n",
       "  <thead>\n",
       "    <tr style=\"text-align: right;\">\n",
       "      <th></th>\n",
       "      <th>publishedAt</th>\n",
       "      <th>t_neg</th>\n",
       "      <th>t_neu</th>\n",
       "      <th>t_pos</th>\n",
       "      <th>t_compound</th>\n",
       "      <th>d_neg</th>\n",
       "      <th>d_neu</th>\n",
       "      <th>d_pos</th>\n",
       "      <th>d_compound</th>\n",
       "      <th>t_neg_pc</th>\n",
       "      <th>Date</th>\n",
       "      <th>Open</th>\n",
       "      <th>High</th>\n",
       "      <th>Low</th>\n",
       "      <th>Close</th>\n",
       "      <th>Adj Close</th>\n",
       "      <th>Volume</th>\n",
       "      <th>Adj Close PC</th>\n",
       "      <th>linear_fit</th>\n",
       "    </tr>\n",
       "  </thead>\n",
       "  <tbody>\n",
       "    <tr>\n",
       "      <th>0</th>\n",
       "      <td>2020-02-24</td>\n",
       "      <td>0.000000</td>\n",
       "      <td>1.000000</td>\n",
       "      <td>0.000000</td>\n",
       "      <td>0.000000</td>\n",
       "      <td>0.000000</td>\n",
       "      <td>1.000000</td>\n",
       "      <td>0.000000</td>\n",
       "      <td>0.000000</td>\n",
       "      <td>0.000000</td>\n",
       "      <td>2020-02-24 00:00:00</td>\n",
       "      <td>897.419983</td>\n",
       "      <td>900.049988</td>\n",
       "      <td>883.929993</td>\n",
       "      <td>885.000000</td>\n",
       "      <td>885.000000</td>\n",
       "      <td>662300.0</td>\n",
       "      <td>0.000000</td>\n",
       "      <td>-0.019388</td>\n",
       "    </tr>\n",
       "    <tr>\n",
       "      <th>1</th>\n",
       "      <td>2020-02-25</td>\n",
       "      <td>0.292000</td>\n",
       "      <td>0.596000</td>\n",
       "      <td>0.112000</td>\n",
       "      <td>-0.252800</td>\n",
       "      <td>0.000000</td>\n",
       "      <td>1.000000</td>\n",
       "      <td>0.000000</td>\n",
       "      <td>0.000000</td>\n",
       "      <td>0.000000</td>\n",
       "      <td>2020-02-25 00:00:00</td>\n",
       "      <td>890.000000</td>\n",
       "      <td>891.909973</td>\n",
       "      <td>851.440002</td>\n",
       "      <td>856.010010</td>\n",
       "      <td>856.010010</td>\n",
       "      <td>736100.0</td>\n",
       "      <td>-0.032757</td>\n",
       "      <td>-0.022912</td>\n",
       "    </tr>\n",
       "    <tr>\n",
       "      <th>2</th>\n",
       "      <td>2020-02-26</td>\n",
       "      <td>0.000000</td>\n",
       "      <td>0.974714</td>\n",
       "      <td>0.025286</td>\n",
       "      <td>0.060214</td>\n",
       "      <td>0.004429</td>\n",
       "      <td>0.970714</td>\n",
       "      <td>0.024857</td>\n",
       "      <td>0.099957</td>\n",
       "      <td>-1.000000</td>\n",
       "      <td>2020-02-26 00:00:00</td>\n",
       "      <td>855.380005</td>\n",
       "      <td>868.789978</td>\n",
       "      <td>842.520020</td>\n",
       "      <td>847.289978</td>\n",
       "      <td>847.289978</td>\n",
       "      <td>570900.0</td>\n",
       "      <td>-0.010187</td>\n",
       "      <td>-0.018549</td>\n",
       "    </tr>\n",
       "    <tr>\n",
       "      <th>3</th>\n",
       "      <td>2020-02-27</td>\n",
       "      <td>0.064778</td>\n",
       "      <td>0.785556</td>\n",
       "      <td>0.149667</td>\n",
       "      <td>0.159833</td>\n",
       "      <td>0.110333</td>\n",
       "      <td>0.786667</td>\n",
       "      <td>0.103000</td>\n",
       "      <td>0.089967</td>\n",
       "      <td>0.000000</td>\n",
       "      <td>2020-02-27 00:00:00</td>\n",
       "      <td>811.390015</td>\n",
       "      <td>815.729980</td>\n",
       "      <td>750.729980</td>\n",
       "      <td>755.549988</td>\n",
       "      <td>755.549988</td>\n",
       "      <td>1351500.0</td>\n",
       "      <td>-0.108275</td>\n",
       "      <td>-0.017160</td>\n",
       "    </tr>\n",
       "    <tr>\n",
       "      <th>4</th>\n",
       "      <td>2020-02-28</td>\n",
       "      <td>0.000000</td>\n",
       "      <td>0.769000</td>\n",
       "      <td>0.231000</td>\n",
       "      <td>0.202300</td>\n",
       "      <td>0.090000</td>\n",
       "      <td>0.774000</td>\n",
       "      <td>0.135000</td>\n",
       "      <td>0.177900</td>\n",
       "      <td>-1.000000</td>\n",
       "      <td>2020-02-28 00:00:00</td>\n",
       "      <td>734.500000</td>\n",
       "      <td>774.840027</td>\n",
       "      <td>702.950012</td>\n",
       "      <td>773.580017</td>\n",
       "      <td>773.580017</td>\n",
       "      <td>1505900.0</td>\n",
       "      <td>0.023863</td>\n",
       "      <td>-0.016568</td>\n",
       "    </tr>\n",
       "    <tr>\n",
       "      <th>5</th>\n",
       "      <td>2020-03-01</td>\n",
       "      <td>0.000000</td>\n",
       "      <td>0.783000</td>\n",
       "      <td>0.217000</td>\n",
       "      <td>0.361200</td>\n",
       "      <td>0.000000</td>\n",
       "      <td>0.858000</td>\n",
       "      <td>0.142000</td>\n",
       "      <td>0.648600</td>\n",
       "      <td>0.000000</td>\n",
       "      <td>0</td>\n",
       "      <td>0.000000</td>\n",
       "      <td>0.000000</td>\n",
       "      <td>0.000000</td>\n",
       "      <td>0.000000</td>\n",
       "      <td>0.000000</td>\n",
       "      <td>0.0</td>\n",
       "      <td>0.000000</td>\n",
       "      <td>-0.014353</td>\n",
       "    </tr>\n",
       "    <tr>\n",
       "      <th>6</th>\n",
       "      <td>2020-03-02</td>\n",
       "      <td>0.000000</td>\n",
       "      <td>0.903667</td>\n",
       "      <td>0.096333</td>\n",
       "      <td>0.180767</td>\n",
       "      <td>0.048667</td>\n",
       "      <td>0.884333</td>\n",
       "      <td>0.067000</td>\n",
       "      <td>0.039000</td>\n",
       "      <td>0.000000</td>\n",
       "      <td>2020-03-02 00:00:00</td>\n",
       "      <td>779.520020</td>\n",
       "      <td>781.570007</td>\n",
       "      <td>739.900024</td>\n",
       "      <td>768.809998</td>\n",
       "      <td>768.809998</td>\n",
       "      <td>869200.0</td>\n",
       "      <td>-0.006166</td>\n",
       "      <td>-0.016868</td>\n",
       "    </tr>\n",
       "    <tr>\n",
       "      <th>7</th>\n",
       "      <td>2020-03-03</td>\n",
       "      <td>0.000000</td>\n",
       "      <td>0.846000</td>\n",
       "      <td>0.154000</td>\n",
       "      <td>0.192529</td>\n",
       "      <td>0.031714</td>\n",
       "      <td>0.919143</td>\n",
       "      <td>0.049143</td>\n",
       "      <td>0.061129</td>\n",
       "      <td>0.000000</td>\n",
       "      <td>2020-03-03 00:00:00</td>\n",
       "      <td>768.020020</td>\n",
       "      <td>781.780029</td>\n",
       "      <td>723.260010</td>\n",
       "      <td>736.070007</td>\n",
       "      <td>736.070007</td>\n",
       "      <td>779100.0</td>\n",
       "      <td>-0.042585</td>\n",
       "      <td>-0.016704</td>\n",
       "    </tr>\n",
       "    <tr>\n",
       "      <th>8</th>\n",
       "      <td>2020-03-04</td>\n",
       "      <td>0.000000</td>\n",
       "      <td>0.905600</td>\n",
       "      <td>0.094400</td>\n",
       "      <td>0.170800</td>\n",
       "      <td>0.048500</td>\n",
       "      <td>0.892100</td>\n",
       "      <td>0.059500</td>\n",
       "      <td>0.085190</td>\n",
       "      <td>0.000000</td>\n",
       "      <td>2020-03-04 00:00:00</td>\n",
       "      <td>764.429993</td>\n",
       "      <td>772.739990</td>\n",
       "      <td>740.690002</td>\n",
       "      <td>769.760010</td>\n",
       "      <td>769.760010</td>\n",
       "      <td>772600.0</td>\n",
       "      <td>0.045770</td>\n",
       "      <td>-0.017007</td>\n",
       "    </tr>\n",
       "    <tr>\n",
       "      <th>9</th>\n",
       "      <td>2020-03-05</td>\n",
       "      <td>0.063600</td>\n",
       "      <td>0.882200</td>\n",
       "      <td>0.054200</td>\n",
       "      <td>0.045400</td>\n",
       "      <td>0.015200</td>\n",
       "      <td>0.799000</td>\n",
       "      <td>0.185800</td>\n",
       "      <td>0.634980</td>\n",
       "      <td>0.000000</td>\n",
       "      <td>2020-03-05 00:00:00</td>\n",
       "      <td>750.010010</td>\n",
       "      <td>755.500000</td>\n",
       "      <td>713.750000</td>\n",
       "      <td>727.549988</td>\n",
       "      <td>727.549988</td>\n",
       "      <td>843800.0</td>\n",
       "      <td>-0.054835</td>\n",
       "      <td>-0.018755</td>\n",
       "    </tr>\n",
       "    <tr>\n",
       "      <th>10</th>\n",
       "      <td>2020-03-06</td>\n",
       "      <td>0.033400</td>\n",
       "      <td>0.927550</td>\n",
       "      <td>0.039050</td>\n",
       "      <td>0.007455</td>\n",
       "      <td>0.027500</td>\n",
       "      <td>0.910550</td>\n",
       "      <td>0.062050</td>\n",
       "      <td>0.145365</td>\n",
       "      <td>-0.474843</td>\n",
       "      <td>2020-03-06 00:00:00</td>\n",
       "      <td>703.210022</td>\n",
       "      <td>729.599976</td>\n",
       "      <td>685.299988</td>\n",
       "      <td>723.080017</td>\n",
       "      <td>723.080017</td>\n",
       "      <td>840800.0</td>\n",
       "      <td>-0.006144</td>\n",
       "      <td>-0.019284</td>\n",
       "    </tr>\n",
       "    <tr>\n",
       "      <th>11</th>\n",
       "      <td>2020-03-07</td>\n",
       "      <td>0.000000</td>\n",
       "      <td>0.839000</td>\n",
       "      <td>0.161000</td>\n",
       "      <td>0.275500</td>\n",
       "      <td>0.103000</td>\n",
       "      <td>0.704000</td>\n",
       "      <td>0.192000</td>\n",
       "      <td>0.439100</td>\n",
       "      <td>-1.000000</td>\n",
       "      <td>0</td>\n",
       "      <td>0.000000</td>\n",
       "      <td>0.000000</td>\n",
       "      <td>0.000000</td>\n",
       "      <td>0.000000</td>\n",
       "      <td>0.000000</td>\n",
       "      <td>0.0</td>\n",
       "      <td>0.000000</td>\n",
       "      <td>-0.015548</td>\n",
       "    </tr>\n",
       "    <tr>\n",
       "      <th>12</th>\n",
       "      <td>2020-03-08</td>\n",
       "      <td>0.000000</td>\n",
       "      <td>1.000000</td>\n",
       "      <td>0.000000</td>\n",
       "      <td>0.000000</td>\n",
       "      <td>0.000000</td>\n",
       "      <td>0.909000</td>\n",
       "      <td>0.091000</td>\n",
       "      <td>0.296000</td>\n",
       "      <td>0.000000</td>\n",
       "      <td>0</td>\n",
       "      <td>0.000000</td>\n",
       "      <td>0.000000</td>\n",
       "      <td>0.000000</td>\n",
       "      <td>0.000000</td>\n",
       "      <td>0.000000</td>\n",
       "      <td>0.0</td>\n",
       "      <td>0.000000</td>\n",
       "      <td>-0.019388</td>\n",
       "    </tr>\n",
       "    <tr>\n",
       "      <th>13</th>\n",
       "      <td>2020-03-09</td>\n",
       "      <td>0.000000</td>\n",
       "      <td>0.847600</td>\n",
       "      <td>0.152400</td>\n",
       "      <td>0.260500</td>\n",
       "      <td>0.027000</td>\n",
       "      <td>0.741600</td>\n",
       "      <td>0.231400</td>\n",
       "      <td>0.341300</td>\n",
       "      <td>0.000000</td>\n",
       "      <td>2020-03-09 00:00:00</td>\n",
       "      <td>667.000000</td>\n",
       "      <td>689.979980</td>\n",
       "      <td>650.929993</td>\n",
       "      <td>657.859985</td>\n",
       "      <td>657.859985</td>\n",
       "      <td>1026400.0</td>\n",
       "      <td>-0.090198</td>\n",
       "      <td>-0.015757</td>\n",
       "    </tr>\n",
       "    <tr>\n",
       "      <th>14</th>\n",
       "      <td>2020-03-10</td>\n",
       "      <td>0.078250</td>\n",
       "      <td>0.880250</td>\n",
       "      <td>0.041500</td>\n",
       "      <td>-0.051475</td>\n",
       "      <td>0.087750</td>\n",
       "      <td>0.865500</td>\n",
       "      <td>0.046750</td>\n",
       "      <td>-0.142250</td>\n",
       "      <td>0.000000</td>\n",
       "      <td>2020-03-10 00:00:00</td>\n",
       "      <td>689.000000</td>\n",
       "      <td>704.989990</td>\n",
       "      <td>661.650024</td>\n",
       "      <td>701.210022</td>\n",
       "      <td>701.210022</td>\n",
       "      <td>909700.0</td>\n",
       "      <td>0.065896</td>\n",
       "      <td>-0.020106</td>\n",
       "    </tr>\n",
       "  </tbody>\n",
       "</table>\n",
       "</div>"
      ],
      "text/plain": [
       "   publishedAt     t_neg     t_neu     t_pos  t_compound     d_neg     d_neu  \\\n",
       "0   2020-02-24  0.000000  1.000000  0.000000    0.000000  0.000000  1.000000   \n",
       "1   2020-02-25  0.292000  0.596000  0.112000   -0.252800  0.000000  1.000000   \n",
       "2   2020-02-26  0.000000  0.974714  0.025286    0.060214  0.004429  0.970714   \n",
       "3   2020-02-27  0.064778  0.785556  0.149667    0.159833  0.110333  0.786667   \n",
       "4   2020-02-28  0.000000  0.769000  0.231000    0.202300  0.090000  0.774000   \n",
       "5   2020-03-01  0.000000  0.783000  0.217000    0.361200  0.000000  0.858000   \n",
       "6   2020-03-02  0.000000  0.903667  0.096333    0.180767  0.048667  0.884333   \n",
       "7   2020-03-03  0.000000  0.846000  0.154000    0.192529  0.031714  0.919143   \n",
       "8   2020-03-04  0.000000  0.905600  0.094400    0.170800  0.048500  0.892100   \n",
       "9   2020-03-05  0.063600  0.882200  0.054200    0.045400  0.015200  0.799000   \n",
       "10  2020-03-06  0.033400  0.927550  0.039050    0.007455  0.027500  0.910550   \n",
       "11  2020-03-07  0.000000  0.839000  0.161000    0.275500  0.103000  0.704000   \n",
       "12  2020-03-08  0.000000  1.000000  0.000000    0.000000  0.000000  0.909000   \n",
       "13  2020-03-09  0.000000  0.847600  0.152400    0.260500  0.027000  0.741600   \n",
       "14  2020-03-10  0.078250  0.880250  0.041500   -0.051475  0.087750  0.865500   \n",
       "\n",
       "       d_pos  d_compound  t_neg_pc                 Date        Open  \\\n",
       "0   0.000000    0.000000  0.000000  2020-02-24 00:00:00  897.419983   \n",
       "1   0.000000    0.000000  0.000000  2020-02-25 00:00:00  890.000000   \n",
       "2   0.024857    0.099957 -1.000000  2020-02-26 00:00:00  855.380005   \n",
       "3   0.103000    0.089967  0.000000  2020-02-27 00:00:00  811.390015   \n",
       "4   0.135000    0.177900 -1.000000  2020-02-28 00:00:00  734.500000   \n",
       "5   0.142000    0.648600  0.000000                    0    0.000000   \n",
       "6   0.067000    0.039000  0.000000  2020-03-02 00:00:00  779.520020   \n",
       "7   0.049143    0.061129  0.000000  2020-03-03 00:00:00  768.020020   \n",
       "8   0.059500    0.085190  0.000000  2020-03-04 00:00:00  764.429993   \n",
       "9   0.185800    0.634980  0.000000  2020-03-05 00:00:00  750.010010   \n",
       "10  0.062050    0.145365 -0.474843  2020-03-06 00:00:00  703.210022   \n",
       "11  0.192000    0.439100 -1.000000                    0    0.000000   \n",
       "12  0.091000    0.296000  0.000000                    0    0.000000   \n",
       "13  0.231400    0.341300  0.000000  2020-03-09 00:00:00  667.000000   \n",
       "14  0.046750   -0.142250  0.000000  2020-03-10 00:00:00  689.000000   \n",
       "\n",
       "          High         Low       Close   Adj Close     Volume  Adj Close PC  \\\n",
       "0   900.049988  883.929993  885.000000  885.000000   662300.0      0.000000   \n",
       "1   891.909973  851.440002  856.010010  856.010010   736100.0     -0.032757   \n",
       "2   868.789978  842.520020  847.289978  847.289978   570900.0     -0.010187   \n",
       "3   815.729980  750.729980  755.549988  755.549988  1351500.0     -0.108275   \n",
       "4   774.840027  702.950012  773.580017  773.580017  1505900.0      0.023863   \n",
       "5     0.000000    0.000000    0.000000    0.000000        0.0      0.000000   \n",
       "6   781.570007  739.900024  768.809998  768.809998   869200.0     -0.006166   \n",
       "7   781.780029  723.260010  736.070007  736.070007   779100.0     -0.042585   \n",
       "8   772.739990  740.690002  769.760010  769.760010   772600.0      0.045770   \n",
       "9   755.500000  713.750000  727.549988  727.549988   843800.0     -0.054835   \n",
       "10  729.599976  685.299988  723.080017  723.080017   840800.0     -0.006144   \n",
       "11    0.000000    0.000000    0.000000    0.000000        0.0      0.000000   \n",
       "12    0.000000    0.000000    0.000000    0.000000        0.0      0.000000   \n",
       "13  689.979980  650.929993  657.859985  657.859985  1026400.0     -0.090198   \n",
       "14  704.989990  661.650024  701.210022  701.210022   909700.0      0.065896   \n",
       "\n",
       "    linear_fit  \n",
       "0    -0.019388  \n",
       "1    -0.022912  \n",
       "2    -0.018549  \n",
       "3    -0.017160  \n",
       "4    -0.016568  \n",
       "5    -0.014353  \n",
       "6    -0.016868  \n",
       "7    -0.016704  \n",
       "8    -0.017007  \n",
       "9    -0.018755  \n",
       "10   -0.019284  \n",
       "11   -0.015548  \n",
       "12   -0.019388  \n",
       "13   -0.015757  \n",
       "14   -0.020106  "
      ]
     },
     "execution_count": 231,
     "metadata": {},
     "output_type": "execute_result"
    }
   ],
   "source": [
    "price_score_df.head(15)"
   ]
  },
  {
   "cell_type": "code",
   "execution_count": 232,
   "metadata": {},
   "outputs": [],
   "source": [
    "#how today's news impact the next day's trading value?"
   ]
  }
 ],
 "metadata": {
  "kernelspec": {
   "display_name": "Python 3",
   "language": "python",
   "name": "python3"
  },
  "language_info": {
   "codemirror_mode": {
    "name": "ipython",
    "version": 3
   },
   "file_extension": ".py",
   "mimetype": "text/x-python",
   "name": "python",
   "nbconvert_exporter": "python",
   "pygments_lexer": "ipython3",
   "version": "3.7.6"
  }
 },
 "nbformat": 4,
 "nbformat_minor": 4
}
