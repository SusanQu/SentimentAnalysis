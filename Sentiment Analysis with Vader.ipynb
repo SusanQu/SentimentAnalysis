{
 "cells": [
  {
   "cell_type": "markdown",
   "metadata": {},
   "source": [
    "**import libraries**"
   ]
  },
  {
   "cell_type": "code",
   "execution_count": 19,
   "metadata": {},
   "outputs": [],
   "source": [
    "import pandas as pd\n",
    "from operator import itemgetter\n",
    "from vaderSentiment.vaderSentiment import SentimentIntensityAnalyzer\n",
    "import requests\n",
    "import plotly.graph_objects as go"
   ]
  },
  {
   "cell_type": "markdown",
   "metadata": {},
   "source": [
    "**Try out Vader Sentiment Analyzer**"
   ]
  },
  {
   "cell_type": "code",
   "execution_count": 2,
   "metadata": {},
   "outputs": [],
   "source": [
    "#call analyser object\n",
    "analyser = SentimentIntensityAnalyzer()"
   ]
  },
  {
   "cell_type": "code",
   "execution_count": 3,
   "metadata": {},
   "outputs": [],
   "source": [
    "def sentiment_analyzer_scores(sentence):\n",
    "    score = analyser.polarity_scores(sentence)\n",
    "    return score"
   ]
  },
  {
   "cell_type": "code",
   "execution_count": 4,
   "metadata": {},
   "outputs": [
    {
     "data": {
      "text/plain": [
       "{'neg': 0.0, 'neu': 0.678, 'pos': 0.322, 'compound': 0.2263}"
      ]
     },
     "execution_count": 4,
     "metadata": {},
     "output_type": "execute_result"
    }
   ],
   "source": [
    "sentiment_analyzer_scores(\"Today is an okay day.\")"
   ]
  },
  {
   "cell_type": "code",
   "execution_count": 5,
   "metadata": {},
   "outputs": [
    {
     "data": {
      "text/plain": [
       "{'neg': 0.0, 'neu': 0.494, 'pos': 0.506, 'compound': 0.6239}"
      ]
     },
     "execution_count": 5,
     "metadata": {},
     "output_type": "execute_result"
    }
   ],
   "source": [
    "sentiment_analyzer_scores(\"Today is an amazing day!\")"
   ]
  },
  {
   "cell_type": "code",
   "execution_count": 6,
   "metadata": {},
   "outputs": [
    {
     "data": {
      "text/plain": [
       "{'neg': 0.0, 'neu': 0.803, 'pos': 0.197, 'compound': 0.4003}"
      ]
     },
     "execution_count": 6,
     "metadata": {},
     "output_type": "execute_result"
    }
   ],
   "source": [
    "sentiment_analyzer_scores(\"Today is an amazing day! Vader is working but it took a while\")"
   ]
  },
  {
   "cell_type": "code",
   "execution_count": 7,
   "metadata": {},
   "outputs": [
    {
     "data": {
      "text/plain": [
       "{'neg': 0.523, 'neu': 0.477, 'pos': 0.0, 'compound': -0.5095}"
      ]
     },
     "execution_count": 7,
     "metadata": {},
     "output_type": "execute_result"
    }
   ],
   "source": [
    "sentiment_analyzer_scores(\"Today kind of sucked.\")"
   ]
  },
  {
   "cell_type": "markdown",
   "metadata": {},
   "source": [
    "**Pull in Live News Data from News API**"
   ]
  },
  {
   "cell_type": "code",
   "execution_count": 8,
   "metadata": {
    "scrolled": true
   },
   "outputs": [
    {
     "name": "stdout",
     "output_type": "stream",
     "text": [
      "api key: 798c7707bbe8404199296c0521a99f61\n"
     ]
    }
   ],
   "source": [
    "url = ('http://newsapi.org/v2/everything?'\n",
    "       'q=Apple&'\n",
    "       'from=2020-03-03&'\n",
    "       'sortBy=popularity&'\n",
    "       'apiKey=' + input('api key: '))\n",
    "\n",
    "response = requests.get(url)"
   ]
  },
  {
   "cell_type": "markdown",
   "metadata": {},
   "source": [
    "**Perform Analysis on the News Title**"
   ]
  },
  {
   "cell_type": "code",
   "execution_count": 58,
   "metadata": {},
   "outputs": [
    {
     "data": {
      "text/html": [
       "<div>\n",
       "<style scoped>\n",
       "    .dataframe tbody tr th:only-of-type {\n",
       "        vertical-align: middle;\n",
       "    }\n",
       "\n",
       "    .dataframe tbody tr th {\n",
       "        vertical-align: top;\n",
       "    }\n",
       "\n",
       "    .dataframe thead th {\n",
       "        text-align: right;\n",
       "    }\n",
       "</style>\n",
       "<table border=\"1\" class=\"dataframe\">\n",
       "  <thead>\n",
       "    <tr style=\"text-align: right;\">\n",
       "      <th></th>\n",
       "      <th>source</th>\n",
       "      <th>author</th>\n",
       "      <th>title</th>\n",
       "      <th>description</th>\n",
       "      <th>url</th>\n",
       "      <th>urlToImage</th>\n",
       "      <th>publishedAt</th>\n",
       "      <th>content</th>\n",
       "      <th>title_score</th>\n",
       "    </tr>\n",
       "  </thead>\n",
       "  <tbody>\n",
       "    <tr>\n",
       "      <th>0</th>\n",
       "      <td>{'id': None, 'name': 'Lifehacker.com'}</td>\n",
       "      <td>Brendan Hesse</td>\n",
       "      <td>Buy a Refurbished 2017 or 2018 MacBook Pro for...</td>\n",
       "      <td>There’s an incredible deal on refurbished 2017...</td>\n",
       "      <td>https://lifehacker.com/buy-a-refurbished-2017-...</td>\n",
       "      <td>https://i.kinja-img.com/gawker-media/image/upl...</td>\n",
       "      <td>2020-03-04T18:45:00Z</td>\n",
       "      <td>Theres an incredible deal on refurbished 2017 ...</td>\n",
       "      <td>{'neg': 0.0, 'neu': 1.0, 'pos': 0.0, 'compound...</td>\n",
       "    </tr>\n",
       "    <tr>\n",
       "      <th>1</th>\n",
       "      <td>{'id': None, 'name': 'Lifehacker.com'}</td>\n",
       "      <td>Micaela Heck</td>\n",
       "      <td>How to Stop Procrastinating, With Behavior Sci...</td>\n",
       "      <td>Do you put things off ‘til the last minute? Ar...</td>\n",
       "      <td>https://lifehacker.com/how-to-stop-procrastina...</td>\n",
       "      <td>https://i.kinja-img.com/gawker-media/image/upl...</td>\n",
       "      <td>2020-03-03T14:30:00Z</td>\n",
       "      <td>Do you put things off til the last minute? Are...</td>\n",
       "      <td>{'neg': 0.216, 'neu': 0.784, 'pos': 0.0, 'comp...</td>\n",
       "    </tr>\n",
       "    <tr>\n",
       "      <th>2</th>\n",
       "      <td>{'id': 'engadget', 'name': 'Engadget'}</td>\n",
       "      <td>Richard Lawler</td>\n",
       "      <td>The Morning After: NASA is taking applications...</td>\n",
       "      <td>Hey, good morning! You look fabulous. SXSW 202...</td>\n",
       "      <td>https://www.engadget.com/2020/03/03/nasa-is-hi...</td>\n",
       "      <td>https://o.aolcdn.com/images/dims?thumbnail=120...</td>\n",
       "      <td>2020-03-03T12:45:00Z</td>\n",
       "      <td>What will you do with $25?Apple will pay up to...</td>\n",
       "      <td>{'neg': 0.0, 'neu': 1.0, 'pos': 0.0, 'compound...</td>\n",
       "    </tr>\n",
       "    <tr>\n",
       "      <th>3</th>\n",
       "      <td>{'id': 'engadget', 'name': 'Engadget'}</td>\n",
       "      <td>Engadget</td>\n",
       "      <td>The Morning After: Amazon's accelerated one-da...</td>\n",
       "      <td>Hey, good morning! You look fabulous. Amazon i...</td>\n",
       "      <td>https://www.engadget.com/2020/03/04/amazon-one...</td>\n",
       "      <td>https://o.aolcdn.com/images/dims?thumbnail=120...</td>\n",
       "      <td>2020-03-04T12:30:00Z</td>\n",
       "      <td>Goodbye doesn't mean forever.The gadgets that ...</td>\n",
       "      <td>{'neg': 0.0, 'neu': 1.0, 'pos': 0.0, 'compound...</td>\n",
       "    </tr>\n",
       "    <tr>\n",
       "      <th>4</th>\n",
       "      <td>{'id': 'engadget', 'name': 'Engadget'}</td>\n",
       "      <td>Igor Bonifacic</td>\n",
       "      <td>Amazon has a rare sale on official iPhone cases</td>\n",
       "      <td>Apple's first-party iPhone cases tend to cost ...</td>\n",
       "      <td>https://www.engadget.com/2020/03/03/amazon-iph...</td>\n",
       "      <td>https://o.aolcdn.com/images/dims?thumbnail=120...</td>\n",
       "      <td>2020-03-03T18:39:00Z</td>\n",
       "      <td>iPhone 11\\r\\nWhen it comes to the iPhone 11, t...</td>\n",
       "      <td>{'neg': 0.0, 'neu': 0.805, 'pos': 0.195, 'comp...</td>\n",
       "    </tr>\n",
       "  </tbody>\n",
       "</table>\n",
       "</div>"
      ],
      "text/plain": [
       "                                   source          author  \\\n",
       "0  {'id': None, 'name': 'Lifehacker.com'}   Brendan Hesse   \n",
       "1  {'id': None, 'name': 'Lifehacker.com'}    Micaela Heck   \n",
       "2  {'id': 'engadget', 'name': 'Engadget'}  Richard Lawler   \n",
       "3  {'id': 'engadget', 'name': 'Engadget'}        Engadget   \n",
       "4  {'id': 'engadget', 'name': 'Engadget'}  Igor Bonifacic   \n",
       "\n",
       "                                               title  \\\n",
       "0  Buy a Refurbished 2017 or 2018 MacBook Pro for...   \n",
       "1  How to Stop Procrastinating, With Behavior Sci...   \n",
       "2  The Morning After: NASA is taking applications...   \n",
       "3  The Morning After: Amazon's accelerated one-da...   \n",
       "4    Amazon has a rare sale on official iPhone cases   \n",
       "\n",
       "                                         description  \\\n",
       "0  There’s an incredible deal on refurbished 2017...   \n",
       "1  Do you put things off ‘til the last minute? Ar...   \n",
       "2  Hey, good morning! You look fabulous. SXSW 202...   \n",
       "3  Hey, good morning! You look fabulous. Amazon i...   \n",
       "4  Apple's first-party iPhone cases tend to cost ...   \n",
       "\n",
       "                                                 url  \\\n",
       "0  https://lifehacker.com/buy-a-refurbished-2017-...   \n",
       "1  https://lifehacker.com/how-to-stop-procrastina...   \n",
       "2  https://www.engadget.com/2020/03/03/nasa-is-hi...   \n",
       "3  https://www.engadget.com/2020/03/04/amazon-one...   \n",
       "4  https://www.engadget.com/2020/03/03/amazon-iph...   \n",
       "\n",
       "                                          urlToImage           publishedAt  \\\n",
       "0  https://i.kinja-img.com/gawker-media/image/upl...  2020-03-04T18:45:00Z   \n",
       "1  https://i.kinja-img.com/gawker-media/image/upl...  2020-03-03T14:30:00Z   \n",
       "2  https://o.aolcdn.com/images/dims?thumbnail=120...  2020-03-03T12:45:00Z   \n",
       "3  https://o.aolcdn.com/images/dims?thumbnail=120...  2020-03-04T12:30:00Z   \n",
       "4  https://o.aolcdn.com/images/dims?thumbnail=120...  2020-03-03T18:39:00Z   \n",
       "\n",
       "                                             content  \\\n",
       "0  Theres an incredible deal on refurbished 2017 ...   \n",
       "1  Do you put things off til the last minute? Are...   \n",
       "2  What will you do with $25?Apple will pay up to...   \n",
       "3  Goodbye doesn't mean forever.The gadgets that ...   \n",
       "4  iPhone 11\\r\\nWhen it comes to the iPhone 11, t...   \n",
       "\n",
       "                                         title_score  \n",
       "0  {'neg': 0.0, 'neu': 1.0, 'pos': 0.0, 'compound...  \n",
       "1  {'neg': 0.216, 'neu': 0.784, 'pos': 0.0, 'comp...  \n",
       "2  {'neg': 0.0, 'neu': 1.0, 'pos': 0.0, 'compound...  \n",
       "3  {'neg': 0.0, 'neu': 1.0, 'pos': 0.0, 'compound...  \n",
       "4  {'neg': 0.0, 'neu': 0.805, 'pos': 0.195, 'comp...  "
      ]
     },
     "execution_count": 58,
     "metadata": {},
     "output_type": "execute_result"
    }
   ],
   "source": [
    "news = response.json().get('articles')\n",
    "\n",
    "#add title score:\n",
    "for item in news:\n",
    "    item.update({'title_score': sentiment_analyzer_scores(item['title'])})\n",
    "\n",
    "news_df = pd.DataFrame(news)\n",
    "news_df.head()"
   ]
  },
  {
   "cell_type": "code",
   "execution_count": 17,
   "metadata": {},
   "outputs": [],
   "source": [
    "#other ways to add title score object to news\n",
    "\n",
    "\n",
    "#add title score way 2 -----------------------:\n",
    "\n",
    "# def add_title_scoore():\n",
    "#     for item in news:\n",
    "#         score = {'title_score' : sentiment_analyzer_scores(item['title'])}\n",
    "#     return news\n",
    "# add_title_scoore()\n",
    "\n",
    "\n",
    "#add title score way 3 -----------------------:\n",
    "\n",
    "# result = [dict(item, scoreeeeeeeeeeeeeee=sentiment_analyzer_scores(item['title'])) for item in news]\n",
    "# print(result)\n",
    "\n",
    "\n",
    "#this works append static object -------------:\n",
    "\n",
    "# for item in news:\n",
    "#     item.update({'scooooooooooooooooore': 'baaaaaaaaaaaaaaaaaad'})\n",
    "# print(news)"
   ]
  },
  {
   "cell_type": "markdown",
   "metadata": {},
   "source": [
    "**Plot Title Sentiment Score**"
   ]
  },
  {
   "cell_type": "code",
   "execution_count": 59,
   "metadata": {},
   "outputs": [
    {
     "data": {
      "application/vnd.plotly.v1+json": {
       "config": {
        "plotlyServerURL": "https://plot.ly"
       },
       "data": [
        {
         "name": "Negative",
         "type": "bar",
         "x": [
          "Buy a Refurbished 2017 or 2018 MacBook Pro for $610 Today",
          "How to Stop Procrastinating, With Behavior Scientist BJ Fogg",
          "The Morning After: NASA is taking applications for new astronauts",
          "The Morning After: Amazon's accelerated one-day shipping",
          "Amazon has a rare sale on official iPhone cases",
          "The gadgets that refuse to die",
          "A 'Netflix for the 99 Percent' Enters the Streaming Wars",
          "How to Clean Your Smartphone and Keyboard the Right Way",
          "Oppo’s new smartwatch looks just like the Apple Watch",
          "Foxconn expects to resume normal production by end of March",
          "Apple is planning to launch a 14.1-inch MacBook Pro with a Mini-LED display, says Ming-Chi Kuo",
          "Big tech’s coronavirus responses are getting serious",
          "What Facebook could learn from Microsoft",
          "Apple Stores to host over 5,000 female-focused sessions in March for International Women’s Day",
          "Hulu with Live TV belatedly arrives on PlayStation 4",
          "Equity Shot: What’s Elliott Management and why is it coming after Twitter and SoftBank?",
          "Resso, Bytedance’s music streaming app, officially launches in India, sans Tencent-backed Universal Music",
          "Stocks fall despite Fed intervention, dragging tech shares down once again",
          "Cool, Here's Another New Smartwatch That Looks Like an Apple Watch",
          "Apple May Be Supersizing Its Smallest MacBook Pro and Adding Mini-LEDs"
         ],
         "y": [
          0,
          0.216,
          0,
          0,
          0,
          0.604,
          0.31,
          0,
          0,
          0,
          0,
          0.178,
          0,
          0,
          0,
          0,
          0,
          0,
          0,
          0
         ]
        },
        {
         "name": "Neutral",
         "type": "bar",
         "x": [
          "Buy a Refurbished 2017 or 2018 MacBook Pro for $610 Today",
          "How to Stop Procrastinating, With Behavior Scientist BJ Fogg",
          "The Morning After: NASA is taking applications for new astronauts",
          "The Morning After: Amazon's accelerated one-day shipping",
          "Amazon has a rare sale on official iPhone cases",
          "The gadgets that refuse to die",
          "A 'Netflix for the 99 Percent' Enters the Streaming Wars",
          "How to Clean Your Smartphone and Keyboard the Right Way",
          "Oppo’s new smartwatch looks just like the Apple Watch",
          "Foxconn expects to resume normal production by end of March",
          "Apple is planning to launch a 14.1-inch MacBook Pro with a Mini-LED display, says Ming-Chi Kuo",
          "Big tech’s coronavirus responses are getting serious",
          "What Facebook could learn from Microsoft",
          "Apple Stores to host over 5,000 female-focused sessions in March for International Women’s Day",
          "Hulu with Live TV belatedly arrives on PlayStation 4",
          "Equity Shot: What’s Elliott Management and why is it coming after Twitter and SoftBank?",
          "Resso, Bytedance’s music streaming app, officially launches in India, sans Tencent-backed Universal Music",
          "Stocks fall despite Fed intervention, dragging tech shares down once again",
          "Cool, Here's Another New Smartwatch That Looks Like an Apple Watch",
          "Apple May Be Supersizing Its Smallest MacBook Pro and Adding Mini-LEDs"
         ],
         "y": [
          1,
          0.784,
          1,
          1,
          0.805,
          0.396,
          0.69,
          0.769,
          0.762,
          1,
          1,
          0.822,
          1,
          1,
          1,
          1,
          1,
          0.82,
          0.652,
          1
         ]
        },
        {
         "name": "Positive",
         "type": "bar",
         "x": [
          "Buy a Refurbished 2017 or 2018 MacBook Pro for $610 Today",
          "How to Stop Procrastinating, With Behavior Scientist BJ Fogg",
          "The Morning After: NASA is taking applications for new astronauts",
          "The Morning After: Amazon's accelerated one-day shipping",
          "Amazon has a rare sale on official iPhone cases",
          "The gadgets that refuse to die",
          "A 'Netflix for the 99 Percent' Enters the Streaming Wars",
          "How to Clean Your Smartphone and Keyboard the Right Way",
          "Oppo’s new smartwatch looks just like the Apple Watch",
          "Foxconn expects to resume normal production by end of March",
          "Apple is planning to launch a 14.1-inch MacBook Pro with a Mini-LED display, says Ming-Chi Kuo",
          "Big tech’s coronavirus responses are getting serious",
          "What Facebook could learn from Microsoft",
          "Apple Stores to host over 5,000 female-focused sessions in March for International Women’s Day",
          "Hulu with Live TV belatedly arrives on PlayStation 4",
          "Equity Shot: What’s Elliott Management and why is it coming after Twitter and SoftBank?",
          "Resso, Bytedance’s music streaming app, officially launches in India, sans Tencent-backed Universal Music",
          "Stocks fall despite Fed intervention, dragging tech shares down once again",
          "Cool, Here's Another New Smartwatch That Looks Like an Apple Watch",
          "Apple May Be Supersizing Its Smallest MacBook Pro and Adding Mini-LEDs"
         ],
         "y": [
          0,
          0,
          0,
          0,
          0.195,
          0,
          0,
          0.231,
          0.238,
          0,
          0,
          0,
          0,
          0,
          0,
          0,
          0,
          0.18,
          0.348,
          0
         ]
        },
        {
         "name": "Compound",
         "type": "bar",
         "x": [
          "Buy a Refurbished 2017 or 2018 MacBook Pro for $610 Today",
          "How to Stop Procrastinating, With Behavior Scientist BJ Fogg",
          "The Morning After: NASA is taking applications for new astronauts",
          "The Morning After: Amazon's accelerated one-day shipping",
          "Amazon has a rare sale on official iPhone cases",
          "The gadgets that refuse to die",
          "A 'Netflix for the 99 Percent' Enters the Streaming Wars",
          "How to Clean Your Smartphone and Keyboard the Right Way",
          "Oppo’s new smartwatch looks just like the Apple Watch",
          "Foxconn expects to resume normal production by end of March",
          "Apple is planning to launch a 14.1-inch MacBook Pro with a Mini-LED display, says Ming-Chi Kuo",
          "Big tech’s coronavirus responses are getting serious",
          "What Facebook could learn from Microsoft",
          "Apple Stores to host over 5,000 female-focused sessions in March for International Women’s Day",
          "Hulu with Live TV belatedly arrives on PlayStation 4",
          "Equity Shot: What’s Elliott Management and why is it coming after Twitter and SoftBank?",
          "Resso, Bytedance’s music streaming app, officially launches in India, sans Tencent-backed Universal Music",
          "Stocks fall despite Fed intervention, dragging tech shares down once again",
          "Cool, Here's Another New Smartwatch That Looks Like an Apple Watch",
          "Apple May Be Supersizing Its Smallest MacBook Pro and Adding Mini-LEDs"
         ],
         "y": [
          0,
          -0.296,
          0,
          0,
          0.1779,
          -0.7269,
          -0.5574,
          0.4019,
          0.3612,
          0,
          0,
          -0.0772,
          0,
          0,
          0,
          0,
          0,
          0.296,
          0.5859,
          0
         ]
        }
       ],
       "layout": {
        "barmode": "stack",
        "template": {
         "data": {
          "bar": [
           {
            "error_x": {
             "color": "#2a3f5f"
            },
            "error_y": {
             "color": "#2a3f5f"
            },
            "marker": {
             "line": {
              "color": "#E5ECF6",
              "width": 0.5
             }
            },
            "type": "bar"
           }
          ],
          "barpolar": [
           {
            "marker": {
             "line": {
              "color": "#E5ECF6",
              "width": 0.5
             }
            },
            "type": "barpolar"
           }
          ],
          "carpet": [
           {
            "aaxis": {
             "endlinecolor": "#2a3f5f",
             "gridcolor": "white",
             "linecolor": "white",
             "minorgridcolor": "white",
             "startlinecolor": "#2a3f5f"
            },
            "baxis": {
             "endlinecolor": "#2a3f5f",
             "gridcolor": "white",
             "linecolor": "white",
             "minorgridcolor": "white",
             "startlinecolor": "#2a3f5f"
            },
            "type": "carpet"
           }
          ],
          "choropleth": [
           {
            "colorbar": {
             "outlinewidth": 0,
             "ticks": ""
            },
            "type": "choropleth"
           }
          ],
          "contour": [
           {
            "colorbar": {
             "outlinewidth": 0,
             "ticks": ""
            },
            "colorscale": [
             [
              0,
              "#0d0887"
             ],
             [
              0.1111111111111111,
              "#46039f"
             ],
             [
              0.2222222222222222,
              "#7201a8"
             ],
             [
              0.3333333333333333,
              "#9c179e"
             ],
             [
              0.4444444444444444,
              "#bd3786"
             ],
             [
              0.5555555555555556,
              "#d8576b"
             ],
             [
              0.6666666666666666,
              "#ed7953"
             ],
             [
              0.7777777777777778,
              "#fb9f3a"
             ],
             [
              0.8888888888888888,
              "#fdca26"
             ],
             [
              1,
              "#f0f921"
             ]
            ],
            "type": "contour"
           }
          ],
          "contourcarpet": [
           {
            "colorbar": {
             "outlinewidth": 0,
             "ticks": ""
            },
            "type": "contourcarpet"
           }
          ],
          "heatmap": [
           {
            "colorbar": {
             "outlinewidth": 0,
             "ticks": ""
            },
            "colorscale": [
             [
              0,
              "#0d0887"
             ],
             [
              0.1111111111111111,
              "#46039f"
             ],
             [
              0.2222222222222222,
              "#7201a8"
             ],
             [
              0.3333333333333333,
              "#9c179e"
             ],
             [
              0.4444444444444444,
              "#bd3786"
             ],
             [
              0.5555555555555556,
              "#d8576b"
             ],
             [
              0.6666666666666666,
              "#ed7953"
             ],
             [
              0.7777777777777778,
              "#fb9f3a"
             ],
             [
              0.8888888888888888,
              "#fdca26"
             ],
             [
              1,
              "#f0f921"
             ]
            ],
            "type": "heatmap"
           }
          ],
          "heatmapgl": [
           {
            "colorbar": {
             "outlinewidth": 0,
             "ticks": ""
            },
            "colorscale": [
             [
              0,
              "#0d0887"
             ],
             [
              0.1111111111111111,
              "#46039f"
             ],
             [
              0.2222222222222222,
              "#7201a8"
             ],
             [
              0.3333333333333333,
              "#9c179e"
             ],
             [
              0.4444444444444444,
              "#bd3786"
             ],
             [
              0.5555555555555556,
              "#d8576b"
             ],
             [
              0.6666666666666666,
              "#ed7953"
             ],
             [
              0.7777777777777778,
              "#fb9f3a"
             ],
             [
              0.8888888888888888,
              "#fdca26"
             ],
             [
              1,
              "#f0f921"
             ]
            ],
            "type": "heatmapgl"
           }
          ],
          "histogram": [
           {
            "marker": {
             "colorbar": {
              "outlinewidth": 0,
              "ticks": ""
             }
            },
            "type": "histogram"
           }
          ],
          "histogram2d": [
           {
            "colorbar": {
             "outlinewidth": 0,
             "ticks": ""
            },
            "colorscale": [
             [
              0,
              "#0d0887"
             ],
             [
              0.1111111111111111,
              "#46039f"
             ],
             [
              0.2222222222222222,
              "#7201a8"
             ],
             [
              0.3333333333333333,
              "#9c179e"
             ],
             [
              0.4444444444444444,
              "#bd3786"
             ],
             [
              0.5555555555555556,
              "#d8576b"
             ],
             [
              0.6666666666666666,
              "#ed7953"
             ],
             [
              0.7777777777777778,
              "#fb9f3a"
             ],
             [
              0.8888888888888888,
              "#fdca26"
             ],
             [
              1,
              "#f0f921"
             ]
            ],
            "type": "histogram2d"
           }
          ],
          "histogram2dcontour": [
           {
            "colorbar": {
             "outlinewidth": 0,
             "ticks": ""
            },
            "colorscale": [
             [
              0,
              "#0d0887"
             ],
             [
              0.1111111111111111,
              "#46039f"
             ],
             [
              0.2222222222222222,
              "#7201a8"
             ],
             [
              0.3333333333333333,
              "#9c179e"
             ],
             [
              0.4444444444444444,
              "#bd3786"
             ],
             [
              0.5555555555555556,
              "#d8576b"
             ],
             [
              0.6666666666666666,
              "#ed7953"
             ],
             [
              0.7777777777777778,
              "#fb9f3a"
             ],
             [
              0.8888888888888888,
              "#fdca26"
             ],
             [
              1,
              "#f0f921"
             ]
            ],
            "type": "histogram2dcontour"
           }
          ],
          "mesh3d": [
           {
            "colorbar": {
             "outlinewidth": 0,
             "ticks": ""
            },
            "type": "mesh3d"
           }
          ],
          "parcoords": [
           {
            "line": {
             "colorbar": {
              "outlinewidth": 0,
              "ticks": ""
             }
            },
            "type": "parcoords"
           }
          ],
          "pie": [
           {
            "automargin": true,
            "type": "pie"
           }
          ],
          "scatter": [
           {
            "marker": {
             "colorbar": {
              "outlinewidth": 0,
              "ticks": ""
             }
            },
            "type": "scatter"
           }
          ],
          "scatter3d": [
           {
            "line": {
             "colorbar": {
              "outlinewidth": 0,
              "ticks": ""
             }
            },
            "marker": {
             "colorbar": {
              "outlinewidth": 0,
              "ticks": ""
             }
            },
            "type": "scatter3d"
           }
          ],
          "scattercarpet": [
           {
            "marker": {
             "colorbar": {
              "outlinewidth": 0,
              "ticks": ""
             }
            },
            "type": "scattercarpet"
           }
          ],
          "scattergeo": [
           {
            "marker": {
             "colorbar": {
              "outlinewidth": 0,
              "ticks": ""
             }
            },
            "type": "scattergeo"
           }
          ],
          "scattergl": [
           {
            "marker": {
             "colorbar": {
              "outlinewidth": 0,
              "ticks": ""
             }
            },
            "type": "scattergl"
           }
          ],
          "scattermapbox": [
           {
            "marker": {
             "colorbar": {
              "outlinewidth": 0,
              "ticks": ""
             }
            },
            "type": "scattermapbox"
           }
          ],
          "scatterpolar": [
           {
            "marker": {
             "colorbar": {
              "outlinewidth": 0,
              "ticks": ""
             }
            },
            "type": "scatterpolar"
           }
          ],
          "scatterpolargl": [
           {
            "marker": {
             "colorbar": {
              "outlinewidth": 0,
              "ticks": ""
             }
            },
            "type": "scatterpolargl"
           }
          ],
          "scatterternary": [
           {
            "marker": {
             "colorbar": {
              "outlinewidth": 0,
              "ticks": ""
             }
            },
            "type": "scatterternary"
           }
          ],
          "surface": [
           {
            "colorbar": {
             "outlinewidth": 0,
             "ticks": ""
            },
            "colorscale": [
             [
              0,
              "#0d0887"
             ],
             [
              0.1111111111111111,
              "#46039f"
             ],
             [
              0.2222222222222222,
              "#7201a8"
             ],
             [
              0.3333333333333333,
              "#9c179e"
             ],
             [
              0.4444444444444444,
              "#bd3786"
             ],
             [
              0.5555555555555556,
              "#d8576b"
             ],
             [
              0.6666666666666666,
              "#ed7953"
             ],
             [
              0.7777777777777778,
              "#fb9f3a"
             ],
             [
              0.8888888888888888,
              "#fdca26"
             ],
             [
              1,
              "#f0f921"
             ]
            ],
            "type": "surface"
           }
          ],
          "table": [
           {
            "cells": {
             "fill": {
              "color": "#EBF0F8"
             },
             "line": {
              "color": "white"
             }
            },
            "header": {
             "fill": {
              "color": "#C8D4E3"
             },
             "line": {
              "color": "white"
             }
            },
            "type": "table"
           }
          ]
         },
         "layout": {
          "annotationdefaults": {
           "arrowcolor": "#2a3f5f",
           "arrowhead": 0,
           "arrowwidth": 1
          },
          "coloraxis": {
           "colorbar": {
            "outlinewidth": 0,
            "ticks": ""
           }
          },
          "colorscale": {
           "diverging": [
            [
             0,
             "#8e0152"
            ],
            [
             0.1,
             "#c51b7d"
            ],
            [
             0.2,
             "#de77ae"
            ],
            [
             0.3,
             "#f1b6da"
            ],
            [
             0.4,
             "#fde0ef"
            ],
            [
             0.5,
             "#f7f7f7"
            ],
            [
             0.6,
             "#e6f5d0"
            ],
            [
             0.7,
             "#b8e186"
            ],
            [
             0.8,
             "#7fbc41"
            ],
            [
             0.9,
             "#4d9221"
            ],
            [
             1,
             "#276419"
            ]
           ],
           "sequential": [
            [
             0,
             "#0d0887"
            ],
            [
             0.1111111111111111,
             "#46039f"
            ],
            [
             0.2222222222222222,
             "#7201a8"
            ],
            [
             0.3333333333333333,
             "#9c179e"
            ],
            [
             0.4444444444444444,
             "#bd3786"
            ],
            [
             0.5555555555555556,
             "#d8576b"
            ],
            [
             0.6666666666666666,
             "#ed7953"
            ],
            [
             0.7777777777777778,
             "#fb9f3a"
            ],
            [
             0.8888888888888888,
             "#fdca26"
            ],
            [
             1,
             "#f0f921"
            ]
           ],
           "sequentialminus": [
            [
             0,
             "#0d0887"
            ],
            [
             0.1111111111111111,
             "#46039f"
            ],
            [
             0.2222222222222222,
             "#7201a8"
            ],
            [
             0.3333333333333333,
             "#9c179e"
            ],
            [
             0.4444444444444444,
             "#bd3786"
            ],
            [
             0.5555555555555556,
             "#d8576b"
            ],
            [
             0.6666666666666666,
             "#ed7953"
            ],
            [
             0.7777777777777778,
             "#fb9f3a"
            ],
            [
             0.8888888888888888,
             "#fdca26"
            ],
            [
             1,
             "#f0f921"
            ]
           ]
          },
          "colorway": [
           "#636efa",
           "#EF553B",
           "#00cc96",
           "#ab63fa",
           "#FFA15A",
           "#19d3f3",
           "#FF6692",
           "#B6E880",
           "#FF97FF",
           "#FECB52"
          ],
          "font": {
           "color": "#2a3f5f"
          },
          "geo": {
           "bgcolor": "white",
           "lakecolor": "white",
           "landcolor": "#E5ECF6",
           "showlakes": true,
           "showland": true,
           "subunitcolor": "white"
          },
          "hoverlabel": {
           "align": "left"
          },
          "hovermode": "closest",
          "mapbox": {
           "style": "light"
          },
          "paper_bgcolor": "white",
          "plot_bgcolor": "#E5ECF6",
          "polar": {
           "angularaxis": {
            "gridcolor": "white",
            "linecolor": "white",
            "ticks": ""
           },
           "bgcolor": "#E5ECF6",
           "radialaxis": {
            "gridcolor": "white",
            "linecolor": "white",
            "ticks": ""
           }
          },
          "scene": {
           "xaxis": {
            "backgroundcolor": "#E5ECF6",
            "gridcolor": "white",
            "gridwidth": 2,
            "linecolor": "white",
            "showbackground": true,
            "ticks": "",
            "zerolinecolor": "white"
           },
           "yaxis": {
            "backgroundcolor": "#E5ECF6",
            "gridcolor": "white",
            "gridwidth": 2,
            "linecolor": "white",
            "showbackground": true,
            "ticks": "",
            "zerolinecolor": "white"
           },
           "zaxis": {
            "backgroundcolor": "#E5ECF6",
            "gridcolor": "white",
            "gridwidth": 2,
            "linecolor": "white",
            "showbackground": true,
            "ticks": "",
            "zerolinecolor": "white"
           }
          },
          "shapedefaults": {
           "line": {
            "color": "#2a3f5f"
           }
          },
          "ternary": {
           "aaxis": {
            "gridcolor": "white",
            "linecolor": "white",
            "ticks": ""
           },
           "baxis": {
            "gridcolor": "white",
            "linecolor": "white",
            "ticks": ""
           },
           "bgcolor": "#E5ECF6",
           "caxis": {
            "gridcolor": "white",
            "linecolor": "white",
            "ticks": ""
           }
          },
          "title": {
           "x": 0.05
          },
          "xaxis": {
           "automargin": true,
           "gridcolor": "white",
           "linecolor": "white",
           "ticks": "",
           "title": {
            "standoff": 15
           },
           "zerolinecolor": "white",
           "zerolinewidth": 2
          },
          "yaxis": {
           "automargin": true,
           "gridcolor": "white",
           "linecolor": "white",
           "ticks": "",
           "title": {
            "standoff": 15
           },
           "zerolinecolor": "white",
           "zerolinewidth": 2
          }
         }
        }
       }
      },
      "text/html": [
       "<div>\n",
       "        \n",
       "        \n",
       "            <div id=\"a9a59356-8b8c-43ea-bf31-ec7e0808d12c\" class=\"plotly-graph-div\" style=\"height:525px; width:100%;\"></div>\n",
       "            <script type=\"text/javascript\">\n",
       "                require([\"plotly\"], function(Plotly) {\n",
       "                    window.PLOTLYENV=window.PLOTLYENV || {};\n",
       "                    \n",
       "                if (document.getElementById(\"a9a59356-8b8c-43ea-bf31-ec7e0808d12c\")) {\n",
       "                    Plotly.newPlot(\n",
       "                        'a9a59356-8b8c-43ea-bf31-ec7e0808d12c',\n",
       "                        [{\"name\": \"Negative\", \"type\": \"bar\", \"x\": [\"Buy a Refurbished 2017 or 2018 MacBook Pro for $610 Today\", \"How to Stop Procrastinating, With Behavior Scientist BJ Fogg\", \"The Morning After: NASA is taking applications for new astronauts\", \"The Morning After: Amazon's accelerated one-day shipping\", \"Amazon has a rare sale on official iPhone cases\", \"The gadgets that refuse to die\", \"A 'Netflix for the 99 Percent' Enters the Streaming Wars\", \"How to Clean Your Smartphone and Keyboard the Right Way\", \"Oppo\\u2019s new smartwatch looks just like the Apple Watch\", \"Foxconn expects to resume normal production by end of March\", \"Apple is planning to launch a 14.1-inch MacBook Pro with a Mini-LED display, says Ming-Chi Kuo\", \"Big tech\\u2019s coronavirus responses are getting serious\", \"What Facebook could learn from Microsoft\", \"Apple Stores to host over 5,000 female-focused sessions in March for International Women\\u2019s Day\", \"Hulu with Live TV belatedly arrives on PlayStation 4\", \"Equity Shot: What\\u2019s Elliott Management and why is it coming after Twitter and SoftBank?\", \"Resso, Bytedance\\u2019s music streaming app, officially launches in India, sans Tencent-backed Universal Music\", \"Stocks fall despite Fed intervention, dragging tech shares down once again\", \"Cool, Here's Another New Smartwatch That Looks Like an Apple Watch\", \"Apple May Be Supersizing Its Smallest MacBook Pro and Adding Mini-LEDs\"], \"y\": [0.0, 0.216, 0.0, 0.0, 0.0, 0.604, 0.31, 0.0, 0.0, 0.0, 0.0, 0.178, 0.0, 0.0, 0.0, 0.0, 0.0, 0.0, 0.0, 0.0]}, {\"name\": \"Neutral\", \"type\": \"bar\", \"x\": [\"Buy a Refurbished 2017 or 2018 MacBook Pro for $610 Today\", \"How to Stop Procrastinating, With Behavior Scientist BJ Fogg\", \"The Morning After: NASA is taking applications for new astronauts\", \"The Morning After: Amazon's accelerated one-day shipping\", \"Amazon has a rare sale on official iPhone cases\", \"The gadgets that refuse to die\", \"A 'Netflix for the 99 Percent' Enters the Streaming Wars\", \"How to Clean Your Smartphone and Keyboard the Right Way\", \"Oppo\\u2019s new smartwatch looks just like the Apple Watch\", \"Foxconn expects to resume normal production by end of March\", \"Apple is planning to launch a 14.1-inch MacBook Pro with a Mini-LED display, says Ming-Chi Kuo\", \"Big tech\\u2019s coronavirus responses are getting serious\", \"What Facebook could learn from Microsoft\", \"Apple Stores to host over 5,000 female-focused sessions in March for International Women\\u2019s Day\", \"Hulu with Live TV belatedly arrives on PlayStation 4\", \"Equity Shot: What\\u2019s Elliott Management and why is it coming after Twitter and SoftBank?\", \"Resso, Bytedance\\u2019s music streaming app, officially launches in India, sans Tencent-backed Universal Music\", \"Stocks fall despite Fed intervention, dragging tech shares down once again\", \"Cool, Here's Another New Smartwatch That Looks Like an Apple Watch\", \"Apple May Be Supersizing Its Smallest MacBook Pro and Adding Mini-LEDs\"], \"y\": [1.0, 0.784, 1.0, 1.0, 0.805, 0.396, 0.69, 0.769, 0.762, 1.0, 1.0, 0.822, 1.0, 1.0, 1.0, 1.0, 1.0, 0.82, 0.652, 1.0]}, {\"name\": \"Positive\", \"type\": \"bar\", \"x\": [\"Buy a Refurbished 2017 or 2018 MacBook Pro for $610 Today\", \"How to Stop Procrastinating, With Behavior Scientist BJ Fogg\", \"The Morning After: NASA is taking applications for new astronauts\", \"The Morning After: Amazon's accelerated one-day shipping\", \"Amazon has a rare sale on official iPhone cases\", \"The gadgets that refuse to die\", \"A 'Netflix for the 99 Percent' Enters the Streaming Wars\", \"How to Clean Your Smartphone and Keyboard the Right Way\", \"Oppo\\u2019s new smartwatch looks just like the Apple Watch\", \"Foxconn expects to resume normal production by end of March\", \"Apple is planning to launch a 14.1-inch MacBook Pro with a Mini-LED display, says Ming-Chi Kuo\", \"Big tech\\u2019s coronavirus responses are getting serious\", \"What Facebook could learn from Microsoft\", \"Apple Stores to host over 5,000 female-focused sessions in March for International Women\\u2019s Day\", \"Hulu with Live TV belatedly arrives on PlayStation 4\", \"Equity Shot: What\\u2019s Elliott Management and why is it coming after Twitter and SoftBank?\", \"Resso, Bytedance\\u2019s music streaming app, officially launches in India, sans Tencent-backed Universal Music\", \"Stocks fall despite Fed intervention, dragging tech shares down once again\", \"Cool, Here's Another New Smartwatch That Looks Like an Apple Watch\", \"Apple May Be Supersizing Its Smallest MacBook Pro and Adding Mini-LEDs\"], \"y\": [0.0, 0.0, 0.0, 0.0, 0.195, 0.0, 0.0, 0.231, 0.238, 0.0, 0.0, 0.0, 0.0, 0.0, 0.0, 0.0, 0.0, 0.18, 0.348, 0.0]}, {\"name\": \"Compound\", \"type\": \"bar\", \"x\": [\"Buy a Refurbished 2017 or 2018 MacBook Pro for $610 Today\", \"How to Stop Procrastinating, With Behavior Scientist BJ Fogg\", \"The Morning After: NASA is taking applications for new astronauts\", \"The Morning After: Amazon's accelerated one-day shipping\", \"Amazon has a rare sale on official iPhone cases\", \"The gadgets that refuse to die\", \"A 'Netflix for the 99 Percent' Enters the Streaming Wars\", \"How to Clean Your Smartphone and Keyboard the Right Way\", \"Oppo\\u2019s new smartwatch looks just like the Apple Watch\", \"Foxconn expects to resume normal production by end of March\", \"Apple is planning to launch a 14.1-inch MacBook Pro with a Mini-LED display, says Ming-Chi Kuo\", \"Big tech\\u2019s coronavirus responses are getting serious\", \"What Facebook could learn from Microsoft\", \"Apple Stores to host over 5,000 female-focused sessions in March for International Women\\u2019s Day\", \"Hulu with Live TV belatedly arrives on PlayStation 4\", \"Equity Shot: What\\u2019s Elliott Management and why is it coming after Twitter and SoftBank?\", \"Resso, Bytedance\\u2019s music streaming app, officially launches in India, sans Tencent-backed Universal Music\", \"Stocks fall despite Fed intervention, dragging tech shares down once again\", \"Cool, Here's Another New Smartwatch That Looks Like an Apple Watch\", \"Apple May Be Supersizing Its Smallest MacBook Pro and Adding Mini-LEDs\"], \"y\": [0.0, -0.296, 0.0, 0.0, 0.1779, -0.7269, -0.5574, 0.4019, 0.3612, 0.0, 0.0, -0.0772, 0.0, 0.0, 0.0, 0.0, 0.0, 0.296, 0.5859, 0.0]}],\n",
       "                        {\"barmode\": \"stack\", \"template\": {\"data\": {\"bar\": [{\"error_x\": {\"color\": \"#2a3f5f\"}, \"error_y\": {\"color\": \"#2a3f5f\"}, \"marker\": {\"line\": {\"color\": \"#E5ECF6\", \"width\": 0.5}}, \"type\": \"bar\"}], \"barpolar\": [{\"marker\": {\"line\": {\"color\": \"#E5ECF6\", \"width\": 0.5}}, \"type\": \"barpolar\"}], \"carpet\": [{\"aaxis\": {\"endlinecolor\": \"#2a3f5f\", \"gridcolor\": \"white\", \"linecolor\": \"white\", \"minorgridcolor\": \"white\", \"startlinecolor\": \"#2a3f5f\"}, \"baxis\": {\"endlinecolor\": \"#2a3f5f\", \"gridcolor\": \"white\", \"linecolor\": \"white\", \"minorgridcolor\": \"white\", \"startlinecolor\": \"#2a3f5f\"}, \"type\": \"carpet\"}], \"choropleth\": [{\"colorbar\": {\"outlinewidth\": 0, \"ticks\": \"\"}, \"type\": \"choropleth\"}], \"contour\": [{\"colorbar\": {\"outlinewidth\": 0, \"ticks\": \"\"}, \"colorscale\": [[0.0, \"#0d0887\"], [0.1111111111111111, \"#46039f\"], [0.2222222222222222, \"#7201a8\"], [0.3333333333333333, \"#9c179e\"], [0.4444444444444444, \"#bd3786\"], [0.5555555555555556, \"#d8576b\"], [0.6666666666666666, \"#ed7953\"], [0.7777777777777778, \"#fb9f3a\"], [0.8888888888888888, \"#fdca26\"], [1.0, \"#f0f921\"]], \"type\": \"contour\"}], \"contourcarpet\": [{\"colorbar\": {\"outlinewidth\": 0, \"ticks\": \"\"}, \"type\": \"contourcarpet\"}], \"heatmap\": [{\"colorbar\": {\"outlinewidth\": 0, \"ticks\": \"\"}, \"colorscale\": [[0.0, \"#0d0887\"], [0.1111111111111111, \"#46039f\"], [0.2222222222222222, \"#7201a8\"], [0.3333333333333333, \"#9c179e\"], [0.4444444444444444, \"#bd3786\"], [0.5555555555555556, \"#d8576b\"], [0.6666666666666666, \"#ed7953\"], [0.7777777777777778, \"#fb9f3a\"], [0.8888888888888888, \"#fdca26\"], [1.0, \"#f0f921\"]], \"type\": \"heatmap\"}], \"heatmapgl\": [{\"colorbar\": {\"outlinewidth\": 0, \"ticks\": \"\"}, \"colorscale\": [[0.0, \"#0d0887\"], [0.1111111111111111, \"#46039f\"], [0.2222222222222222, \"#7201a8\"], [0.3333333333333333, \"#9c179e\"], [0.4444444444444444, \"#bd3786\"], [0.5555555555555556, \"#d8576b\"], [0.6666666666666666, \"#ed7953\"], [0.7777777777777778, \"#fb9f3a\"], [0.8888888888888888, \"#fdca26\"], [1.0, \"#f0f921\"]], \"type\": \"heatmapgl\"}], \"histogram\": [{\"marker\": {\"colorbar\": {\"outlinewidth\": 0, \"ticks\": \"\"}}, \"type\": \"histogram\"}], \"histogram2d\": [{\"colorbar\": {\"outlinewidth\": 0, \"ticks\": \"\"}, \"colorscale\": [[0.0, \"#0d0887\"], [0.1111111111111111, \"#46039f\"], [0.2222222222222222, \"#7201a8\"], [0.3333333333333333, \"#9c179e\"], [0.4444444444444444, \"#bd3786\"], [0.5555555555555556, \"#d8576b\"], [0.6666666666666666, \"#ed7953\"], [0.7777777777777778, \"#fb9f3a\"], [0.8888888888888888, \"#fdca26\"], [1.0, \"#f0f921\"]], \"type\": \"histogram2d\"}], \"histogram2dcontour\": [{\"colorbar\": {\"outlinewidth\": 0, \"ticks\": \"\"}, \"colorscale\": [[0.0, \"#0d0887\"], [0.1111111111111111, \"#46039f\"], [0.2222222222222222, \"#7201a8\"], [0.3333333333333333, \"#9c179e\"], [0.4444444444444444, \"#bd3786\"], [0.5555555555555556, \"#d8576b\"], [0.6666666666666666, \"#ed7953\"], [0.7777777777777778, \"#fb9f3a\"], [0.8888888888888888, \"#fdca26\"], [1.0, \"#f0f921\"]], \"type\": \"histogram2dcontour\"}], \"mesh3d\": [{\"colorbar\": {\"outlinewidth\": 0, \"ticks\": \"\"}, \"type\": \"mesh3d\"}], \"parcoords\": [{\"line\": {\"colorbar\": {\"outlinewidth\": 0, \"ticks\": \"\"}}, \"type\": \"parcoords\"}], \"pie\": [{\"automargin\": true, \"type\": \"pie\"}], \"scatter\": [{\"marker\": {\"colorbar\": {\"outlinewidth\": 0, \"ticks\": \"\"}}, \"type\": \"scatter\"}], \"scatter3d\": [{\"line\": {\"colorbar\": {\"outlinewidth\": 0, \"ticks\": \"\"}}, \"marker\": {\"colorbar\": {\"outlinewidth\": 0, \"ticks\": \"\"}}, \"type\": \"scatter3d\"}], \"scattercarpet\": [{\"marker\": {\"colorbar\": {\"outlinewidth\": 0, \"ticks\": \"\"}}, \"type\": \"scattercarpet\"}], \"scattergeo\": [{\"marker\": {\"colorbar\": {\"outlinewidth\": 0, \"ticks\": \"\"}}, \"type\": \"scattergeo\"}], \"scattergl\": [{\"marker\": {\"colorbar\": {\"outlinewidth\": 0, \"ticks\": \"\"}}, \"type\": \"scattergl\"}], \"scattermapbox\": [{\"marker\": {\"colorbar\": {\"outlinewidth\": 0, \"ticks\": \"\"}}, \"type\": \"scattermapbox\"}], \"scatterpolar\": [{\"marker\": {\"colorbar\": {\"outlinewidth\": 0, \"ticks\": \"\"}}, \"type\": \"scatterpolar\"}], \"scatterpolargl\": [{\"marker\": {\"colorbar\": {\"outlinewidth\": 0, \"ticks\": \"\"}}, \"type\": \"scatterpolargl\"}], \"scatterternary\": [{\"marker\": {\"colorbar\": {\"outlinewidth\": 0, \"ticks\": \"\"}}, \"type\": \"scatterternary\"}], \"surface\": [{\"colorbar\": {\"outlinewidth\": 0, \"ticks\": \"\"}, \"colorscale\": [[0.0, \"#0d0887\"], [0.1111111111111111, \"#46039f\"], [0.2222222222222222, \"#7201a8\"], [0.3333333333333333, \"#9c179e\"], [0.4444444444444444, \"#bd3786\"], [0.5555555555555556, \"#d8576b\"], [0.6666666666666666, \"#ed7953\"], [0.7777777777777778, \"#fb9f3a\"], [0.8888888888888888, \"#fdca26\"], [1.0, \"#f0f921\"]], \"type\": \"surface\"}], \"table\": [{\"cells\": {\"fill\": {\"color\": \"#EBF0F8\"}, \"line\": {\"color\": \"white\"}}, \"header\": {\"fill\": {\"color\": \"#C8D4E3\"}, \"line\": {\"color\": \"white\"}}, \"type\": \"table\"}]}, \"layout\": {\"annotationdefaults\": {\"arrowcolor\": \"#2a3f5f\", \"arrowhead\": 0, \"arrowwidth\": 1}, \"coloraxis\": {\"colorbar\": {\"outlinewidth\": 0, \"ticks\": \"\"}}, \"colorscale\": {\"diverging\": [[0, \"#8e0152\"], [0.1, \"#c51b7d\"], [0.2, \"#de77ae\"], [0.3, \"#f1b6da\"], [0.4, \"#fde0ef\"], [0.5, \"#f7f7f7\"], [0.6, \"#e6f5d0\"], [0.7, \"#b8e186\"], [0.8, \"#7fbc41\"], [0.9, \"#4d9221\"], [1, \"#276419\"]], \"sequential\": [[0.0, \"#0d0887\"], [0.1111111111111111, \"#46039f\"], [0.2222222222222222, \"#7201a8\"], [0.3333333333333333, \"#9c179e\"], [0.4444444444444444, \"#bd3786\"], [0.5555555555555556, \"#d8576b\"], [0.6666666666666666, \"#ed7953\"], [0.7777777777777778, \"#fb9f3a\"], [0.8888888888888888, \"#fdca26\"], [1.0, \"#f0f921\"]], \"sequentialminus\": [[0.0, \"#0d0887\"], [0.1111111111111111, \"#46039f\"], [0.2222222222222222, \"#7201a8\"], [0.3333333333333333, \"#9c179e\"], [0.4444444444444444, \"#bd3786\"], [0.5555555555555556, \"#d8576b\"], [0.6666666666666666, \"#ed7953\"], [0.7777777777777778, \"#fb9f3a\"], [0.8888888888888888, \"#fdca26\"], [1.0, \"#f0f921\"]]}, \"colorway\": [\"#636efa\", \"#EF553B\", \"#00cc96\", \"#ab63fa\", \"#FFA15A\", \"#19d3f3\", \"#FF6692\", \"#B6E880\", \"#FF97FF\", \"#FECB52\"], \"font\": {\"color\": \"#2a3f5f\"}, \"geo\": {\"bgcolor\": \"white\", \"lakecolor\": \"white\", \"landcolor\": \"#E5ECF6\", \"showlakes\": true, \"showland\": true, \"subunitcolor\": \"white\"}, \"hoverlabel\": {\"align\": \"left\"}, \"hovermode\": \"closest\", \"mapbox\": {\"style\": \"light\"}, \"paper_bgcolor\": \"white\", \"plot_bgcolor\": \"#E5ECF6\", \"polar\": {\"angularaxis\": {\"gridcolor\": \"white\", \"linecolor\": \"white\", \"ticks\": \"\"}, \"bgcolor\": \"#E5ECF6\", \"radialaxis\": {\"gridcolor\": \"white\", \"linecolor\": \"white\", \"ticks\": \"\"}}, \"scene\": {\"xaxis\": {\"backgroundcolor\": \"#E5ECF6\", \"gridcolor\": \"white\", \"gridwidth\": 2, \"linecolor\": \"white\", \"showbackground\": true, \"ticks\": \"\", \"zerolinecolor\": \"white\"}, \"yaxis\": {\"backgroundcolor\": \"#E5ECF6\", \"gridcolor\": \"white\", \"gridwidth\": 2, \"linecolor\": \"white\", \"showbackground\": true, \"ticks\": \"\", \"zerolinecolor\": \"white\"}, \"zaxis\": {\"backgroundcolor\": \"#E5ECF6\", \"gridcolor\": \"white\", \"gridwidth\": 2, \"linecolor\": \"white\", \"showbackground\": true, \"ticks\": \"\", \"zerolinecolor\": \"white\"}}, \"shapedefaults\": {\"line\": {\"color\": \"#2a3f5f\"}}, \"ternary\": {\"aaxis\": {\"gridcolor\": \"white\", \"linecolor\": \"white\", \"ticks\": \"\"}, \"baxis\": {\"gridcolor\": \"white\", \"linecolor\": \"white\", \"ticks\": \"\"}, \"bgcolor\": \"#E5ECF6\", \"caxis\": {\"gridcolor\": \"white\", \"linecolor\": \"white\", \"ticks\": \"\"}}, \"title\": {\"x\": 0.05}, \"xaxis\": {\"automargin\": true, \"gridcolor\": \"white\", \"linecolor\": \"white\", \"ticks\": \"\", \"title\": {\"standoff\": 15}, \"zerolinecolor\": \"white\", \"zerolinewidth\": 2}, \"yaxis\": {\"automargin\": true, \"gridcolor\": \"white\", \"linecolor\": \"white\", \"ticks\": \"\", \"title\": {\"standoff\": 15}, \"zerolinecolor\": \"white\", \"zerolinewidth\": 2}}}},\n",
       "                        {\"responsive\": true}\n",
       "                    ).then(function(){\n",
       "                            \n",
       "var gd = document.getElementById('a9a59356-8b8c-43ea-bf31-ec7e0808d12c');\n",
       "var x = new MutationObserver(function (mutations, observer) {{\n",
       "        var display = window.getComputedStyle(gd).display;\n",
       "        if (!display || display === 'none') {{\n",
       "            console.log([gd, 'removed!']);\n",
       "            Plotly.purge(gd);\n",
       "            observer.disconnect();\n",
       "        }}\n",
       "}});\n",
       "\n",
       "// Listen for the removal of the full notebook cells\n",
       "var notebookContainer = gd.closest('#notebook-container');\n",
       "if (notebookContainer) {{\n",
       "    x.observe(notebookContainer, {childList: true});\n",
       "}}\n",
       "\n",
       "// Listen for the clearing of the current output cell\n",
       "var outputEl = gd.closest('.output');\n",
       "if (outputEl) {{\n",
       "    x.observe(outputEl, {childList: true});\n",
       "}}\n",
       "\n",
       "                        })\n",
       "                };\n",
       "                });\n",
       "            </script>\n",
       "        </div>"
      ]
     },
     "metadata": {},
     "output_type": "display_data"
    }
   ],
   "source": [
    "x = news_df['title']\n",
    "y = [d.get('neg') for d in news_df['title_score']]\n",
    "y1 = [d.get('neu') for d in news_df['title_score']]\n",
    "y2 = [d.get('pos') for d in news_df['title_score']]\n",
    "y3 = [d.get('compound') for d in news_df['title_score']]\n",
    "\n",
    "fig = go.Figure(go.Bar(x=x, y=y, name='Negative'))\n",
    "fig.add_trace(go.Bar(x=x, y=y1, name='Neutral'))\n",
    "fig.add_trace(go.Bar(x=x, y=y2, name='Positive'))\n",
    "fig.add_trace(go.Bar(x=x, y=y3, name='Compound'))\n",
    "\n",
    "fig.update_layout(barmode='stack')\n",
    "fig.show()"
   ]
  },
  {
   "cell_type": "code",
   "execution_count": null,
   "metadata": {},
   "outputs": [],
   "source": []
  }
 ],
 "metadata": {
  "kernelspec": {
   "display_name": "Python 3",
   "language": "python",
   "name": "python3"
  },
  "language_info": {
   "codemirror_mode": {
    "name": "ipython",
    "version": 3
   },
   "file_extension": ".py",
   "mimetype": "text/x-python",
   "name": "python",
   "nbconvert_exporter": "python",
   "pygments_lexer": "ipython3",
   "version": "3.7.6"
  }
 },
 "nbformat": 4,
 "nbformat_minor": 4
}
