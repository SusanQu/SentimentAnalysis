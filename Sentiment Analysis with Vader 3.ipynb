{
 "cells": [
  {
   "cell_type": "code",
   "execution_count": 4,
   "metadata": {},
   "outputs": [],
   "source": [
    "import config as config\n",
    "import pandas as pd\n",
    "import numpy as np\n",
    "import matplotlib.pyplot as plt  \n",
    "%matplotlib inline\n",
    "import seaborn as seabornInstance \n",
    "from datetime import date, timedelta, datetime\n",
    "from operator import itemgetter\n",
    "from vaderSentiment.vaderSentiment import SentimentIntensityAnalyzer\n",
    "import requests\n",
    "import plotly.graph_objects as go\n",
    "from pandas_datareader import data as pdr\n",
    "import glob\n",
    "\n",
    "#yahoo finance and pandadata reader override\n",
    "import yfinance as yf\n",
    "yf.pdr_override()\n",
    "\n",
    "#machine learning\n",
    "from sklearn.linear_model import LinearRegression\n",
    "from sklearn.model_selection import train_test_split \n",
    "from sklearn import metrics"
   ]
  },
  {
   "cell_type": "markdown",
   "metadata": {},
   "source": [
    "**This notebook analyzes the new's score and prices movements of a few stocks combined; to provide more data points to train and test**"
   ]
  },
  {
   "cell_type": "code",
   "execution_count": 7,
   "metadata": {},
   "outputs": [
    {
     "data": {
      "text/html": [
       "<div>\n",
       "<style scoped>\n",
       "    .dataframe tbody tr th:only-of-type {\n",
       "        vertical-align: middle;\n",
       "    }\n",
       "\n",
       "    .dataframe tbody tr th {\n",
       "        vertical-align: top;\n",
       "    }\n",
       "\n",
       "    .dataframe thead th {\n",
       "        text-align: right;\n",
       "    }\n",
       "</style>\n",
       "<table border=\"1\" class=\"dataframe\">\n",
       "  <thead>\n",
       "    <tr style=\"text-align: right;\">\n",
       "      <th></th>\n",
       "      <th>t_neg</th>\n",
       "      <th>t_neu</th>\n",
       "      <th>t_pos</th>\n",
       "      <th>t_compound</th>\n",
       "      <th>d_neg</th>\n",
       "      <th>d_neu</th>\n",
       "      <th>d_pos</th>\n",
       "      <th>d_compound</th>\n",
       "      <th>t_neg_pc</th>\n",
       "      <th>Open</th>\n",
       "      <th>High</th>\n",
       "      <th>Low</th>\n",
       "      <th>Close</th>\n",
       "      <th>Adj Close</th>\n",
       "      <th>Volume</th>\n",
       "      <th>Adj Close PC</th>\n",
       "    </tr>\n",
       "  </thead>\n",
       "  <tbody>\n",
       "    <tr>\n",
       "      <th>count</th>\n",
       "      <td>167.000000</td>\n",
       "      <td>167.000000</td>\n",
       "      <td>167.000000</td>\n",
       "      <td>167.000000</td>\n",
       "      <td>167.000000</td>\n",
       "      <td>167.000000</td>\n",
       "      <td>167.000000</td>\n",
       "      <td>167.000000</td>\n",
       "      <td>152.000000</td>\n",
       "      <td>113.000000</td>\n",
       "      <td>113.000000</td>\n",
       "      <td>113.000000</td>\n",
       "      <td>113.000000</td>\n",
       "      <td>113.000000</td>\n",
       "      <td>1.130000e+02</td>\n",
       "      <td>107.000000</td>\n",
       "    </tr>\n",
       "    <tr>\n",
       "      <th>mean</th>\n",
       "      <td>0.058049</td>\n",
       "      <td>0.838392</td>\n",
       "      <td>0.103496</td>\n",
       "      <td>0.081808</td>\n",
       "      <td>0.041112</td>\n",
       "      <td>0.852449</td>\n",
       "      <td>0.100115</td>\n",
       "      <td>0.221562</td>\n",
       "      <td>inf</td>\n",
       "      <td>510.349514</td>\n",
       "      <td>525.464682</td>\n",
       "      <td>497.665292</td>\n",
       "      <td>512.479201</td>\n",
       "      <td>512.466197</td>\n",
       "      <td>1.907987e+07</td>\n",
       "      <td>-0.012768</td>\n",
       "    </tr>\n",
       "    <tr>\n",
       "      <th>std</th>\n",
       "      <td>0.037860</td>\n",
       "      <td>0.059444</td>\n",
       "      <td>0.064012</td>\n",
       "      <td>0.136571</td>\n",
       "      <td>0.020044</td>\n",
       "      <td>0.044399</td>\n",
       "      <td>0.040576</td>\n",
       "      <td>0.171440</td>\n",
       "      <td>NaN</td>\n",
       "      <td>620.939578</td>\n",
       "      <td>636.512305</td>\n",
       "      <td>609.448247</td>\n",
       "      <td>623.974550</td>\n",
       "      <td>623.981268</td>\n",
       "      <td>2.578324e+07</td>\n",
       "      <td>0.058998</td>\n",
       "    </tr>\n",
       "    <tr>\n",
       "      <th>min</th>\n",
       "      <td>0.000000</td>\n",
       "      <td>0.526000</td>\n",
       "      <td>0.000000</td>\n",
       "      <td>-0.510600</td>\n",
       "      <td>0.000000</td>\n",
       "      <td>0.663200</td>\n",
       "      <td>0.000000</td>\n",
       "      <td>-0.548200</td>\n",
       "      <td>-1.000000</td>\n",
       "      <td>98.000000</td>\n",
       "      <td>103.690002</td>\n",
       "      <td>95.000000</td>\n",
       "      <td>99.080002</td>\n",
       "      <td>99.080002</td>\n",
       "      <td>2.340300e+06</td>\n",
       "      <td>-0.175518</td>\n",
       "    </tr>\n",
       "    <tr>\n",
       "      <th>25%</th>\n",
       "      <td>0.036030</td>\n",
       "      <td>0.816126</td>\n",
       "      <td>0.076944</td>\n",
       "      <td>0.017794</td>\n",
       "      <td>0.029844</td>\n",
       "      <td>0.836077</td>\n",
       "      <td>0.082017</td>\n",
       "      <td>0.151928</td>\n",
       "      <td>-0.274208</td>\n",
       "      <td>165.289993</td>\n",
       "      <td>172.550003</td>\n",
       "      <td>157.110001</td>\n",
       "      <td>171.130005</td>\n",
       "      <td>171.130005</td>\n",
       "      <td>3.716800e+06</td>\n",
       "      <td>-0.051845</td>\n",
       "    </tr>\n",
       "    <tr>\n",
       "      <th>50%</th>\n",
       "      <td>0.055947</td>\n",
       "      <td>0.836500</td>\n",
       "      <td>0.099020</td>\n",
       "      <td>0.081536</td>\n",
       "      <td>0.041768</td>\n",
       "      <td>0.853980</td>\n",
       "      <td>0.094000</td>\n",
       "      <td>0.215704</td>\n",
       "      <td>0.064378</td>\n",
       "      <td>239.770004</td>\n",
       "      <td>250.000000</td>\n",
       "      <td>237.119995</td>\n",
       "      <td>242.210007</td>\n",
       "      <td>242.210007</td>\n",
       "      <td>8.396500e+06</td>\n",
       "      <td>-0.019545</td>\n",
       "    </tr>\n",
       "    <tr>\n",
       "      <th>75%</th>\n",
       "      <td>0.073689</td>\n",
       "      <td>0.863000</td>\n",
       "      <td>0.122450</td>\n",
       "      <td>0.134627</td>\n",
       "      <td>0.050880</td>\n",
       "      <td>0.872410</td>\n",
       "      <td>0.113635</td>\n",
       "      <td>0.286752</td>\n",
       "      <td>0.402891</td>\n",
       "      <td>445.000000</td>\n",
       "      <td>463.309998</td>\n",
       "      <td>420.630005</td>\n",
       "      <td>450.339996</td>\n",
       "      <td>450.339996</td>\n",
       "      <td>1.753660e+07</td>\n",
       "      <td>0.034871</td>\n",
       "    </tr>\n",
       "    <tr>\n",
       "      <th>max</th>\n",
       "      <td>0.268000</td>\n",
       "      <td>1.000000</td>\n",
       "      <td>0.474000</td>\n",
       "      <td>0.659700</td>\n",
       "      <td>0.145000</td>\n",
       "      <td>1.000000</td>\n",
       "      <td>0.302500</td>\n",
       "      <td>0.915300</td>\n",
       "      <td>inf</td>\n",
       "      <td>2026.420044</td>\n",
       "      <td>2039.300049</td>\n",
       "      <td>1987.969971</td>\n",
       "      <td>2009.290039</td>\n",
       "      <td>2009.290039</td>\n",
       "      <td>1.067212e+08</td>\n",
       "      <td>0.119808</td>\n",
       "    </tr>\n",
       "  </tbody>\n",
       "</table>\n",
       "</div>"
      ],
      "text/plain": [
       "            t_neg       t_neu       t_pos  t_compound       d_neg       d_neu  \\\n",
       "count  167.000000  167.000000  167.000000  167.000000  167.000000  167.000000   \n",
       "mean     0.058049    0.838392    0.103496    0.081808    0.041112    0.852449   \n",
       "std      0.037860    0.059444    0.064012    0.136571    0.020044    0.044399   \n",
       "min      0.000000    0.526000    0.000000   -0.510600    0.000000    0.663200   \n",
       "25%      0.036030    0.816126    0.076944    0.017794    0.029844    0.836077   \n",
       "50%      0.055947    0.836500    0.099020    0.081536    0.041768    0.853980   \n",
       "75%      0.073689    0.863000    0.122450    0.134627    0.050880    0.872410   \n",
       "max      0.268000    1.000000    0.474000    0.659700    0.145000    1.000000   \n",
       "\n",
       "            d_pos  d_compound    t_neg_pc         Open         High  \\\n",
       "count  167.000000  167.000000  152.000000   113.000000   113.000000   \n",
       "mean     0.100115    0.221562         inf   510.349514   525.464682   \n",
       "std      0.040576    0.171440         NaN   620.939578   636.512305   \n",
       "min      0.000000   -0.548200   -1.000000    98.000000   103.690002   \n",
       "25%      0.082017    0.151928   -0.274208   165.289993   172.550003   \n",
       "50%      0.094000    0.215704    0.064378   239.770004   250.000000   \n",
       "75%      0.113635    0.286752    0.402891   445.000000   463.309998   \n",
       "max      0.302500    0.915300         inf  2026.420044  2039.300049   \n",
       "\n",
       "               Low        Close    Adj Close        Volume  Adj Close PC  \n",
       "count   113.000000   113.000000   113.000000  1.130000e+02    107.000000  \n",
       "mean    497.665292   512.479201   512.466197  1.907987e+07     -0.012768  \n",
       "std     609.448247   623.974550   623.981268  2.578324e+07      0.058998  \n",
       "min      95.000000    99.080002    99.080002  2.340300e+06     -0.175518  \n",
       "25%     157.110001   171.130005   171.130005  3.716800e+06     -0.051845  \n",
       "50%     237.119995   242.210007   242.210007  8.396500e+06     -0.019545  \n",
       "75%     420.630005   450.339996   450.339996  1.753660e+07      0.034871  \n",
       "max    1987.969971  2009.290039  2009.290039  1.067212e+08      0.119808  "
      ]
     },
     "execution_count": 7,
     "metadata": {},
     "output_type": "execute_result"
    }
   ],
   "source": [
    "#import all dataset\n",
    "path = '/Users/Erik/Desktop/DataScience/SentimentAnalysis/data'\n",
    "all_files = glob.glob(path + '/*.csv')\n",
    "\n",
    "data = []\n",
    "\n",
    "for filename in all_files:\n",
    "    df = pd.read_csv(filename, index_col=None, header=0)\n",
    "    data.append(df)\n",
    "\n",
    "price_score_df = pd.concat(data, axis=0, ignore_index=True)\n",
    "price_score_df.describe()"
   ]
  },
  {
   "cell_type": "code",
   "execution_count": 8,
   "metadata": {},
   "outputs": [
    {
     "data": {
      "text/plain": [
       "<matplotlib.axes._subplots.AxesSubplot at 0x122c345d0>"
      ]
     },
     "execution_count": 8,
     "metadata": {},
     "output_type": "execute_result"
    },
    {
     "data": {
      "image/png": "[encoded data removed]",
      "text/plain": [
       "<Figure size 1080x720 with 1 Axes>"
      ]
     },
     "metadata": {
      "needs_background": "light"
     },
     "output_type": "display_data"
    }
   ],
   "source": [
    "#check average of daily closing\n",
    "plt.figure(figsize=(15,10))\n",
    "plt.tight_layout()\n",
    "seabornInstance.distplot(price_score_df['Adj Close PC'])"
   ]
  },
  {
   "cell_type": "markdown",
   "metadata": {},
   "source": [
    "**Predict Today's Closing Price based on Today's news score**"
   ]
  },
  {
   "cell_type": "code",
   "execution_count": 12,
   "metadata": {},
   "outputs": [],
   "source": [
    "#adding weekday to df\n",
    "price_score_df['publishedAt'] = pd.to_datetime(price_score_df['publishedAt'])\n",
    "price_score_df['day_of_week'] = price_score_df['publishedAt'].dt.day_name()\n",
    "\n",
    "#remove weekend values and NaN values\n",
    "ps_weekday_only_df = pd.DataFrame(price_score_df.dropna())"
   ]
  },
  {
   "cell_type": "code",
   "execution_count": 13,
   "metadata": {},
   "outputs": [
    {
     "data": {
      "image/png": "[encoded data removed]",
      "text/plain": [
       "<Figure size 432x288 with 1 Axes>"
      ]
     },
     "metadata": {
      "needs_background": "light"
     },
     "output_type": "display_data"
    }
   ],
   "source": [
    "#plot scatter plot using Title Compound Score and Adj Close % Change\n",
    "ps_weekday_only_df.plot(x='t_compound', y='Adj Close PC', style='o')\n",
    "plt.title('Title Compound Score vs Adj Close % Change')\n",
    "plt.xlabel('Title Compound Score')\n",
    "plt.ylabel('Adj Close % Change')\n",
    "plt.show()"
   ]
  },
  {
   "cell_type": "code",
   "execution_count": 14,
   "metadata": {},
   "outputs": [
    {
     "name": "stdout",
     "output_type": "stream",
     "text": [
      "y-intercept: [-0.01797839]\n",
      "coef: [[0.04605948]]\n"
     ]
    },
    {
     "data": {
      "image/png": "[encoded data removed]",
      "text/plain": [
       "<Figure size 1152x720 with 1 Axes>"
      ]
     },
     "metadata": {
      "needs_background": "light"
     },
     "output_type": "display_data"
    },
    {
     "data": {
      "image/png": "[encoded data removed]",
      "text/plain": [
       "<Figure size 432x288 with 1 Axes>"
      ]
     },
     "metadata": {
      "needs_background": "light"
     },
     "output_type": "display_data"
    },
    {
     "name": "stdout",
     "output_type": "stream",
     "text": [
      "Root Mean Squared Error: 0.06086449559939646\n",
      "SD in actual y test set:  0.06029554196996529\n",
      "RMSE over SD of Actual y test:  1.0094360811901248\n"
     ]
    }
   ],
   "source": [
    "def single_regression():\n",
    "    #define independant and dependant variables\n",
    "    X = ps_weekday_only_df['t_compound'].values.reshape(-1, 1)\n",
    "    y = ps_weekday_only_df['Adj Close PC'].values.reshape(-1, 1)\n",
    "\n",
    "    #split, test, train - 80% for training, 20% for test \n",
    "    X_train, X_test, y_train, y_test = train_test_split(X, y, test_size=0.2, random_state=0)\n",
    "\n",
    "    #train the data\n",
    "    regressor = LinearRegression(fit_intercept=True)\n",
    "    regressor.fit(X_train, y_train)\n",
    "\n",
    "    #to retrieve the y-intercept\n",
    "    print('y-intercept: ' + str(regressor.intercept_))\n",
    "\n",
    "    #to retrive the slope\n",
    "    print('coef: ' + str(regressor.coef_))\n",
    "\n",
    "    #predict y, Adj Close\n",
    "    y_pred = regressor.predict(X_test)\n",
    "\n",
    "    #compare the Real output in X_test with predicted value\n",
    "    pred_rs1 = pd.DataFrame({'Actual': y_test.flatten(), 'Predicted': y_pred.flatten()})\n",
    "\n",
    "    #visualize the comparison\n",
    "    pred_rs1.plot(kind='bar', figsize=(16, 10))\n",
    "    plt.grid(which='major', linestyle='-', linewidth='0.5', color='green')\n",
    "\n",
    "    plt.show()\n",
    "\n",
    "    #plot regression line, predicted regression line against test value\n",
    "    plt.scatter(X_test, y_test, color='gray')\n",
    "    plt.plot(X_test, y_pred, color='red', linewidth=2)\n",
    "    plt.show()\n",
    "\n",
    "    #valuation metrics\n",
    "    rmse_y_pred = metrics.mean_squared_error(y_test, y_pred, squared=False)\n",
    "    print('Root Mean Squared Error:', rmse_y_pred)\n",
    "\n",
    "    #compare RMSE with Standard Deviation of the actual y in test dataset\n",
    "    print('SD in actual y test set: ', y_test.std())\n",
    "\n",
    "    print('RMSE over SD of Actual y test: ', rmse_y_pred/y_test.std())\n",
    "\n",
    "single_regression()"
   ]
  },
  {
   "cell_type": "markdown",
   "metadata": {},
   "source": [
    "**Using Multiple Linear Regression**"
   ]
  },
  {
   "cell_type": "code",
   "execution_count": 15,
   "metadata": {},
   "outputs": [
    {
     "name": "stdout",
     "output_type": "stream",
     "text": [
      "coef: [[  0.23422885   0.07394464 -62.38586274 -63.01540237 -63.28557739]]\n"
     ]
    },
    {
     "data": {
      "image/png": "[encoded data removed]",
      "text/plain": [
       "<Figure size 1152x720 with 1 Axes>"
      ]
     },
     "metadata": {
      "needs_background": "light"
     },
     "output_type": "display_data"
    },
    {
     "name": "stdout",
     "output_type": "stream",
     "text": [
      "Root Mean Squared Error: 0.06083398560624299\n",
      "SD in actual y test set:  0.06029554196996529\n",
      "RMSE over SD of Actual y test:  1.0089300737448537\n"
     ]
    }
   ],
   "source": [
    "def multi_regression():\n",
    "    #define independant and dependant variables\n",
    "    X = ps_weekday_only_df[['t_compound', 'd_compound', 't_neg', 't_neu', 't_pos']]\n",
    "    y = ps_weekday_only_df['Adj Close PC'].values.reshape(-1, 1)\n",
    "\n",
    "    #split, test, train - 80% for training, 20% for test \n",
    "    X_train, X_test, y_train, y_test = train_test_split(X, y, test_size=0.2, random_state=0)\n",
    "\n",
    "    #train the data\n",
    "    regressor = LinearRegression(fit_intercept=True)\n",
    "    regressor.fit(X_train, y_train)\n",
    "\n",
    "    #to retrive the slope\n",
    "    print('coef: ' + str(regressor.coef_))\n",
    "\n",
    "    #predict y, Adj Close\n",
    "    y_pred = regressor.predict(X_test)\n",
    "\n",
    "\n",
    "    #compare the Real output in X_test with predicted value\n",
    "    pred_rs1 = pd.DataFrame({'Actual': y_test.flatten(), 'Predicted': y_pred.flatten()})\n",
    "\n",
    "    #visualize the comparison\n",
    "    pred_rs1.plot(kind='bar', figsize=(16, 10))\n",
    "    plt.grid(which='major', linestyle='-', linewidth='0.5', color='green')\n",
    "\n",
    "    plt.show()\n",
    "    \n",
    "    #valuation metrics\n",
    "    rmse_y_pred = metrics.mean_squared_error(y_test, y_pred, squared=False)\n",
    "    print('Root Mean Squared Error:', rmse_y_pred)\n",
    "\n",
    "    #compare RMSE with Standard Deviation of the actual y in test dataset\n",
    "    print('SD in actual y test set: ', y_test.std())\n",
    "\n",
    "    print('RMSE over SD of Actual y test: ', rmse_y_pred/y_test.std())\n",
    "\n",
    "multi_regression()"
   ]
  },
  {
   "cell_type": "code",
   "execution_count": null,
   "metadata": {},
   "outputs": [],
   "source": []
  }
 ],
 "metadata": {
  "kernelspec": {
   "display_name": "Python 3",
   "language": "python",
   "name": "python3"
  },
  "language_info": {
   "codemirror_mode": {
    "name": "ipython",
    "version": 3
   },
   "file_extension": ".py",
   "mimetype": "text/x-python",
   "name": "python",
   "nbconvert_exporter": "python",
   "pygments_lexer": "ipython3",
   "version": "3.7.7"
  }
 },
 "nbformat": 4,
 "nbformat_minor": 4
}
